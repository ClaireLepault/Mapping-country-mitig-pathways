{
 "cells": [
  {
   "cell_type": "code",
   "execution_count": 1,
   "metadata": {},
   "outputs": [],
   "source": [
    "import pandas as pd "
   ]
  },
  {
   "cell_type": "code",
   "execution_count": 2,
   "metadata": {},
   "outputs": [],
   "source": [
    "def fusion(tot):\n",
    "    mainpath= \"./input/SCOPUS/scopus\"\n",
    "    frames =[]\n",
    "    for k in range(tot): \n",
    "        file = mainpath + str(k) +\".csv\"\n",
    "        df = pd.read_csv(file)\n",
    "        frames.append(df)  \n",
    "    Df = pd.concat(frames, sort=False)    \n",
    "    return(Df)"
   ]
  },
  {
   "cell_type": "code",
   "execution_count": 3,
   "metadata": {},
   "outputs": [],
   "source": [
    "df = fusion(3)"
   ]
  },
  {
   "cell_type": "code",
   "execution_count": 4,
   "metadata": {},
   "outputs": [
    {
     "name": "stdout",
     "output_type": "stream",
     "text": [
      "4275 X 49 dataframe\n"
     ]
    }
   ],
   "source": [
    "print(\"%d X %d dataframe\" % (len(df), len(df.columns) ))"
   ]
  },
  {
   "cell_type": "code",
   "execution_count": 5,
   "metadata": {},
   "outputs": [],
   "source": [
    "df_without_dupli = df.groupby(['EID']).last().reset_index()"
   ]
  },
  {
   "cell_type": "code",
   "execution_count": 6,
   "metadata": {},
   "outputs": [
    {
     "name": "stdout",
     "output_type": "stream",
     "text": [
      "4181 X 49 dataframe\n"
     ]
    }
   ],
   "source": [
    "print(\"%d X %d dataframe\" % (len(df_without_dupli), len(df_without_dupli.columns) ))"
   ]
  },
  {
   "cell_type": "code",
   "execution_count": 7,
   "metadata": {},
   "outputs": [],
   "source": [
    "df_without_dupli.rename(columns ={'EID': 'scopus_number',\n",
    "                                  'Title': 'title',\n",
    "                                  'Authors': 'authors',\n",
    "                                  'Source title': 'source',\n",
    "                                  'DOI': 'doi',\n",
    "                                  'Year': 'publication_year',\n",
    "                                  'Abstract': 'abstract',\n",
    "                                  'Author Keywords': 'author_keywords',\n",
    "                                  'Document Type': 'docu_type'}, inplace=True)"
   ]
  },
  {
   "cell_type": "code",
   "execution_count": 8,
   "metadata": {
    "scrolled": true
   },
   "outputs": [
    {
     "data": {
      "text/html": [
       "<div>\n",
       "<style scoped>\n",
       "    .dataframe tbody tr th:only-of-type {\n",
       "        vertical-align: middle;\n",
       "    }\n",
       "\n",
       "    .dataframe tbody tr th {\n",
       "        vertical-align: top;\n",
       "    }\n",
       "\n",
       "    .dataframe thead th {\n",
       "        text-align: right;\n",
       "    }\n",
       "</style>\n",
       "<table border=\"1\" class=\"dataframe\">\n",
       "  <thead>\n",
       "    <tr style=\"text-align: right;\">\n",
       "      <th></th>\n",
       "      <th>scopus_number</th>\n",
       "      <th>title</th>\n",
       "      <th>authors</th>\n",
       "      <th>source</th>\n",
       "      <th>doi</th>\n",
       "      <th>publication_year</th>\n",
       "      <th>abstract</th>\n",
       "      <th>author_keywords</th>\n",
       "      <th>docu_type</th>\n",
       "    </tr>\n",
       "  </thead>\n",
       "  <tbody>\n",
       "    <tr>\n",
       "      <th>0</th>\n",
       "      <td>2-s2.0-0001114213</td>\n",
       "      <td>Forest management options for sequestering car...</td>\n",
       "      <td>Masera O.R., Bellon M.R., Segura G.</td>\n",
       "      <td>Biomass and Bioenergy</td>\n",
       "      <td>10.1016/0961-9534(95)00028-3</td>\n",
       "      <td>1995</td>\n",
       "      <td>This paper identifies and examines economic re...</td>\n",
       "      <td>NaN</td>\n",
       "      <td>Article</td>\n",
       "    </tr>\n",
       "    <tr>\n",
       "      <th>1</th>\n",
       "      <td>2-s2.0-0002238861</td>\n",
       "      <td>Modeling of air quality during a short winter ...</td>\n",
       "      <td>Andreani-Aksoyoglu S., Keller J.</td>\n",
       "      <td>Advances in Air Pollution</td>\n",
       "      <td>NaN</td>\n",
       "      <td>2000</td>\n",
       "      <td>In order to estimate the impacts of air pollut...</td>\n",
       "      <td>NaN</td>\n",
       "      <td>Conference Paper</td>\n",
       "    </tr>\n",
       "    <tr>\n",
       "      <th>2</th>\n",
       "      <td>2-s2.0-0016645541</td>\n",
       "      <td>Desulfurization of Fuel and Flue Gas When Usin...</td>\n",
       "      <td>Anton Peter, Bruegel Paul, Carlsen Karl Heinz</td>\n",
       "      <td>NaN</td>\n",
       "      <td>NaN</td>\n",
       "      <td>1975</td>\n",
       "      <td>In order to find the optimum combination of re...</td>\n",
       "      <td>NaN</td>\n",
       "      <td>Conference Paper</td>\n",
       "    </tr>\n",
       "    <tr>\n",
       "      <th>3</th>\n",
       "      <td>2-s2.0-0024208977</td>\n",
       "      <td>Assessing carbon emission control strategies: ...</td>\n",
       "      <td>Chandler W.U.</td>\n",
       "      <td>Climatic Change</td>\n",
       "      <td>10.1007/BF00139809</td>\n",
       "      <td>1988</td>\n",
       "      <td>Scientists are now being asked to recommend me...</td>\n",
       "      <td>NaN</td>\n",
       "      <td>Article</td>\n",
       "    </tr>\n",
       "    <tr>\n",
       "      <th>4</th>\n",
       "      <td>2-s2.0-0026152444</td>\n",
       "      <td>U.S.S.R.: Energy efficiency and prospects</td>\n",
       "      <td>Sinyak Y.</td>\n",
       "      <td>Energy</td>\n",
       "      <td>10.1016/0360-5442(91)90068-W</td>\n",
       "      <td>1991</td>\n",
       "      <td>The U.S.S.R. is the largest energy producer an...</td>\n",
       "      <td>NaN</td>\n",
       "      <td>Article</td>\n",
       "    </tr>\n",
       "  </tbody>\n",
       "</table>\n",
       "</div>"
      ],
      "text/plain": [
       "       scopus_number                                              title  \\\n",
       "0  2-s2.0-0001114213  Forest management options for sequestering car...   \n",
       "1  2-s2.0-0002238861  Modeling of air quality during a short winter ...   \n",
       "2  2-s2.0-0016645541  Desulfurization of Fuel and Flue Gas When Usin...   \n",
       "3  2-s2.0-0024208977  Assessing carbon emission control strategies: ...   \n",
       "4  2-s2.0-0026152444          U.S.S.R.: Energy efficiency and prospects   \n",
       "\n",
       "                                         authors                     source  \\\n",
       "0            Masera O.R., Bellon M.R., Segura G.      Biomass and Bioenergy   \n",
       "1               Andreani-Aksoyoglu S., Keller J.  Advances in Air Pollution   \n",
       "2  Anton Peter, Bruegel Paul, Carlsen Karl Heinz                        NaN   \n",
       "3                                  Chandler W.U.            Climatic Change   \n",
       "4                                      Sinyak Y.                     Energy   \n",
       "\n",
       "                            doi  publication_year  \\\n",
       "0  10.1016/0961-9534(95)00028-3              1995   \n",
       "1                           NaN              2000   \n",
       "2                           NaN              1975   \n",
       "3            10.1007/BF00139809              1988   \n",
       "4  10.1016/0360-5442(91)90068-W              1991   \n",
       "\n",
       "                                            abstract author_keywords  \\\n",
       "0  This paper identifies and examines economic re...             NaN   \n",
       "1  In order to estimate the impacts of air pollut...             NaN   \n",
       "2  In order to find the optimum combination of re...             NaN   \n",
       "3  Scientists are now being asked to recommend me...             NaN   \n",
       "4  The U.S.S.R. is the largest energy producer an...             NaN   \n",
       "\n",
       "          docu_type  \n",
       "0           Article  \n",
       "1  Conference Paper  \n",
       "2  Conference Paper  \n",
       "3           Article  \n",
       "4           Article  "
      ]
     },
     "execution_count": 8,
     "metadata": {},
     "output_type": "execute_result"
    }
   ],
   "source": [
    "col=['scopus_number','title','authors','source','doi','publication_year','abstract','author_keywords','docu_type']\n",
    "df_without_dupli = df_without_dupli.reindex(columns=col)\n",
    "df_without_dupli.head()"
   ]
  },
  {
   "cell_type": "code",
   "execution_count": 9,
   "metadata": {},
   "outputs": [
    {
     "name": "stdout",
     "output_type": "stream",
     "text": [
      "4181 X 9 dataframe\n"
     ]
    }
   ],
   "source": [
    "print(\"%d X %d dataframe\" % (len(df_without_dupli), len(df_without_dupli.columns) ))"
   ]
  },
  {
   "cell_type": "code",
   "execution_count": 10,
   "metadata": {},
   "outputs": [],
   "source": [
    "df_without_dupli.to_csv(\"./intermed/df_Scopus.csv\",index=False)"
   ]
  }
 ],
 "metadata": {
  "kernelspec": {
   "display_name": "Python 3",
   "language": "python",
   "name": "python3"
  },
  "language_info": {
   "codemirror_mode": {
    "name": "ipython",
    "version": 3
   },
   "file_extension": ".py",
   "mimetype": "text/x-python",
   "name": "python",
   "nbconvert_exporter": "python",
   "pygments_lexer": "ipython3",
   "version": "3.7.0"
  }
 },
 "nbformat": 4,
 "nbformat_minor": 2
}
