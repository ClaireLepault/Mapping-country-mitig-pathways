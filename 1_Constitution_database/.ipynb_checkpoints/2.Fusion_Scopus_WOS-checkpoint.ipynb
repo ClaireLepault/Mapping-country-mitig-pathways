{
 "cells": [
  {
   "cell_type": "code",
   "execution_count": 1,
   "metadata": {},
   "outputs": [
    {
     "name": "stdout",
     "output_type": "stream",
     "text": [
      "Loaded 3800 X 10  WOS dataframe\n",
      "Loaded 4181 X 9  Scopus dataframe\n"
     ]
    }
   ],
   "source": [
    "import joblib\n",
    "(df_WOS) = joblib.load(\"df_WOS.pkl\" )\n",
    "print( \"Loaded %d X %d  WOS dataframe\" % (len(df_WOS), len(df_WOS.columns) ))\n",
    "(df_Scopus) = joblib.load(\"df_Scopus.pkl\" )\n",
    "print( \"Loaded %d X %d  Scopus dataframe\" % (len(df_Scopus), len(df_Scopus.columns) ))"
   ]
  },
  {
   "cell_type": "code",
   "execution_count": 2,
   "metadata": {},
   "outputs": [],
   "source": [
    "import pandas as pd\n",
    "import string\n",
    "import re\n",
    "import numpy as np"
   ]
  },
  {
   "cell_type": "markdown",
   "metadata": {},
   "source": [
    "## Processing"
   ]
  },
  {
   "cell_type": "code",
   "execution_count": 3,
   "metadata": {},
   "outputs": [],
   "source": [
    "df = pd.concat([df_Scopus, df_WOS], sort = False)"
   ]
  },
  {
   "cell_type": "markdown",
   "metadata": {},
   "source": [
    "### Df without dupli by doi\n",
    "We start by matching WoS and Scopus publications based on the DOI as it is an unique identifier."
   ]
  },
  {
   "cell_type": "code",
   "execution_count": 4,
   "metadata": {},
   "outputs": [],
   "source": [
    "df['low_doi'] = df['doi'].str.lower()"
   ]
  },
  {
   "cell_type": "code",
   "execution_count": 5,
   "metadata": {},
   "outputs": [
    {
     "name": "stdout",
     "output_type": "stream",
     "text": [
      "There are 755 papers without doi\n"
     ]
    }
   ],
   "source": [
    "df_wo_doi = df[df.doi.isnull()]\n",
    "print('There are %d papers without doi' % len(df_wo_doi))"
   ]
  },
  {
   "cell_type": "code",
   "execution_count": 6,
   "metadata": {},
   "outputs": [
    {
     "name": "stdout",
     "output_type": "stream",
     "text": [
      "There are 4189 different papers with doi\n"
     ]
    }
   ],
   "source": [
    "df_with_doi = df[df.doi.notnull()]\n",
    "df_without_dupli_doi = df_with_doi.groupby(['low_doi']).first().reset_index()\n",
    "print('There are %d different papers with doi' % len(df_without_dupli_doi))"
   ]
  },
  {
   "cell_type": "code",
   "execution_count": 7,
   "metadata": {},
   "outputs": [
    {
     "name": "stdout",
     "output_type": "stream",
     "text": [
      "There are 4944 papers after removing duplicates based on doi\n"
     ]
    }
   ],
   "source": [
    "df = pd.concat([df_wo_doi, df_without_dupli_doi], sort = False)\n",
    "print('There are %d papers after removing duplicates based on doi' % len(df))"
   ]
  },
  {
   "cell_type": "markdown",
   "metadata": {},
   "source": [
    "### Df without dupli by title\n",
    "We transform the title by \n",
    "* using lower characters\n",
    "* deleting words in [] if it isn't the case for all the title\n",
    "* (i) removing punctuation and replacing it be nothing\n",
    "* (ii) replacing punctuation by one white space & then replacing double white spaces by one white space  "
   ]
  },
  {
   "cell_type": "code",
   "execution_count": 8,
   "metadata": {},
   "outputs": [
    {
     "data": {
      "text/plain": [
       "'!\"#$%&\\'()*+,-./:;<=>?@[\\\\]^_`{|}~’—☆–−()()'"
      ]
     },
     "execution_count": 8,
     "metadata": {},
     "output_type": "execute_result"
    }
   ],
   "source": [
    "string.punctuation =  string.punctuation + '’—☆–−()()'\n",
    "string.punctuation"
   ]
  },
  {
   "cell_type": "markdown",
   "metadata": {},
   "source": [
    "First, we remove all punctuation and group duplicates by title without punctuation\n",
    "\n",
    "Example of duplicates identified : \n",
    "* The effect of Estonian electricity production scenarios on CO(2) and SO(2) emissions in 2000-2030\n",
    "* The effect of Estonian electricity production scenarios on CO2 and SO2 emissions in 2000-2030"
   ]
  },
  {
   "cell_type": "code",
   "execution_count": 9,
   "metadata": {},
   "outputs": [],
   "source": [
    "df['title_red'] = pd.Series([re.sub(\"[\\[\\]].*[\\[\\]]\", \"\", title) for title in df.title.values],index = df.index)\n",
    "df['title_red'] = np.where(df['title_red'].str.len()<=1,df['title'],df['title_red'])"
   ]
  },
  {
   "cell_type": "code",
   "execution_count": 10,
   "metadata": {
    "scrolled": true
   },
   "outputs": [],
   "source": [
    "table_remove_punct = str.maketrans('','', string.punctuation)"
   ]
  },
  {
   "cell_type": "code",
   "execution_count": 11,
   "metadata": {},
   "outputs": [],
   "source": [
    "titles = df['title_red'].str.lower().tolist()\n",
    "titles_wo_punct = [title.translate(table_remove_punct) for title in titles]\n",
    "df['prepro_title_wo_punct'] = pd.Series(titles_wo_punct,index = df.index)"
   ]
  },
  {
   "cell_type": "markdown",
   "metadata": {},
   "source": [
    "We order the dataframe by 'prepro_title_wo_punct' and doi in order to keep papers with doi when there are duplicates (ex : published paper and conference paper)"
   ]
  },
  {
   "cell_type": "code",
   "execution_count": 12,
   "metadata": {
    "scrolled": true
   },
   "outputs": [],
   "source": [
    "df.sort_values(by = ['prepro_title_wo_punct','doi'], ascending = [True,True], inplace = True)"
   ]
  },
  {
   "cell_type": "code",
   "execution_count": 13,
   "metadata": {},
   "outputs": [
    {
     "name": "stdout",
     "output_type": "stream",
     "text": [
      "There are 4769 papers after removing duplicates based on low title without punctuation\n"
     ]
    }
   ],
   "source": [
    "df = df.groupby(['prepro_title_wo_punct']).first().reset_index()\n",
    "print('There are %d papers after removing duplicates based on low title without punctuation' % len(df))"
   ]
  },
  {
   "cell_type": "markdown",
   "metadata": {},
   "source": [
    "Then we remove punctuation and replace it by on white space and then replace double white by one white space\n",
    "\n",
    "Example of duplicates identified : \n",
    "* Future Japan Power Generation Sector by Introducing Hydrogen Plant with 80% CO2 Emission Reduction Target : A Preliminary Analysis\n",
    "* Future Japan power generation sector by introducing hydrogen plant with 80% CO2 emission reduction target: A preliminary analysis"
   ]
  },
  {
   "cell_type": "code",
   "execution_count": 14,
   "metadata": {},
   "outputs": [],
   "source": [
    "titles = df['title_red'].str.lower().tolist()\n",
    "table_remove_punct_white_space = str.maketrans(string.punctuation, ' '*len(string.punctuation))"
   ]
  },
  {
   "cell_type": "code",
   "execution_count": 15,
   "metadata": {},
   "outputs": [],
   "source": [
    "titles_wo_punct_white_space = [title.translate(table_remove_punct_white_space) for title in titles]\n",
    "titles_wo_punct_one_white_space = [' '.join(title.split()) for title in titles_wo_punct_white_space]\n",
    "df['prepro_title'] = pd.Series(titles_wo_punct_one_white_space,index = df.index)"
   ]
  },
  {
   "cell_type": "code",
   "execution_count": 16,
   "metadata": {
    "scrolled": true
   },
   "outputs": [],
   "source": [
    "df.sort_values(by = ['prepro_title','doi'], ascending = [True,True], inplace = True)"
   ]
  },
  {
   "cell_type": "code",
   "execution_count": 17,
   "metadata": {},
   "outputs": [
    {
     "name": "stdout",
     "output_type": "stream",
     "text": [
      "There are 4755 papers after removing duplicates based on low title with punctuation replaced by white space\n"
     ]
    }
   ],
   "source": [
    "df = df.groupby(['prepro_title']).first().reset_index()\n",
    "print('There are %d papers after removing duplicates based on low title with punctuation replaced by white space' % len(df))"
   ]
  },
  {
   "cell_type": "markdown",
   "metadata": {},
   "source": [
    "### Keep papers with abstract"
   ]
  },
  {
   "cell_type": "code",
   "execution_count": 18,
   "metadata": {},
   "outputs": [
    {
     "name": "stdout",
     "output_type": "stream",
     "text": [
      "There are 4743 papers with abstract\n"
     ]
    }
   ],
   "source": [
    "df = df.loc[df.abstract.notnull()]\n",
    "print('There are %d papers with abstract' % len(df))"
   ]
  },
  {
   "cell_type": "markdown",
   "metadata": {},
   "source": [
    "### Group by abstract"
   ]
  },
  {
   "cell_type": "code",
   "execution_count": 19,
   "metadata": {},
   "outputs": [
    {
     "name": "stdout",
     "output_type": "stream",
     "text": [
      "There are 4737 papers after removing duplicates based on abstract\n"
     ]
    }
   ],
   "source": [
    "df.sort_values(by = ['abstract','doi'], ascending = [True,True], inplace = True)\n",
    "df = df.groupby(['abstract']).first().reset_index()\n",
    "print('There are %d papers after removing duplicates based on abstract' % (len(df)))"
   ]
  },
  {
   "cell_type": "markdown",
   "metadata": {},
   "source": [
    "### Group by beginning of abstract"
   ]
  },
  {
   "cell_type": "code",
   "execution_count": 20,
   "metadata": {},
   "outputs": [],
   "source": [
    "abstracts = df['abstract'].str.lower().tolist()\n",
    "abstracts_wo_punct = [abstract.translate(table_remove_punct_white_space) for abstract in abstracts]\n",
    "abstracts_wo_punct_one_white_space = [' '.join(abstract.split()) for abstract in abstracts_wo_punct]\n",
    "df['prepro_abs'] = pd.Series(abstracts_wo_punct_one_white_space, index = df.index)"
   ]
  },
  {
   "cell_type": "code",
   "execution_count": 21,
   "metadata": {},
   "outputs": [
    {
     "name": "stdout",
     "output_type": "stream",
     "text": [
      "There are 4723 papers after removing duplicates based on first 250 characters of abstract\n"
     ]
    }
   ],
   "source": [
    "df['beg_abs'] = df['prepro_abs'].str[:250]\n",
    "df.sort_values(by = ['beg_abs','doi'], ascending = [True,True], inplace = True)\n",
    "df = df.groupby(['beg_abs']).first().reset_index()\n",
    "\n",
    "print('There are %d papers after removing duplicates based on first 250 characters of abstract' % (len(df)))"
   ]
  },
  {
   "cell_type": "code",
   "execution_count": 22,
   "metadata": {},
   "outputs": [],
   "source": [
    "df['beg_abs_200'] = df['prepro_abs'].str[:200]"
   ]
  },
  {
   "cell_type": "code",
   "execution_count": 23,
   "metadata": {
    "scrolled": true
   },
   "outputs": [
    {
     "data": {
      "text/html": [
       "<div>\n",
       "<style scoped>\n",
       "    .dataframe tbody tr th:only-of-type {\n",
       "        vertical-align: middle;\n",
       "    }\n",
       "\n",
       "    .dataframe tbody tr th {\n",
       "        vertical-align: top;\n",
       "    }\n",
       "\n",
       "    .dataframe thead th {\n",
       "        text-align: right;\n",
       "    }\n",
       "</style>\n",
       "<table border=\"1\" class=\"dataframe\">\n",
       "  <thead>\n",
       "    <tr style=\"text-align: right;\">\n",
       "      <th></th>\n",
       "      <th>beg_abs</th>\n",
       "      <th>abstract</th>\n",
       "      <th>prepro_title</th>\n",
       "      <th>prepro_title_wo_punct</th>\n",
       "      <th>scopus_number</th>\n",
       "      <th>title</th>\n",
       "      <th>authors</th>\n",
       "      <th>source</th>\n",
       "      <th>doi</th>\n",
       "      <th>publication_year</th>\n",
       "      <th>author_keywords</th>\n",
       "      <th>docu_type</th>\n",
       "      <th>WOS_number</th>\n",
       "      <th>doc_type</th>\n",
       "      <th>email</th>\n",
       "      <th>low_doi</th>\n",
       "      <th>title_red</th>\n",
       "      <th>prepro_abs</th>\n",
       "      <th>beg_abs_200</th>\n",
       "    </tr>\n",
       "  </thead>\n",
       "  <tbody>\n",
       "    <tr>\n",
       "      <th>2194</th>\n",
       "      <td>objective the aim of the present article is to...</td>\n",
       "      <td>Objective: The aim of the present article is t...</td>\n",
       "      <td>prospects of carbon capture and storage ccs in...</td>\n",
       "      <td>prospects of carbon capture and storage ccs in...</td>\n",
       "      <td>2-s2.0-84890938806</td>\n",
       "      <td>Prospects of carbon capture and storage (CCS) ...</td>\n",
       "      <td>Viebahn P., Vallentin D., Höller S.</td>\n",
       "      <td>Applied Energy</td>\n",
       "      <td>10.1016/j.apenergy.2013.11.054</td>\n",
       "      <td>2014.0</td>\n",
       "      <td>CCS; India; Integrated assessment; Power sector</td>\n",
       "      <td>Article</td>\n",
       "      <td>WOS:000331675800006</td>\n",
       "      <td>J</td>\n",
       "      <td>NaN</td>\n",
       "      <td>10.1016/j.apenergy.2013.11.054</td>\n",
       "      <td>Prospects of carbon capture and storage (CCS) ...</td>\n",
       "      <td>objective the aim of the present article is to...</td>\n",
       "      <td>objective the aim of the present article is to...</td>\n",
       "    </tr>\n",
       "    <tr>\n",
       "      <th>2294</th>\n",
       "      <td>policies to mitigate greenhouse gas ghg emissi...</td>\n",
       "      <td>Policies to mitigate greenhouse gas (GHG) emis...</td>\n",
       "      <td>co benefits of global and regional greenhouse ...</td>\n",
       "      <td>cobenefits of global and regional greenhouse g...</td>\n",
       "      <td>2-s2.0-85042813058</td>\n",
       "      <td>Co-benefits of global and regional greenhouse ...</td>\n",
       "      <td>Zhang Y., Bowden J.H., Adelman Z., Naik V., Ho...</td>\n",
       "      <td>Atmospheric Chemistry and Physics Discussions</td>\n",
       "      <td>10.5194/acp-2015-1054</td>\n",
       "      <td>2016.0</td>\n",
       "      <td>NaN</td>\n",
       "      <td>Article</td>\n",
       "      <td>NaN</td>\n",
       "      <td>NaN</td>\n",
       "      <td>NaN</td>\n",
       "      <td>10.5194/acp-2015-1054</td>\n",
       "      <td>Co-benefits of global and regional greenhouse ...</td>\n",
       "      <td>policies to mitigate greenhouse gas ghg emissi...</td>\n",
       "      <td>policies to mitigate greenhouse gas ghg emissi...</td>\n",
       "    </tr>\n",
       "    <tr>\n",
       "      <th>3442</th>\n",
       "      <td>the potential role of photovoltaic technologie...</td>\n",
       "      <td>The potential role of photovoltaic technologie...</td>\n",
       "      <td>projected photovoltaic energy impacts on us co...</td>\n",
       "      <td>projected photovoltaic energy impacts on us co...</td>\n",
       "      <td>2-s2.0-0031189392</td>\n",
       "      <td>Projected photovoltaic energy impacts on US CO...</td>\n",
       "      <td>Lee J.C., Fthenakis V.M., Morris S.C., Goldste...</td>\n",
       "      <td>Progress in Photovoltaics: Research and Applic...</td>\n",
       "      <td>10.1002/(sici)1099-159x(199707/08)5:4&lt;277::aid...</td>\n",
       "      <td>1997.0</td>\n",
       "      <td>NaN</td>\n",
       "      <td>Review</td>\n",
       "      <td>NaN</td>\n",
       "      <td>NaN</td>\n",
       "      <td>NaN</td>\n",
       "      <td>10.1002/(sici)1099-159x(199707/08)5:4&lt;277::aid...</td>\n",
       "      <td>Projected photovoltaic energy impacts on US CO...</td>\n",
       "      <td>the potential role of photovoltaic technologie...</td>\n",
       "      <td>the potential role of photovoltaic technologie...</td>\n",
       "    </tr>\n",
       "    <tr>\n",
       "      <th>3465</th>\n",
       "      <td>the present research study used the quantitati...</td>\n",
       "      <td>The present research study used the quantitati...</td>\n",
       "      <td>a 100 renewable scenario for venezuelan power ...</td>\n",
       "      <td>a 100 renewable scenario for venezuelan power ...</td>\n",
       "      <td>2-s2.0-85047432166</td>\n",
       "      <td>A 100% renewable scenario for Venezuelan Power...</td>\n",
       "      <td>Herman S.B.</td>\n",
       "      <td>CIGRE Session 45 - 45th International Conferen...</td>\n",
       "      <td>NaN</td>\n",
       "      <td>2014.0</td>\n",
       "      <td>Energy planning; Green house gas emissions; Re...</td>\n",
       "      <td>Conference Paper</td>\n",
       "      <td>NaN</td>\n",
       "      <td>NaN</td>\n",
       "      <td>NaN</td>\n",
       "      <td>NaN</td>\n",
       "      <td>A 100% renewable scenario for Venezuelan Power...</td>\n",
       "      <td>the present research study used the quantitati...</td>\n",
       "      <td>the present research study used the quantitati...</td>\n",
       "    </tr>\n",
       "  </tbody>\n",
       "</table>\n",
       "</div>"
      ],
      "text/plain": [
       "                                                beg_abs  \\\n",
       "2194  objective the aim of the present article is to...   \n",
       "2294  policies to mitigate greenhouse gas ghg emissi...   \n",
       "3442  the potential role of photovoltaic technologie...   \n",
       "3465  the present research study used the quantitati...   \n",
       "\n",
       "                                               abstract  \\\n",
       "2194  Objective: The aim of the present article is t...   \n",
       "2294  Policies to mitigate greenhouse gas (GHG) emis...   \n",
       "3442  The potential role of photovoltaic technologie...   \n",
       "3465  The present research study used the quantitati...   \n",
       "\n",
       "                                           prepro_title  \\\n",
       "2194  prospects of carbon capture and storage ccs in...   \n",
       "2294  co benefits of global and regional greenhouse ...   \n",
       "3442  projected photovoltaic energy impacts on us co...   \n",
       "3465  a 100 renewable scenario for venezuelan power ...   \n",
       "\n",
       "                                  prepro_title_wo_punct       scopus_number  \\\n",
       "2194  prospects of carbon capture and storage ccs in...  2-s2.0-84890938806   \n",
       "2294  cobenefits of global and regional greenhouse g...  2-s2.0-85042813058   \n",
       "3442  projected photovoltaic energy impacts on us co...   2-s2.0-0031189392   \n",
       "3465  a 100 renewable scenario for venezuelan power ...  2-s2.0-85047432166   \n",
       "\n",
       "                                                  title  \\\n",
       "2194  Prospects of carbon capture and storage (CCS) ...   \n",
       "2294  Co-benefits of global and regional greenhouse ...   \n",
       "3442  Projected photovoltaic energy impacts on US CO...   \n",
       "3465  A 100% renewable scenario for Venezuelan Power...   \n",
       "\n",
       "                                                authors  \\\n",
       "2194                Viebahn P., Vallentin D., Höller S.   \n",
       "2294  Zhang Y., Bowden J.H., Adelman Z., Naik V., Ho...   \n",
       "3442  Lee J.C., Fthenakis V.M., Morris S.C., Goldste...   \n",
       "3465                                        Herman S.B.   \n",
       "\n",
       "                                                 source  \\\n",
       "2194                                     Applied Energy   \n",
       "2294      Atmospheric Chemistry and Physics Discussions   \n",
       "3442  Progress in Photovoltaics: Research and Applic...   \n",
       "3465  CIGRE Session 45 - 45th International Conferen...   \n",
       "\n",
       "                                                    doi  publication_year  \\\n",
       "2194                     10.1016/j.apenergy.2013.11.054            2014.0   \n",
       "2294                              10.5194/acp-2015-1054            2016.0   \n",
       "3442  10.1002/(sici)1099-159x(199707/08)5:4<277::aid...            1997.0   \n",
       "3465                                                NaN            2014.0   \n",
       "\n",
       "                                        author_keywords         docu_type  \\\n",
       "2194    CCS; India; Integrated assessment; Power sector           Article   \n",
       "2294                                                NaN           Article   \n",
       "3442                                                NaN            Review   \n",
       "3465  Energy planning; Green house gas emissions; Re...  Conference Paper   \n",
       "\n",
       "               WOS_number doc_type  email  \\\n",
       "2194  WOS:000331675800006        J    NaN   \n",
       "2294                  NaN      NaN    NaN   \n",
       "3442                  NaN      NaN    NaN   \n",
       "3465                  NaN      NaN    NaN   \n",
       "\n",
       "                                                low_doi  \\\n",
       "2194                     10.1016/j.apenergy.2013.11.054   \n",
       "2294                              10.5194/acp-2015-1054   \n",
       "3442  10.1002/(sici)1099-159x(199707/08)5:4<277::aid...   \n",
       "3465                                                NaN   \n",
       "\n",
       "                                              title_red  \\\n",
       "2194  Prospects of carbon capture and storage (CCS) ...   \n",
       "2294  Co-benefits of global and regional greenhouse ...   \n",
       "3442  Projected photovoltaic energy impacts on US CO...   \n",
       "3465  A 100% renewable scenario for Venezuelan Power...   \n",
       "\n",
       "                                             prepro_abs  \\\n",
       "2194  objective the aim of the present article is to...   \n",
       "2294  policies to mitigate greenhouse gas ghg emissi...   \n",
       "3442  the potential role of photovoltaic technologie...   \n",
       "3465  the present research study used the quantitati...   \n",
       "\n",
       "                                            beg_abs_200  \n",
       "2194  objective the aim of the present article is to...  \n",
       "2294  policies to mitigate greenhouse gas ghg emissi...  \n",
       "3442  the potential role of photovoltaic technologie...  \n",
       "3465  the present research study used the quantitati...  "
      ]
     },
     "execution_count": 23,
     "metadata": {},
     "output_type": "execute_result"
    }
   ],
   "source": [
    "df_deb_first = df.loc[df.beg_abs_200.duplicated(keep='first')]\n",
    "#df_deb_first.to_excel('deb.xlsx')\n",
    "df_deb_first"
   ]
  },
  {
   "cell_type": "code",
   "execution_count": 24,
   "metadata": {},
   "outputs": [
    {
     "data": {
      "text/html": [
       "<div>\n",
       "<style scoped>\n",
       "    .dataframe tbody tr th:only-of-type {\n",
       "        vertical-align: middle;\n",
       "    }\n",
       "\n",
       "    .dataframe tbody tr th {\n",
       "        vertical-align: top;\n",
       "    }\n",
       "\n",
       "    .dataframe thead th {\n",
       "        text-align: right;\n",
       "    }\n",
       "</style>\n",
       "<table border=\"1\" class=\"dataframe\">\n",
       "  <thead>\n",
       "    <tr style=\"text-align: right;\">\n",
       "      <th></th>\n",
       "      <th>beg_abs</th>\n",
       "      <th>abstract</th>\n",
       "      <th>prepro_title</th>\n",
       "      <th>prepro_title_wo_punct</th>\n",
       "      <th>scopus_number</th>\n",
       "      <th>title</th>\n",
       "      <th>authors</th>\n",
       "      <th>source</th>\n",
       "      <th>doi</th>\n",
       "      <th>publication_year</th>\n",
       "      <th>author_keywords</th>\n",
       "      <th>docu_type</th>\n",
       "      <th>WOS_number</th>\n",
       "      <th>doc_type</th>\n",
       "      <th>email</th>\n",
       "      <th>low_doi</th>\n",
       "      <th>title_red</th>\n",
       "      <th>prepro_abs</th>\n",
       "      <th>beg_abs_200</th>\n",
       "    </tr>\n",
       "  </thead>\n",
       "  <tbody>\n",
       "    <tr>\n",
       "      <th>2193</th>\n",
       "      <td>objective the aim of the present article is to...</td>\n",
       "      <td>Objective: The aim of the present article is t...</td>\n",
       "      <td>prospects of carbon capture and storage ccs in...</td>\n",
       "      <td>prospects of carbon capture and storage ccs in...</td>\n",
       "      <td>2-s2.0-84939800728</td>\n",
       "      <td>Prospects of carbon capture and storage (CCS) ...</td>\n",
       "      <td>Viebahn P., Vallentin D., Höller S.</td>\n",
       "      <td>Applied Energy</td>\n",
       "      <td>10.1016/j.apenergy.2015.07.023</td>\n",
       "      <td>2015.0</td>\n",
       "      <td>CCS; China; CO2 storage potential; Integrated ...</td>\n",
       "      <td>Article</td>\n",
       "      <td>WOS:000364249200020</td>\n",
       "      <td>J</td>\n",
       "      <td>NaN</td>\n",
       "      <td>10.1016/j.apenergy.2015.07.023</td>\n",
       "      <td>Prospects of carbon capture and storage (CCS) ...</td>\n",
       "      <td>objective the aim of the present article is to...</td>\n",
       "      <td>objective the aim of the present article is to...</td>\n",
       "    </tr>\n",
       "    <tr>\n",
       "      <th>2293</th>\n",
       "      <td>policies to mitigate greenhouse gas ghg emissi...</td>\n",
       "      <td>Policies to mitigate greenhouse gas (GHG) emis...</td>\n",
       "      <td>co benefits of global and regional greenhouse ...</td>\n",
       "      <td>cobenefits of global and regional greenhouse g...</td>\n",
       "      <td>2-s2.0-84980417625</td>\n",
       "      <td>Co-benefits of global and regional greenhouse ...</td>\n",
       "      <td>Zhang Y., Bowden J.H., Adelman Z., Naik V., Ho...</td>\n",
       "      <td>Atmospheric Chemistry and Physics</td>\n",
       "      <td>10.5194/acp-16-9533-2016</td>\n",
       "      <td>2016.0</td>\n",
       "      <td>NaN</td>\n",
       "      <td>Article</td>\n",
       "      <td>WOS:000382825200001</td>\n",
       "      <td>J</td>\n",
       "      <td>NaN</td>\n",
       "      <td>10.5194/acp-16-9533-2016</td>\n",
       "      <td>Co-benefits of global and regional greenhouse ...</td>\n",
       "      <td>policies to mitigate greenhouse gas ghg emissi...</td>\n",
       "      <td>policies to mitigate greenhouse gas ghg emissi...</td>\n",
       "    </tr>\n",
       "    <tr>\n",
       "      <th>3441</th>\n",
       "      <td>the potential role of photovoltaic technologie...</td>\n",
       "      <td>The potential role of photovoltaic technologie...</td>\n",
       "      <td>projected photovoltaic energy impacts on us co...</td>\n",
       "      <td>projected photovoltaic energy impacts on us co...</td>\n",
       "      <td>NaN</td>\n",
       "      <td>Projected photovoltaic energy impacts on US CO...</td>\n",
       "      <td>Lee, JC; Fthenakis, VM; Morris, SC; Goldstein,...</td>\n",
       "      <td>PROGRESS IN PHOTOVOLTAICS</td>\n",
       "      <td>NaN</td>\n",
       "      <td>1997.0</td>\n",
       "      <td>NaN</td>\n",
       "      <td>NaN</td>\n",
       "      <td>WOS:A1997XU72900007</td>\n",
       "      <td>J</td>\n",
       "      <td>NaN</td>\n",
       "      <td>NaN</td>\n",
       "      <td>Projected photovoltaic energy impacts on US CO...</td>\n",
       "      <td>the potential role of photovoltaic technologie...</td>\n",
       "      <td>the potential role of photovoltaic technologie...</td>\n",
       "    </tr>\n",
       "    <tr>\n",
       "      <th>3464</th>\n",
       "      <td>the present research study used the quantitati...</td>\n",
       "      <td>The present research study used the quantitati...</td>\n",
       "      <td>a sustainable scenario for venezuelan power ge...</td>\n",
       "      <td>a sustainable scenario for venezuelan power ge...</td>\n",
       "      <td>2-s2.0-84858277067</td>\n",
       "      <td>A sustainable scenario for Venezuelan power ge...</td>\n",
       "      <td>Bautista S.</td>\n",
       "      <td>Energy Policy</td>\n",
       "      <td>10.1016/j.enpol.2012.01.060</td>\n",
       "      <td>2012.0</td>\n",
       "      <td>Power generation; Renewable energy; Sustainabl...</td>\n",
       "      <td>Article</td>\n",
       "      <td>WOS:000302848700031</td>\n",
       "      <td>J</td>\n",
       "      <td>NaN</td>\n",
       "      <td>10.1016/j.enpol.2012.01.060</td>\n",
       "      <td>A sustainable scenario for Venezuelan power ge...</td>\n",
       "      <td>the present research study used the quantitati...</td>\n",
       "      <td>the present research study used the quantitati...</td>\n",
       "    </tr>\n",
       "  </tbody>\n",
       "</table>\n",
       "</div>"
      ],
      "text/plain": [
       "                                                beg_abs  \\\n",
       "2193  objective the aim of the present article is to...   \n",
       "2293  policies to mitigate greenhouse gas ghg emissi...   \n",
       "3441  the potential role of photovoltaic technologie...   \n",
       "3464  the present research study used the quantitati...   \n",
       "\n",
       "                                               abstract  \\\n",
       "2193  Objective: The aim of the present article is t...   \n",
       "2293  Policies to mitigate greenhouse gas (GHG) emis...   \n",
       "3441  The potential role of photovoltaic technologie...   \n",
       "3464  The present research study used the quantitati...   \n",
       "\n",
       "                                           prepro_title  \\\n",
       "2193  prospects of carbon capture and storage ccs in...   \n",
       "2293  co benefits of global and regional greenhouse ...   \n",
       "3441  projected photovoltaic energy impacts on us co...   \n",
       "3464  a sustainable scenario for venezuelan power ge...   \n",
       "\n",
       "                                  prepro_title_wo_punct       scopus_number  \\\n",
       "2193  prospects of carbon capture and storage ccs in...  2-s2.0-84939800728   \n",
       "2293  cobenefits of global and regional greenhouse g...  2-s2.0-84980417625   \n",
       "3441  projected photovoltaic energy impacts on us co...                 NaN   \n",
       "3464  a sustainable scenario for venezuelan power ge...  2-s2.0-84858277067   \n",
       "\n",
       "                                                  title  \\\n",
       "2193  Prospects of carbon capture and storage (CCS) ...   \n",
       "2293  Co-benefits of global and regional greenhouse ...   \n",
       "3441  Projected photovoltaic energy impacts on US CO...   \n",
       "3464  A sustainable scenario for Venezuelan power ge...   \n",
       "\n",
       "                                                authors  \\\n",
       "2193                Viebahn P., Vallentin D., Höller S.   \n",
       "2293  Zhang Y., Bowden J.H., Adelman Z., Naik V., Ho...   \n",
       "3441  Lee, JC; Fthenakis, VM; Morris, SC; Goldstein,...   \n",
       "3464                                        Bautista S.   \n",
       "\n",
       "                                 source                             doi  \\\n",
       "2193                     Applied Energy  10.1016/j.apenergy.2015.07.023   \n",
       "2293  Atmospheric Chemistry and Physics        10.5194/acp-16-9533-2016   \n",
       "3441          PROGRESS IN PHOTOVOLTAICS                             NaN   \n",
       "3464                      Energy Policy     10.1016/j.enpol.2012.01.060   \n",
       "\n",
       "      publication_year                                    author_keywords  \\\n",
       "2193            2015.0  CCS; China; CO2 storage potential; Integrated ...   \n",
       "2293            2016.0                                                NaN   \n",
       "3441            1997.0                                                NaN   \n",
       "3464            2012.0  Power generation; Renewable energy; Sustainabl...   \n",
       "\n",
       "     docu_type           WOS_number doc_type  email  \\\n",
       "2193   Article  WOS:000364249200020        J    NaN   \n",
       "2293   Article  WOS:000382825200001        J    NaN   \n",
       "3441       NaN  WOS:A1997XU72900007        J    NaN   \n",
       "3464   Article  WOS:000302848700031        J    NaN   \n",
       "\n",
       "                             low_doi  \\\n",
       "2193  10.1016/j.apenergy.2015.07.023   \n",
       "2293        10.5194/acp-16-9533-2016   \n",
       "3441                             NaN   \n",
       "3464     10.1016/j.enpol.2012.01.060   \n",
       "\n",
       "                                              title_red  \\\n",
       "2193  Prospects of carbon capture and storage (CCS) ...   \n",
       "2293  Co-benefits of global and regional greenhouse ...   \n",
       "3441  Projected photovoltaic energy impacts on US CO...   \n",
       "3464  A sustainable scenario for Venezuelan power ge...   \n",
       "\n",
       "                                             prepro_abs  \\\n",
       "2193  objective the aim of the present article is to...   \n",
       "2293  policies to mitigate greenhouse gas ghg emissi...   \n",
       "3441  the potential role of photovoltaic technologie...   \n",
       "3464  the present research study used the quantitati...   \n",
       "\n",
       "                                            beg_abs_200  \n",
       "2193  objective the aim of the present article is to...  \n",
       "2293  policies to mitigate greenhouse gas ghg emissi...  \n",
       "3441  the potential role of photovoltaic technologie...  \n",
       "3464  the present research study used the quantitati...  "
      ]
     },
     "execution_count": 24,
     "metadata": {},
     "output_type": "execute_result"
    }
   ],
   "source": [
    "df_deb_last = df.loc[df.beg_abs_200.duplicated(keep='last')]\n",
    "#df_deb_last.to_excel('last.xlsx')\n",
    "df_deb_last"
   ]
  },
  {
   "cell_type": "code",
   "execution_count": 25,
   "metadata": {},
   "outputs": [],
   "source": [
    "df[3442,] = df.loc[3442,].combine_first(df.loc[3441,])"
   ]
  },
  {
   "cell_type": "code",
   "execution_count": 26,
   "metadata": {},
   "outputs": [
    {
     "data": {
      "text/plain": [
       "RangeIndex(start=0, stop=4723, step=1)"
      ]
     },
     "execution_count": 26,
     "metadata": {},
     "output_type": "execute_result"
    }
   ],
   "source": [
    "df.index"
   ]
  },
  {
   "cell_type": "code",
   "execution_count": 27,
   "metadata": {},
   "outputs": [],
   "source": [
    "df = df.drop([3441,2294,3465])"
   ]
  },
  {
   "cell_type": "code",
   "execution_count": 28,
   "metadata": {},
   "outputs": [
    {
     "data": {
      "text/html": [
       "<div>\n",
       "<style scoped>\n",
       "    .dataframe tbody tr th:only-of-type {\n",
       "        vertical-align: middle;\n",
       "    }\n",
       "\n",
       "    .dataframe tbody tr th {\n",
       "        vertical-align: top;\n",
       "    }\n",
       "\n",
       "    .dataframe thead th {\n",
       "        text-align: right;\n",
       "    }\n",
       "</style>\n",
       "<table border=\"1\" class=\"dataframe\">\n",
       "  <thead>\n",
       "    <tr style=\"text-align: right;\">\n",
       "      <th></th>\n",
       "      <th>beg_abs</th>\n",
       "      <th>abstract</th>\n",
       "      <th>prepro_title</th>\n",
       "      <th>prepro_title_wo_punct</th>\n",
       "      <th>scopus_number</th>\n",
       "      <th>title</th>\n",
       "      <th>authors</th>\n",
       "      <th>source</th>\n",
       "      <th>doi</th>\n",
       "      <th>publication_year</th>\n",
       "      <th>author_keywords</th>\n",
       "      <th>docu_type</th>\n",
       "      <th>WOS_number</th>\n",
       "      <th>doc_type</th>\n",
       "      <th>email</th>\n",
       "      <th>low_doi</th>\n",
       "      <th>title_red</th>\n",
       "      <th>prepro_abs</th>\n",
       "      <th>beg_abs_200</th>\n",
       "      <th>(3442,)</th>\n",
       "    </tr>\n",
       "  </thead>\n",
       "  <tbody>\n",
       "    <tr>\n",
       "      <th>2194</th>\n",
       "      <td>objective the aim of the present article is to...</td>\n",
       "      <td>Objective: The aim of the present article is t...</td>\n",
       "      <td>prospects of carbon capture and storage ccs in...</td>\n",
       "      <td>prospects of carbon capture and storage ccs in...</td>\n",
       "      <td>2-s2.0-84890938806</td>\n",
       "      <td>Prospects of carbon capture and storage (CCS) ...</td>\n",
       "      <td>Viebahn P., Vallentin D., Höller S.</td>\n",
       "      <td>Applied Energy</td>\n",
       "      <td>10.1016/j.apenergy.2013.11.054</td>\n",
       "      <td>2014.0</td>\n",
       "      <td>CCS; India; Integrated assessment; Power sector</td>\n",
       "      <td>Article</td>\n",
       "      <td>WOS:000331675800006</td>\n",
       "      <td>J</td>\n",
       "      <td>NaN</td>\n",
       "      <td>10.1016/j.apenergy.2013.11.054</td>\n",
       "      <td>Prospects of carbon capture and storage (CCS) ...</td>\n",
       "      <td>objective the aim of the present article is to...</td>\n",
       "      <td>objective the aim of the present article is to...</td>\n",
       "      <td>NaN</td>\n",
       "    </tr>\n",
       "  </tbody>\n",
       "</table>\n",
       "</div>"
      ],
      "text/plain": [
       "                                                beg_abs  \\\n",
       "2194  objective the aim of the present article is to...   \n",
       "\n",
       "                                               abstract  \\\n",
       "2194  Objective: The aim of the present article is t...   \n",
       "\n",
       "                                           prepro_title  \\\n",
       "2194  prospects of carbon capture and storage ccs in...   \n",
       "\n",
       "                                  prepro_title_wo_punct       scopus_number  \\\n",
       "2194  prospects of carbon capture and storage ccs in...  2-s2.0-84890938806   \n",
       "\n",
       "                                                  title  \\\n",
       "2194  Prospects of carbon capture and storage (CCS) ...   \n",
       "\n",
       "                                  authors          source  \\\n",
       "2194  Viebahn P., Vallentin D., Höller S.  Applied Energy   \n",
       "\n",
       "                                 doi  publication_year  \\\n",
       "2194  10.1016/j.apenergy.2013.11.054            2014.0   \n",
       "\n",
       "                                      author_keywords docu_type  \\\n",
       "2194  CCS; India; Integrated assessment; Power sector   Article   \n",
       "\n",
       "               WOS_number doc_type  email                         low_doi  \\\n",
       "2194  WOS:000331675800006        J    NaN  10.1016/j.apenergy.2013.11.054   \n",
       "\n",
       "                                              title_red  \\\n",
       "2194  Prospects of carbon capture and storage (CCS) ...   \n",
       "\n",
       "                                             prepro_abs  \\\n",
       "2194  objective the aim of the present article is to...   \n",
       "\n",
       "                                            beg_abs_200 (3442,)  \n",
       "2194  objective the aim of the present article is to...     NaN  "
      ]
     },
     "execution_count": 28,
     "metadata": {},
     "output_type": "execute_result"
    }
   ],
   "source": [
    "df_deb_first = df.loc[df.beg_abs_200.duplicated(keep='first')]\n",
    "df_deb_first"
   ]
  },
  {
   "cell_type": "code",
   "execution_count": 29,
   "metadata": {},
   "outputs": [
    {
     "data": {
      "text/html": [
       "<div>\n",
       "<style scoped>\n",
       "    .dataframe tbody tr th:only-of-type {\n",
       "        vertical-align: middle;\n",
       "    }\n",
       "\n",
       "    .dataframe tbody tr th {\n",
       "        vertical-align: top;\n",
       "    }\n",
       "\n",
       "    .dataframe thead th {\n",
       "        text-align: right;\n",
       "    }\n",
       "</style>\n",
       "<table border=\"1\" class=\"dataframe\">\n",
       "  <thead>\n",
       "    <tr style=\"text-align: right;\">\n",
       "      <th></th>\n",
       "      <th>beg_abs</th>\n",
       "      <th>abstract</th>\n",
       "      <th>prepro_title</th>\n",
       "      <th>prepro_title_wo_punct</th>\n",
       "      <th>scopus_number</th>\n",
       "      <th>title</th>\n",
       "      <th>authors</th>\n",
       "      <th>source</th>\n",
       "      <th>doi</th>\n",
       "      <th>publication_year</th>\n",
       "      <th>author_keywords</th>\n",
       "      <th>docu_type</th>\n",
       "      <th>WOS_number</th>\n",
       "      <th>doc_type</th>\n",
       "      <th>email</th>\n",
       "      <th>low_doi</th>\n",
       "      <th>title_red</th>\n",
       "      <th>prepro_abs</th>\n",
       "      <th>beg_abs_200</th>\n",
       "      <th>(3442,)</th>\n",
       "    </tr>\n",
       "  </thead>\n",
       "  <tbody>\n",
       "    <tr>\n",
       "      <th>2193</th>\n",
       "      <td>objective the aim of the present article is to...</td>\n",
       "      <td>Objective: The aim of the present article is t...</td>\n",
       "      <td>prospects of carbon capture and storage ccs in...</td>\n",
       "      <td>prospects of carbon capture and storage ccs in...</td>\n",
       "      <td>2-s2.0-84939800728</td>\n",
       "      <td>Prospects of carbon capture and storage (CCS) ...</td>\n",
       "      <td>Viebahn P., Vallentin D., Höller S.</td>\n",
       "      <td>Applied Energy</td>\n",
       "      <td>10.1016/j.apenergy.2015.07.023</td>\n",
       "      <td>2015.0</td>\n",
       "      <td>CCS; China; CO2 storage potential; Integrated ...</td>\n",
       "      <td>Article</td>\n",
       "      <td>WOS:000364249200020</td>\n",
       "      <td>J</td>\n",
       "      <td>NaN</td>\n",
       "      <td>10.1016/j.apenergy.2015.07.023</td>\n",
       "      <td>Prospects of carbon capture and storage (CCS) ...</td>\n",
       "      <td>objective the aim of the present article is to...</td>\n",
       "      <td>objective the aim of the present article is to...</td>\n",
       "      <td>NaN</td>\n",
       "    </tr>\n",
       "  </tbody>\n",
       "</table>\n",
       "</div>"
      ],
      "text/plain": [
       "                                                beg_abs  \\\n",
       "2193  objective the aim of the present article is to...   \n",
       "\n",
       "                                               abstract  \\\n",
       "2193  Objective: The aim of the present article is t...   \n",
       "\n",
       "                                           prepro_title  \\\n",
       "2193  prospects of carbon capture and storage ccs in...   \n",
       "\n",
       "                                  prepro_title_wo_punct       scopus_number  \\\n",
       "2193  prospects of carbon capture and storage ccs in...  2-s2.0-84939800728   \n",
       "\n",
       "                                                  title  \\\n",
       "2193  Prospects of carbon capture and storage (CCS) ...   \n",
       "\n",
       "                                  authors          source  \\\n",
       "2193  Viebahn P., Vallentin D., Höller S.  Applied Energy   \n",
       "\n",
       "                                 doi  publication_year  \\\n",
       "2193  10.1016/j.apenergy.2015.07.023            2015.0   \n",
       "\n",
       "                                        author_keywords docu_type  \\\n",
       "2193  CCS; China; CO2 storage potential; Integrated ...   Article   \n",
       "\n",
       "               WOS_number doc_type  email                         low_doi  \\\n",
       "2193  WOS:000364249200020        J    NaN  10.1016/j.apenergy.2015.07.023   \n",
       "\n",
       "                                              title_red  \\\n",
       "2193  Prospects of carbon capture and storage (CCS) ...   \n",
       "\n",
       "                                             prepro_abs  \\\n",
       "2193  objective the aim of the present article is to...   \n",
       "\n",
       "                                            beg_abs_200 (3442,)  \n",
       "2193  objective the aim of the present article is to...     NaN  "
      ]
     },
     "execution_count": 29,
     "metadata": {},
     "output_type": "execute_result"
    }
   ],
   "source": [
    "df_deb_last = df.loc[df.beg_abs_200.duplicated(keep='last')]\n",
    "df_deb_last"
   ]
  },
  {
   "cell_type": "markdown",
   "metadata": {},
   "source": [
    "### Sorting dataframe"
   ]
  },
  {
   "cell_type": "code",
   "execution_count": 30,
   "metadata": {},
   "outputs": [],
   "source": [
    "df.sort_values(by = ['publication_year','title'], ascending = [False,True], inplace = True)\n",
    "df['d_type'] = df.docu_type.combine_first(df.doc_type)\n",
    "col = ['title','authors','source','doi','d_type','abstract','publication_year','horizon_year','author_keywords','scopus_number','WOS_number','prepro_title']\n",
    "df = df.reindex(columns=col)"
   ]
  },
  {
   "cell_type": "code",
   "execution_count": 31,
   "metadata": {},
   "outputs": [
    {
     "name": "stdout",
     "output_type": "stream",
     "text": [
      "4720 X 12 dataframe\n"
     ]
    }
   ],
   "source": [
    "print( \"%d X %d dataframe\" % (len(df), len(df.columns) ))"
   ]
  },
  {
   "cell_type": "markdown",
   "metadata": {},
   "source": [
    "### Counting papers from Scopus and WOS"
   ]
  },
  {
   "cell_type": "code",
   "execution_count": 32,
   "metadata": {},
   "outputs": [
    {
     "name": "stdout",
     "output_type": "stream",
     "text": [
      "951 papers only on Scopus\n",
      "585 papers only on WOS\n",
      "3184 papers on both Scopus and WOS\n"
     ]
    }
   ],
   "source": [
    "df_only_scop = df[df.scopus_number.notnull() & df.WOS_number.isnull()].copy()\n",
    "print(\"%d papers only on Scopus\" % len(df_only_scop) )\n",
    "\n",
    "df_only_WOS = df[df.scopus_number.isnull() & df.WOS_number.notnull()].copy()\n",
    "print(\"%d papers only on WOS\" % len(df_only_WOS) )\n",
    "\n",
    "df_both = df[df.scopus_number.notnull() & df.WOS_number.notnull()].copy()\n",
    "print(\"%d papers on both Scopus and WOS\" % len(df_both) )"
   ]
  },
  {
   "cell_type": "markdown",
   "metadata": {},
   "source": [
    "### Storing dataframe"
   ]
  },
  {
   "cell_type": "code",
   "execution_count": 33,
   "metadata": {},
   "outputs": [],
   "source": [
    "df.to_excel(\"fusion_scop_wos.xlsx\")"
   ]
  },
  {
   "cell_type": "code",
   "execution_count": 34,
   "metadata": {},
   "outputs": [
    {
     "data": {
      "text/plain": [
       "['df_for_analysis.pkl']"
      ]
     },
     "execution_count": 34,
     "metadata": {},
     "output_type": "execute_result"
    }
   ],
   "source": [
    "joblib.dump((df), \"df_for_analysis.pkl\") "
   ]
  }
 ],
 "metadata": {
  "kernelspec": {
   "display_name": "Python 3",
   "language": "python",
   "name": "python3"
  },
  "language_info": {
   "codemirror_mode": {
    "name": "ipython",
    "version": 3
   },
   "file_extension": ".py",
   "mimetype": "text/x-python",
   "name": "python",
   "nbconvert_exporter": "python",
   "pygments_lexer": "ipython3",
   "version": "3.7.0"
  }
 },
 "nbformat": 4,
 "nbformat_minor": 2
}
