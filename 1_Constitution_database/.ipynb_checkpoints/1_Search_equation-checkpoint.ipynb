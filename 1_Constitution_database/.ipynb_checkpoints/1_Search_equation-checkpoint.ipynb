{
 "cells": [
  {
   "cell_type": "code",
   "execution_count": 1,
   "metadata": {},
   "outputs": [],
   "source": [
    "import pandas as pd"
   ]
  },
  {
   "cell_type": "markdown",
   "metadata": {},
   "source": [
    "### Loading countries database\n",
    "Based on https://unstats.un.org/unsd/methodology/m49/overview/"
   ]
  },
  {
   "cell_type": "code",
   "execution_count": 2,
   "metadata": {},
   "outputs": [],
   "source": [
    "UNSD_Path = \"../0_Reference_files/UNSD_database.csv\"\n",
    "countries_df = pd.read_csv(UNSD_Path, encoding='utf-8')\n",
    "countries_list = countries_df['Country0'].tolist()\n",
    "demonym1_list = countries_df[countries_df['Demonym1'].notnull()].Demonym1.tolist()\n",
    "demonym2_list = countries_df[countries_df['Demonym2'].notnull()].Demonym2.tolist()\n",
    "geo_list = countries_list + demonym1_list + demonym2_list"
   ]
  },
  {
   "cell_type": "markdown",
   "metadata": {},
   "source": [
    "### Equation on WOS"
   ]
  },
  {
   "cell_type": "code",
   "execution_count": 3,
   "metadata": {},
   "outputs": [],
   "source": [
    "charact = 'TI=('\n",
    "for country in geo_list[:-1]: \n",
    "    charact += '\"'+ str(country)+ '\" OR '\n",
    "charact += '\"' + str(geo_list[-1]) + '\") AND '"
   ]
  },
  {
   "cell_type": "code",
   "execution_count": 4,
   "metadata": {},
   "outputs": [],
   "source": [
    "charact += 'TS =((\"mitigation\" OR \"low carbon\" OR \"decarboni*ation\" OR ((\"carbon\" OR \"CO2\" OR \"GHG\" OR \"greenhouse gas\" OR \"emission*\") NEAR/3 \"reduc*\")) AND (' \n",
    "for k in range (2025, 2100): \n",
    "    charact += '\"'+ str(k)+ '\" OR '\n",
    "charact += ' \"2100\"))' "
   ]
  },
  {
   "cell_type": "code",
   "execution_count": 5,
   "metadata": {},
   "outputs": [
    {
     "data": {
      "text/plain": [
       "'TI=(\"Algeria\" OR \"Egypt\" OR \"Libya\" OR \"Morocco\" OR \"Sudan\" OR \"Tunisia\" OR \"Western Sahara\" OR \"British Indian Ocean Territory\" OR \"Burundi\" OR \"Comoros\" OR \"Djibouti\" OR \"Eritrea\" OR \"Ethiopia\" OR \"French Southern Territories\" OR \"Kenya\" OR \"Madagascar\" OR \"Malawi\" OR \"Mauritius\" OR \"Mayotte\" OR \"Mozambique\" OR \"Réunion\" OR \"Reunion\" OR \"Rwanda\" OR \"Seychelles\" OR \"Somalia\" OR \"South Sudan\" OR \"Uganda\" OR \"United Republic of Tanzania\" OR \"Tanzania\" OR \"Zambia\" OR \"Zimbabwe\" OR \"Angola\" OR \"Cameroon\" OR \"Central African Republic\" OR \"Chad\" OR \"Congo\" OR \"Democratic Republic of the Congo\" OR \"Equatorial Guinea\" OR \"Gabon\" OR \"Sao Tome and Principe\" OR \"Botswana\" OR \"Eswatini\" OR \"Lesotho\" OR \"Namibia\" OR \"South Africa\" OR \"Benin\" OR \"Burkina Faso\" OR \"Cabo Verde\" OR \"Côte d\\'Ivoire\" OR \"Ivory Coast\" OR \"Gambia\" OR \"Ghana\" OR \"Guinea\" OR \"Guinea-Bissau\" OR \"Liberia\" OR \"Mali\" OR \"Mauritania\" OR \"Niger\" OR \"Nigeria\" OR \"Saint Helena\" OR \"Senegal\" OR \"Sierra Leone\" OR \"Togo\" OR \"Anguilla\" OR \"Antigua and Barbuda\" OR \"Aruba\" OR \"Bahamas\" OR \"Barbados\" OR \"British Virgin Islands\" OR \"Cayman Islands\" OR \"Cuba\" OR \"Curaçao\" OR \"Dominica\" OR \"Dominican Republic\" OR \"Grenada\" OR \"Guadeloupe\" OR \"Haiti\" OR \"Jamaica\" OR \"Martinique\" OR \"Montserrat\" OR \"Puerto Rico\" OR \"Saint Barthélemy\" OR \"Saint Kitts and Nevis\" OR \"Saint Lucia\" OR \"Saint Martin\" OR \"Saint Vincent and the Grenadines\" OR \"Sint Maarten\" OR \"Trinidad and Tobago\" OR \"Turks and Caicos Islands\" OR \"United States Virgin Islands\" OR \"Belize\" OR \"Costa Rica\" OR \"El Salvador\" OR \"Guatemala\" OR \"Honduras\" OR \"Mexico\" OR \"Nicaragua\" OR \"Panama\" OR \"Argentina\" OR \"Bolivia\" OR \"Bouvet Island\" OR \"Brazil\" OR \"Chile\" OR \"Colombia\" OR \"Ecuador\" OR \"Falkland Islands\" OR \"French Guiana\" OR \"Guyana\" OR \"Paraguay\" OR \"Peru\" OR \"South Georgia and the South Sandwich Islands\" OR \"Suriname\" OR \"Uruguay\" OR \"Venezuela\" OR \"Bermuda\" OR \"Canada\" OR \"Greenland\" OR \"Saint Pierre and Miquelon\" OR \"United States\" OR \"USA\" OR \"U.S.\" OR \"US\" OR \"Antarctica\" OR \"Kazakhstan\" OR \"Kyrgyzstan\" OR \"Tajikistan\" OR \"Turkmenistan\" OR \"Uzbekistan\" OR \"China\" OR \"Hong Kong\" OR \"Macao\" OR \"Democratic People\\'s Republic of Korea\" OR \"Japan\" OR \"Mongolia\" OR \"Korea\" OR \"Brunei Darussalam\" OR \"Cambodia\" OR \"Indonesia\" OR \"Lao People\\'s Democratic Republic\" OR \"Malaysia\" OR \"Myanmar\" OR \"Philippines\" OR \"Singapore\" OR \"Thailand\" OR \"Timor-Leste\" OR \"Viet Nam\" OR \"Vietnam\" OR \"Afghanistan\" OR \"Bangladesh\" OR \"Bhutan\" OR \"India\" OR \"Iran\" OR \"Maldives\" OR \"Nepal\" OR \"Pakistan\" OR \"Sri Lanka\" OR \"Armenia\" OR \"Azerbaijan\" OR \"Bahrain\" OR \"Cyprus\" OR \"Georgia\" OR \"Iraq\" OR \"Israel\" OR \"Jordan\" OR \"Kuwait\" OR \"Lebanon\" OR \"Oman\" OR \"Qatar\" OR \"Saudi Arabia\" OR \"Palestine\" OR \"Syria\" OR \"Turkey\" OR \"United Arab Emirates\" OR \"Yemen\" OR \"Belarus\" OR \"Bulgaria\" OR \"Czechia\" OR \"Hungary\" OR \"Poland\" OR \"Moldova\" OR \"Romania\" OR \"Russian Federation\" OR \"Russia\" OR \"Slovakia\" OR \"Ukraine\" OR \"Aland Islands\" OR \"Guernsey\" OR \"Jersey\" OR \"Denmark\" OR \"Estonia\" OR \"Faroe Islands\" OR \"Finland\" OR \"Iceland\" OR \"Ireland\" OR \"Isle of Man\" OR \"Latvia\" OR \"Lithuania\" OR \"Norway\" OR \"Svalbard and Jan Mayen Islands\" OR \"Sweden\" OR \"United Kingdom\" OR \"UK\" OR \"Scotland\" OR \"Albania\" OR \"Andorra\" OR \"Bosnia and Herzegovina\" OR \"Croatia\" OR \"Gibraltar\" OR \"Greece\" OR \"Holy See\" OR \"Italy\" OR \"Malta\" OR \"Montenegro\" OR \"North Macedonia\" OR \"Portugal\" OR \"San Marino\" OR \"Serbia\" OR \"Slovenia\" OR \"Spain\" OR \"Austria\" OR \"Belgium\" OR \"France\" OR \"Germany\" OR \"Liechtenstein\" OR \"Luxembourg\" OR \"Monaco\" OR \"Netherlands\" OR \"Switzerland\" OR \"Australia\" OR \"Christmas Island\" OR \"Cocos Islands\" OR \"Heard Island\" OR \"New Zealand\" OR \"Norfolk Island\" OR \"Fiji\" OR \"New Caledonia\" OR \"Papua New Guinea\" OR \"Solomon Islands\" OR \"Vanuatu\" OR \"Guam\" OR \"Kiribati\" OR \"Marshall Islands\" OR \"Micronesia\" OR \"Nauru\" OR \"Northern Mariana Islands\" OR \"Palau\" OR \"United States Minor Outlying Islands\" OR \"American Samoa\" OR \"Cook Islands\" OR \"French Polynesia\" OR \"Niue\" OR \"Pitcairn\" OR \"Samoa\" OR \"Tokelau\" OR \"Tonga\" OR \"Tuvalu\" OR \"Wallis and Futuna Islands\" OR \"European Union\" OR \"EU\" OR \"Algerian\" OR \"Egyptian\" OR \"Libyan\" OR \"Moroccan\" OR \"Sudanese\" OR \"Tunisian\" OR \"Burundian\" OR \"Comoran\" OR \"Djiboutian\" OR \"Eritrean\" OR \"Ethiopian\" OR \"Kenyan\" OR \"Malagasy\" OR \"Malawian\" OR \"Mauritian\" OR \"Mozambican\" OR \"Rwandan\" OR \"Seychellois\" OR \"Somali\" OR \"South Sudanese\" OR \"Ugandan\" OR \"Tanzanian\" OR \"Zambian\" OR \"Zimbabwean\" OR \"Angolan\" OR \"Cameroonian\" OR \"Central African\" OR \"Chadian\" OR \"Congolese\" OR \"Equatorial Guinean, Equatoguinean\" OR \"Gabonese\" OR \"Motswana\" OR \"Basotho\" OR \"Namibian\" OR \"South African\" OR \"Beninese, Beninois\" OR \"Burkinabé\" OR \"Ivorian\" OR \"Gambian\" OR \"Ghanaian\" OR \"Guinean\" OR \"Bissau-Guinean\" OR \"Liberian\" OR \"Malian\" OR \"Mauritanian\" OR \"Nigerien\" OR \"Nigerian\" OR \"Senegalese\" OR \"Sierra Leonean\" OR \"Togolese\" OR \"Antiguan\" OR \"Barbadian\" OR \"Cuban\" OR \"Dominican\" OR \"Dominican\" OR \"Grenadian\" OR \"Guadeloupeen\" OR \"Haitian\" OR \"Jamaican\" OR \"Martiniquais\" OR \"Puerto Rican\" OR \"Kittitian\" OR \"Saint Lucian\" OR \"Vincentian\" OR \"Trinidadian\" OR \"Belizean\" OR \"Costa Rican\" OR \"Salvadoran\" OR \"Guatemalan\" OR \"Honduran\" OR \"Mexican\" OR \"Nicaraguan\" OR \"Panamanian\" OR \"Argentine\" OR \"Bolivian\" OR \"Brazilian\" OR \"Chilean\" OR \"Colombian\" OR \"Ecuadorian\" OR \"Guyanese\" OR \"Paraguayan\" OR \"Peruvian\" OR \"Surinamese\" OR \"Uruguayan\" OR \"Venezuelan\" OR \"Canadian\" OR \"Kazakhstani\" OR \"Kyrgyz\" OR \"Tajikistani\" OR \"Turkmen\" OR \"Uzbekistani\" OR \"Chinese\" OR \"Japanese\" OR \"Mongolian\" OR \"Korean\" OR \"Cambodian\" OR \"Indonesian\" OR \"Lao\" OR \"Malaysian\" OR \"Filipino\" OR \"Singaporean\" OR \"Thai\" OR \"Timorese\" OR \"Vietnamese\" OR \"Afghan\" OR \"Bengali\" OR \"Bhutanese\" OR \"Indian\" OR \"Iranian\" OR \"Maldivian\" OR \"Nepali\" OR \"Pakistani\" OR \"Sri Lankan\" OR \"Armenian\" OR \"Azerbaijani\" OR \"Bahraini\" OR \"Cypriot\" OR \"Georgian\" OR \"Iraqi\" OR \"Israeli\" OR \"Jordanian\" OR \"Kuwaiti\" OR \"Lebanese\" OR \"Omani\" OR \"Qatari\" OR \"Saudi\" OR \"Palestinian\" OR \"Syrian\" OR \"Turkish\" OR \"Emirati\" OR \"Yemeni\" OR \"Belarusian\" OR \"Bulgarian\" OR \"Czech\" OR \"Hungarian\" OR \"Polish\" OR \"Moldovan\" OR \"Romanian\" OR \"Russian\" OR \"Slovak\" OR \"Ukrainian\" OR \"Danish\" OR \"Estonian\" OR \"Finnish\" OR \"Icelandic\" OR \"Irish\" OR \"Latvian\" OR \"Lithuanian\" OR \"Norwegian\" OR \"Swedish\" OR \"British\" OR \"Scottish\" OR \"Albanian\" OR \"Andorran\" OR \"Bosnian\" OR \"Croatian\" OR \"Gibraltar\" OR \"Greek\" OR \"Italian\" OR \"Maltese\" OR \"Montenegrin\" OR \"Portuguese\" OR \"Sammarinese\" OR \"Serbian\" OR \"Slovenian\" OR \"Spanish\" OR \"Austrian\" OR \"Belgian\" OR \"French\" OR \"German\" OR \"Liechtensteiner\" OR \"Luxembourgish\" OR \"Monégasque\" OR \"Dutch\" OR \"Swiss\" OR \"Australian\" OR \"Zelanian\" OR \"Fijian\" OR \"Papua New Guinean\" OR \"Solomon Island\" OR \"Ni-Vanuatu\" OR \"I-Kiribati\" OR \"Marshallese\" OR \"Nauruan\" OR \"Northern Marianan\" OR \"Palauan\" OR \"Samoan\" OR \"Tokelauan\" OR \"Tongan\" OR \"Tuvaluan\" OR \"Comorian\" OR \"Equatorial Guinean, Equatoguinean\" OR \"Botswanan\" OR \"Beninois\" OR \"Malinese\" OR \"Barbudan\" OR \"Martinican\" OR \"Nevisian\" OR \"Tobagonian\" OR \"Kazakh\" OR \"Kirgiz\" OR \"Uzbek\" OR \"Philippine\" OR \"Persian\" OR \"Nepalese\" OR \"Azeri\" OR \"Saudi Arabian\" OR \"Emiri\" OR \"Magyar\" OR \"Lettish\" OR \"Herzegovinian\" OR \"Hellenic\" OR \"Slovene\" OR \"Monacan\" OR \"Netherlandic\" OR \"Papuan\" OR \"Vanuatuan\") AND TS =((\"mitigation\" OR \"low carbon\" OR \"decarboni*ation\" OR ((\"carbon\" OR \"CO2\" OR \"GHG\" OR \"greenhouse gas\" OR \"emission*\") NEAR/3 \"reduc*\")) AND (\"2025\" OR \"2026\" OR \"2027\" OR \"2028\" OR \"2029\" OR \"2030\" OR \"2031\" OR \"2032\" OR \"2033\" OR \"2034\" OR \"2035\" OR \"2036\" OR \"2037\" OR \"2038\" OR \"2039\" OR \"2040\" OR \"2041\" OR \"2042\" OR \"2043\" OR \"2044\" OR \"2045\" OR \"2046\" OR \"2047\" OR \"2048\" OR \"2049\" OR \"2050\" OR \"2051\" OR \"2052\" OR \"2053\" OR \"2054\" OR \"2055\" OR \"2056\" OR \"2057\" OR \"2058\" OR \"2059\" OR \"2060\" OR \"2061\" OR \"2062\" OR \"2063\" OR \"2064\" OR \"2065\" OR \"2066\" OR \"2067\" OR \"2068\" OR \"2069\" OR \"2070\" OR \"2071\" OR \"2072\" OR \"2073\" OR \"2074\" OR \"2075\" OR \"2076\" OR \"2077\" OR \"2078\" OR \"2079\" OR \"2080\" OR \"2081\" OR \"2082\" OR \"2083\" OR \"2084\" OR \"2085\" OR \"2086\" OR \"2087\" OR \"2088\" OR \"2089\" OR \"2090\" OR \"2091\" OR \"2092\" OR \"2093\" OR \"2094\" OR \"2095\" OR \"2096\" OR \"2097\" OR \"2098\" OR \"2099\" OR  \"2100\"))'"
      ]
     },
     "execution_count": 5,
     "metadata": {},
     "output_type": "execute_result"
    }
   ],
   "source": [
    "charact"
   ]
  },
  {
   "cell_type": "markdown",
   "metadata": {},
   "source": [
    "### Equation on Scopus \n",
    "As the metadata can be downloaded by batch of maximum 2000 publications, we cut the search query in three groups of countries/demonyms. "
   ]
  },
  {
   "cell_type": "code",
   "execution_count": 6,
   "metadata": {},
   "outputs": [],
   "source": [
    "charact_sco1 = 'TITLE('\n",
    "for country in geo_list[:129]: \n",
    "    charact_sco1 += '\"'+ str(country)+ '\" OR '\n",
    "charact_sco1 += '\"' + str(geo_list[130]) + '\") AND '"
   ]
  },
  {
   "cell_type": "code",
   "execution_count": 7,
   "metadata": {},
   "outputs": [],
   "source": [
    "charact_sco1 += 'TITLE-ABS-KEY((\"mitigation\" OR \"low carbon\" OR \"decarboni*ation\" OR ((\"carbon\" OR \"CO2\" OR \"GHG\" OR \"greenhouse gas\" OR \"emission*\") W/3 \"reduc*\")) AND (' \n",
    "for k in range (2025, 2100): \n",
    "    charact_sco1 += '\"'+ str(k)+ '\" OR '\n",
    "charact_sco1 += ' \"2100\"))' "
   ]
  },
  {
   "cell_type": "code",
   "execution_count": 8,
   "metadata": {},
   "outputs": [
    {
     "data": {
      "text/plain": [
       "476"
      ]
     },
     "execution_count": 8,
     "metadata": {},
     "output_type": "execute_result"
    }
   ],
   "source": [
    "len(geo_list)"
   ]
  },
  {
   "cell_type": "code",
   "execution_count": 9,
   "metadata": {},
   "outputs": [
    {
     "data": {
      "text/plain": [
       "'TITLE(\"Algeria\" OR \"Egypt\" OR \"Libya\" OR \"Morocco\" OR \"Sudan\" OR \"Tunisia\" OR \"Western Sahara\" OR \"British Indian Ocean Territory\" OR \"Burundi\" OR \"Comoros\" OR \"Djibouti\" OR \"Eritrea\" OR \"Ethiopia\" OR \"French Southern Territories\" OR \"Kenya\" OR \"Madagascar\" OR \"Malawi\" OR \"Mauritius\" OR \"Mayotte\" OR \"Mozambique\" OR \"Réunion\" OR \"Reunion\" OR \"Rwanda\" OR \"Seychelles\" OR \"Somalia\" OR \"South Sudan\" OR \"Uganda\" OR \"United Republic of Tanzania\" OR \"Tanzania\" OR \"Zambia\" OR \"Zimbabwe\" OR \"Angola\" OR \"Cameroon\" OR \"Central African Republic\" OR \"Chad\" OR \"Congo\" OR \"Democratic Republic of the Congo\" OR \"Equatorial Guinea\" OR \"Gabon\" OR \"Sao Tome and Principe\" OR \"Botswana\" OR \"Eswatini\" OR \"Lesotho\" OR \"Namibia\" OR \"South Africa\" OR \"Benin\" OR \"Burkina Faso\" OR \"Cabo Verde\" OR \"Côte d\\'Ivoire\" OR \"Ivory Coast\" OR \"Gambia\" OR \"Ghana\" OR \"Guinea\" OR \"Guinea-Bissau\" OR \"Liberia\" OR \"Mali\" OR \"Mauritania\" OR \"Niger\" OR \"Nigeria\" OR \"Saint Helena\" OR \"Senegal\" OR \"Sierra Leone\" OR \"Togo\" OR \"Anguilla\" OR \"Antigua and Barbuda\" OR \"Aruba\" OR \"Bahamas\" OR \"Barbados\" OR \"British Virgin Islands\" OR \"Cayman Islands\" OR \"Cuba\" OR \"Curaçao\" OR \"Dominica\" OR \"Dominican Republic\" OR \"Grenada\" OR \"Guadeloupe\" OR \"Haiti\" OR \"Jamaica\" OR \"Martinique\" OR \"Montserrat\" OR \"Puerto Rico\" OR \"Saint Barthélemy\" OR \"Saint Kitts and Nevis\" OR \"Saint Lucia\" OR \"Saint Martin\" OR \"Saint Vincent and the Grenadines\" OR \"Sint Maarten\" OR \"Trinidad and Tobago\" OR \"Turks and Caicos Islands\" OR \"United States Virgin Islands\" OR \"Belize\" OR \"Costa Rica\" OR \"El Salvador\" OR \"Guatemala\" OR \"Honduras\" OR \"Mexico\" OR \"Nicaragua\" OR \"Panama\" OR \"Argentina\" OR \"Bolivia\" OR \"Bouvet Island\" OR \"Brazil\" OR \"Chile\" OR \"Colombia\" OR \"Ecuador\" OR \"Falkland Islands\" OR \"French Guiana\" OR \"Guyana\" OR \"Paraguay\" OR \"Peru\" OR \"South Georgia and the South Sandwich Islands\" OR \"Suriname\" OR \"Uruguay\" OR \"Venezuela\" OR \"Bermuda\" OR \"Canada\" OR \"Greenland\" OR \"Saint Pierre and Miquelon\" OR \"United States\" OR \"USA\" OR \"U.S.\" OR \"US\" OR \"Antarctica\" OR \"Kazakhstan\" OR \"Kyrgyzstan\" OR \"Tajikistan\" OR \"Turkmenistan\" OR \"Uzbekistan\" OR \"China\" OR \"Macao\") AND TITLE-ABS-KEY((\"mitigation\" OR \"low carbon\" OR \"decarboni*ation\" OR ((\"carbon\" OR \"CO2\" OR \"GHG\" OR \"greenhouse gas\" OR \"emission*\") W/3 \"reduc*\")) AND (\"2025\" OR \"2026\" OR \"2027\" OR \"2028\" OR \"2029\" OR \"2030\" OR \"2031\" OR \"2032\" OR \"2033\" OR \"2034\" OR \"2035\" OR \"2036\" OR \"2037\" OR \"2038\" OR \"2039\" OR \"2040\" OR \"2041\" OR \"2042\" OR \"2043\" OR \"2044\" OR \"2045\" OR \"2046\" OR \"2047\" OR \"2048\" OR \"2049\" OR \"2050\" OR \"2051\" OR \"2052\" OR \"2053\" OR \"2054\" OR \"2055\" OR \"2056\" OR \"2057\" OR \"2058\" OR \"2059\" OR \"2060\" OR \"2061\" OR \"2062\" OR \"2063\" OR \"2064\" OR \"2065\" OR \"2066\" OR \"2067\" OR \"2068\" OR \"2069\" OR \"2070\" OR \"2071\" OR \"2072\" OR \"2073\" OR \"2074\" OR \"2075\" OR \"2076\" OR \"2077\" OR \"2078\" OR \"2079\" OR \"2080\" OR \"2081\" OR \"2082\" OR \"2083\" OR \"2084\" OR \"2085\" OR \"2086\" OR \"2087\" OR \"2088\" OR \"2089\" OR \"2090\" OR \"2091\" OR \"2092\" OR \"2093\" OR \"2094\" OR \"2095\" OR \"2096\" OR \"2097\" OR \"2098\" OR \"2099\" OR  \"2100\"))'"
      ]
     },
     "execution_count": 9,
     "metadata": {},
     "output_type": "execute_result"
    }
   ],
   "source": [
    "charact_sco1"
   ]
  },
  {
   "cell_type": "code",
   "execution_count": 10,
   "metadata": {},
   "outputs": [],
   "source": [
    "charact_sco2 = 'TITLE('\n",
    "for country in geo_list[131:299]: \n",
    "    charact_sco2 += '\"'+ str(country)+ '\" OR '\n",
    "charact_sco2 += '\"' + str(geo_list[300]) + '\") AND '"
   ]
  },
  {
   "cell_type": "code",
   "execution_count": 11,
   "metadata": {},
   "outputs": [],
   "source": [
    "charact_sco2 += 'TITLE-ABS-KEY((\"mitigation\" OR \"low carbon\" OR \"decarboni*ation\" OR ((\"carbon\" OR \"CO2\" OR \"GHG\" OR \"greenhouse gas\" OR \"emission*\") W/3 \"reduc*\")) AND (' \n",
    "for k in range (2025, 2100): \n",
    "    charact_sco2 += '\"'+ str(k)+ '\" OR '\n",
    "charact_sco2 += ' \"2100\"))' "
   ]
  },
  {
   "cell_type": "code",
   "execution_count": 12,
   "metadata": {
    "scrolled": true
   },
   "outputs": [
    {
     "data": {
      "text/plain": [
       "'TITLE(\"Democratic People\\'s Republic of Korea\" OR \"Japan\" OR \"Mongolia\" OR \"Korea\" OR \"Brunei Darussalam\" OR \"Cambodia\" OR \"Indonesia\" OR \"Lao People\\'s Democratic Republic\" OR \"Malaysia\" OR \"Myanmar\" OR \"Philippines\" OR \"Singapore\" OR \"Thailand\" OR \"Timor-Leste\" OR \"Viet Nam\" OR \"Vietnam\" OR \"Afghanistan\" OR \"Bangladesh\" OR \"Bhutan\" OR \"India\" OR \"Iran\" OR \"Maldives\" OR \"Nepal\" OR \"Pakistan\" OR \"Sri Lanka\" OR \"Armenia\" OR \"Azerbaijan\" OR \"Bahrain\" OR \"Cyprus\" OR \"Georgia\" OR \"Iraq\" OR \"Israel\" OR \"Jordan\" OR \"Kuwait\" OR \"Lebanon\" OR \"Oman\" OR \"Qatar\" OR \"Saudi Arabia\" OR \"Palestine\" OR \"Syria\" OR \"Turkey\" OR \"United Arab Emirates\" OR \"Yemen\" OR \"Belarus\" OR \"Bulgaria\" OR \"Czechia\" OR \"Hungary\" OR \"Poland\" OR \"Moldova\" OR \"Romania\" OR \"Russian Federation\" OR \"Russia\" OR \"Slovakia\" OR \"Ukraine\" OR \"Aland Islands\" OR \"Guernsey\" OR \"Jersey\" OR \"Denmark\" OR \"Estonia\" OR \"Faroe Islands\" OR \"Finland\" OR \"Iceland\" OR \"Ireland\" OR \"Isle of Man\" OR \"Latvia\" OR \"Lithuania\" OR \"Norway\" OR \"Svalbard and Jan Mayen Islands\" OR \"Sweden\" OR \"United Kingdom\" OR \"UK\" OR \"Scotland\" OR \"Albania\" OR \"Andorra\" OR \"Bosnia and Herzegovina\" OR \"Croatia\" OR \"Gibraltar\" OR \"Greece\" OR \"Holy See\" OR \"Italy\" OR \"Malta\" OR \"Montenegro\" OR \"North Macedonia\" OR \"Portugal\" OR \"San Marino\" OR \"Serbia\" OR \"Slovenia\" OR \"Spain\" OR \"Austria\" OR \"Belgium\" OR \"France\" OR \"Germany\" OR \"Liechtenstein\" OR \"Luxembourg\" OR \"Monaco\" OR \"Netherlands\" OR \"Switzerland\" OR \"Australia\" OR \"Christmas Island\" OR \"Cocos Islands\" OR \"Heard Island\" OR \"New Zealand\" OR \"Norfolk Island\" OR \"Fiji\" OR \"New Caledonia\" OR \"Papua New Guinea\" OR \"Solomon Islands\" OR \"Vanuatu\" OR \"Guam\" OR \"Kiribati\" OR \"Marshall Islands\" OR \"Micronesia\" OR \"Nauru\" OR \"Northern Mariana Islands\" OR \"Palau\" OR \"United States Minor Outlying Islands\" OR \"American Samoa\" OR \"Cook Islands\" OR \"French Polynesia\" OR \"Niue\" OR \"Pitcairn\" OR \"Samoa\" OR \"Tokelau\" OR \"Tonga\" OR \"Tuvalu\" OR \"Wallis and Futuna Islands\" OR \"European Union\" OR \"EU\" OR \"Algerian\" OR \"Egyptian\" OR \"Libyan\" OR \"Moroccan\" OR \"Sudanese\" OR \"Tunisian\" OR \"Burundian\" OR \"Comoran\" OR \"Djiboutian\" OR \"Eritrean\" OR \"Ethiopian\" OR \"Kenyan\" OR \"Malagasy\" OR \"Malawian\" OR \"Mauritian\" OR \"Mozambican\" OR \"Rwandan\" OR \"Seychellois\" OR \"Somali\" OR \"South Sudanese\" OR \"Ugandan\" OR \"Tanzanian\" OR \"Zambian\" OR \"Zimbabwean\" OR \"Angolan\" OR \"Cameroonian\" OR \"Central African\" OR \"Chadian\" OR \"Congolese\" OR \"Equatorial Guinean, Equatoguinean\" OR \"Gabonese\" OR \"Motswana\" OR \"Basotho\" OR \"Namibian\" OR \"South African\" OR \"Beninese, Beninois\" OR \"Burkinabé\" OR \"Ivorian\" OR \"Gambian\" OR \"Ghanaian\" OR \"Bissau-Guinean\") AND TITLE-ABS-KEY((\"mitigation\" OR \"low carbon\" OR \"decarboni*ation\" OR ((\"carbon\" OR \"CO2\" OR \"GHG\" OR \"greenhouse gas\" OR \"emission*\") W/3 \"reduc*\")) AND (\"2025\" OR \"2026\" OR \"2027\" OR \"2028\" OR \"2029\" OR \"2030\" OR \"2031\" OR \"2032\" OR \"2033\" OR \"2034\" OR \"2035\" OR \"2036\" OR \"2037\" OR \"2038\" OR \"2039\" OR \"2040\" OR \"2041\" OR \"2042\" OR \"2043\" OR \"2044\" OR \"2045\" OR \"2046\" OR \"2047\" OR \"2048\" OR \"2049\" OR \"2050\" OR \"2051\" OR \"2052\" OR \"2053\" OR \"2054\" OR \"2055\" OR \"2056\" OR \"2057\" OR \"2058\" OR \"2059\" OR \"2060\" OR \"2061\" OR \"2062\" OR \"2063\" OR \"2064\" OR \"2065\" OR \"2066\" OR \"2067\" OR \"2068\" OR \"2069\" OR \"2070\" OR \"2071\" OR \"2072\" OR \"2073\" OR \"2074\" OR \"2075\" OR \"2076\" OR \"2077\" OR \"2078\" OR \"2079\" OR \"2080\" OR \"2081\" OR \"2082\" OR \"2083\" OR \"2084\" OR \"2085\" OR \"2086\" OR \"2087\" OR \"2088\" OR \"2089\" OR \"2090\" OR \"2091\" OR \"2092\" OR \"2093\" OR \"2094\" OR \"2095\" OR \"2096\" OR \"2097\" OR \"2098\" OR \"2099\" OR  \"2100\"))'"
      ]
     },
     "execution_count": 12,
     "metadata": {},
     "output_type": "execute_result"
    }
   ],
   "source": [
    "charact_sco2"
   ]
  },
  {
   "cell_type": "code",
   "execution_count": 13,
   "metadata": {},
   "outputs": [],
   "source": [
    "charact_sco3 = 'TITLE('\n",
    "for country in geo_list[300:-2]: \n",
    "    charact_sco3 += '\"'+ str(country)+ '\" OR '\n",
    "charact_sco3 += '\"' + str(geo_list[-1]) + '\") AND '"
   ]
  },
  {
   "cell_type": "code",
   "execution_count": 14,
   "metadata": {},
   "outputs": [],
   "source": [
    "charact_sco3 += 'TITLE-ABS-KEY((\"mitigation\" OR \"low carbon\" OR \"decarboni*ation\" OR ((\"carbon\" OR \"CO2\" OR \"GHG\" OR \"greenhouse gas\" OR \"emission*\") W/3 \"reduc*\")) AND (' \n",
    "for k in range (2025, 2100): \n",
    "    charact_sco3 += '\"'+ str(k)+ '\" OR '\n",
    "charact_sco3 += ' \"2100\"))' "
   ]
  },
  {
   "cell_type": "code",
   "execution_count": 15,
   "metadata": {},
   "outputs": [
    {
     "data": {
      "text/plain": [
       "'TITLE(\"Bissau-Guinean\" OR \"Liberian\" OR \"Malian\" OR \"Mauritanian\" OR \"Nigerien\" OR \"Nigerian\" OR \"Senegalese\" OR \"Sierra Leonean\" OR \"Togolese\" OR \"Antiguan\" OR \"Barbadian\" OR \"Cuban\" OR \"Dominican\" OR \"Dominican\" OR \"Grenadian\" OR \"Guadeloupeen\" OR \"Haitian\" OR \"Jamaican\" OR \"Martiniquais\" OR \"Puerto Rican\" OR \"Kittitian\" OR \"Saint Lucian\" OR \"Vincentian\" OR \"Trinidadian\" OR \"Belizean\" OR \"Costa Rican\" OR \"Salvadoran\" OR \"Guatemalan\" OR \"Honduran\" OR \"Mexican\" OR \"Nicaraguan\" OR \"Panamanian\" OR \"Argentine\" OR \"Bolivian\" OR \"Brazilian\" OR \"Chilean\" OR \"Colombian\" OR \"Ecuadorian\" OR \"Guyanese\" OR \"Paraguayan\" OR \"Peruvian\" OR \"Surinamese\" OR \"Uruguayan\" OR \"Venezuelan\" OR \"Canadian\" OR \"Kazakhstani\" OR \"Kyrgyz\" OR \"Tajikistani\" OR \"Turkmen\" OR \"Uzbekistani\" OR \"Chinese\" OR \"Japanese\" OR \"Mongolian\" OR \"Korean\" OR \"Cambodian\" OR \"Indonesian\" OR \"Lao\" OR \"Malaysian\" OR \"Filipino\" OR \"Singaporean\" OR \"Thai\" OR \"Timorese\" OR \"Vietnamese\" OR \"Afghan\" OR \"Bengali\" OR \"Bhutanese\" OR \"Indian\" OR \"Iranian\" OR \"Maldivian\" OR \"Nepali\" OR \"Pakistani\" OR \"Sri Lankan\" OR \"Armenian\" OR \"Azerbaijani\" OR \"Bahraini\" OR \"Cypriot\" OR \"Georgian\" OR \"Iraqi\" OR \"Israeli\" OR \"Jordanian\" OR \"Kuwaiti\" OR \"Lebanese\" OR \"Omani\" OR \"Qatari\" OR \"Saudi\" OR \"Palestinian\" OR \"Syrian\" OR \"Turkish\" OR \"Emirati\" OR \"Yemeni\" OR \"Belarusian\" OR \"Bulgarian\" OR \"Czech\" OR \"Hungarian\" OR \"Polish\" OR \"Moldovan\" OR \"Romanian\" OR \"Russian\" OR \"Slovak\" OR \"Ukrainian\" OR \"Danish\" OR \"Estonian\" OR \"Finnish\" OR \"Icelandic\" OR \"Irish\" OR \"Latvian\" OR \"Lithuanian\" OR \"Norwegian\" OR \"Swedish\" OR \"British\" OR \"Scottish\" OR \"Albanian\" OR \"Andorran\" OR \"Bosnian\" OR \"Croatian\" OR \"Gibraltar\" OR \"Greek\" OR \"Italian\" OR \"Maltese\" OR \"Montenegrin\" OR \"Portuguese\" OR \"Sammarinese\" OR \"Serbian\" OR \"Slovenian\" OR \"Spanish\" OR \"Austrian\" OR \"Belgian\" OR \"French\" OR \"German\" OR \"Liechtensteiner\" OR \"Luxembourgish\" OR \"Monégasque\" OR \"Dutch\" OR \"Swiss\" OR \"Australian\" OR \"Zelanian\" OR \"Fijian\" OR \"Papua New Guinean\" OR \"Solomon Island\" OR \"Ni-Vanuatu\" OR \"I-Kiribati\" OR \"Marshallese\" OR \"Nauruan\" OR \"Northern Marianan\" OR \"Palauan\" OR \"Samoan\" OR \"Tokelauan\" OR \"Tongan\" OR \"Tuvaluan\" OR \"Comorian\" OR \"Equatorial Guinean, Equatoguinean\" OR \"Botswanan\" OR \"Beninois\" OR \"Malinese\" OR \"Barbudan\" OR \"Martinican\" OR \"Nevisian\" OR \"Tobagonian\" OR \"Kazakh\" OR \"Kirgiz\" OR \"Uzbek\" OR \"Philippine\" OR \"Persian\" OR \"Nepalese\" OR \"Azeri\" OR \"Saudi Arabian\" OR \"Emiri\" OR \"Magyar\" OR \"Lettish\" OR \"Herzegovinian\" OR \"Hellenic\" OR \"Slovene\" OR \"Monacan\" OR \"Netherlandic\" OR \"Vanuatuan\") AND TITLE-ABS-KEY((\"mitigation\" OR \"low carbon\" OR \"decarboni*ation\" OR ((\"carbon\" OR \"CO2\" OR \"GHG\" OR \"greenhouse gas\" OR \"emission*\") W/3 \"reduc*\")) AND (\"2025\" OR \"2026\" OR \"2027\" OR \"2028\" OR \"2029\" OR \"2030\" OR \"2031\" OR \"2032\" OR \"2033\" OR \"2034\" OR \"2035\" OR \"2036\" OR \"2037\" OR \"2038\" OR \"2039\" OR \"2040\" OR \"2041\" OR \"2042\" OR \"2043\" OR \"2044\" OR \"2045\" OR \"2046\" OR \"2047\" OR \"2048\" OR \"2049\" OR \"2050\" OR \"2051\" OR \"2052\" OR \"2053\" OR \"2054\" OR \"2055\" OR \"2056\" OR \"2057\" OR \"2058\" OR \"2059\" OR \"2060\" OR \"2061\" OR \"2062\" OR \"2063\" OR \"2064\" OR \"2065\" OR \"2066\" OR \"2067\" OR \"2068\" OR \"2069\" OR \"2070\" OR \"2071\" OR \"2072\" OR \"2073\" OR \"2074\" OR \"2075\" OR \"2076\" OR \"2077\" OR \"2078\" OR \"2079\" OR \"2080\" OR \"2081\" OR \"2082\" OR \"2083\" OR \"2084\" OR \"2085\" OR \"2086\" OR \"2087\" OR \"2088\" OR \"2089\" OR \"2090\" OR \"2091\" OR \"2092\" OR \"2093\" OR \"2094\" OR \"2095\" OR \"2096\" OR \"2097\" OR \"2098\" OR \"2099\" OR  \"2100\"))'"
      ]
     },
     "execution_count": 15,
     "metadata": {},
     "output_type": "execute_result"
    }
   ],
   "source": [
    "charact_sco3"
   ]
  }
 ],
 "metadata": {
  "kernelspec": {
   "display_name": "Python 3",
   "language": "python",
   "name": "python3"
  },
  "language_info": {
   "codemirror_mode": {
    "name": "ipython",
    "version": 3
   },
   "file_extension": ".py",
   "mimetype": "text/x-python",
   "name": "python",
   "nbconvert_exporter": "python",
   "pygments_lexer": "ipython3",
   "version": "3.7.0"
  }
 },
 "nbformat": 4,
 "nbformat_minor": 2
}
