{
 "cells": [
  {
   "cell_type": "code",
   "execution_count": 1,
   "metadata": {},
   "outputs": [],
   "source": [
    "import pandas as pd \n",
    "import numpy as np\n",
    "pd.options.display.max_columns = 500"
   ]
  },
  {
   "cell_type": "markdown",
   "metadata": {},
   "source": [
    "### Functions to concatenate the batchs of maximum 500 metadata downloaded on WoS <br> (respectively in the *All databases* and and *Core collection*)\n",
    "Argument *n* is the total number of downloaded batchs in each folder"
   ]
  },
  {
   "cell_type": "code",
   "execution_count": 2,
   "metadata": {},
   "outputs": [],
   "source": [
    "def fusion_tot(n):\n",
    "    mainpath= \"./input/WOS/All_databases/savedrecs\"\n",
    "    frames =[]\n",
    "    for k in range(n): \n",
    "        file = mainpath + str(k) +\".txt\"\n",
    "        df = pd.read_table(file, sep = '\\t', header = 0, index_col=False)\n",
    "        frames.append(df)  \n",
    "    Df = pd.concat(frames, sort=False)    \n",
    "    return(Df)"
   ]
  },
  {
   "cell_type": "code",
   "execution_count": 3,
   "metadata": {},
   "outputs": [],
   "source": [
    "def fusion_core(n):\n",
    "    mainpath= \"./input/WOS/Core_collection/savedrecs\"\n",
    "    frames =[]\n",
    "    for k in range(n): \n",
    "        file = mainpath + str(k) +\".txt\"\n",
    "        df = pd.read_table(file, sep = '\\t', header = 0, index_col=False)\n",
    "        frames.append(df)  \n",
    "    Df = pd.concat(frames, sort=False)    \n",
    "    return(Df)"
   ]
  },
  {
   "cell_type": "markdown",
   "metadata": {},
   "source": [
    "### Read the database listing all WoS publications"
   ]
  },
  {
   "cell_type": "code",
   "execution_count": 4,
   "metadata": {},
   "outputs": [
    {
     "name": "stdout",
     "output_type": "stream",
     "text": [
      "3800 X 58 dataframe\n"
     ]
    }
   ],
   "source": [
    "df = fusion_tot(8)\n",
    "print(\"%d X %d dataframe\" % (len(df), len(df.columns) ))"
   ]
  },
  {
   "cell_type": "markdown",
   "metadata": {},
   "source": [
    "### Add a column for author keywords in the database listing all WoS publications"
   ]
  },
  {
   "cell_type": "code",
   "execution_count": 5,
   "metadata": {},
   "outputs": [],
   "source": [
    "df[\"DE\"] = np.nan"
   ]
  },
  {
   "cell_type": "markdown",
   "metadata": {},
   "source": [
    "### Eliminate duplicates based on WoS ID (*UT*)"
   ]
  },
  {
   "cell_type": "code",
   "execution_count": 6,
   "metadata": {},
   "outputs": [
    {
     "name": "stdout",
     "output_type": "stream",
     "text": [
      "3800 X 59 dataframe\n"
     ]
    }
   ],
   "source": [
    "df_key_null = df.groupby(['UT']).first().reset_index()\n",
    "print(\"%d X %d dataframe\" % (len(df_key_null), len(df_key_null.columns) ))"
   ]
  },
  {
   "cell_type": "markdown",
   "metadata": {},
   "source": [
    "### Read the specific databases "
   ]
  },
  {
   "cell_type": "code",
   "execution_count": 7,
   "metadata": {},
   "outputs": [
    {
     "name": "stdout",
     "output_type": "stream",
     "text": [
      "3666 X 67 dataframe\n"
     ]
    }
   ],
   "source": [
    "df1 = fusion_core(8)\n",
    "print(\"%d X %d dataframe\" % (len(df1), len(df1.columns) ))"
   ]
  },
  {
   "cell_type": "code",
   "execution_count": 8,
   "metadata": {
    "scrolled": true
   },
   "outputs": [],
   "source": [
    "df2 = pd.read_table(\"./input/WOS/Current_contents_connect/savedrecs0.txt\", sep = '\\t', header = 0, index_col=False)\n",
    "df3 = pd.read_table(\"./input/WOS/KCI-Korean/savedrecs0.txt\", sep = '\\t', header = 0, index_col=False)\n",
    "df4 = pd.read_table(\"./input/WOS/MEDLINE/savedrecs0.txt\", sep = '\\t', header = 0, index_col=False)\n",
    "df5 = pd.read_table(\"./input/WOS/Russian_Science/savedrecs0.txt\", sep = '\\t', header = 0, index_col=False)\n",
    "df6 = pd.read_table(\"./input/WOS/SciELO/savedrecs0.txt\", sep = '\\t', header = 0, index_col=False)"
   ]
  },
  {
   "cell_type": "markdown",
   "metadata": {},
   "source": [
    "### Index all databases with the WoS ID and update the database listing all publications with information in specific databases"
   ]
  },
  {
   "cell_type": "code",
   "execution_count": 9,
   "metadata": {},
   "outputs": [],
   "source": [
    "df.set_index(\"UT\", inplace = True)\n",
    "df1.set_index(\"UT\", inplace = True)\n",
    "df2.set_index(\"UT\", inplace = True)\n",
    "df3.set_index(\"UT\", inplace = True)\n",
    "df4.set_index(\"UT\", inplace = True)\n",
    "df5.set_index(\"UT\", inplace = True)\n",
    "df6.set_index(\"UT\", inplace = True)"
   ]
  },
  {
   "cell_type": "code",
   "execution_count": 10,
   "metadata": {},
   "outputs": [],
   "source": [
    "df.update(df1)\n",
    "df.update(df2)\n",
    "df.update(df3)\n",
    "df.update(df4)\n",
    "df.update(df5)\n",
    "df.update(df6)"
   ]
  },
  {
   "cell_type": "code",
   "execution_count": 11,
   "metadata": {},
   "outputs": [],
   "source": [
    "df.reset_index(0, inplace =True)"
   ]
  },
  {
   "cell_type": "code",
   "execution_count": 12,
   "metadata": {},
   "outputs": [
    {
     "data": {
      "text/html": [
       "<div>\n",
       "<style scoped>\n",
       "    .dataframe tbody tr th:only-of-type {\n",
       "        vertical-align: middle;\n",
       "    }\n",
       "\n",
       "    .dataframe tbody tr th {\n",
       "        vertical-align: top;\n",
       "    }\n",
       "\n",
       "    .dataframe thead th {\n",
       "        text-align: right;\n",
       "    }\n",
       "</style>\n",
       "<table border=\"1\" class=\"dataframe\">\n",
       "  <thead>\n",
       "    <tr style=\"text-align: right;\">\n",
       "      <th></th>\n",
       "      <th>UT</th>\n",
       "      <th>PT</th>\n",
       "      <th>AU</th>\n",
       "      <th>BA</th>\n",
       "      <th>CA</th>\n",
       "      <th>GP</th>\n",
       "      <th>RI</th>\n",
       "      <th>OI</th>\n",
       "      <th>BE</th>\n",
       "      <th>Z2</th>\n",
       "      <th>TI</th>\n",
       "      <th>X1</th>\n",
       "      <th>Y1</th>\n",
       "      <th>Z1</th>\n",
       "      <th>FT</th>\n",
       "      <th>PN</th>\n",
       "      <th>AE</th>\n",
       "      <th>Z3</th>\n",
       "      <th>SO</th>\n",
       "      <th>S1</th>\n",
       "      <th>SE</th>\n",
       "      <th>BS</th>\n",
       "      <th>VL</th>\n",
       "      <th>IS</th>\n",
       "      <th>SI</th>\n",
       "      <th>MA</th>\n",
       "      <th>BP</th>\n",
       "      <th>EP</th>\n",
       "      <th>AR</th>\n",
       "      <th>DI</th>\n",
       "      <th>D2</th>\n",
       "      <th>EA</th>\n",
       "      <th>SU</th>\n",
       "      <th>PD</th>\n",
       "      <th>PY</th>\n",
       "      <th>AB</th>\n",
       "      <th>X4</th>\n",
       "      <th>Y4</th>\n",
       "      <th>Z4</th>\n",
       "      <th>AK</th>\n",
       "      <th>CT</th>\n",
       "      <th>CY</th>\n",
       "      <th>SP</th>\n",
       "      <th>CL</th>\n",
       "      <th>TC</th>\n",
       "      <th>Z8</th>\n",
       "      <th>ZR</th>\n",
       "      <th>ZA</th>\n",
       "      <th>ZB</th>\n",
       "      <th>ZS</th>\n",
       "      <th>Z9</th>\n",
       "      <th>U1</th>\n",
       "      <th>U2</th>\n",
       "      <th>SN</th>\n",
       "      <th>EI</th>\n",
       "      <th>BN</th>\n",
       "      <th>PM</th>\n",
       "      <th>Unnamed: 57</th>\n",
       "      <th>DE</th>\n",
       "    </tr>\n",
       "  </thead>\n",
       "  <tbody>\n",
       "    <tr>\n",
       "      <th>0</th>\n",
       "      <td>MEDLINE:32843822</td>\n",
       "      <td>J</td>\n",
       "      <td>Brodny, Jaroslaw; Tutak, Magdalena</td>\n",
       "      <td>NaN</td>\n",
       "      <td>NaN</td>\n",
       "      <td>NaN</td>\n",
       "      <td>NaN</td>\n",
       "      <td>NaN</td>\n",
       "      <td>NaN</td>\n",
       "      <td>NaN</td>\n",
       "      <td>The analysis of similarities between the Europ...</td>\n",
       "      <td>NaN</td>\n",
       "      <td>NaN</td>\n",
       "      <td>NaN</td>\n",
       "      <td>NaN</td>\n",
       "      <td>NaN</td>\n",
       "      <td>NaN</td>\n",
       "      <td>NaN</td>\n",
       "      <td>Journal of cleaner production</td>\n",
       "      <td>NaN</td>\n",
       "      <td>NaN</td>\n",
       "      <td>NaN</td>\n",
       "      <td>279</td>\n",
       "      <td>NaN</td>\n",
       "      <td>NaN</td>\n",
       "      <td>NaN</td>\n",
       "      <td>123641</td>\n",
       "      <td>123641</td>\n",
       "      <td>NaN</td>\n",
       "      <td>10.1016/j.jclepro.2020.123641</td>\n",
       "      <td>NaN</td>\n",
       "      <td>NaN</td>\n",
       "      <td>NaN</td>\n",
       "      <td>2021 Jan 10 (Epub 2020 Aug 13)</td>\n",
       "      <td>2021.0</td>\n",
       "      <td>© 2020 Elsevier Ltd. All rights reserved.Based...</td>\n",
       "      <td>NaN</td>\n",
       "      <td>NaN</td>\n",
       "      <td>NaN</td>\n",
       "      <td>NaN</td>\n",
       "      <td>NaN</td>\n",
       "      <td>NaN</td>\n",
       "      <td>NaN</td>\n",
       "      <td>NaN</td>\n",
       "      <td>0.0</td>\n",
       "      <td>0</td>\n",
       "      <td>0</td>\n",
       "      <td>0.0</td>\n",
       "      <td>0</td>\n",
       "      <td>0</td>\n",
       "      <td>0.0</td>\n",
       "      <td>36.0</td>\n",
       "      <td>36.0</td>\n",
       "      <td>0959-6526</td>\n",
       "      <td>NaN</td>\n",
       "      <td>NaN</td>\n",
       "      <td>32843822.0</td>\n",
       "      <td>NaN</td>\n",
       "      <td>NaN</td>\n",
       "    </tr>\n",
       "  </tbody>\n",
       "</table>\n",
       "</div>"
      ],
      "text/plain": [
       "                 UT PT                                  AU   BA   CA   GP  \\\n",
       "0  MEDLINE:32843822  J  Brodny, Jaroslaw; Tutak, Magdalena  NaN  NaN  NaN   \n",
       "\n",
       "    RI   OI   BE   Z2                                                 TI   X1  \\\n",
       "0  NaN  NaN  NaN  NaN  The analysis of similarities between the Europ...  NaN   \n",
       "\n",
       "    Y1   Z1   FT   PN  AE  Z3                             SO   S1   SE  BS  \\\n",
       "0  NaN  NaN  NaN  NaN NaN NaN  Journal of cleaner production  NaN  NaN NaN   \n",
       "\n",
       "    VL   IS   SI  MA      BP      EP   AR                             DI  D2  \\\n",
       "0  279  NaN  NaN NaN  123641  123641  NaN  10.1016/j.jclepro.2020.123641 NaN   \n",
       "\n",
       "    EA   SU                              PD      PY  \\\n",
       "0  NaN  NaN  2021 Jan 10 (Epub 2020 Aug 13)  2021.0   \n",
       "\n",
       "                                                  AB   X4   Y4   Z4   AK   CT  \\\n",
       "0  © 2020 Elsevier Ltd. All rights reserved.Based...  NaN  NaN  NaN  NaN  NaN   \n",
       "\n",
       "    CY   SP   CL   TC  Z8  ZR   ZA  ZB  ZS   Z9    U1    U2         SN   EI  \\\n",
       "0  NaN  NaN  NaN  0.0   0   0  0.0   0   0  0.0  36.0  36.0  0959-6526  NaN   \n",
       "\n",
       "    BN          PM  Unnamed: 57   DE  \n",
       "0  NaN  32843822.0          NaN  NaN  "
      ]
     },
     "execution_count": 12,
     "metadata": {},
     "output_type": "execute_result"
    }
   ],
   "source": [
    "df.head(1)"
   ]
  },
  {
   "cell_type": "markdown",
   "metadata": {},
   "source": [
    "### Rename and select columns of interest"
   ]
  },
  {
   "cell_type": "code",
   "execution_count": 13,
   "metadata": {},
   "outputs": [],
   "source": [
    "df.rename(columns ={'UT': 'WOS_number',\n",
    "                    'TI': 'title',\n",
    "                    'PT': 'doc_type',\n",
    "                    'AU': 'authors',\n",
    "                    'SO': 'source',\n",
    "                    'DI': 'doi',\n",
    "                    'PY': 'publication_year',\n",
    "                    'AB': 'abstract',\n",
    "                    'DE': 'author_keywords'}, inplace=True)"
   ]
  },
  {
   "cell_type": "code",
   "execution_count": 14,
   "metadata": {},
   "outputs": [
    {
     "data": {
      "text/html": [
       "<div>\n",
       "<style scoped>\n",
       "    .dataframe tbody tr th:only-of-type {\n",
       "        vertical-align: middle;\n",
       "    }\n",
       "\n",
       "    .dataframe tbody tr th {\n",
       "        vertical-align: top;\n",
       "    }\n",
       "\n",
       "    .dataframe thead th {\n",
       "        text-align: right;\n",
       "    }\n",
       "</style>\n",
       "<table border=\"1\" class=\"dataframe\">\n",
       "  <thead>\n",
       "    <tr style=\"text-align: right;\">\n",
       "      <th></th>\n",
       "      <th>WOS_number</th>\n",
       "      <th>doc_type</th>\n",
       "      <th>authors</th>\n",
       "      <th>title</th>\n",
       "      <th>source</th>\n",
       "      <th>doi</th>\n",
       "      <th>publication_year</th>\n",
       "      <th>abstract</th>\n",
       "      <th>author_keywords</th>\n",
       "      <th>email</th>\n",
       "    </tr>\n",
       "  </thead>\n",
       "  <tbody>\n",
       "    <tr>\n",
       "      <th>0</th>\n",
       "      <td>MEDLINE:32843822</td>\n",
       "      <td>J</td>\n",
       "      <td>Brodny, Jaroslaw; Tutak, Magdalena</td>\n",
       "      <td>The analysis of similarities between the Europ...</td>\n",
       "      <td>Journal of cleaner production</td>\n",
       "      <td>10.1016/j.jclepro.2020.123641</td>\n",
       "      <td>2021.0</td>\n",
       "      <td>© 2020 Elsevier Ltd. All rights reserved.Based...</td>\n",
       "      <td>NaN</td>\n",
       "      <td>NaN</td>\n",
       "    </tr>\n",
       "    <tr>\n",
       "      <th>1</th>\n",
       "      <td>MEDLINE:32798870</td>\n",
       "      <td>J</td>\n",
       "      <td>Mi, Chenxi; Shatwell, Tom; Ma, Jun; Xu, Yaqian...</td>\n",
       "      <td>Ensemble warming projections in Germany's larg...</td>\n",
       "      <td>The Science of the total environment</td>\n",
       "      <td>10.1016/j.scitotenv.2020.141366</td>\n",
       "      <td>2020.0</td>\n",
       "      <td>Copyright © 2020 The Authors. Published by Els...</td>\n",
       "      <td>NaN</td>\n",
       "      <td>NaN</td>\n",
       "    </tr>\n",
       "    <tr>\n",
       "      <th>2</th>\n",
       "      <td>MEDLINE:32900543</td>\n",
       "      <td>J</td>\n",
       "      <td>Gomez-Sanabria, Adriana; Zusman, Eric; Hoglund...</td>\n",
       "      <td>Sustainable wastewater management in Indonesia...</td>\n",
       "      <td>Journal of environmental management</td>\n",
       "      <td>10.1016/j.jenvman.2020.111241</td>\n",
       "      <td>2020.0</td>\n",
       "      <td>Copyright © 2020 The Authors. Published by Els...</td>\n",
       "      <td>NaN</td>\n",
       "      <td>NaN</td>\n",
       "    </tr>\n",
       "    <tr>\n",
       "      <th>3</th>\n",
       "      <td>MEDLINE:33027737</td>\n",
       "      <td>J</td>\n",
       "      <td>Kuylenstierna, Johan C I; Heaps, Charles G; Ah...</td>\n",
       "      <td>Development of the Low Emissions Analysis Plat...</td>\n",
       "      <td>Environment international</td>\n",
       "      <td>10.1016/j.envint.2020.106155</td>\n",
       "      <td>2020.0</td>\n",
       "      <td>Copyright © 2020 The Authors. Published by Els...</td>\n",
       "      <td>NaN</td>\n",
       "      <td>NaN</td>\n",
       "    </tr>\n",
       "    <tr>\n",
       "      <th>4</th>\n",
       "      <td>WOS:000571967500005</td>\n",
       "      <td>J</td>\n",
       "      <td>van der Salm, C; Voogt, W; Beerling, E; van Ru...</td>\n",
       "      <td>Minimising emissions to water bodies from NW E...</td>\n",
       "      <td>AGRICULTURAL WATER MANAGEMENT</td>\n",
       "      <td>10.1016/j.agwat.2020.106398</td>\n",
       "      <td>2020.0</td>\n",
       "      <td>In large parts of the Netherlands surface wate...</td>\n",
       "      <td>drainage; DSS model; fertigation; hydroponics;...</td>\n",
       "      <td>NaN</td>\n",
       "    </tr>\n",
       "  </tbody>\n",
       "</table>\n",
       "</div>"
      ],
      "text/plain": [
       "            WOS_number doc_type  \\\n",
       "0     MEDLINE:32843822        J   \n",
       "1     MEDLINE:32798870        J   \n",
       "2     MEDLINE:32900543        J   \n",
       "3     MEDLINE:33027737        J   \n",
       "4  WOS:000571967500005        J   \n",
       "\n",
       "                                             authors  \\\n",
       "0                 Brodny, Jaroslaw; Tutak, Magdalena   \n",
       "1  Mi, Chenxi; Shatwell, Tom; Ma, Jun; Xu, Yaqian...   \n",
       "2  Gomez-Sanabria, Adriana; Zusman, Eric; Hoglund...   \n",
       "3  Kuylenstierna, Johan C I; Heaps, Charles G; Ah...   \n",
       "4  van der Salm, C; Voogt, W; Beerling, E; van Ru...   \n",
       "\n",
       "                                               title  \\\n",
       "0  The analysis of similarities between the Europ...   \n",
       "1  Ensemble warming projections in Germany's larg...   \n",
       "2  Sustainable wastewater management in Indonesia...   \n",
       "3  Development of the Low Emissions Analysis Plat...   \n",
       "4  Minimising emissions to water bodies from NW E...   \n",
       "\n",
       "                                 source                              doi  \\\n",
       "0         Journal of cleaner production    10.1016/j.jclepro.2020.123641   \n",
       "1  The Science of the total environment  10.1016/j.scitotenv.2020.141366   \n",
       "2   Journal of environmental management    10.1016/j.jenvman.2020.111241   \n",
       "3             Environment international     10.1016/j.envint.2020.106155   \n",
       "4         AGRICULTURAL WATER MANAGEMENT      10.1016/j.agwat.2020.106398   \n",
       "\n",
       "   publication_year                                           abstract  \\\n",
       "0            2021.0  © 2020 Elsevier Ltd. All rights reserved.Based...   \n",
       "1            2020.0  Copyright © 2020 The Authors. Published by Els...   \n",
       "2            2020.0  Copyright © 2020 The Authors. Published by Els...   \n",
       "3            2020.0  Copyright © 2020 The Authors. Published by Els...   \n",
       "4            2020.0  In large parts of the Netherlands surface wate...   \n",
       "\n",
       "                                     author_keywords  email  \n",
       "0                                                NaN    NaN  \n",
       "1                                                NaN    NaN  \n",
       "2                                                NaN    NaN  \n",
       "3                                                NaN    NaN  \n",
       "4  drainage; DSS model; fertigation; hydroponics;...    NaN  "
      ]
     },
     "execution_count": 14,
     "metadata": {},
     "output_type": "execute_result"
    }
   ],
   "source": [
    "col=['WOS_number','doc_type','authors','title','source','doi','publication_year','abstract','author_keywords','email']\n",
    "df = df.reindex(columns=col)\n",
    "df.head()"
   ]
  },
  {
   "cell_type": "code",
   "execution_count": 15,
   "metadata": {},
   "outputs": [
    {
     "name": "stdout",
     "output_type": "stream",
     "text": [
      "3800 X 10 dataframe\n"
     ]
    }
   ],
   "source": [
    "print(\"%d X %d dataframe\" % (len(df), len(df.columns) ))"
   ]
  },
  {
   "cell_type": "code",
   "execution_count": 16,
   "metadata": {},
   "outputs": [],
   "source": [
    "df.to_csv(\"./intermed/df_WOS.csv\",index=False) "
   ]
  }
 ],
 "metadata": {
  "kernelspec": {
   "display_name": "Python 3",
   "language": "python",
   "name": "python3"
  },
  "language_info": {
   "codemirror_mode": {
    "name": "ipython",
    "version": 3
   },
   "file_extension": ".py",
   "mimetype": "text/x-python",
   "name": "python",
   "nbconvert_exporter": "python",
   "pygments_lexer": "ipython3",
   "version": "3.7.0"
  }
 },
 "nbformat": 4,
 "nbformat_minor": 2
}
