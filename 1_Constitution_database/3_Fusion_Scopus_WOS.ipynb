{
 "cells": [
  {
   "cell_type": "code",
   "execution_count": 1,
   "metadata": {},
   "outputs": [],
   "source": [
    "import joblib\n",
    "import pandas as pd\n",
    "import string\n",
    "import re\n",
    "import numpy as np"
   ]
  },
  {
   "cell_type": "markdown",
   "metadata": {},
   "source": [
    "### Download databases from WoS and Scopus"
   ]
  },
  {
   "cell_type": "code",
   "execution_count": 2,
   "metadata": {},
   "outputs": [
    {
     "name": "stdout",
     "output_type": "stream",
     "text": [
      "Loaded 3800 X 10  WOS dataframe\n",
      "Loaded 4181 X 9  Scopus dataframe\n"
     ]
    }
   ],
   "source": [
    "df_WOS = pd.read_csv(\"./intermed/df_WOS.csv\")\n",
    "print( \"Loaded %d X %d  WOS dataframe\" % (len(df_WOS), len(df_WOS.columns) ))\n",
    "df_Scopus = pd.read_csv(\"./intermed/df_Scopus.csv\")\n",
    "print( \"Loaded %d X %d  Scopus dataframe\" % (len(df_Scopus), len(df_Scopus.columns) ))"
   ]
  },
  {
   "cell_type": "markdown",
   "metadata": {},
   "source": [
    "### Concatenate the databases"
   ]
  },
  {
   "cell_type": "code",
   "execution_count": 3,
   "metadata": {},
   "outputs": [],
   "source": [
    "df = pd.concat([df_Scopus, df_WOS], sort = False)"
   ]
  },
  {
   "cell_type": "markdown",
   "metadata": {},
   "source": [
    "### Remove duplicates based on the DOI\n",
    "Write DOI in lower cases"
   ]
  },
  {
   "cell_type": "code",
   "execution_count": 4,
   "metadata": {},
   "outputs": [],
   "source": [
    "df['low_doi'] = df['doi'].str.lower()"
   ]
  },
  {
   "cell_type": "code",
   "execution_count": 5,
   "metadata": {},
   "outputs": [
    {
     "name": "stdout",
     "output_type": "stream",
     "text": [
      "There are 755 papers without doi\n"
     ]
    }
   ],
   "source": [
    "df_wo_doi = df[df.doi.isnull()]\n",
    "print('There are %d papers without doi' % len(df_wo_doi))"
   ]
  },
  {
   "cell_type": "code",
   "execution_count": 6,
   "metadata": {},
   "outputs": [
    {
     "name": "stdout",
     "output_type": "stream",
     "text": [
      "There are 4189 different papers with doi\n"
     ]
    }
   ],
   "source": [
    "df_with_doi = df[df.doi.notnull()]\n",
    "df_without_dupli_doi = df_with_doi.groupby(['low_doi']).first().reset_index()\n",
    "print('There are %d different papers with doi' % len(df_without_dupli_doi))"
   ]
  },
  {
   "cell_type": "code",
   "execution_count": 7,
   "metadata": {},
   "outputs": [
    {
     "name": "stdout",
     "output_type": "stream",
     "text": [
      "There are 4944 papers after removing duplicates based on doi\n"
     ]
    }
   ],
   "source": [
    "df = pd.concat([df_wo_doi, df_without_dupli_doi], sort = False)\n",
    "print('There are %d papers after removing duplicates based on doi' % len(df))"
   ]
  },
  {
   "cell_type": "markdown",
   "metadata": {},
   "source": [
    "### Remove duplicates based on the title\n",
    "We transform the title by \n",
    "* using lower characters\n",
    "* deleting words in [ ] if it isn't the case for all the title\n",
    "* (i) removing punctuation and replacing it be nothing\n",
    "* (ii) replacing punctuation by one white space & then replacing double white spaces by one white space  "
   ]
  },
  {
   "cell_type": "code",
   "execution_count": 8,
   "metadata": {},
   "outputs": [
    {
     "data": {
      "text/plain": [
       "'!\"#$%&\\'()*+,-./:;<=>?@[\\\\]^_`{|}~’—☆–−()()©“”‘'"
      ]
     },
     "execution_count": 8,
     "metadata": {},
     "output_type": "execute_result"
    }
   ],
   "source": [
    "string.punctuation =  string.punctuation + '’—☆–−()()©“”‘'\n",
    "string.punctuation"
   ]
  },
  {
   "cell_type": "markdown",
   "metadata": {},
   "source": [
    "First, we remove all punctuation and group duplicates by title without punctuation\n",
    "\n",
    "Example of duplicates identified : \n",
    "* The effect of Estonian electricity production scenarios on CO(2) and SO(2) emissions in 2000-2030\n",
    "* The effect of Estonian electricity production scenarios on CO2 and SO2 emissions in 2000-2030"
   ]
  },
  {
   "cell_type": "code",
   "execution_count": 9,
   "metadata": {},
   "outputs": [],
   "source": [
    "df['title_red'] = pd.Series([re.sub(\"[\\[\\]].*[\\[\\]]\", \"\", title) for title in df.title.values],index = df.index)\n",
    "df['title_red'] = np.where(df['title_red'].str.len()<=1,df['title'],df['title_red'])"
   ]
  },
  {
   "cell_type": "code",
   "execution_count": 10,
   "metadata": {
    "scrolled": true
   },
   "outputs": [],
   "source": [
    "table_remove_punct = str.maketrans('','', string.punctuation)"
   ]
  },
  {
   "cell_type": "code",
   "execution_count": 11,
   "metadata": {},
   "outputs": [],
   "source": [
    "titles = df['title_red'].str.lower().tolist()\n",
    "titles_wo_punct = [title.translate(table_remove_punct) for title in titles]\n",
    "df['prepro_title_wo_punct'] = pd.Series(titles_wo_punct,index = df.index)"
   ]
  },
  {
   "cell_type": "markdown",
   "metadata": {},
   "source": [
    "We order the dataframe by 'prepro_title_wo_punct' and doi in order to keep papers with doi when there are duplicates (ex : published paper and conference paper)"
   ]
  },
  {
   "cell_type": "code",
   "execution_count": 12,
   "metadata": {
    "scrolled": true
   },
   "outputs": [],
   "source": [
    "df.sort_values(by = ['prepro_title_wo_punct','doi'], ascending = [True,True], inplace = True)"
   ]
  },
  {
   "cell_type": "code",
   "execution_count": 13,
   "metadata": {},
   "outputs": [
    {
     "name": "stdout",
     "output_type": "stream",
     "text": [
      "There are 4769 papers after removing duplicates based on low title without punctuation\n"
     ]
    }
   ],
   "source": [
    "df = df.groupby(['prepro_title_wo_punct']).first().reset_index()\n",
    "print('There are %d papers after removing duplicates based on low title without punctuation' % len(df))"
   ]
  },
  {
   "cell_type": "markdown",
   "metadata": {},
   "source": [
    "Then we remove punctuation and replace it by on white space and then replace double white by one white space\n",
    "\n",
    "Example of duplicates identified : \n",
    "* Future Japan Power Generation Sector by Introducing Hydrogen Plant with 80% CO2 Emission Reduction Target : A Preliminary Analysis\n",
    "* Future Japan power generation sector by introducing hydrogen plant with 80% CO2 emission reduction target: A preliminary analysis"
   ]
  },
  {
   "cell_type": "code",
   "execution_count": 14,
   "metadata": {},
   "outputs": [],
   "source": [
    "titles = df['title_red'].str.lower().tolist()\n",
    "table_remove_punct_white_space = str.maketrans(string.punctuation, ' '*len(string.punctuation))"
   ]
  },
  {
   "cell_type": "code",
   "execution_count": 15,
   "metadata": {},
   "outputs": [],
   "source": [
    "titles_wo_punct_white_space = [title.translate(table_remove_punct_white_space) for title in titles]\n",
    "titles_wo_punct_one_white_space = [' '.join(title.split()) for title in titles_wo_punct_white_space]\n",
    "df['prepro_title'] = pd.Series(titles_wo_punct_one_white_space,index = df.index)"
   ]
  },
  {
   "cell_type": "code",
   "execution_count": 16,
   "metadata": {
    "scrolled": true
   },
   "outputs": [],
   "source": [
    "df.sort_values(by = ['prepro_title','doi'], ascending = [True,True], inplace = True)"
   ]
  },
  {
   "cell_type": "code",
   "execution_count": 17,
   "metadata": {},
   "outputs": [
    {
     "name": "stdout",
     "output_type": "stream",
     "text": [
      "There are 4755 papers after removing duplicates based on low title with punctuation replaced by white space\n"
     ]
    }
   ],
   "source": [
    "df = df.groupby(['prepro_title']).first().reset_index()\n",
    "print('There are %d papers after removing duplicates based on low title with punctuation replaced by white space' % len(df))"
   ]
  },
  {
   "cell_type": "markdown",
   "metadata": {},
   "source": [
    "### Keep papers with abstract"
   ]
  },
  {
   "cell_type": "code",
   "execution_count": 18,
   "metadata": {},
   "outputs": [
    {
     "name": "stdout",
     "output_type": "stream",
     "text": [
      "There are 4743 papers with abstract\n"
     ]
    }
   ],
   "source": [
    "df = df.loc[df.abstract.notnull()]\n",
    "print('There are %d papers with abstract' % len(df))"
   ]
  },
  {
   "cell_type": "markdown",
   "metadata": {},
   "source": [
    "### Remove duplicates based on the abstract"
   ]
  },
  {
   "cell_type": "code",
   "execution_count": 19,
   "metadata": {},
   "outputs": [
    {
     "name": "stdout",
     "output_type": "stream",
     "text": [
      "There are 4737 papers after removing duplicates based on abstract\n"
     ]
    }
   ],
   "source": [
    "df.sort_values(by = ['abstract','doi'], ascending = [True,True], inplace = True)\n",
    "df = df.groupby(['abstract']).first().reset_index()\n",
    "print('There are %d papers after removing duplicates based on abstract' % (len(df)))"
   ]
  },
  {
   "cell_type": "markdown",
   "metadata": {},
   "source": [
    "### Remove duplicates based on the beginning of the abstract"
   ]
  },
  {
   "cell_type": "code",
   "execution_count": 20,
   "metadata": {},
   "outputs": [],
   "source": [
    "abstracts = df['abstract'].str.lower().tolist()\n",
    "abstracts_wo_punct = [abstract.translate(table_remove_punct_white_space) for abstract in abstracts]\n",
    "abstracts_wo_punct_one_white_space = [' '.join(abstract.split()) for abstract in abstracts_wo_punct]\n",
    "df['prepro_abs'] = pd.Series(abstracts_wo_punct_one_white_space, index = df.index)"
   ]
  },
  {
   "cell_type": "code",
   "execution_count": 21,
   "metadata": {},
   "outputs": [
    {
     "name": "stdout",
     "output_type": "stream",
     "text": [
      "There are 4723 papers after removing duplicates based on first 250 characters of abstract\n"
     ]
    }
   ],
   "source": [
    "df['beg_abs'] = df['prepro_abs'].str[:250]\n",
    "df.sort_values(by = ['beg_abs','doi'], ascending = [True,True], inplace = True)\n",
    "df = df.groupby(['beg_abs']).first().reset_index()\n",
    "\n",
    "print('There are %d papers after removing duplicates based on first 250 characters of abstract' % (len(df)))"
   ]
  },
  {
   "cell_type": "markdown",
   "metadata": {},
   "source": [
    "#### Look more closely at papers having the same first 200 characters"
   ]
  },
  {
   "cell_type": "code",
   "execution_count": 22,
   "metadata": {},
   "outputs": [],
   "source": [
    "df['beg_abs_200'] = df['prepro_abs'].str[:200]"
   ]
  },
  {
   "cell_type": "code",
   "execution_count": 23,
   "metadata": {
    "scrolled": false
   },
   "outputs": [
    {
     "data": {
      "text/html": [
       "<div>\n",
       "<style scoped>\n",
       "    .dataframe tbody tr th:only-of-type {\n",
       "        vertical-align: middle;\n",
       "    }\n",
       "\n",
       "    .dataframe tbody tr th {\n",
       "        vertical-align: top;\n",
       "    }\n",
       "\n",
       "    .dataframe thead th {\n",
       "        text-align: right;\n",
       "    }\n",
       "</style>\n",
       "<table border=\"1\" class=\"dataframe\">\n",
       "  <thead>\n",
       "    <tr style=\"text-align: right;\">\n",
       "      <th></th>\n",
       "      <th>title</th>\n",
       "      <th>doi</th>\n",
       "      <th>publication_year</th>\n",
       "      <th>docu_type</th>\n",
       "      <th>doc_type</th>\n",
       "      <th>scopus_number</th>\n",
       "      <th>WOS_number</th>\n",
       "    </tr>\n",
       "  </thead>\n",
       "  <tbody>\n",
       "    <tr>\n",
       "      <th>2194</th>\n",
       "      <td>Prospects of carbon capture and storage (CCS) ...</td>\n",
       "      <td>10.1016/j.apenergy.2013.11.054</td>\n",
       "      <td>2014.0</td>\n",
       "      <td>Article</td>\n",
       "      <td>J</td>\n",
       "      <td>2-s2.0-84890938806</td>\n",
       "      <td>WOS:000331675800006</td>\n",
       "    </tr>\n",
       "    <tr>\n",
       "      <th>2294</th>\n",
       "      <td>Co-benefits of global and regional greenhouse ...</td>\n",
       "      <td>10.5194/acp-2015-1054</td>\n",
       "      <td>2016.0</td>\n",
       "      <td>Article</td>\n",
       "      <td>NaN</td>\n",
       "      <td>2-s2.0-85042813058</td>\n",
       "      <td>NaN</td>\n",
       "    </tr>\n",
       "    <tr>\n",
       "      <th>3445</th>\n",
       "      <td>Projected photovoltaic energy impacts on US CO...</td>\n",
       "      <td>10.1002/(sici)1099-159x(199707/08)5:4&lt;277::aid...</td>\n",
       "      <td>1997.0</td>\n",
       "      <td>Review</td>\n",
       "      <td>NaN</td>\n",
       "      <td>2-s2.0-0031189392</td>\n",
       "      <td>NaN</td>\n",
       "    </tr>\n",
       "    <tr>\n",
       "      <th>3468</th>\n",
       "      <td>A 100% renewable scenario for Venezuelan Power...</td>\n",
       "      <td>NaN</td>\n",
       "      <td>2014.0</td>\n",
       "      <td>Conference Paper</td>\n",
       "      <td>NaN</td>\n",
       "      <td>2-s2.0-85047432166</td>\n",
       "      <td>NaN</td>\n",
       "    </tr>\n",
       "  </tbody>\n",
       "</table>\n",
       "</div>"
      ],
      "text/plain": [
       "                                                  title  \\\n",
       "2194  Prospects of carbon capture and storage (CCS) ...   \n",
       "2294  Co-benefits of global and regional greenhouse ...   \n",
       "3445  Projected photovoltaic energy impacts on US CO...   \n",
       "3468  A 100% renewable scenario for Venezuelan Power...   \n",
       "\n",
       "                                                    doi  publication_year  \\\n",
       "2194                     10.1016/j.apenergy.2013.11.054            2014.0   \n",
       "2294                              10.5194/acp-2015-1054            2016.0   \n",
       "3445  10.1002/(sici)1099-159x(199707/08)5:4<277::aid...            1997.0   \n",
       "3468                                                NaN            2014.0   \n",
       "\n",
       "             docu_type doc_type       scopus_number           WOS_number  \n",
       "2194           Article        J  2-s2.0-84890938806  WOS:000331675800006  \n",
       "2294           Article      NaN  2-s2.0-85042813058                  NaN  \n",
       "3445            Review      NaN   2-s2.0-0031189392                  NaN  \n",
       "3468  Conference Paper      NaN  2-s2.0-85047432166                  NaN  "
      ]
     },
     "execution_count": 23,
     "metadata": {},
     "output_type": "execute_result"
    }
   ],
   "source": [
    "df_deb_first = df.loc[df.beg_abs_200.duplicated(keep='first')]\n",
    "df_deb_first[['title','doi','publication_year','docu_type','doc_type','scopus_number','WOS_number']]"
   ]
  },
  {
   "cell_type": "code",
   "execution_count": 24,
   "metadata": {},
   "outputs": [
    {
     "data": {
      "text/html": [
       "<div>\n",
       "<style scoped>\n",
       "    .dataframe tbody tr th:only-of-type {\n",
       "        vertical-align: middle;\n",
       "    }\n",
       "\n",
       "    .dataframe tbody tr th {\n",
       "        vertical-align: top;\n",
       "    }\n",
       "\n",
       "    .dataframe thead th {\n",
       "        text-align: right;\n",
       "    }\n",
       "</style>\n",
       "<table border=\"1\" class=\"dataframe\">\n",
       "  <thead>\n",
       "    <tr style=\"text-align: right;\">\n",
       "      <th></th>\n",
       "      <th>title</th>\n",
       "      <th>doi</th>\n",
       "      <th>publication_year</th>\n",
       "      <th>docu_type</th>\n",
       "      <th>doc_type</th>\n",
       "      <th>scopus_number</th>\n",
       "      <th>WOS_number</th>\n",
       "    </tr>\n",
       "  </thead>\n",
       "  <tbody>\n",
       "    <tr>\n",
       "      <th>2193</th>\n",
       "      <td>Prospects of carbon capture and storage (CCS) ...</td>\n",
       "      <td>10.1016/j.apenergy.2015.07.023</td>\n",
       "      <td>2015.0</td>\n",
       "      <td>Article</td>\n",
       "      <td>J</td>\n",
       "      <td>2-s2.0-84939800728</td>\n",
       "      <td>WOS:000364249200020</td>\n",
       "    </tr>\n",
       "    <tr>\n",
       "      <th>2293</th>\n",
       "      <td>Co-benefits of global and regional greenhouse ...</td>\n",
       "      <td>10.5194/acp-16-9533-2016</td>\n",
       "      <td>2016.0</td>\n",
       "      <td>Article</td>\n",
       "      <td>J</td>\n",
       "      <td>2-s2.0-84980417625</td>\n",
       "      <td>WOS:000382825200001</td>\n",
       "    </tr>\n",
       "    <tr>\n",
       "      <th>3444</th>\n",
       "      <td>Projected photovoltaic energy impacts on US CO...</td>\n",
       "      <td>NaN</td>\n",
       "      <td>1997.0</td>\n",
       "      <td>NaN</td>\n",
       "      <td>J</td>\n",
       "      <td>NaN</td>\n",
       "      <td>WOS:A1997XU72900007</td>\n",
       "    </tr>\n",
       "    <tr>\n",
       "      <th>3467</th>\n",
       "      <td>A sustainable scenario for Venezuelan power ge...</td>\n",
       "      <td>10.1016/j.enpol.2012.01.060</td>\n",
       "      <td>2012.0</td>\n",
       "      <td>Article</td>\n",
       "      <td>J</td>\n",
       "      <td>2-s2.0-84858277067</td>\n",
       "      <td>WOS:000302848700031</td>\n",
       "    </tr>\n",
       "  </tbody>\n",
       "</table>\n",
       "</div>"
      ],
      "text/plain": [
       "                                                  title  \\\n",
       "2193  Prospects of carbon capture and storage (CCS) ...   \n",
       "2293  Co-benefits of global and regional greenhouse ...   \n",
       "3444  Projected photovoltaic energy impacts on US CO...   \n",
       "3467  A sustainable scenario for Venezuelan power ge...   \n",
       "\n",
       "                                 doi  publication_year docu_type doc_type  \\\n",
       "2193  10.1016/j.apenergy.2015.07.023            2015.0   Article        J   \n",
       "2293        10.5194/acp-16-9533-2016            2016.0   Article        J   \n",
       "3444                             NaN            1997.0       NaN        J   \n",
       "3467     10.1016/j.enpol.2012.01.060            2012.0   Article        J   \n",
       "\n",
       "           scopus_number           WOS_number  \n",
       "2193  2-s2.0-84939800728  WOS:000364249200020  \n",
       "2293  2-s2.0-84980417625  WOS:000382825200001  \n",
       "3444                 NaN  WOS:A1997XU72900007  \n",
       "3467  2-s2.0-84858277067  WOS:000302848700031  "
      ]
     },
     "execution_count": 24,
     "metadata": {},
     "output_type": "execute_result"
    }
   ],
   "source": [
    "df_deb_last = df.loc[df.beg_abs_200.duplicated(keep='last')]\n",
    "df_deb_last[['title','doi','publication_year','docu_type','doc_type','scopus_number','WOS_number']]"
   ]
  },
  {
   "cell_type": "markdown",
   "metadata": {},
   "source": [
    "* 2194 and 2193 have the same abstracts but relate respectively to China and India so we keep both. \n",
    "* We merge 3445 and 3444\n",
    "* 3468 is the conference paper for 3467 so we keep the published version\n",
    "* 2294 is the preversion of 2293, so we keep the last version"
   ]
  },
  {
   "cell_type": "code",
   "execution_count": 25,
   "metadata": {},
   "outputs": [],
   "source": [
    "df[3445,] = df.loc[3445,].combine_first(df.loc[3444,])"
   ]
  },
  {
   "cell_type": "code",
   "execution_count": 26,
   "metadata": {},
   "outputs": [],
   "source": [
    "df = df.drop([3444,2294,3468])"
   ]
  },
  {
   "cell_type": "markdown",
   "metadata": {},
   "source": [
    "### Sort the dataframe"
   ]
  },
  {
   "cell_type": "code",
   "execution_count": 27,
   "metadata": {},
   "outputs": [],
   "source": [
    "df.sort_values(by = ['publication_year','title'], ascending = [False,True], inplace = True)\n",
    "df['d_type'] = df.docu_type.combine_first(df.doc_type)\n",
    "col = ['title','authors','source','doi','d_type','abstract','publication_year','horizon_year','author_keywords','scopus_number','WOS_number','prepro_title']\n",
    "df = df.reindex(columns=col)"
   ]
  },
  {
   "cell_type": "code",
   "execution_count": 28,
   "metadata": {},
   "outputs": [
    {
     "name": "stdout",
     "output_type": "stream",
     "text": [
      "4720 X 12 dataframe\n"
     ]
    }
   ],
   "source": [
    "print( \"%d X %d dataframe\" % (len(df), len(df.columns) ))"
   ]
  },
  {
   "cell_type": "markdown",
   "metadata": {},
   "source": [
    "### Store the dataframe"
   ]
  },
  {
   "cell_type": "code",
   "execution_count": 29,
   "metadata": {},
   "outputs": [],
   "source": [
    "df.to_csv(\"./output/df_for_analysis.csv\", index = False) "
   ]
  }
 ],
 "metadata": {
  "kernelspec": {
   "display_name": "Python 3",
   "language": "python",
   "name": "python3"
  },
  "language_info": {
   "codemirror_mode": {
    "name": "ipython",
    "version": 3
   },
   "file_extension": ".py",
   "mimetype": "text/x-python",
   "name": "python",
   "nbconvert_exporter": "python",
   "pygments_lexer": "ipython3",
   "version": "3.7.0"
  }
 },
 "nbformat": 4,
 "nbformat_minor": 2
}
