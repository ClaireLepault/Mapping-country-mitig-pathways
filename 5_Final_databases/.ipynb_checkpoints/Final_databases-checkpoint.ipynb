{
 "cells": [
  {
   "cell_type": "code",
   "execution_count": 1,
   "metadata": {},
   "outputs": [
    {
     "name": "stderr",
     "output_type": "stream",
     "text": [
      "── \u001b[1mAttaching packages\u001b[22m ─────────────────────────────────────── tidyverse 1.3.0 ──\n",
      "\n",
      "\u001b[32m✔\u001b[39m \u001b[34mggplot2\u001b[39m 3.3.3     \u001b[32m✔\u001b[39m \u001b[34mpurrr  \u001b[39m 0.3.3\n",
      "\u001b[32m✔\u001b[39m \u001b[34mtibble \u001b[39m 3.1.0     \u001b[32m✔\u001b[39m \u001b[34mdplyr  \u001b[39m 0.8.4\n",
      "\u001b[32m✔\u001b[39m \u001b[34mtidyr  \u001b[39m 1.0.2     \u001b[32m✔\u001b[39m \u001b[34mstringr\u001b[39m 1.4.0\n",
      "\u001b[32m✔\u001b[39m \u001b[34mreadr  \u001b[39m 1.3.1     \u001b[32m✔\u001b[39m \u001b[34mforcats\u001b[39m 0.4.0\n",
      "\n",
      "── \u001b[1mConflicts\u001b[22m ────────────────────────────────────────── tidyverse_conflicts() ──\n",
      "\u001b[31m✖\u001b[39m \u001b[34mdplyr\u001b[39m::\u001b[32mfilter()\u001b[39m masks \u001b[34mstats\u001b[39m::filter()\n",
      "\u001b[31m✖\u001b[39m \u001b[34mdplyr\u001b[39m::\u001b[32mlag()\u001b[39m    masks \u001b[34mstats\u001b[39m::lag()\n",
      "\n"
     ]
    }
   ],
   "source": [
    "list.of.packages <- c(\"tidyverse\",\"dplyr\",\"ggplot2\")\n",
    "new.packages <- list.of.packages[!(list.of.packages %in% installed.packages()[,\"Package\"])]\n",
    "if(length(new.packages)) install.packages(new.packages, repos = \"http://cran.us.r-project.org\")\n",
    "\n",
    "invisible(lapply(list.of.packages, library, character.only = TRUE))\n",
    "\n",
    "select <- dplyr::select\n",
    "\n",
    "options(repr.matrix.max.rows=50, repr.matrix.max.cols=500) "
   ]
  },
  {
   "cell_type": "markdown",
   "metadata": {},
   "source": [
    "### Download topic classification database"
   ]
  },
  {
   "cell_type": "code",
   "execution_count": 2,
   "metadata": {},
   "outputs": [
    {
     "name": "stderr",
     "output_type": "stream",
     "text": [
      "Parsed with column specification:\n",
      "cols(\n",
      "  .default = col_double(),\n",
      "  ISO_3 = \u001b[31mcol_character()\u001b[39m,\n",
      "  Country = \u001b[31mcol_character()\u001b[39m,\n",
      "  Region = \u001b[31mcol_character()\u001b[39m,\n",
      "  title = \u001b[31mcol_character()\u001b[39m,\n",
      "  authors = \u001b[31mcol_character()\u001b[39m,\n",
      "  source = \u001b[31mcol_character()\u001b[39m,\n",
      "  doi = \u001b[31mcol_character()\u001b[39m,\n",
      "  abstract = \u001b[31mcol_character()\u001b[39m,\n",
      "  author_keywords = \u001b[31mcol_character()\u001b[39m,\n",
      "  model = \u001b[31mcol_character()\u001b[39m,\n",
      "  scopus_number = \u001b[31mcol_character()\u001b[39m,\n",
      "  WOS_number = \u001b[31mcol_character()\u001b[39m,\n",
      "  stem_abstract = \u001b[31mcol_character()\u001b[39m\n",
      ")\n",
      "\n",
      "See spec(...) for full column specifications.\n",
      "\n"
     ]
    },
    {
     "data": {
      "text/html": [
       "'4691 x 55 dataframe'"
      ],
      "text/latex": [
       "'4691 x 55 dataframe'"
      ],
      "text/markdown": [
       "'4691 x 55 dataframe'"
      ],
      "text/plain": [
       "[1] \"4691 x 55 dataframe\""
      ]
     },
     "metadata": {},
     "output_type": "display_data"
    }
   ],
   "source": [
    "df_class <- read_csv(\"../3_Topic_modeling/output/database_seuil_0.02.csv\")\n",
    "sprintf(\"%i x %i dataframe\", nrow(df_class), ncol(df_class))"
   ]
  },
  {
   "cell_type": "code",
   "execution_count": 3,
   "metadata": {},
   "outputs": [],
   "source": [
    "df_class <- df_class %>% \n",
    "                    select(title, 16:54)"
   ]
  },
  {
   "cell_type": "markdown",
   "metadata": {},
   "source": [
    "### Table with final topics names"
   ]
  },
  {
   "cell_type": "code",
   "execution_count": 4,
   "metadata": {},
   "outputs": [
    {
     "name": "stderr",
     "output_type": "stream",
     "text": [
      "Parsed with column specification:\n",
      "cols(\n",
      "  Index = \u001b[32mcol_double()\u001b[39m,\n",
      "  Name = \u001b[31mcol_character()\u001b[39m,\n",
      "  Terms = \u001b[31mcol_character()\u001b[39m,\n",
      "  Category = \u001b[31mcol_character()\u001b[39m,\n",
      "  Sector = \u001b[31mcol_character()\u001b[39m,\n",
      "  `Relevant IPCC WG3 chapter` = \u001b[31mcol_character()\u001b[39m,\n",
      "  T0.02 = \u001b[32mcol_double()\u001b[39m,\n",
      "  T0.02Title = \u001b[32mcol_double()\u001b[39m\n",
      ")\n",
      "\n"
     ]
    },
    {
     "data": {
      "text/html": [
       "'39 x 8 dataframe'"
      ],
      "text/latex": [
       "'39 x 8 dataframe'"
      ],
      "text/markdown": [
       "'39 x 8 dataframe'"
      ],
      "text/plain": [
       "[1] \"39 x 8 dataframe\""
      ]
     },
     "metadata": {},
     "output_type": "display_data"
    }
   ],
   "source": [
    "topics_table <- read_csv(\"../4_Manual_treatment_topic_table/ouput/Table_topics.csv\")\n",
    "sprintf(\"%i x %i dataframe\", nrow(topics_table), ncol(topics_table))"
   ]
  },
  {
   "cell_type": "markdown",
   "metadata": {},
   "source": [
    "#### List of topics with initial apparition order"
   ]
  },
  {
   "cell_type": "code",
   "execution_count": 5,
   "metadata": {},
   "outputs": [],
   "source": [
    "topics_list <- as.character(topics_table$Name)"
   ]
  },
  {
   "cell_type": "code",
   "execution_count": 6,
   "metadata": {},
   "outputs": [],
   "source": [
    "df_class <- df_class %>% \n",
    "                rename_if(is.numeric, ~ topics_list) "
   ]
  },
  {
   "cell_type": "markdown",
   "metadata": {},
   "source": [
    "### Add topic classification to the database with one row for each publication-country-model association"
   ]
  },
  {
   "cell_type": "code",
   "execution_count": 7,
   "metadata": {},
   "outputs": [
    {
     "name": "stderr",
     "output_type": "stream",
     "text": [
      "Parsed with column specification:\n",
      "cols(\n",
      "  ISO_3 = \u001b[31mcol_character()\u001b[39m,\n",
      "  Country = \u001b[31mcol_character()\u001b[39m,\n",
      "  Region = \u001b[31mcol_character()\u001b[39m,\n",
      "  title = \u001b[31mcol_character()\u001b[39m,\n",
      "  authors = \u001b[31mcol_character()\u001b[39m,\n",
      "  source = \u001b[31mcol_character()\u001b[39m,\n",
      "  doi = \u001b[31mcol_character()\u001b[39m,\n",
      "  abstract = \u001b[31mcol_character()\u001b[39m,\n",
      "  author_keywords = \u001b[31mcol_character()\u001b[39m,\n",
      "  publication_year = \u001b[32mcol_double()\u001b[39m,\n",
      "  horizon_year = \u001b[32mcol_double()\u001b[39m,\n",
      "  model = \u001b[31mcol_character()\u001b[39m,\n",
      "  scopus_number = \u001b[31mcol_character()\u001b[39m,\n",
      "  WOS_number = \u001b[31mcol_character()\u001b[39m\n",
      ")\n",
      "\n"
     ]
    },
    {
     "data": {
      "text/html": [
       "'4996 x 14 dataframe'"
      ],
      "text/latex": [
       "'4996 x 14 dataframe'"
      ],
      "text/markdown": [
       "'4996 x 14 dataframe'"
      ],
      "text/plain": [
       "[1] \"4996 x 14 dataframe\""
      ]
     },
     "metadata": {},
     "output_type": "display_data"
    }
   ],
   "source": [
    "path_multi <- \"../2_Treatment_database/output/database_multi_rows_each_paper.csv\"\n",
    "df_multi <- read_csv(path_multi)\n",
    "sprintf(\"%i x %i dataframe\", nrow(df_multi), ncol(df_multi))"
   ]
  },
  {
   "cell_type": "code",
   "execution_count": 8,
   "metadata": {},
   "outputs": [
    {
     "data": {
      "text/html": [
       "'4996 x 53 dataframe'"
      ],
      "text/latex": [
       "'4996 x 53 dataframe'"
      ],
      "text/markdown": [
       "'4996 x 53 dataframe'"
      ],
      "text/plain": [
       "[1] \"4996 x 53 dataframe\""
      ]
     },
     "metadata": {},
     "output_type": "display_data"
    }
   ],
   "source": [
    "df_multi <- df_multi %>%\n",
    "                left_join(df_class,by=\"title\")\n",
    "sprintf(\"%i x %i dataframe\", nrow(df_multi), ncol(df_multi))"
   ]
  },
  {
   "cell_type": "code",
   "execution_count": 9,
   "metadata": {},
   "outputs": [],
   "source": [
    "write_csv(df_multi,\"./output/database_multi_rows_each_paper.csv\")"
   ]
  },
  {
   "cell_type": "markdown",
   "metadata": {},
   "source": [
    "### Create the database with one row for each publication-country association\n",
    "(If numerous models are related to a paper, the column *model* presents the first one by alphaetical order)"
   ]
  },
  {
   "cell_type": "code",
   "execution_count": 10,
   "metadata": {},
   "outputs": [
    {
     "data": {
      "text/html": [
       "'4884 x 53 dataframe'"
      ],
      "text/latex": [
       "'4884 x 53 dataframe'"
      ],
      "text/markdown": [
       "'4884 x 53 dataframe'"
      ],
      "text/plain": [
       "[1] \"4884 x 53 dataframe\""
      ]
     },
     "metadata": {},
     "output_type": "display_data"
    }
   ],
   "source": [
    "df_multi_one_country <- df_multi %>%\n",
    "                                group_by(Country,title)%>%\n",
    "                                summarize_all(list(first))\n",
    "sprintf(\"%i x %i dataframe\", nrow(df_multi_one_country), ncol(df_multi_one_country))"
   ]
  },
  {
   "cell_type": "code",
   "execution_count": 11,
   "metadata": {},
   "outputs": [],
   "source": [
    "write_csv(df_multi_one_country,\"./output/database_multi_rows_each_paper_one_per_country.csv\")"
   ]
  },
  {
   "cell_type": "markdown",
   "metadata": {},
   "source": [
    "### Add classification to the database with one row for each publication \n",
    "(if numerous countries or models are related to a paper, the columns \"Country\" and \"model\"\n",
    "present the first one by alphabetical order)"
   ]
  },
  {
   "cell_type": "code",
   "execution_count": 12,
   "metadata": {},
   "outputs": [
    {
     "name": "stderr",
     "output_type": "stream",
     "text": [
      "Parsed with column specification:\n",
      "cols(\n",
      "  ISO_3 = \u001b[31mcol_character()\u001b[39m,\n",
      "  Country = \u001b[31mcol_character()\u001b[39m,\n",
      "  Region = \u001b[31mcol_character()\u001b[39m,\n",
      "  title = \u001b[31mcol_character()\u001b[39m,\n",
      "  authors = \u001b[31mcol_character()\u001b[39m,\n",
      "  source = \u001b[31mcol_character()\u001b[39m,\n",
      "  doi = \u001b[31mcol_character()\u001b[39m,\n",
      "  abstract = \u001b[31mcol_character()\u001b[39m,\n",
      "  author_keywords = \u001b[31mcol_character()\u001b[39m,\n",
      "  publication_year = \u001b[32mcol_double()\u001b[39m,\n",
      "  horizon_year = \u001b[32mcol_double()\u001b[39m,\n",
      "  model = \u001b[31mcol_character()\u001b[39m,\n",
      "  scopus_number = \u001b[31mcol_character()\u001b[39m,\n",
      "  WOS_number = \u001b[31mcol_character()\u001b[39m\n",
      ")\n",
      "\n"
     ]
    },
    {
     "data": {
      "text/html": [
       "'4691 x 14 dataframe'"
      ],
      "text/latex": [
       "'4691 x 14 dataframe'"
      ],
      "text/markdown": [
       "'4691 x 14 dataframe'"
      ],
      "text/plain": [
       "[1] \"4691 x 14 dataframe\""
      ]
     },
     "metadata": {},
     "output_type": "display_data"
    }
   ],
   "source": [
    "path_one <- \"../2_Treatment_database/output/database_one_row_each_paper.csv\"\n",
    "df_one <- read_csv(path_one)\n",
    "sprintf(\"%i x %i dataframe\", nrow(df_one), ncol(df_one))"
   ]
  },
  {
   "cell_type": "code",
   "execution_count": 13,
   "metadata": {},
   "outputs": [
    {
     "data": {
      "text/html": [
       "'4691 x 53 dataframe'"
      ],
      "text/latex": [
       "'4691 x 53 dataframe'"
      ],
      "text/markdown": [
       "'4691 x 53 dataframe'"
      ],
      "text/plain": [
       "[1] \"4691 x 53 dataframe\""
      ]
     },
     "metadata": {},
     "output_type": "display_data"
    }
   ],
   "source": [
    "df_one <- df_one %>%\n",
    "                left_join(df_class,by=\"title\")\n",
    "sprintf(\"%i x %i dataframe\", nrow(df_one), ncol(df_one))"
   ]
  },
  {
   "cell_type": "code",
   "execution_count": 14,
   "metadata": {},
   "outputs": [],
   "source": [
    "write_csv(df_one,\"./output/database_one_row_each_paper.csv\")"
   ]
  }
 ],
 "metadata": {
  "kernelspec": {
   "display_name": "R",
   "language": "R",
   "name": "ir"
  },
  "language_info": {
   "codemirror_mode": "r",
   "file_extension": ".r",
   "mimetype": "text/x-r-source",
   "name": "R",
   "pygments_lexer": "r",
   "version": "3.6.3"
  }
 },
 "nbformat": 4,
 "nbformat_minor": 4
}
