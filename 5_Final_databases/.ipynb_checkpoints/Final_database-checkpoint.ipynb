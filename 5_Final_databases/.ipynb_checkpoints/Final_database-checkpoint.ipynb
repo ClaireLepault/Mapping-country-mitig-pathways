{
 "cells": [
  {
   "cell_type": "code",
   "execution_count": 1,
   "metadata": {},
   "outputs": [
    {
     "name": "stderr",
     "output_type": "stream",
     "text": [
      "Loading required package: ggplot2\n",
      "\n",
      "Loading required package: magrittr\n",
      "\n",
      "Registering fonts with R\n",
      "\n",
      "── \u001b[1mAttaching packages\u001b[22m ─────────────────────────────────────── tidyverse 1.3.0 ──\n",
      "\n",
      "\u001b[32m✔\u001b[39m \u001b[34mtibble \u001b[39m 3.1.0     \u001b[32m✔\u001b[39m \u001b[34mdplyr  \u001b[39m 0.8.4\n",
      "\u001b[32m✔\u001b[39m \u001b[34mtidyr  \u001b[39m 1.0.2     \u001b[32m✔\u001b[39m \u001b[34mstringr\u001b[39m 1.4.0\n",
      "\u001b[32m✔\u001b[39m \u001b[34mreadr  \u001b[39m 1.3.1     \u001b[32m✔\u001b[39m \u001b[34mforcats\u001b[39m 0.4.0\n",
      "\u001b[32m✔\u001b[39m \u001b[34mpurrr  \u001b[39m 0.3.3     \n",
      "\n",
      "── \u001b[1mConflicts\u001b[22m ────────────────────────────────────────── tidyverse_conflicts() ──\n",
      "\u001b[31m✖\u001b[39m \u001b[34mtidyr\u001b[39m::\u001b[32mextract()\u001b[39m   masks \u001b[34mmagrittr\u001b[39m::extract()\n",
      "\u001b[31m✖\u001b[39m \u001b[34mdplyr\u001b[39m::\u001b[32mfilter()\u001b[39m    masks \u001b[34mstats\u001b[39m::filter()\n",
      "\u001b[31m✖\u001b[39m \u001b[34mdplyr\u001b[39m::\u001b[32mlag()\u001b[39m       masks \u001b[34mstats\u001b[39m::lag()\n",
      "\u001b[31m✖\u001b[39m \u001b[34mpurrr\u001b[39m::\u001b[32mset_names()\u001b[39m masks \u001b[34mmagrittr\u001b[39m::set_names()\n",
      "\n",
      "\n",
      "Please cite as: \n",
      "\n",
      "\n",
      " Hlavac, Marek (2018). stargazer: Well-Formatted Regression and Summary Statistics Tables.\n",
      "\n",
      " R package version 5.2.2. https://CRAN.R-project.org/package=stargazer \n",
      "\n",
      "\n"
     ]
    }
   ],
   "source": [
    "list.of.packages <- c(\"tidyverse\",\"dplyr\",\"ggplot2\")\n",
    "new.packages <- list.of.packages[!(list.of.packages %in% installed.packages()[,\"Package\"])]\n",
    "if(length(new.packages)) install.packages(new.packages, repos = \"http://cran.us.r-project.org\")\n",
    "\n",
    "invisible(lapply(list.of.packages, library, character.only = TRUE))\n",
    "\n",
    "select <- dplyr::select\n",
    "\n",
    "options(repr.matrix.max.rows=50, repr.matrix.max.cols=500) "
   ]
  },
  {
   "cell_type": "markdown",
   "metadata": {},
   "source": [
    "### Download classification database"
   ]
  },
  {
   "cell_type": "code",
   "execution_count": 2,
   "metadata": {},
   "outputs": [
    {
     "name": "stderr",
     "output_type": "stream",
     "text": [
      "Parsed with column specification:\n",
      "cols(\n",
      "  .default = col_double(),\n",
      "  ISO_3 = \u001b[31mcol_character()\u001b[39m,\n",
      "  Country = \u001b[31mcol_character()\u001b[39m,\n",
      "  Region = \u001b[31mcol_character()\u001b[39m,\n",
      "  title = \u001b[31mcol_character()\u001b[39m,\n",
      "  authors = \u001b[31mcol_character()\u001b[39m,\n",
      "  source = \u001b[31mcol_character()\u001b[39m,\n",
      "  doi = \u001b[31mcol_character()\u001b[39m,\n",
      "  abstract = \u001b[31mcol_character()\u001b[39m,\n",
      "  author_keywords = \u001b[31mcol_character()\u001b[39m,\n",
      "  model = \u001b[31mcol_character()\u001b[39m,\n",
      "  scopus_number = \u001b[31mcol_character()\u001b[39m,\n",
      "  WOS_number = \u001b[31mcol_character()\u001b[39m,\n",
      "  stem_abstract = \u001b[31mcol_character()\u001b[39m\n",
      ")\n",
      "\n",
      "See spec(...) for full column specifications.\n",
      "\n"
     ]
    },
    {
     "data": {
      "text/html": [
       "'4691 x 55 dataframe'"
      ],
      "text/latex": [
       "'4691 x 55 dataframe'"
      ],
      "text/markdown": [
       "'4691 x 55 dataframe'"
      ],
      "text/plain": [
       "[1] \"4691 x 55 dataframe\""
      ]
     },
     "metadata": {},
     "output_type": "display_data"
    }
   ],
   "source": [
    "df_class <- read_csv(\"../3_Topic_modeling/output/database_seuil_0.02.csv\")\n",
    "sprintf(\"%i x %i dataframe\", nrow(df_class), ncol(df_class))"
   ]
  },
  {
   "cell_type": "code",
   "execution_count": 3,
   "metadata": {},
   "outputs": [],
   "source": [
    "df_class <- df_class %>% \n",
    "            select(title, 16:54)"
   ]
  },
  {
   "cell_type": "markdown",
   "metadata": {},
   "source": [
    "### Add classification to multi rows database"
   ]
  },
  {
   "cell_type": "code",
   "execution_count": 4,
   "metadata": {},
   "outputs": [
    {
     "name": "stderr",
     "output_type": "stream",
     "text": [
      "Parsed with column specification:\n",
      "cols(\n",
      "  ISO_3 = \u001b[31mcol_character()\u001b[39m,\n",
      "  Country = \u001b[31mcol_character()\u001b[39m,\n",
      "  Region = \u001b[31mcol_character()\u001b[39m,\n",
      "  title = \u001b[31mcol_character()\u001b[39m,\n",
      "  authors = \u001b[31mcol_character()\u001b[39m,\n",
      "  source = \u001b[31mcol_character()\u001b[39m,\n",
      "  doi = \u001b[31mcol_character()\u001b[39m,\n",
      "  abstract = \u001b[31mcol_character()\u001b[39m,\n",
      "  author_keywords = \u001b[31mcol_character()\u001b[39m,\n",
      "  publication_year = \u001b[32mcol_double()\u001b[39m,\n",
      "  horizon_year = \u001b[32mcol_double()\u001b[39m,\n",
      "  model = \u001b[31mcol_character()\u001b[39m,\n",
      "  scopus_number = \u001b[31mcol_character()\u001b[39m,\n",
      "  WOS_number = \u001b[31mcol_character()\u001b[39m\n",
      ")\n",
      "\n"
     ]
    },
    {
     "data": {
      "text/html": [
       "'4996 x 14 dataframe'"
      ],
      "text/latex": [
       "'4996 x 14 dataframe'"
      ],
      "text/markdown": [
       "'4996 x 14 dataframe'"
      ],
      "text/plain": [
       "[1] \"4996 x 14 dataframe\""
      ]
     },
     "metadata": {},
     "output_type": "display_data"
    }
   ],
   "source": [
    "path <- \"../2_Treatment_database/output/database_multi_rows_each_paper.csv\"\n",
    "df <- read_csv(path)\n",
    "sprintf(\"%i x %i dataframe\", nrow(df), ncol(df))"
   ]
  },
  {
   "cell_type": "code",
   "execution_count": 5,
   "metadata": {},
   "outputs": [
    {
     "data": {
      "text/html": [
       "875"
      ],
      "text/latex": [
       "875"
      ],
      "text/markdown": [
       "875"
      ],
      "text/plain": [
       "[1] 875"
      ]
     },
     "metadata": {},
     "output_type": "display_data"
    }
   ],
   "source": [
    "nrow(subset(df,!is.na(model)))"
   ]
  },
  {
   "cell_type": "code",
   "execution_count": 6,
   "metadata": {},
   "outputs": [
    {
     "name": "stderr",
     "output_type": "stream",
     "text": [
      "Parsed with column specification:\n",
      "cols(\n",
      "  ISO_3 = \u001b[31mcol_character()\u001b[39m,\n",
      "  Country = \u001b[31mcol_character()\u001b[39m,\n",
      "  Region = \u001b[31mcol_character()\u001b[39m,\n",
      "  title = \u001b[31mcol_character()\u001b[39m,\n",
      "  authors = \u001b[31mcol_character()\u001b[39m,\n",
      "  source = \u001b[31mcol_character()\u001b[39m,\n",
      "  doi = \u001b[31mcol_character()\u001b[39m,\n",
      "  abstract = \u001b[31mcol_character()\u001b[39m,\n",
      "  author_keywords = \u001b[31mcol_character()\u001b[39m,\n",
      "  publication_year = \u001b[32mcol_double()\u001b[39m,\n",
      "  horizon_year = \u001b[32mcol_double()\u001b[39m,\n",
      "  model = \u001b[31mcol_character()\u001b[39m,\n",
      "  scopus_number = \u001b[31mcol_character()\u001b[39m,\n",
      "  WOS_number = \u001b[31mcol_character()\u001b[39m\n",
      ")\n",
      "\n"
     ]
    },
    {
     "data": {
      "text/html": [
       "'4691 x 14 dataframe'"
      ],
      "text/latex": [
       "'4691 x 14 dataframe'"
      ],
      "text/markdown": [
       "'4691 x 14 dataframe'"
      ],
      "text/plain": [
       "[1] \"4691 x 14 dataframe\""
      ]
     },
     "metadata": {},
     "output_type": "display_data"
    },
    {
     "data": {
      "text/html": [
       "734"
      ],
      "text/latex": [
       "734"
      ],
      "text/markdown": [
       "734"
      ],
      "text/plain": [
       "[1] 734"
      ]
     },
     "metadata": {},
     "output_type": "display_data"
    }
   ],
   "source": [
    "path <- \"../2_Treatment_database/output/database_one_row_each_paper.csv\"\n",
    "df_one <- read_csv(path)\n",
    "sprintf(\"%i x %i dataframe\", nrow(df_one), ncol(df_one))\n",
    "nrow(subset(df_one,!is.na(model)))"
   ]
  },
  {
   "cell_type": "code",
   "execution_count": 7,
   "metadata": {},
   "outputs": [
    {
     "data": {
      "text/html": [
       "'4996 x 53 dataframe'"
      ],
      "text/latex": [
       "'4996 x 53 dataframe'"
      ],
      "text/markdown": [
       "'4996 x 53 dataframe'"
      ],
      "text/plain": [
       "[1] \"4996 x 53 dataframe\""
      ]
     },
     "metadata": {},
     "output_type": "display_data"
    }
   ],
   "source": [
    "df <- df %>%\n",
    "        left_join(df_class,by=\"title\")\n",
    "sprintf(\"%i x %i dataframe\", nrow(df), ncol(df))"
   ]
  },
  {
   "cell_type": "markdown",
   "metadata": {},
   "source": [
    "### Table with final topics names"
   ]
  },
  {
   "cell_type": "code",
   "execution_count": 8,
   "metadata": {},
   "outputs": [
    {
     "name": "stderr",
     "output_type": "stream",
     "text": [
      "Parsed with column specification:\n",
      "cols(\n",
      "  Index = \u001b[32mcol_double()\u001b[39m,\n",
      "  Name = \u001b[31mcol_character()\u001b[39m,\n",
      "  Terms = \u001b[31mcol_character()\u001b[39m,\n",
      "  Category = \u001b[31mcol_character()\u001b[39m,\n",
      "  Sector = \u001b[31mcol_character()\u001b[39m,\n",
      "  `Relevant IPCC WG3 chapter` = \u001b[31mcol_character()\u001b[39m,\n",
      "  T0.02 = \u001b[32mcol_double()\u001b[39m,\n",
      "  T0.02Title = \u001b[32mcol_double()\u001b[39m\n",
      ")\n",
      "\n"
     ]
    },
    {
     "data": {
      "text/html": [
       "'39 x 8 dataframe'"
      ],
      "text/latex": [
       "'39 x 8 dataframe'"
      ],
      "text/markdown": [
       "'39 x 8 dataframe'"
      ],
      "text/plain": [
       "[1] \"39 x 8 dataframe\""
      ]
     },
     "metadata": {},
     "output_type": "display_data"
    }
   ],
   "source": [
    "topics_table <- read_csv(\"../4_Manual_treatment_topic_table/ouput/Table_topics.csv\")\n",
    "sprintf(\"%i x %i dataframe\", nrow(topics_table), ncol(topics_table))"
   ]
  },
  {
   "cell_type": "markdown",
   "metadata": {},
   "source": [
    "#### List of topics with initial apparition order"
   ]
  },
  {
   "cell_type": "code",
   "execution_count": 9,
   "metadata": {},
   "outputs": [],
   "source": [
    "topics_list_ini <- as.character(topics_table$Name)"
   ]
  },
  {
   "cell_type": "markdown",
   "metadata": {},
   "source": [
    "#### List of topics ordered by descending topic representation"
   ]
  },
  {
   "cell_type": "code",
   "execution_count": 10,
   "metadata": {},
   "outputs": [],
   "source": [
    "topics_table_ordered <- topics_table %>% \n",
    "                                arrange(desc(T0.02))"
   ]
  },
  {
   "cell_type": "code",
   "execution_count": 11,
   "metadata": {},
   "outputs": [],
   "source": [
    "topics_list <- as.character(topics_table_ordered$Name)"
   ]
  },
  {
   "cell_type": "code",
   "execution_count": 12,
   "metadata": {},
   "outputs": [
    {
     "data": {
      "text/html": [
       "<table>\n",
       "<caption>A tibble: 2 × 42</caption>\n",
       "<thead>\n",
       "\t<tr><th scope=col>Country</th><th scope=col>Region</th><th scope=col>model</th><th scope=col>Energy efficiency</th><th scope=col>Climate change</th><th scope=col>Power</th><th scope=col>Vehicle</th><th scope=col>Cement</th><th scope=col>Forest</th><th scope=col>Steel/Iron</th><th scope=col>Buildings</th><th scope=col>Water</th><th scope=col>Air Pollution</th><th scope=col>Electricity</th><th scope=col>CCS</th><th scope=col>Transport</th><th scope=col>Policy-Dvlpt-Eco</th><th scope=col>Agriculture</th><th scope=col>Tax</th><th scope=col>Heat Pump</th><th scope=col>Consumption</th><th scope=col>Scenario</th><th scope=col>Wind/Solar</th><th scope=col>Costs</th><th scope=col>Coal</th><th scope=col>Nuclear</th><th scope=col>Fuel</th><th scope=col>Renewable Energies</th><th scope=col>Flood Risk</th><th scope=col>Technology</th><th scope=col>Bioenergy</th><th scope=col>Urban</th><th scope=col>Hydrogen</th><th scope=col>Permit market</th><th scope=col>Drought</th><th scope=col>Crop yield</th><th scope=col>Peak</th><th scope=col>Oil</th><th scope=col>Land Use</th><th scope=col>Target/INDC</th><th scope=col>Waste</th><th scope=col>System</th></tr>\n",
       "\t<tr><th scope=col>&lt;chr&gt;</th><th scope=col>&lt;chr&gt;</th><th scope=col>&lt;chr&gt;</th><th scope=col>&lt;dbl&gt;</th><th scope=col>&lt;dbl&gt;</th><th scope=col>&lt;dbl&gt;</th><th scope=col>&lt;dbl&gt;</th><th scope=col>&lt;dbl&gt;</th><th scope=col>&lt;dbl&gt;</th><th scope=col>&lt;dbl&gt;</th><th scope=col>&lt;dbl&gt;</th><th scope=col>&lt;dbl&gt;</th><th scope=col>&lt;dbl&gt;</th><th scope=col>&lt;dbl&gt;</th><th scope=col>&lt;dbl&gt;</th><th scope=col>&lt;dbl&gt;</th><th scope=col>&lt;dbl&gt;</th><th scope=col>&lt;dbl&gt;</th><th scope=col>&lt;dbl&gt;</th><th scope=col>&lt;dbl&gt;</th><th scope=col>&lt;dbl&gt;</th><th scope=col>&lt;dbl&gt;</th><th scope=col>&lt;dbl&gt;</th><th scope=col>&lt;dbl&gt;</th><th scope=col>&lt;dbl&gt;</th><th scope=col>&lt;dbl&gt;</th><th scope=col>&lt;dbl&gt;</th><th scope=col>&lt;dbl&gt;</th><th scope=col>&lt;dbl&gt;</th><th scope=col>&lt;dbl&gt;</th><th scope=col>&lt;dbl&gt;</th><th scope=col>&lt;dbl&gt;</th><th scope=col>&lt;dbl&gt;</th><th scope=col>&lt;dbl&gt;</th><th scope=col>&lt;dbl&gt;</th><th scope=col>&lt;dbl&gt;</th><th scope=col>&lt;dbl&gt;</th><th scope=col>&lt;dbl&gt;</th><th scope=col>&lt;dbl&gt;</th><th scope=col>&lt;dbl&gt;</th><th scope=col>&lt;dbl&gt;</th><th scope=col>&lt;dbl&gt;</th></tr>\n",
       "</thead>\n",
       "<tbody>\n",
       "\t<tr><td>Afghanistan</td><td>Asia  </td><td>NA</td><td>1</td><td>1</td><td>1</td><td>0</td><td>0</td><td>0</td><td>0</td><td>0</td><td>0</td><td>0</td><td>0</td><td>0</td><td>0</td><td>1</td><td>0</td><td>0</td><td>0</td><td>0</td><td>0</td><td>1</td><td>0</td><td>0</td><td>0</td><td>0</td><td>0</td><td>0</td><td>0</td><td>0</td><td>0</td><td>0</td><td>0</td><td>0</td><td>0</td><td>0</td><td>0</td><td>0</td><td>0</td><td>0</td><td>0</td></tr>\n",
       "\t<tr><td>Angola     </td><td>Africa</td><td>NA</td><td>1</td><td>0</td><td>1</td><td>0</td><td>0</td><td>0</td><td>0</td><td>0</td><td>0</td><td>0</td><td>1</td><td>0</td><td>0</td><td>1</td><td>0</td><td>0</td><td>0</td><td>0</td><td>0</td><td>0</td><td>0</td><td>0</td><td>0</td><td>0</td><td>0</td><td>0</td><td>0</td><td>1</td><td>1</td><td>0</td><td>0</td><td>0</td><td>0</td><td>0</td><td>0</td><td>0</td><td>0</td><td>1</td><td>0</td></tr>\n",
       "</tbody>\n",
       "</table>\n"
      ],
      "text/latex": [
       "A tibble: 2 × 42\n",
       "\\begin{tabular}{llllllllllllllllllllllllllllllllllllllllll}\n",
       " Country & Region & model & Energy efficiency & Climate change & Power & Vehicle & Cement & Forest & Steel/Iron & Buildings & Water & Air Pollution & Electricity & CCS & Transport & Policy-Dvlpt-Eco & Agriculture & Tax & Heat Pump & Consumption & Scenario & Wind/Solar & Costs & Coal & Nuclear & Fuel & Renewable Energies & Flood Risk & Technology & Bioenergy & Urban & Hydrogen & Permit market & Drought & Crop yield & Peak & Oil & Land Use & Target/INDC & Waste & System\\\\\n",
       " <chr> & <chr> & <chr> & <dbl> & <dbl> & <dbl> & <dbl> & <dbl> & <dbl> & <dbl> & <dbl> & <dbl> & <dbl> & <dbl> & <dbl> & <dbl> & <dbl> & <dbl> & <dbl> & <dbl> & <dbl> & <dbl> & <dbl> & <dbl> & <dbl> & <dbl> & <dbl> & <dbl> & <dbl> & <dbl> & <dbl> & <dbl> & <dbl> & <dbl> & <dbl> & <dbl> & <dbl> & <dbl> & <dbl> & <dbl> & <dbl> & <dbl>\\\\\n",
       "\\hline\n",
       "\t Afghanistan & Asia   & NA & 1 & 1 & 1 & 0 & 0 & 0 & 0 & 0 & 0 & 0 & 0 & 0 & 0 & 1 & 0 & 0 & 0 & 0 & 0 & 1 & 0 & 0 & 0 & 0 & 0 & 0 & 0 & 0 & 0 & 0 & 0 & 0 & 0 & 0 & 0 & 0 & 0 & 0 & 0\\\\\n",
       "\t Angola      & Africa & NA & 1 & 0 & 1 & 0 & 0 & 0 & 0 & 0 & 0 & 0 & 1 & 0 & 0 & 1 & 0 & 0 & 0 & 0 & 0 & 0 & 0 & 0 & 0 & 0 & 0 & 0 & 0 & 1 & 1 & 0 & 0 & 0 & 0 & 0 & 0 & 0 & 0 & 1 & 0\\\\\n",
       "\\end{tabular}\n"
      ],
      "text/markdown": [
       "\n",
       "A tibble: 2 × 42\n",
       "\n",
       "| Country &lt;chr&gt; | Region &lt;chr&gt; | model &lt;chr&gt; | Energy efficiency &lt;dbl&gt; | Climate change &lt;dbl&gt; | Power &lt;dbl&gt; | Vehicle &lt;dbl&gt; | Cement &lt;dbl&gt; | Forest &lt;dbl&gt; | Steel/Iron &lt;dbl&gt; | Buildings &lt;dbl&gt; | Water &lt;dbl&gt; | Air Pollution &lt;dbl&gt; | Electricity &lt;dbl&gt; | CCS &lt;dbl&gt; | Transport &lt;dbl&gt; | Policy-Dvlpt-Eco &lt;dbl&gt; | Agriculture &lt;dbl&gt; | Tax &lt;dbl&gt; | Heat Pump &lt;dbl&gt; | Consumption &lt;dbl&gt; | Scenario &lt;dbl&gt; | Wind/Solar &lt;dbl&gt; | Costs &lt;dbl&gt; | Coal &lt;dbl&gt; | Nuclear &lt;dbl&gt; | Fuel &lt;dbl&gt; | Renewable Energies &lt;dbl&gt; | Flood Risk &lt;dbl&gt; | Technology &lt;dbl&gt; | Bioenergy &lt;dbl&gt; | Urban &lt;dbl&gt; | Hydrogen &lt;dbl&gt; | Permit market &lt;dbl&gt; | Drought &lt;dbl&gt; | Crop yield &lt;dbl&gt; | Peak &lt;dbl&gt; | Oil &lt;dbl&gt; | Land Use &lt;dbl&gt; | Target/INDC &lt;dbl&gt; | Waste &lt;dbl&gt; | System &lt;dbl&gt; |\n",
       "|---|---|---|---|---|---|---|---|---|---|---|---|---|---|---|---|---|---|---|---|---|---|---|---|---|---|---|---|---|---|---|---|---|---|---|---|---|---|---|---|---|---|\n",
       "| Afghanistan | Asia   | NA | 1 | 1 | 1 | 0 | 0 | 0 | 0 | 0 | 0 | 0 | 0 | 0 | 0 | 1 | 0 | 0 | 0 | 0 | 0 | 1 | 0 | 0 | 0 | 0 | 0 | 0 | 0 | 0 | 0 | 0 | 0 | 0 | 0 | 0 | 0 | 0 | 0 | 0 | 0 |\n",
       "| Angola      | Africa | NA | 1 | 0 | 1 | 0 | 0 | 0 | 0 | 0 | 0 | 0 | 1 | 0 | 0 | 1 | 0 | 0 | 0 | 0 | 0 | 0 | 0 | 0 | 0 | 0 | 0 | 0 | 0 | 1 | 1 | 0 | 0 | 0 | 0 | 0 | 0 | 0 | 0 | 1 | 0 |\n",
       "\n"
      ],
      "text/plain": [
       "  Country     Region model Energy efficiency Climate change Power Vehicle\n",
       "1 Afghanistan Asia   NA    1                 1              1     0      \n",
       "2 Angola      Africa NA    1                 0              1     0      \n",
       "  Cement Forest Steel/Iron Buildings Water Air Pollution Electricity CCS\n",
       "1 0      0      0          0         0     0             0           0  \n",
       "2 0      0      0          0         0     0             1           0  \n",
       "  Transport Policy-Dvlpt-Eco Agriculture Tax Heat Pump Consumption Scenario\n",
       "1 0         1                0           0   0         0           0       \n",
       "2 0         1                0           0   0         0           0       \n",
       "  Wind/Solar Costs Coal Nuclear Fuel Renewable Energies Flood Risk Technology\n",
       "1 1          0     0    0       0    0                  0          0         \n",
       "2 0          0     0    0       0    0                  0          0         \n",
       "  Bioenergy Urban Hydrogen Permit market Drought Crop yield Peak Oil Land Use\n",
       "1 0         0     0        0             0       0          0    0   0       \n",
       "2 1         1     0        0             0       0          0    0   0       \n",
       "  Target/INDC Waste System\n",
       "1 0           0     0     \n",
       "2 0           1     0     "
      ]
     },
     "metadata": {},
     "output_type": "display_data"
    }
   ],
   "source": [
    "df <- df %>% \n",
    "            select(Country, Region, model, 15:53) %>% \n",
    "            rename_if(is.numeric, ~ topics_list_ini) \n",
    "                \n",
    "head(df,2)"
   ]
  },
  {
   "cell_type": "code",
   "execution_count": 13,
   "metadata": {},
   "outputs": [
    {
     "data": {
      "text/html": [
       "4996"
      ],
      "text/latex": [
       "4996"
      ],
      "text/markdown": [
       "4996"
      ],
      "text/plain": [
       "[1] 4996"
      ]
     },
     "metadata": {},
     "output_type": "display_data"
    }
   ],
   "source": [
    "nrow(df)"
   ]
  },
  {
   "cell_type": "code",
   "execution_count": 14,
   "metadata": {},
   "outputs": [],
   "source": [
    "df <- df%>%\n",
    "            filter(!is.na(model))"
   ]
  },
  {
   "cell_type": "code",
   "execution_count": 15,
   "metadata": {},
   "outputs": [
    {
     "data": {
      "text/html": [
       "'5051 x 4 final dataframe'"
      ],
      "text/latex": [
       "'5051 x 4 final dataframe'"
      ],
      "text/markdown": [
       "'5051 x 4 final dataframe'"
      ],
      "text/plain": [
       "[1] \"5051 x 4 final dataframe\""
      ]
     },
     "metadata": {},
     "output_type": "display_data"
    },
    {
     "data": {
      "text/html": [
       "<table>\n",
       "<caption>A tibble: 2 × 4</caption>\n",
       "<thead>\n",
       "\t<tr><th scope=col>Country</th><th scope=col>Region</th><th scope=col>model</th><th scope=col>topic</th></tr>\n",
       "\t<tr><th scope=col>&lt;chr&gt;</th><th scope=col>&lt;chr&gt;</th><th scope=col>&lt;chr&gt;</th><th scope=col>&lt;fct&gt;</th></tr>\n",
       "</thead>\n",
       "<tbody>\n",
       "\t<tr><td>United Arab Emirates</td><td>Asia</td><td>MESSAGE</td><td>Energy efficiency</td></tr>\n",
       "\t<tr><td>Bangladesh          </td><td>Asia</td><td>MARKAL </td><td>Energy efficiency</td></tr>\n",
       "</tbody>\n",
       "</table>\n"
      ],
      "text/latex": [
       "A tibble: 2 × 4\n",
       "\\begin{tabular}{llll}\n",
       " Country & Region & model & topic\\\\\n",
       " <chr> & <chr> & <chr> & <fct>\\\\\n",
       "\\hline\n",
       "\t United Arab Emirates & Asia & MESSAGE & Energy efficiency\\\\\n",
       "\t Bangladesh           & Asia & MARKAL  & Energy efficiency\\\\\n",
       "\\end{tabular}\n"
      ],
      "text/markdown": [
       "\n",
       "A tibble: 2 × 4\n",
       "\n",
       "| Country &lt;chr&gt; | Region &lt;chr&gt; | model &lt;chr&gt; | topic &lt;fct&gt; |\n",
       "|---|---|---|---|\n",
       "| United Arab Emirates | Asia | MESSAGE | Energy efficiency |\n",
       "| Bangladesh           | Asia | MARKAL  | Energy efficiency |\n",
       "\n"
      ],
      "text/plain": [
       "  Country              Region model   topic            \n",
       "1 United Arab Emirates Asia   MESSAGE Energy efficiency\n",
       "2 Bangladesh           Asia   MARKAL  Energy efficiency"
      ]
     },
     "metadata": {},
     "output_type": "display_data"
    }
   ],
   "source": [
    "df_ga <- gather(df, topic, measurement, 'Energy efficiency':'System', factor_key=TRUE)\n",
    "df_ga <- df_ga %>% \n",
    "         filter(measurement>0 & !is.na(model))%>% \n",
    "         select(.,-c(measurement))\n",
    "sprintf(\"%i x %i final dataframe\", nrow(df_ga), ncol(df_ga))\n",
    "head(df_ga,2)"
   ]
  },
  {
   "cell_type": "code",
   "execution_count": 16,
   "metadata": {},
   "outputs": [],
   "source": [
    "plot_topic <- function(topic_name) {\n",
    "    df_topic <- df_ga %>% \n",
    "                filter(topic == topic_name)%>%\n",
    "                dplyr::group_by(model)%>%\n",
    "                dplyr::summarise(count = n())%>%\n",
    "                mutate(topic=topic_name)\n",
    "    #dataframe with the five countries most often associated to the topic\n",
    "    head_topic <- head(df_topic[order(-df_topic$count),],3) \n",
    "    head_topic <- data.frame(head_topic)\n",
    "    #aggregation of all other countries\n",
    "    row_other <- c(\"Others\",sum(tail(df_topic[order(-df_topic$count),],-3)$count),topic_name)\n",
    "    head_topic[4,] <- row_other\n",
    "    #rank column for apparition order in the graph (always row Other at the end)\n",
    "    head_topic[,4] <- c(1,2,3,4)\n",
    "    names(head_topic)[4] <- \"Rank\"\n",
    "    head_topic$count <- as.double(head_topic$count)\n",
    "    return(head_topic)\n",
    "    }"
   ]
  },
  {
   "cell_type": "code",
   "execution_count": 17,
   "metadata": {},
   "outputs": [],
   "source": [
    "plot1 <- plot_topic(topics_list[1])\n",
    "plot2 <- plot_topic(topics_list[2])\n",
    "plot3 <- plot_topic(topics_list[3])\n",
    "plot4 <- plot_topic(topics_list[4])\n",
    "plot5 <- plot_topic(topics_list[5])\n",
    "plot6 <- plot_topic(topics_list[6])\n",
    "plot7 <- plot_topic(topics_list[7])\n",
    "plot8 <- plot_topic(topics_list[8])\n",
    "plot9 <- plot_topic(topics_list[9])\n",
    "plot10 <- plot_topic(topics_list[10])\n",
    "plot11 <- plot_topic(topics_list[11])\n",
    "plot12 <- plot_topic(topics_list[12])\n",
    "plot13 <- plot_topic(topics_list[13])\n",
    "plot14 <- plot_topic(topics_list[14])\n",
    "plot15 <- plot_topic(topics_list[15])\n",
    "plot16 <- plot_topic(topics_list[16])\n",
    "plot17 <- plot_topic(topics_list[17])\n",
    "plot18 <- plot_topic(topics_list[18])\n",
    "plot19 <- plot_topic(topics_list[19])\n",
    "plot20 <- plot_topic(topics_list[20])\n",
    "plot21 <- plot_topic(topics_list[21])\n",
    "plot22 <- plot_topic(topics_list[22])\n",
    "plot23 <- plot_topic(topics_list[23])\n",
    "plot24 <- plot_topic(topics_list[24])\n",
    "plot25 <- plot_topic(topics_list[25])\n",
    "plot26 <- plot_topic(topics_list[26])\n",
    "plot27 <- plot_topic(topics_list[27])\n",
    "plot28 <- plot_topic(topics_list[28])\n",
    "plot29 <- plot_topic(topics_list[29])\n",
    "plot30 <- plot_topic(topics_list[30])\n",
    "plot31 <- plot_topic(topics_list[31])\n",
    "plot32 <- plot_topic(topics_list[32])\n",
    "plot33 <- plot_topic(topics_list[33])\n",
    "plot34 <- plot_topic(topics_list[34])\n",
    "plot35 <- plot_topic(topics_list[35])\n",
    "plot36 <- plot_topic(topics_list[36])\n",
    "plot37 <- plot_topic(topics_list[37])\n",
    "plot38 <- plot_topic(topics_list[38])\n",
    "plot39 <- plot_topic(topics_list[39])"
   ]
  },
  {
   "cell_type": "code",
   "execution_count": 18,
   "metadata": {},
   "outputs": [],
   "source": [
    "df_tot <- rbind(plot1,plot2, plot3, plot4, plot5, plot6, plot7, plot8, plot9, plot10,\n",
    "                plot11,plot12, plot13, plot14, plot15, plot16, plot17, plot18, plot19, plot20,\n",
    "                plot21,plot22, plot23, plot24, plot25, plot26, plot27, plot28, plot29, plot30,\n",
    "                plot31,plot32, plot33, plot34, plot35, plot36, plot37, plot38, plot39)"
   ]
  },
  {
   "cell_type": "code",
   "execution_count": 19,
   "metadata": {
    "scrolled": true
   },
   "outputs": [
    {
     "data": {
      "text/html": [
       "<style>\n",
       ".list-inline {list-style: none; margin:0; padding: 0}\n",
       ".list-inline>li {display: inline-block}\n",
       ".list-inline>li:not(:last-child)::after {content: \"\\00b7\"; padding: 0 .5ex}\n",
       "</style>\n",
       "<ol class=list-inline><li>'Policy-Dvlpt-Eco'</li><li>'Climate change'</li><li>'Energy efficiency'</li><li>'Scenario'</li><li>'Consumption'</li><li>'Electricity'</li><li>'Power'</li><li>'Costs'</li><li>'Target/INDC'</li><li>'Air Pollution'</li><li>'Fuel'</li><li>'Transport'</li><li>'System'</li><li>'Renewable Energies'</li><li>'Cement'</li><li>'Technology'</li><li>'Land Use'</li><li>'Permit market'</li><li>'Vehicle'</li><li>'Coal'</li><li>'Buildings'</li><li>'Agriculture'</li><li>'Bioenergy'</li><li>'Urban'</li><li>'Wind/Solar'</li><li>'Forest'</li><li>'Crop yield'</li><li>'Water'</li><li>'Flood Risk'</li><li>'Heat Pump'</li><li>'CCS'</li><li>'Waste'</li><li>'Tax'</li><li>'Oil'</li><li>'Peak'</li><li>'Nuclear'</li><li>'Steel/Iron'</li><li>'Hydrogen'</li><li>'Drought'</li></ol>\n"
      ],
      "text/latex": [
       "\\begin{enumerate*}\n",
       "\\item 'Policy-Dvlpt-Eco'\n",
       "\\item 'Climate change'\n",
       "\\item 'Energy efficiency'\n",
       "\\item 'Scenario'\n",
       "\\item 'Consumption'\n",
       "\\item 'Electricity'\n",
       "\\item 'Power'\n",
       "\\item 'Costs'\n",
       "\\item 'Target/INDC'\n",
       "\\item 'Air Pollution'\n",
       "\\item 'Fuel'\n",
       "\\item 'Transport'\n",
       "\\item 'System'\n",
       "\\item 'Renewable Energies'\n",
       "\\item 'Cement'\n",
       "\\item 'Technology'\n",
       "\\item 'Land Use'\n",
       "\\item 'Permit market'\n",
       "\\item 'Vehicle'\n",
       "\\item 'Coal'\n",
       "\\item 'Buildings'\n",
       "\\item 'Agriculture'\n",
       "\\item 'Bioenergy'\n",
       "\\item 'Urban'\n",
       "\\item 'Wind/Solar'\n",
       "\\item 'Forest'\n",
       "\\item 'Crop yield'\n",
       "\\item 'Water'\n",
       "\\item 'Flood Risk'\n",
       "\\item 'Heat Pump'\n",
       "\\item 'CCS'\n",
       "\\item 'Waste'\n",
       "\\item 'Tax'\n",
       "\\item 'Oil'\n",
       "\\item 'Peak'\n",
       "\\item 'Nuclear'\n",
       "\\item 'Steel/Iron'\n",
       "\\item 'Hydrogen'\n",
       "\\item 'Drought'\n",
       "\\end{enumerate*}\n"
      ],
      "text/markdown": [
       "1. 'Policy-Dvlpt-Eco'\n",
       "2. 'Climate change'\n",
       "3. 'Energy efficiency'\n",
       "4. 'Scenario'\n",
       "5. 'Consumption'\n",
       "6. 'Electricity'\n",
       "7. 'Power'\n",
       "8. 'Costs'\n",
       "9. 'Target/INDC'\n",
       "10. 'Air Pollution'\n",
       "11. 'Fuel'\n",
       "12. 'Transport'\n",
       "13. 'System'\n",
       "14. 'Renewable Energies'\n",
       "15. 'Cement'\n",
       "16. 'Technology'\n",
       "17. 'Land Use'\n",
       "18. 'Permit market'\n",
       "19. 'Vehicle'\n",
       "20. 'Coal'\n",
       "21. 'Buildings'\n",
       "22. 'Agriculture'\n",
       "23. 'Bioenergy'\n",
       "24. 'Urban'\n",
       "25. 'Wind/Solar'\n",
       "26. 'Forest'\n",
       "27. 'Crop yield'\n",
       "28. 'Water'\n",
       "29. 'Flood Risk'\n",
       "30. 'Heat Pump'\n",
       "31. 'CCS'\n",
       "32. 'Waste'\n",
       "33. 'Tax'\n",
       "34. 'Oil'\n",
       "35. 'Peak'\n",
       "36. 'Nuclear'\n",
       "37. 'Steel/Iron'\n",
       "38. 'Hydrogen'\n",
       "39. 'Drought'\n",
       "\n",
       "\n"
      ],
      "text/plain": [
       " [1] \"Policy-Dvlpt-Eco\"   \"Climate change\"     \"Energy efficiency\" \n",
       " [4] \"Scenario\"           \"Consumption\"        \"Electricity\"       \n",
       " [7] \"Power\"              \"Costs\"              \"Target/INDC\"       \n",
       "[10] \"Air Pollution\"      \"Fuel\"               \"Transport\"         \n",
       "[13] \"System\"             \"Renewable Energies\" \"Cement\"            \n",
       "[16] \"Technology\"         \"Land Use\"           \"Permit market\"     \n",
       "[19] \"Vehicle\"            \"Coal\"               \"Buildings\"         \n",
       "[22] \"Agriculture\"        \"Bioenergy\"          \"Urban\"             \n",
       "[25] \"Wind/Solar\"         \"Forest\"             \"Crop yield\"        \n",
       "[28] \"Water\"              \"Flood Risk\"         \"Heat Pump\"         \n",
       "[31] \"CCS\"                \"Waste\"              \"Tax\"               \n",
       "[34] \"Oil\"                \"Peak\"               \"Nuclear\"           \n",
       "[37] \"Steel/Iron\"         \"Hydrogen\"           \"Drought\"           "
      ]
     },
     "metadata": {},
     "output_type": "display_data"
    }
   ],
   "source": [
    "topics_list"
   ]
  },
  {
   "cell_type": "code",
   "execution_count": 20,
   "metadata": {},
   "outputs": [],
   "source": [
    "models_ordered <- df %>% \n",
    "                        group_by(model)%>%\n",
    "                        summarise(n_mod = n())%>%\n",
    "                        arrange(desc(n_mod))"
   ]
  },
  {
   "cell_type": "code",
   "execution_count": 21,
   "metadata": {},
   "outputs": [
    {
     "data": {
      "text/html": [
       "<style>\n",
       ".list-inline {list-style: none; margin:0; padding: 0}\n",
       ".list-inline>li {display: inline-block}\n",
       ".list-inline>li:not(:last-child)::after {content: \"\\00b7\"; padding: 0 .5ex}\n",
       "</style>\n",
       "<ol class=list-inline><li>'CGE'</li><li>'LEAP'</li><li>'TIMES'</li><li>'MARKAL'</li><li>'Input-Output'</li><li>'AIM'</li><li>'IAM'</li><li>'GAINS'</li><li>'PRIMES'</li><li>'MESSAGE'</li><li>'GCAM'</li><li>'EPPA'</li><li>'IMACLIM'</li><li>'RICE'</li><li>'MARKAL-MACRO'</li><li>'AQUACROP'</li><li>'GEM-E3'</li><li>'IMPACT'</li><li>'WITCH'</li><li>'IMAGE'</li><li>'E3ME'</li><li>'GTAP'</li><li>'InVEST'</li><li>'IPAC'</li><li>'OseMOSYS'</li><li>'GLOBIOM'</li><li>'IGSM'</li><li>'Social Accounting Matrices'</li><li>'ASF'</li><li>'ASTRA'</li><li>'E3MG'</li><li>'PAGE'</li><li>'POLES'</li><li>'REMIND'</li><li>'TIMES-MACRO'</li><li>'Australian Stocks and Flows'</li><li>'BLUES'</li><li>'BUENAS'</li><li>'C3IAM'</li><li>'CLUE'</li><li>'EDGE'</li><li>'FASOM-GHG'</li><li>'Gdyn'</li><li>'GIAM'</li><li>'ICES'</li><li>'LEITAP'</li><li>'MERGE'</li><li>'PANTA RHEI'</li><li>'Powerplan'</li><li>'Threshold 21'</li><li>'TIMER'</li><li>'WIOD'</li><li>'World Energy Model'</li></ol>\n"
      ],
      "text/latex": [
       "\\begin{enumerate*}\n",
       "\\item 'CGE'\n",
       "\\item 'LEAP'\n",
       "\\item 'TIMES'\n",
       "\\item 'MARKAL'\n",
       "\\item 'Input-Output'\n",
       "\\item 'AIM'\n",
       "\\item 'IAM'\n",
       "\\item 'GAINS'\n",
       "\\item 'PRIMES'\n",
       "\\item 'MESSAGE'\n",
       "\\item 'GCAM'\n",
       "\\item 'EPPA'\n",
       "\\item 'IMACLIM'\n",
       "\\item 'RICE'\n",
       "\\item 'MARKAL-MACRO'\n",
       "\\item 'AQUACROP'\n",
       "\\item 'GEM-E3'\n",
       "\\item 'IMPACT'\n",
       "\\item 'WITCH'\n",
       "\\item 'IMAGE'\n",
       "\\item 'E3ME'\n",
       "\\item 'GTAP'\n",
       "\\item 'InVEST'\n",
       "\\item 'IPAC'\n",
       "\\item 'OseMOSYS'\n",
       "\\item 'GLOBIOM'\n",
       "\\item 'IGSM'\n",
       "\\item 'Social Accounting Matrices'\n",
       "\\item 'ASF'\n",
       "\\item 'ASTRA'\n",
       "\\item 'E3MG'\n",
       "\\item 'PAGE'\n",
       "\\item 'POLES'\n",
       "\\item 'REMIND'\n",
       "\\item 'TIMES-MACRO'\n",
       "\\item 'Australian Stocks and Flows'\n",
       "\\item 'BLUES'\n",
       "\\item 'BUENAS'\n",
       "\\item 'C3IAM'\n",
       "\\item 'CLUE'\n",
       "\\item 'EDGE'\n",
       "\\item 'FASOM-GHG'\n",
       "\\item 'Gdyn'\n",
       "\\item 'GIAM'\n",
       "\\item 'ICES'\n",
       "\\item 'LEITAP'\n",
       "\\item 'MERGE'\n",
       "\\item 'PANTA RHEI'\n",
       "\\item 'Powerplan'\n",
       "\\item 'Threshold 21'\n",
       "\\item 'TIMER'\n",
       "\\item 'WIOD'\n",
       "\\item 'World Energy Model'\n",
       "\\end{enumerate*}\n"
      ],
      "text/markdown": [
       "1. 'CGE'\n",
       "2. 'LEAP'\n",
       "3. 'TIMES'\n",
       "4. 'MARKAL'\n",
       "5. 'Input-Output'\n",
       "6. 'AIM'\n",
       "7. 'IAM'\n",
       "8. 'GAINS'\n",
       "9. 'PRIMES'\n",
       "10. 'MESSAGE'\n",
       "11. 'GCAM'\n",
       "12. 'EPPA'\n",
       "13. 'IMACLIM'\n",
       "14. 'RICE'\n",
       "15. 'MARKAL-MACRO'\n",
       "16. 'AQUACROP'\n",
       "17. 'GEM-E3'\n",
       "18. 'IMPACT'\n",
       "19. 'WITCH'\n",
       "20. 'IMAGE'\n",
       "21. 'E3ME'\n",
       "22. 'GTAP'\n",
       "23. 'InVEST'\n",
       "24. 'IPAC'\n",
       "25. 'OseMOSYS'\n",
       "26. 'GLOBIOM'\n",
       "27. 'IGSM'\n",
       "28. 'Social Accounting Matrices'\n",
       "29. 'ASF'\n",
       "30. 'ASTRA'\n",
       "31. 'E3MG'\n",
       "32. 'PAGE'\n",
       "33. 'POLES'\n",
       "34. 'REMIND'\n",
       "35. 'TIMES-MACRO'\n",
       "36. 'Australian Stocks and Flows'\n",
       "37. 'BLUES'\n",
       "38. 'BUENAS'\n",
       "39. 'C3IAM'\n",
       "40. 'CLUE'\n",
       "41. 'EDGE'\n",
       "42. 'FASOM-GHG'\n",
       "43. 'Gdyn'\n",
       "44. 'GIAM'\n",
       "45. 'ICES'\n",
       "46. 'LEITAP'\n",
       "47. 'MERGE'\n",
       "48. 'PANTA RHEI'\n",
       "49. 'Powerplan'\n",
       "50. 'Threshold 21'\n",
       "51. 'TIMER'\n",
       "52. 'WIOD'\n",
       "53. 'World Energy Model'\n",
       "\n",
       "\n"
      ],
      "text/plain": [
       " [1] \"CGE\"                         \"LEAP\"                       \n",
       " [3] \"TIMES\"                       \"MARKAL\"                     \n",
       " [5] \"Input-Output\"                \"AIM\"                        \n",
       " [7] \"IAM\"                         \"GAINS\"                      \n",
       " [9] \"PRIMES\"                      \"MESSAGE\"                    \n",
       "[11] \"GCAM\"                        \"EPPA\"                       \n",
       "[13] \"IMACLIM\"                     \"RICE\"                       \n",
       "[15] \"MARKAL-MACRO\"                \"AQUACROP\"                   \n",
       "[17] \"GEM-E3\"                      \"IMPACT\"                     \n",
       "[19] \"WITCH\"                       \"IMAGE\"                      \n",
       "[21] \"E3ME\"                        \"GTAP\"                       \n",
       "[23] \"InVEST\"                      \"IPAC\"                       \n",
       "[25] \"OseMOSYS\"                    \"GLOBIOM\"                    \n",
       "[27] \"IGSM\"                        \"Social Accounting Matrices\" \n",
       "[29] \"ASF\"                         \"ASTRA\"                      \n",
       "[31] \"E3MG\"                        \"PAGE\"                       \n",
       "[33] \"POLES\"                       \"REMIND\"                     \n",
       "[35] \"TIMES-MACRO\"                 \"Australian Stocks and Flows\"\n",
       "[37] \"BLUES\"                       \"BUENAS\"                     \n",
       "[39] \"C3IAM\"                       \"CLUE\"                       \n",
       "[41] \"EDGE\"                        \"FASOM-GHG\"                  \n",
       "[43] \"Gdyn\"                        \"GIAM\"                       \n",
       "[45] \"ICES\"                        \"LEITAP\"                     \n",
       "[47] \"MERGE\"                       \"PANTA RHEI\"                 \n",
       "[49] \"Powerplan\"                   \"Threshold 21\"               \n",
       "[51] \"TIMER\"                       \"WIOD\"                       \n",
       "[53] \"World Energy Model\"         "
      ]
     },
     "metadata": {},
     "output_type": "display_data"
    }
   ],
   "source": [
    "models_list <- as.character(models_ordered$model)\n",
    "models_list"
   ]
  },
  {
   "cell_type": "code",
   "execution_count": 22,
   "metadata": {},
   "outputs": [],
   "source": [
    "df_tot <- df_tot%>%\n",
    "                mutate(topic = factor(topic, levels = c(topics_list)),\n",
    "                       model = factor(model, levels = c(models_list,\"Others\")))"
   ]
  },
  {
   "cell_type": "code",
   "execution_count": 23,
   "metadata": {},
   "outputs": [
    {
     "data": {
      "image/png": "[encoded data removed]",
      "text/plain": [
       "plot without title"
      ]
     },
     "metadata": {
      "image/png": {
       "height": 840,
       "width": 1080
      },
      "text/plain": {
       "height": 840,
       "width": 1080
      }
     },
     "output_type": "display_data"
    }
   ],
   "source": [
    "options(repr.plot.width=18, repr.plot.height=14)\n",
    "\n",
    "plot1 <- ggplot(subset(df_tot, !is.na(topic))) + \n",
    "          geom_bar(aes(x=topic, y = count, fill=model),stat=\"identity\")+\n",
    "          ylab(\"Number of models related to the topic \\n\")+\n",
    "          scale_fill_brewer(palette = \"Paired\")+\n",
    "          labs(fill=\"Model\")+\n",
    "          theme_minimal()+\n",
    "          theme(\n",
    "            legend.title = element_text(size = 18),\n",
    "            legend.text = element_text(size = 16),\n",
    "            legend.position=\"right\",\n",
    "            axis.text.x = element_text(size = 16, angle =90),\n",
    "            axis.text.y = element_text(size = 14),\n",
    "            axis.title.x =  element_blank(),\n",
    "            axis.title.y = element_text(size = 16, hjust = 0.5,face =\"bold\")\n",
    "          )\n",
    "plot1"
   ]
  },
  {
   "cell_type": "code",
   "execution_count": 24,
   "metadata": {},
   "outputs": [],
   "source": [
    "ggsave('./output/Fig_SI10_topics_models.png', height=14, width=18, plot=plot1)"
   ]
  },
  {
   "cell_type": "code",
   "execution_count": 25,
   "metadata": {},
   "outputs": [
    {
     "data": {
      "text/html": [
       "<table>\n",
       "<caption>A tibble: 2 × 3</caption>\n",
       "<thead>\n",
       "\t<tr><th scope=col>model</th><th scope=col>Region</th><th scope=col>n_mod</th></tr>\n",
       "\t<tr><th scope=col>&lt;fct&gt;</th><th scope=col>&lt;fct&gt;</th><th scope=col>&lt;int&gt;</th></tr>\n",
       "</thead>\n",
       "<tbody>\n",
       "\t<tr><td>CGE </td><td>Asia</td><td>101</td></tr>\n",
       "\t<tr><td>LEAP</td><td>Asia</td><td> 85</td></tr>\n",
       "</tbody>\n",
       "</table>\n"
      ],
      "text/latex": [
       "A tibble: 2 × 3\n",
       "\\begin{tabular}{lll}\n",
       " model & Region & n\\_mod\\\\\n",
       " <fct> & <fct> & <int>\\\\\n",
       "\\hline\n",
       "\t CGE  & Asia & 101\\\\\n",
       "\t LEAP & Asia &  85\\\\\n",
       "\\end{tabular}\n"
      ],
      "text/markdown": [
       "\n",
       "A tibble: 2 × 3\n",
       "\n",
       "| model &lt;fct&gt; | Region &lt;fct&gt; | n_mod &lt;int&gt; |\n",
       "|---|---|---|\n",
       "| CGE  | Asia | 101 |\n",
       "| LEAP | Asia |  85 |\n",
       "\n"
      ],
      "text/plain": [
       "  model Region n_mod\n",
       "1 CGE   Asia   101  \n",
       "2 LEAP  Asia    85  "
      ]
     },
     "metadata": {},
     "output_type": "display_data"
    }
   ],
   "source": [
    "models_ordered_reg <- df %>% \n",
    "                        group_by(model,Region)%>%\n",
    "                        summarise(n_mod = n())%>%\n",
    "                        arrange(desc(n_mod))%>%\n",
    "                        ungroup()%>%\n",
    "                        mutate(model = factor(model, levels = c(models_list)),\n",
    "                               Region=factor(Region, levels = c('Antarctica','Oceania','Africa','Latin America',\n",
    "                                        'North America','European Union','Europe','Asia')))\n",
    "\n",
    "head(models_ordered_reg,2)"
   ]
  },
  {
   "cell_type": "code",
   "execution_count": 26,
   "metadata": {},
   "outputs": [
    {
     "data": {
      "text/html": [
       "<table>\n",
       "<caption>A tibble: 13 × 4</caption>\n",
       "<thead>\n",
       "\t<tr><th scope=col>Country</th><th scope=col>Region</th><th scope=col>n_mod</th><th scope=col>relative</th></tr>\n",
       "\t<tr><th scope=col>&lt;chr&gt;</th><th scope=col>&lt;chr&gt;</th><th scope=col>&lt;int&gt;</th><th scope=col>&lt;dbl&gt;</th></tr>\n",
       "</thead>\n",
       "<tbody>\n",
       "\t<tr><td>Cameroon    </td><td>Africa</td><td> 1</td><td>0.001142857</td></tr>\n",
       "\t<tr><td>Congo       </td><td>Africa</td><td> 1</td><td>0.001142857</td></tr>\n",
       "\t<tr><td>Egypt       </td><td>Africa</td><td> 2</td><td>0.002285714</td></tr>\n",
       "\t<tr><td>Ethiopia    </td><td>Africa</td><td> 3</td><td>0.003428571</td></tr>\n",
       "\t<tr><td>Ghana       </td><td>Africa</td><td> 5</td><td>0.005714286</td></tr>\n",
       "\t<tr><td>Kenya       </td><td>Africa</td><td> 2</td><td>0.002285714</td></tr>\n",
       "\t<tr><td>Madagascar  </td><td>Africa</td><td> 1</td><td>0.001142857</td></tr>\n",
       "\t<tr><td>Morocco     </td><td>Africa</td><td> 2</td><td>0.002285714</td></tr>\n",
       "\t<tr><td>Niger       </td><td>Africa</td><td> 1</td><td>0.001142857</td></tr>\n",
       "\t<tr><td>Nigeria     </td><td>Africa</td><td> 9</td><td>0.010285714</td></tr>\n",
       "\t<tr><td>Réunion     </td><td>Africa</td><td> 2</td><td>0.002285714</td></tr>\n",
       "\t<tr><td>South Africa</td><td>Africa</td><td>10</td><td>0.011428571</td></tr>\n",
       "\t<tr><td>Tanzania    </td><td>Africa</td><td> 3</td><td>0.003428571</td></tr>\n",
       "</tbody>\n",
       "</table>\n"
      ],
      "text/latex": [
       "A tibble: 13 × 4\n",
       "\\begin{tabular}{llll}\n",
       " Country & Region & n\\_mod & relative\\\\\n",
       " <chr> & <chr> & <int> & <dbl>\\\\\n",
       "\\hline\n",
       "\t Cameroon     & Africa &  1 & 0.001142857\\\\\n",
       "\t Congo        & Africa &  1 & 0.001142857\\\\\n",
       "\t Egypt        & Africa &  2 & 0.002285714\\\\\n",
       "\t Ethiopia     & Africa &  3 & 0.003428571\\\\\n",
       "\t Ghana        & Africa &  5 & 0.005714286\\\\\n",
       "\t Kenya        & Africa &  2 & 0.002285714\\\\\n",
       "\t Madagascar   & Africa &  1 & 0.001142857\\\\\n",
       "\t Morocco      & Africa &  2 & 0.002285714\\\\\n",
       "\t Niger        & Africa &  1 & 0.001142857\\\\\n",
       "\t Nigeria      & Africa &  9 & 0.010285714\\\\\n",
       "\t Réunion      & Africa &  2 & 0.002285714\\\\\n",
       "\t South Africa & Africa & 10 & 0.011428571\\\\\n",
       "\t Tanzania     & Africa &  3 & 0.003428571\\\\\n",
       "\\end{tabular}\n"
      ],
      "text/markdown": [
       "\n",
       "A tibble: 13 × 4\n",
       "\n",
       "| Country &lt;chr&gt; | Region &lt;chr&gt; | n_mod &lt;int&gt; | relative &lt;dbl&gt; |\n",
       "|---|---|---|---|\n",
       "| Cameroon     | Africa |  1 | 0.001142857 |\n",
       "| Congo        | Africa |  1 | 0.001142857 |\n",
       "| Egypt        | Africa |  2 | 0.002285714 |\n",
       "| Ethiopia     | Africa |  3 | 0.003428571 |\n",
       "| Ghana        | Africa |  5 | 0.005714286 |\n",
       "| Kenya        | Africa |  2 | 0.002285714 |\n",
       "| Madagascar   | Africa |  1 | 0.001142857 |\n",
       "| Morocco      | Africa |  2 | 0.002285714 |\n",
       "| Niger        | Africa |  1 | 0.001142857 |\n",
       "| Nigeria      | Africa |  9 | 0.010285714 |\n",
       "| Réunion      | Africa |  2 | 0.002285714 |\n",
       "| South Africa | Africa | 10 | 0.011428571 |\n",
       "| Tanzania     | Africa |  3 | 0.003428571 |\n",
       "\n"
      ],
      "text/plain": [
       "   Country      Region n_mod relative   \n",
       "1  Cameroon     Africa  1    0.001142857\n",
       "2  Congo        Africa  1    0.001142857\n",
       "3  Egypt        Africa  2    0.002285714\n",
       "4  Ethiopia     Africa  3    0.003428571\n",
       "5  Ghana        Africa  5    0.005714286\n",
       "6  Kenya        Africa  2    0.002285714\n",
       "7  Madagascar   Africa  1    0.001142857\n",
       "8  Morocco      Africa  2    0.002285714\n",
       "9  Niger        Africa  1    0.001142857\n",
       "10 Nigeria      Africa  9    0.010285714\n",
       "11 Réunion      Africa  2    0.002285714\n",
       "12 South Africa Africa 10    0.011428571\n",
       "13 Tanzania     Africa  3    0.003428571"
      ]
     },
     "metadata": {},
     "output_type": "display_data"
    }
   ],
   "source": [
    "models_reg <- df %>% \n",
    "                   group_by(Country,Region)%>%\n",
    "                   summarise(n_mod = n())%>%\n",
    "                   ungroup()%>%\n",
    "                   mutate(relative = n_mod/sum(n_mod))%>%\n",
    "                   filter(Region==\"Africa\")\n",
    "models_reg"
   ]
  },
  {
   "cell_type": "code",
   "execution_count": 27,
   "metadata": {},
   "outputs": [],
   "source": [
    "options(repr.plot.width=18, repr.plot.height=10)\n",
    "\n",
    "plot2 <- ggplot(models_ordered_reg) + \n",
    "                  geom_bar(aes(x=model, y = n_mod, fill=Region),stat=\"identity\")+\n",
    "                  scale_fill_manual(values=c('Asia'='darkorange',\n",
    "                                           'European Union'='#7CAE00',\n",
    "                                           'Europe'='seagreen4',\n",
    "                                           'North America'='darkblue',\n",
    "                                           'Latin America'='dodgerblue2',\n",
    "                                           'Africa'='orchid',\n",
    "                                           'Oceania'='coral2', \n",
    "                                           'Antarctica'='#CAB2D6')) + \n",
    "                labs(x = \" \\n Model\", y = \"Number of Papers \\n \", fill = \"Region\") + \n",
    "                theme_minimal()+\n",
    "                theme(\n",
    "                    plot.title = element_text(size = rel(2)),\n",
    "                    legend.title = element_text(size = 16,face =\"bold\"),\n",
    "                    legend.text = element_text(size = 16),\n",
    "                    legend.position = 'top',\n",
    "                    axis.text.x = element_text(size = 16,angle=90),\n",
    "                    axis.text.y = element_text(size = 16),\n",
    "                    axis.title.x = element_text(size = 16, hjust = 0.5,face =\"bold\"),\n",
    "                    axis.title.y = element_text(size = 16, hjust = 0.5,face =\"bold\")\n",
    "                  ) "
   ]
  },
  {
   "cell_type": "code",
   "execution_count": 28,
   "metadata": {},
   "outputs": [],
   "source": [
    "ggsave('./output/Fig_SI9_models_regions.png', height=10, width=18, plot=plot2)"
   ]
  }
 ],
 "metadata": {
  "kernelspec": {
   "display_name": "R",
   "language": "R",
   "name": "ir"
  },
  "language_info": {
   "codemirror_mode": "r",
   "file_extension": ".r",
   "mimetype": "text/x-r-source",
   "name": "R",
   "pygments_lexer": "r",
   "version": "3.6.3"
  }
 },
 "nbformat": 4,
 "nbformat_minor": 4
}
