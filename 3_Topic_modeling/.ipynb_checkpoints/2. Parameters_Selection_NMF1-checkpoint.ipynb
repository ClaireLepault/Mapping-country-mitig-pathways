{
 "cells": [
  {
   "cell_type": "code",
   "execution_count": 1,
   "metadata": {},
   "outputs": [],
   "source": [
    "import joblib\n",
    "from sklearn import decomposition"
   ]
  },
  {
   "cell_type": "markdown",
   "metadata": {},
   "source": [
    "# Parameter Selection for NMF 1"
   ]
  },
  {
   "cell_type": "markdown",
   "metadata": {},
   "source": [
    "Now we look at the more advanced task of parameter selection for NMF topic modelling - namely, selecting a useful value for the number of topics *k*."
   ]
  },
  {
   "cell_type": "markdown",
   "metadata": {},
   "source": [
    "First, let's load the TF-IDF normalised document-term matrix and list of terms that we stored earlier using *Joblib*:"
   ]
  },
  {
   "cell_type": "code",
   "execution_count": 2,
   "metadata": {},
   "outputs": [
    {
     "name": "stdout",
     "output_type": "stream",
     "text": [
      "Loaded 4691 X 1292 document-term matrix\n"
     ]
    }
   ],
   "source": [
    "(df, data_samples, tfidf, tfidf_feature_names) = joblib.load( \"df-data_samples-tfidf-tfidf_names.pkl\" )\n",
    "print( \"Loaded %d X %d document-term matrix\" % (tfidf.shape[0], tfidf.shape[1]) )"
   ]
  },
  {
   "cell_type": "markdown",
   "metadata": {},
   "source": [
    "### Create the Topic Models"
   ]
  },
  {
   "cell_type": "markdown",
   "metadata": {},
   "source": [
    "A common approach for parameter selection is to Measure and compare the topic coherence of models generated for different values of *k*."
   ]
  },
  {
   "cell_type": "markdown",
   "metadata": {},
   "source": [
    "We need to start by pre-specifying an initial range of \"sensible\" values:"
   ]
  },
  {
   "cell_type": "code",
   "execution_count": 3,
   "metadata": {},
   "outputs": [],
   "source": [
    "kmin, kmax = 2, 40"
   ]
  },
  {
   "cell_type": "code",
   "execution_count": 4,
   "metadata": {},
   "outputs": [],
   "source": [
    "def list_pas_iter(pas, iterat):\n",
    "    #arrondir à la 2eme décimale\n",
    "    value = round(0,2)\n",
    "    values = [value]\n",
    "    for k in range(iterat):\n",
    "        value+= pas\n",
    "        values.append(round(value,2))\n",
    "    return(values)"
   ]
  },
  {
   "cell_type": "code",
   "execution_count": 5,
   "metadata": {},
   "outputs": [],
   "source": [
    "alph_list = list_pas_iter(0.01, 31) + [0.4,0.5,0.6,0.7,0.8,0.9,1]"
   ]
  },
  {
   "cell_type": "code",
   "execution_count": 6,
   "metadata": {},
   "outputs": [
    {
     "data": {
      "text/plain": [
       "[0,\n",
       " 0.01,\n",
       " 0.02,\n",
       " 0.03,\n",
       " 0.04,\n",
       " 0.05,\n",
       " 0.06,\n",
       " 0.07,\n",
       " 0.08,\n",
       " 0.09,\n",
       " 0.1,\n",
       " 0.11,\n",
       " 0.12,\n",
       " 0.13,\n",
       " 0.14,\n",
       " 0.15,\n",
       " 0.16,\n",
       " 0.17,\n",
       " 0.18,\n",
       " 0.19,\n",
       " 0.2,\n",
       " 0.21,\n",
       " 0.22,\n",
       " 0.23,\n",
       " 0.24,\n",
       " 0.25,\n",
       " 0.26,\n",
       " 0.27,\n",
       " 0.28,\n",
       " 0.29,\n",
       " 0.3,\n",
       " 0.31,\n",
       " 0.4,\n",
       " 0.5,\n",
       " 0.6,\n",
       " 0.7,\n",
       " 0.8,\n",
       " 0.9,\n",
       " 1]"
      ]
     },
     "execution_count": 6,
     "metadata": {},
     "output_type": "execute_result"
    }
   ],
   "source": [
    "alph_list"
   ]
  },
  {
   "cell_type": "code",
   "execution_count": 7,
   "metadata": {},
   "outputs": [],
   "source": [
    "l1_list = list_pas_iter(0.1,10)"
   ]
  },
  {
   "cell_type": "markdown",
   "metadata": {},
   "source": [
    "Apply NMF for each of these values:"
   ]
  },
  {
   "cell_type": "code",
   "execution_count": 8,
   "metadata": {},
   "outputs": [
    {
     "name": "stdout",
     "output_type": "stream",
     "text": [
      "Applying NMF for k=2, alpha =0.00, l1 = =0.0...\n",
      "Applying NMF for k=2, alpha =0.00, l1 = =0.1...\n",
      "Applying NMF for k=2, alpha =0.00, l1 = =0.2...\n",
      "Applying NMF for k=2, alpha =0.00, l1 = =0.3...\n",
      "Applying NMF for k=2, alpha =0.00, l1 = =0.4...\n",
      "Applying NMF for k=2, alpha =0.00, l1 = =0.5...\n",
      "Applying NMF for k=2, alpha =0.00, l1 = =0.6...\n",
      "Applying NMF for k=2, alpha =0.00, l1 = =0.7...\n",
      "Applying NMF for k=2, alpha =0.00, l1 = =0.8...\n",
      "Applying NMF for k=2, alpha =0.00, l1 = =0.9...\n",
      "Applying NMF for k=2, alpha =0.00, l1 = =1.0...\n",
      "Applying NMF for k=2, alpha =0.01, l1 = =0.0...\n"
     ]
    },
    {
     "name": "stderr",
     "output_type": "stream",
     "text": [
      "/usr/local/lib/python3.7/site-packages/sklearn/decomposition/_nmf.py:1077: ConvergenceWarning: Maximum number of iterations 200 reached. Increase it to improve convergence.\n",
      "  \" improve convergence.\" % max_iter, ConvergenceWarning)\n"
     ]
    },
    {
     "name": "stdout",
     "output_type": "stream",
     "text": [
      "Applying NMF for k=2, alpha =0.01, l1 = =0.1...\n"
     ]
    },
    {
     "name": "stderr",
     "output_type": "stream",
     "text": [
      "/usr/local/lib/python3.7/site-packages/sklearn/decomposition/_nmf.py:1077: ConvergenceWarning: Maximum number of iterations 200 reached. Increase it to improve convergence.\n",
      "  \" improve convergence.\" % max_iter, ConvergenceWarning)\n"
     ]
    },
    {
     "name": "stdout",
     "output_type": "stream",
     "text": [
      "Applying NMF for k=2, alpha =0.01, l1 = =0.2...\n"
     ]
    },
    {
     "name": "stderr",
     "output_type": "stream",
     "text": [
      "/usr/local/lib/python3.7/site-packages/sklearn/decomposition/_nmf.py:1077: ConvergenceWarning: Maximum number of iterations 200 reached. Increase it to improve convergence.\n",
      "  \" improve convergence.\" % max_iter, ConvergenceWarning)\n"
     ]
    },
    {
     "name": "stdout",
     "output_type": "stream",
     "text": [
      "Applying NMF for k=2, alpha =0.01, l1 = =0.3...\n"
     ]
    },
    {
     "name": "stderr",
     "output_type": "stream",
     "text": [
      "/usr/local/lib/python3.7/site-packages/sklearn/decomposition/_nmf.py:1077: ConvergenceWarning: Maximum number of iterations 200 reached. Increase it to improve convergence.\n",
      "  \" improve convergence.\" % max_iter, ConvergenceWarning)\n"
     ]
    },
    {
     "name": "stdout",
     "output_type": "stream",
     "text": [
      "Applying NMF for k=2, alpha =0.01, l1 = =0.4...\n"
     ]
    },
    {
     "name": "stderr",
     "output_type": "stream",
     "text": [
      "/usr/local/lib/python3.7/site-packages/sklearn/decomposition/_nmf.py:1077: ConvergenceWarning: Maximum number of iterations 200 reached. Increase it to improve convergence.\n",
      "  \" improve convergence.\" % max_iter, ConvergenceWarning)\n"
     ]
    },
    {
     "name": "stdout",
     "output_type": "stream",
     "text": [
      "Applying NMF for k=2, alpha =0.01, l1 = =0.5...\n"
     ]
    },
    {
     "name": "stderr",
     "output_type": "stream",
     "text": [
      "/usr/local/lib/python3.7/site-packages/sklearn/decomposition/_nmf.py:1077: ConvergenceWarning: Maximum number of iterations 200 reached. Increase it to improve convergence.\n",
      "  \" improve convergence.\" % max_iter, ConvergenceWarning)\n"
     ]
    },
    {
     "name": "stdout",
     "output_type": "stream",
     "text": [
      "Applying NMF for k=2, alpha =0.01, l1 = =0.6...\n"
     ]
    },
    {
     "name": "stderr",
     "output_type": "stream",
     "text": [
      "/usr/local/lib/python3.7/site-packages/sklearn/decomposition/_nmf.py:1077: ConvergenceWarning: Maximum number of iterations 200 reached. Increase it to improve convergence.\n",
      "  \" improve convergence.\" % max_iter, ConvergenceWarning)\n"
     ]
    },
    {
     "name": "stdout",
     "output_type": "stream",
     "text": [
      "Applying NMF for k=2, alpha =0.01, l1 = =0.7...\n"
     ]
    },
    {
     "name": "stderr",
     "output_type": "stream",
     "text": [
      "/usr/local/lib/python3.7/site-packages/sklearn/decomposition/_nmf.py:1077: ConvergenceWarning: Maximum number of iterations 200 reached. Increase it to improve convergence.\n",
      "  \" improve convergence.\" % max_iter, ConvergenceWarning)\n"
     ]
    },
    {
     "name": "stdout",
     "output_type": "stream",
     "text": [
      "Applying NMF for k=2, alpha =0.01, l1 = =0.8...\n"
     ]
    },
    {
     "name": "stderr",
     "output_type": "stream",
     "text": [
      "/usr/local/lib/python3.7/site-packages/sklearn/decomposition/_nmf.py:1077: ConvergenceWarning: Maximum number of iterations 200 reached. Increase it to improve convergence.\n",
      "  \" improve convergence.\" % max_iter, ConvergenceWarning)\n"
     ]
    },
    {
     "name": "stdout",
     "output_type": "stream",
     "text": [
      "Applying NMF for k=2, alpha =0.01, l1 = =0.9...\n"
     ]
    },
    {
     "name": "stderr",
     "output_type": "stream",
     "text": [
      "/usr/local/lib/python3.7/site-packages/sklearn/decomposition/_nmf.py:1077: ConvergenceWarning: Maximum number of iterations 200 reached. Increase it to improve convergence.\n",
      "  \" improve convergence.\" % max_iter, ConvergenceWarning)\n"
     ]
    },
    {
     "name": "stdout",
     "output_type": "stream",
     "text": [
      "Applying NMF for k=2, alpha =0.01, l1 = =1.0...\n"
     ]
    },
    {
     "name": "stderr",
     "output_type": "stream",
     "text": [
      "/usr/local/lib/python3.7/site-packages/sklearn/decomposition/_nmf.py:1077: ConvergenceWarning: Maximum number of iterations 200 reached. Increase it to improve convergence.\n",
      "  \" improve convergence.\" % max_iter, ConvergenceWarning)\n"
     ]
    },
    {
     "name": "stdout",
     "output_type": "stream",
     "text": [
      "Applying NMF for k=2, alpha =0.02, l1 = =0.0...\n"
     ]
    },
    {
     "name": "stderr",
     "output_type": "stream",
     "text": [
      "/usr/local/lib/python3.7/site-packages/sklearn/decomposition/_nmf.py:1077: ConvergenceWarning: Maximum number of iterations 200 reached. Increase it to improve convergence.\n",
      "  \" improve convergence.\" % max_iter, ConvergenceWarning)\n"
     ]
    },
    {
     "name": "stdout",
     "output_type": "stream",
     "text": [
      "Applying NMF for k=2, alpha =0.02, l1 = =0.1...\n"
     ]
    },
    {
     "name": "stderr",
     "output_type": "stream",
     "text": [
      "/usr/local/lib/python3.7/site-packages/sklearn/decomposition/_nmf.py:1077: ConvergenceWarning: Maximum number of iterations 200 reached. Increase it to improve convergence.\n",
      "  \" improve convergence.\" % max_iter, ConvergenceWarning)\n"
     ]
    },
    {
     "name": "stdout",
     "output_type": "stream",
     "text": [
      "Applying NMF for k=2, alpha =0.02, l1 = =0.2...\n"
     ]
    },
    {
     "name": "stderr",
     "output_type": "stream",
     "text": [
      "/usr/local/lib/python3.7/site-packages/sklearn/decomposition/_nmf.py:1077: ConvergenceWarning: Maximum number of iterations 200 reached. Increase it to improve convergence.\n",
      "  \" improve convergence.\" % max_iter, ConvergenceWarning)\n"
     ]
    },
    {
     "name": "stdout",
     "output_type": "stream",
     "text": [
      "Applying NMF for k=2, alpha =0.02, l1 = =0.3...\n"
     ]
    },
    {
     "name": "stderr",
     "output_type": "stream",
     "text": [
      "/usr/local/lib/python3.7/site-packages/sklearn/decomposition/_nmf.py:1077: ConvergenceWarning: Maximum number of iterations 200 reached. Increase it to improve convergence.\n",
      "  \" improve convergence.\" % max_iter, ConvergenceWarning)\n"
     ]
    },
    {
     "name": "stdout",
     "output_type": "stream",
     "text": [
      "Applying NMF for k=2, alpha =0.02, l1 = =0.4...\n"
     ]
    },
    {
     "name": "stderr",
     "output_type": "stream",
     "text": [
      "/usr/local/lib/python3.7/site-packages/sklearn/decomposition/_nmf.py:1077: ConvergenceWarning: Maximum number of iterations 200 reached. Increase it to improve convergence.\n",
      "  \" improve convergence.\" % max_iter, ConvergenceWarning)\n"
     ]
    },
    {
     "name": "stdout",
     "output_type": "stream",
     "text": [
      "Applying NMF for k=2, alpha =0.02, l1 = =0.5...\n"
     ]
    },
    {
     "name": "stderr",
     "output_type": "stream",
     "text": [
      "/usr/local/lib/python3.7/site-packages/sklearn/decomposition/_nmf.py:1077: ConvergenceWarning: Maximum number of iterations 200 reached. Increase it to improve convergence.\n",
      "  \" improve convergence.\" % max_iter, ConvergenceWarning)\n"
     ]
    },
    {
     "name": "stdout",
     "output_type": "stream",
     "text": [
      "Applying NMF for k=2, alpha =0.02, l1 = =0.6...\n"
     ]
    },
    {
     "name": "stderr",
     "output_type": "stream",
     "text": [
      "/usr/local/lib/python3.7/site-packages/sklearn/decomposition/_nmf.py:1077: ConvergenceWarning: Maximum number of iterations 200 reached. Increase it to improve convergence.\n",
      "  \" improve convergence.\" % max_iter, ConvergenceWarning)\n"
     ]
    },
    {
     "name": "stdout",
     "output_type": "stream",
     "text": [
      "Applying NMF for k=2, alpha =0.02, l1 = =0.7...\n"
     ]
    },
    {
     "name": "stderr",
     "output_type": "stream",
     "text": [
      "/usr/local/lib/python3.7/site-packages/sklearn/decomposition/_nmf.py:1077: ConvergenceWarning: Maximum number of iterations 200 reached. Increase it to improve convergence.\n",
      "  \" improve convergence.\" % max_iter, ConvergenceWarning)\n"
     ]
    },
    {
     "name": "stdout",
     "output_type": "stream",
     "text": [
      "Applying NMF for k=2, alpha =0.02, l1 = =0.8...\n"
     ]
    },
    {
     "name": "stderr",
     "output_type": "stream",
     "text": [
      "/usr/local/lib/python3.7/site-packages/sklearn/decomposition/_nmf.py:1077: ConvergenceWarning: Maximum number of iterations 200 reached. Increase it to improve convergence.\n",
      "  \" improve convergence.\" % max_iter, ConvergenceWarning)\n"
     ]
    },
    {
     "name": "stdout",
     "output_type": "stream",
     "text": [
      "Applying NMF for k=2, alpha =0.02, l1 = =0.9...\n"
     ]
    },
    {
     "name": "stderr",
     "output_type": "stream",
     "text": [
      "/usr/local/lib/python3.7/site-packages/sklearn/decomposition/_nmf.py:1077: ConvergenceWarning: Maximum number of iterations 200 reached. Increase it to improve convergence.\n",
      "  \" improve convergence.\" % max_iter, ConvergenceWarning)\n"
     ]
    },
    {
     "name": "stdout",
     "output_type": "stream",
     "text": [
      "Applying NMF for k=2, alpha =0.02, l1 = =1.0...\n"
     ]
    },
    {
     "name": "stderr",
     "output_type": "stream",
     "text": [
      "/usr/local/lib/python3.7/site-packages/sklearn/decomposition/_nmf.py:1077: ConvergenceWarning: Maximum number of iterations 200 reached. Increase it to improve convergence.\n",
      "  \" improve convergence.\" % max_iter, ConvergenceWarning)\n"
     ]
    },
    {
     "name": "stdout",
     "output_type": "stream",
     "text": [
      "Applying NMF for k=2, alpha =0.03, l1 = =0.0...\n"
     ]
    },
    {
     "name": "stderr",
     "output_type": "stream",
     "text": [
      "/usr/local/lib/python3.7/site-packages/sklearn/decomposition/_nmf.py:1077: ConvergenceWarning: Maximum number of iterations 200 reached. Increase it to improve convergence.\n",
      "  \" improve convergence.\" % max_iter, ConvergenceWarning)\n"
     ]
    },
    {
     "name": "stdout",
     "output_type": "stream",
     "text": [
      "Applying NMF for k=2, alpha =0.03, l1 = =0.1...\n"
     ]
    },
    {
     "name": "stderr",
     "output_type": "stream",
     "text": [
      "/usr/local/lib/python3.7/site-packages/sklearn/decomposition/_nmf.py:1077: ConvergenceWarning: Maximum number of iterations 200 reached. Increase it to improve convergence.\n",
      "  \" improve convergence.\" % max_iter, ConvergenceWarning)\n"
     ]
    },
    {
     "name": "stdout",
     "output_type": "stream",
     "text": [
      "Applying NMF for k=2, alpha =0.03, l1 = =0.2...\n"
     ]
    },
    {
     "name": "stderr",
     "output_type": "stream",
     "text": [
      "/usr/local/lib/python3.7/site-packages/sklearn/decomposition/_nmf.py:1077: ConvergenceWarning: Maximum number of iterations 200 reached. Increase it to improve convergence.\n",
      "  \" improve convergence.\" % max_iter, ConvergenceWarning)\n"
     ]
    },
    {
     "name": "stdout",
     "output_type": "stream",
     "text": [
      "Applying NMF for k=2, alpha =0.03, l1 = =0.3...\n"
     ]
    },
    {
     "name": "stderr",
     "output_type": "stream",
     "text": [
      "/usr/local/lib/python3.7/site-packages/sklearn/decomposition/_nmf.py:1077: ConvergenceWarning: Maximum number of iterations 200 reached. Increase it to improve convergence.\n",
      "  \" improve convergence.\" % max_iter, ConvergenceWarning)\n"
     ]
    },
    {
     "name": "stdout",
     "output_type": "stream",
     "text": [
      "Applying NMF for k=2, alpha =0.03, l1 = =0.4...\n"
     ]
    },
    {
     "name": "stderr",
     "output_type": "stream",
     "text": [
      "/usr/local/lib/python3.7/site-packages/sklearn/decomposition/_nmf.py:1077: ConvergenceWarning: Maximum number of iterations 200 reached. Increase it to improve convergence.\n",
      "  \" improve convergence.\" % max_iter, ConvergenceWarning)\n"
     ]
    },
    {
     "name": "stdout",
     "output_type": "stream",
     "text": [
      "Applying NMF for k=2, alpha =0.03, l1 = =0.5...\n"
     ]
    },
    {
     "name": "stderr",
     "output_type": "stream",
     "text": [
      "/usr/local/lib/python3.7/site-packages/sklearn/decomposition/_nmf.py:1077: ConvergenceWarning: Maximum number of iterations 200 reached. Increase it to improve convergence.\n",
      "  \" improve convergence.\" % max_iter, ConvergenceWarning)\n"
     ]
    },
    {
     "name": "stdout",
     "output_type": "stream",
     "text": [
      "Applying NMF for k=2, alpha =0.03, l1 = =0.6...\n"
     ]
    },
    {
     "name": "stderr",
     "output_type": "stream",
     "text": [
      "/usr/local/lib/python3.7/site-packages/sklearn/decomposition/_nmf.py:1077: ConvergenceWarning: Maximum number of iterations 200 reached. Increase it to improve convergence.\n",
      "  \" improve convergence.\" % max_iter, ConvergenceWarning)\n"
     ]
    },
    {
     "name": "stdout",
     "output_type": "stream",
     "text": [
      "Applying NMF for k=2, alpha =0.03, l1 = =0.7...\n"
     ]
    },
    {
     "name": "stderr",
     "output_type": "stream",
     "text": [
      "/usr/local/lib/python3.7/site-packages/sklearn/decomposition/_nmf.py:1077: ConvergenceWarning: Maximum number of iterations 200 reached. Increase it to improve convergence.\n",
      "  \" improve convergence.\" % max_iter, ConvergenceWarning)\n"
     ]
    },
    {
     "name": "stdout",
     "output_type": "stream",
     "text": [
      "Applying NMF for k=2, alpha =0.03, l1 = =0.8...\n"
     ]
    },
    {
     "name": "stderr",
     "output_type": "stream",
     "text": [
      "/usr/local/lib/python3.7/site-packages/sklearn/decomposition/_nmf.py:1077: ConvergenceWarning: Maximum number of iterations 200 reached. Increase it to improve convergence.\n",
      "  \" improve convergence.\" % max_iter, ConvergenceWarning)\n"
     ]
    },
    {
     "name": "stdout",
     "output_type": "stream",
     "text": [
      "Applying NMF for k=2, alpha =0.03, l1 = =0.9...\n"
     ]
    },
    {
     "name": "stderr",
     "output_type": "stream",
     "text": [
      "/usr/local/lib/python3.7/site-packages/sklearn/decomposition/_nmf.py:1077: ConvergenceWarning: Maximum number of iterations 200 reached. Increase it to improve convergence.\n",
      "  \" improve convergence.\" % max_iter, ConvergenceWarning)\n"
     ]
    },
    {
     "name": "stdout",
     "output_type": "stream",
     "text": [
      "Applying NMF for k=2, alpha =0.03, l1 = =1.0...\n"
     ]
    },
    {
     "name": "stderr",
     "output_type": "stream",
     "text": [
      "/usr/local/lib/python3.7/site-packages/sklearn/decomposition/_nmf.py:1077: ConvergenceWarning: Maximum number of iterations 200 reached. Increase it to improve convergence.\n",
      "  \" improve convergence.\" % max_iter, ConvergenceWarning)\n"
     ]
    },
    {
     "name": "stdout",
     "output_type": "stream",
     "text": [
      "Applying NMF for k=2, alpha =0.04, l1 = =0.0...\n"
     ]
    },
    {
     "name": "stderr",
     "output_type": "stream",
     "text": [
      "/usr/local/lib/python3.7/site-packages/sklearn/decomposition/_nmf.py:1077: ConvergenceWarning: Maximum number of iterations 200 reached. Increase it to improve convergence.\n",
      "  \" improve convergence.\" % max_iter, ConvergenceWarning)\n"
     ]
    },
    {
     "name": "stdout",
     "output_type": "stream",
     "text": [
      "Applying NMF for k=2, alpha =0.04, l1 = =0.1...\n"
     ]
    },
    {
     "name": "stderr",
     "output_type": "stream",
     "text": [
      "/usr/local/lib/python3.7/site-packages/sklearn/decomposition/_nmf.py:1077: ConvergenceWarning: Maximum number of iterations 200 reached. Increase it to improve convergence.\n",
      "  \" improve convergence.\" % max_iter, ConvergenceWarning)\n"
     ]
    },
    {
     "name": "stdout",
     "output_type": "stream",
     "text": [
      "Applying NMF for k=2, alpha =0.04, l1 = =0.2...\n"
     ]
    },
    {
     "name": "stderr",
     "output_type": "stream",
     "text": [
      "/usr/local/lib/python3.7/site-packages/sklearn/decomposition/_nmf.py:1077: ConvergenceWarning: Maximum number of iterations 200 reached. Increase it to improve convergence.\n",
      "  \" improve convergence.\" % max_iter, ConvergenceWarning)\n"
     ]
    },
    {
     "name": "stdout",
     "output_type": "stream",
     "text": [
      "Applying NMF for k=2, alpha =0.04, l1 = =0.3...\n"
     ]
    },
    {
     "name": "stderr",
     "output_type": "stream",
     "text": [
      "/usr/local/lib/python3.7/site-packages/sklearn/decomposition/_nmf.py:1077: ConvergenceWarning: Maximum number of iterations 200 reached. Increase it to improve convergence.\n",
      "  \" improve convergence.\" % max_iter, ConvergenceWarning)\n"
     ]
    },
    {
     "name": "stdout",
     "output_type": "stream",
     "text": [
      "Applying NMF for k=2, alpha =0.04, l1 = =0.4...\n"
     ]
    },
    {
     "name": "stderr",
     "output_type": "stream",
     "text": [
      "/usr/local/lib/python3.7/site-packages/sklearn/decomposition/_nmf.py:1077: ConvergenceWarning: Maximum number of iterations 200 reached. Increase it to improve convergence.\n",
      "  \" improve convergence.\" % max_iter, ConvergenceWarning)\n"
     ]
    },
    {
     "name": "stdout",
     "output_type": "stream",
     "text": [
      "Applying NMF for k=2, alpha =0.04, l1 = =0.5...\n"
     ]
    },
    {
     "name": "stderr",
     "output_type": "stream",
     "text": [
      "/usr/local/lib/python3.7/site-packages/sklearn/decomposition/_nmf.py:1077: ConvergenceWarning: Maximum number of iterations 200 reached. Increase it to improve convergence.\n",
      "  \" improve convergence.\" % max_iter, ConvergenceWarning)\n"
     ]
    },
    {
     "name": "stdout",
     "output_type": "stream",
     "text": [
      "Applying NMF for k=2, alpha =0.04, l1 = =0.6...\n"
     ]
    },
    {
     "name": "stderr",
     "output_type": "stream",
     "text": [
      "/usr/local/lib/python3.7/site-packages/sklearn/decomposition/_nmf.py:1077: ConvergenceWarning: Maximum number of iterations 200 reached. Increase it to improve convergence.\n",
      "  \" improve convergence.\" % max_iter, ConvergenceWarning)\n"
     ]
    },
    {
     "name": "stdout",
     "output_type": "stream",
     "text": [
      "Applying NMF for k=2, alpha =0.04, l1 = =0.7...\n"
     ]
    },
    {
     "name": "stderr",
     "output_type": "stream",
     "text": [
      "/usr/local/lib/python3.7/site-packages/sklearn/decomposition/_nmf.py:1077: ConvergenceWarning: Maximum number of iterations 200 reached. Increase it to improve convergence.\n",
      "  \" improve convergence.\" % max_iter, ConvergenceWarning)\n"
     ]
    },
    {
     "name": "stdout",
     "output_type": "stream",
     "text": [
      "Applying NMF for k=2, alpha =0.04, l1 = =0.8...\n"
     ]
    },
    {
     "name": "stderr",
     "output_type": "stream",
     "text": [
      "/usr/local/lib/python3.7/site-packages/sklearn/decomposition/_nmf.py:1077: ConvergenceWarning: Maximum number of iterations 200 reached. Increase it to improve convergence.\n",
      "  \" improve convergence.\" % max_iter, ConvergenceWarning)\n"
     ]
    },
    {
     "name": "stdout",
     "output_type": "stream",
     "text": [
      "Applying NMF for k=2, alpha =0.04, l1 = =0.9...\n",
      "Applying NMF for k=2, alpha =0.04, l1 = =1.0...\n",
      "Applying NMF for k=2, alpha =0.05, l1 = =0.0...\n"
     ]
    },
    {
     "name": "stderr",
     "output_type": "stream",
     "text": [
      "/usr/local/lib/python3.7/site-packages/sklearn/decomposition/_nmf.py:1077: ConvergenceWarning: Maximum number of iterations 200 reached. Increase it to improve convergence.\n",
      "  \" improve convergence.\" % max_iter, ConvergenceWarning)\n"
     ]
    },
    {
     "name": "stdout",
     "output_type": "stream",
     "text": [
      "Applying NMF for k=2, alpha =0.05, l1 = =0.1...\n"
     ]
    },
    {
     "name": "stderr",
     "output_type": "stream",
     "text": [
      "/usr/local/lib/python3.7/site-packages/sklearn/decomposition/_nmf.py:1077: ConvergenceWarning: Maximum number of iterations 200 reached. Increase it to improve convergence.\n",
      "  \" improve convergence.\" % max_iter, ConvergenceWarning)\n"
     ]
    },
    {
     "name": "stdout",
     "output_type": "stream",
     "text": [
      "Applying NMF for k=2, alpha =0.05, l1 = =0.2...\n"
     ]
    },
    {
     "name": "stderr",
     "output_type": "stream",
     "text": [
      "/usr/local/lib/python3.7/site-packages/sklearn/decomposition/_nmf.py:1077: ConvergenceWarning: Maximum number of iterations 200 reached. Increase it to improve convergence.\n",
      "  \" improve convergence.\" % max_iter, ConvergenceWarning)\n"
     ]
    },
    {
     "name": "stdout",
     "output_type": "stream",
     "text": [
      "Applying NMF for k=2, alpha =0.05, l1 = =0.3...\n"
     ]
    },
    {
     "name": "stderr",
     "output_type": "stream",
     "text": [
      "/usr/local/lib/python3.7/site-packages/sklearn/decomposition/_nmf.py:1077: ConvergenceWarning: Maximum number of iterations 200 reached. Increase it to improve convergence.\n",
      "  \" improve convergence.\" % max_iter, ConvergenceWarning)\n"
     ]
    },
    {
     "name": "stdout",
     "output_type": "stream",
     "text": [
      "Applying NMF for k=2, alpha =0.05, l1 = =0.4...\n"
     ]
    },
    {
     "name": "stderr",
     "output_type": "stream",
     "text": [
      "/usr/local/lib/python3.7/site-packages/sklearn/decomposition/_nmf.py:1077: ConvergenceWarning: Maximum number of iterations 200 reached. Increase it to improve convergence.\n",
      "  \" improve convergence.\" % max_iter, ConvergenceWarning)\n"
     ]
    },
    {
     "name": "stdout",
     "output_type": "stream",
     "text": [
      "Applying NMF for k=2, alpha =0.05, l1 = =0.5...\n"
     ]
    },
    {
     "name": "stderr",
     "output_type": "stream",
     "text": [
      "/usr/local/lib/python3.7/site-packages/sklearn/decomposition/_nmf.py:1077: ConvergenceWarning: Maximum number of iterations 200 reached. Increase it to improve convergence.\n",
      "  \" improve convergence.\" % max_iter, ConvergenceWarning)\n"
     ]
    },
    {
     "name": "stdout",
     "output_type": "stream",
     "text": [
      "Applying NMF for k=2, alpha =0.05, l1 = =0.6...\n",
      "Applying NMF for k=2, alpha =0.05, l1 = =0.7...\n",
      "Applying NMF for k=2, alpha =0.05, l1 = =0.8...\n",
      "Applying NMF for k=2, alpha =0.05, l1 = =0.9...\n",
      "Applying NMF for k=2, alpha =0.05, l1 = =1.0...\n",
      "Applying NMF for k=2, alpha =0.06, l1 = =0.0...\n"
     ]
    },
    {
     "name": "stderr",
     "output_type": "stream",
     "text": [
      "/usr/local/lib/python3.7/site-packages/sklearn/decomposition/_nmf.py:1077: ConvergenceWarning: Maximum number of iterations 200 reached. Increase it to improve convergence.\n",
      "  \" improve convergence.\" % max_iter, ConvergenceWarning)\n"
     ]
    },
    {
     "name": "stdout",
     "output_type": "stream",
     "text": [
      "Applying NMF for k=2, alpha =0.06, l1 = =0.1...\n"
     ]
    },
    {
     "name": "stderr",
     "output_type": "stream",
     "text": [
      "/usr/local/lib/python3.7/site-packages/sklearn/decomposition/_nmf.py:1077: ConvergenceWarning: Maximum number of iterations 200 reached. Increase it to improve convergence.\n",
      "  \" improve convergence.\" % max_iter, ConvergenceWarning)\n"
     ]
    },
    {
     "name": "stdout",
     "output_type": "stream",
     "text": [
      "Applying NMF for k=2, alpha =0.06, l1 = =0.2...\n"
     ]
    },
    {
     "name": "stderr",
     "output_type": "stream",
     "text": [
      "/usr/local/lib/python3.7/site-packages/sklearn/decomposition/_nmf.py:1077: ConvergenceWarning: Maximum number of iterations 200 reached. Increase it to improve convergence.\n",
      "  \" improve convergence.\" % max_iter, ConvergenceWarning)\n"
     ]
    },
    {
     "name": "stdout",
     "output_type": "stream",
     "text": [
      "Applying NMF for k=2, alpha =0.06, l1 = =0.3...\n"
     ]
    },
    {
     "name": "stderr",
     "output_type": "stream",
     "text": [
      "/usr/local/lib/python3.7/site-packages/sklearn/decomposition/_nmf.py:1077: ConvergenceWarning: Maximum number of iterations 200 reached. Increase it to improve convergence.\n",
      "  \" improve convergence.\" % max_iter, ConvergenceWarning)\n"
     ]
    },
    {
     "name": "stdout",
     "output_type": "stream",
     "text": [
      "Applying NMF for k=2, alpha =0.06, l1 = =0.4...\n",
      "Applying NMF for k=2, alpha =0.06, l1 = =0.5...\n",
      "Applying NMF for k=2, alpha =0.06, l1 = =0.6...\n",
      "Applying NMF for k=2, alpha =0.06, l1 = =0.7...\n",
      "Applying NMF for k=2, alpha =0.06, l1 = =0.8...\n",
      "Applying NMF for k=2, alpha =0.06, l1 = =0.9...\n",
      "Applying NMF for k=2, alpha =0.06, l1 = =1.0...\n",
      "Applying NMF for k=2, alpha =0.07, l1 = =0.0...\n"
     ]
    },
    {
     "name": "stderr",
     "output_type": "stream",
     "text": [
      "/usr/local/lib/python3.7/site-packages/sklearn/decomposition/_nmf.py:1077: ConvergenceWarning: Maximum number of iterations 200 reached. Increase it to improve convergence.\n",
      "  \" improve convergence.\" % max_iter, ConvergenceWarning)\n"
     ]
    },
    {
     "name": "stdout",
     "output_type": "stream",
     "text": [
      "Applying NMF for k=2, alpha =0.07, l1 = =0.1...\n"
     ]
    },
    {
     "name": "stderr",
     "output_type": "stream",
     "text": [
      "/usr/local/lib/python3.7/site-packages/sklearn/decomposition/_nmf.py:1077: ConvergenceWarning: Maximum number of iterations 200 reached. Increase it to improve convergence.\n",
      "  \" improve convergence.\" % max_iter, ConvergenceWarning)\n"
     ]
    },
    {
     "name": "stdout",
     "output_type": "stream",
     "text": [
      "Applying NMF for k=2, alpha =0.07, l1 = =0.2...\n",
      "Applying NMF for k=2, alpha =0.07, l1 = =0.3...\n",
      "Applying NMF for k=2, alpha =0.07, l1 = =0.4...\n",
      "Applying NMF for k=2, alpha =0.07, l1 = =0.5...\n",
      "Applying NMF for k=2, alpha =0.07, l1 = =0.6...\n",
      "Applying NMF for k=2, alpha =0.07, l1 = =0.7...\n",
      "Applying NMF for k=2, alpha =0.07, l1 = =0.8...\n",
      "Applying NMF for k=2, alpha =0.07, l1 = =0.9...\n",
      "Applying NMF for k=2, alpha =0.07, l1 = =1.0...\n",
      "Applying NMF for k=2, alpha =0.08, l1 = =0.0...\n"
     ]
    },
    {
     "name": "stderr",
     "output_type": "stream",
     "text": [
      "/usr/local/lib/python3.7/site-packages/sklearn/decomposition/_nmf.py:1077: ConvergenceWarning: Maximum number of iterations 200 reached. Increase it to improve convergence.\n",
      "  \" improve convergence.\" % max_iter, ConvergenceWarning)\n"
     ]
    },
    {
     "name": "stdout",
     "output_type": "stream",
     "text": [
      "Applying NMF for k=2, alpha =0.08, l1 = =0.1...\n",
      "Applying NMF for k=2, alpha =0.08, l1 = =0.2...\n",
      "Applying NMF for k=2, alpha =0.08, l1 = =0.3...\n",
      "Applying NMF for k=2, alpha =0.08, l1 = =0.4...\n",
      "Applying NMF for k=2, alpha =0.08, l1 = =0.5...\n",
      "Applying NMF for k=2, alpha =0.08, l1 = =0.6...\n",
      "Applying NMF for k=2, alpha =0.08, l1 = =0.7...\n",
      "Applying NMF for k=2, alpha =0.08, l1 = =0.8...\n",
      "Applying NMF for k=2, alpha =0.08, l1 = =0.9...\n",
      "Applying NMF for k=2, alpha =0.08, l1 = =1.0...\n",
      "Applying NMF for k=2, alpha =0.09, l1 = =0.0...\n",
      "Applying NMF for k=2, alpha =0.09, l1 = =0.1...\n",
      "Applying NMF for k=2, alpha =0.09, l1 = =0.2...\n",
      "Applying NMF for k=2, alpha =0.09, l1 = =0.3...\n",
      "Applying NMF for k=2, alpha =0.09, l1 = =0.4...\n",
      "Applying NMF for k=2, alpha =0.09, l1 = =0.5...\n",
      "Applying NMF for k=2, alpha =0.09, l1 = =0.6...\n",
      "Applying NMF for k=2, alpha =0.09, l1 = =0.7...\n",
      "Applying NMF for k=2, alpha =0.09, l1 = =0.8...\n",
      "Applying NMF for k=2, alpha =0.09, l1 = =0.9...\n",
      "Applying NMF for k=2, alpha =0.09, l1 = =1.0...\n",
      "Applying NMF for k=2, alpha =0.10, l1 = =0.0...\n",
      "Applying NMF for k=2, alpha =0.10, l1 = =0.1...\n",
      "Applying NMF for k=2, alpha =0.10, l1 = =0.2...\n",
      "Applying NMF for k=2, alpha =0.10, l1 = =0.3...\n",
      "Applying NMF for k=2, alpha =0.10, l1 = =0.4...\n",
      "Applying NMF for k=2, alpha =0.10, l1 = =0.5...\n",
      "Applying NMF for k=2, alpha =0.10, l1 = =0.6...\n",
      "Applying NMF for k=2, alpha =0.10, l1 = =0.7...\n",
      "Applying NMF for k=2, alpha =0.10, l1 = =0.8...\n",
      "Applying NMF for k=2, alpha =0.10, l1 = =0.9...\n",
      "Applying NMF for k=2, alpha =0.10, l1 = =1.0...\n",
      "Applying NMF for k=2, alpha =0.11, l1 = =0.0...\n",
      "Applying NMF for k=2, alpha =0.11, l1 = =0.1...\n",
      "Applying NMF for k=2, alpha =0.11, l1 = =0.2...\n",
      "Applying NMF for k=2, alpha =0.11, l1 = =0.3...\n",
      "Applying NMF for k=2, alpha =0.11, l1 = =0.4...\n",
      "Applying NMF for k=2, alpha =0.11, l1 = =0.5...\n",
      "Applying NMF for k=2, alpha =0.11, l1 = =0.6...\n",
      "Applying NMF for k=2, alpha =0.11, l1 = =0.7...\n",
      "Applying NMF for k=2, alpha =0.11, l1 = =0.8...\n",
      "Applying NMF for k=2, alpha =0.11, l1 = =0.9...\n",
      "Applying NMF for k=2, alpha =0.11, l1 = =1.0...\n",
      "Applying NMF for k=2, alpha =0.12, l1 = =0.0...\n",
      "Applying NMF for k=2, alpha =0.12, l1 = =0.1...\n",
      "Applying NMF for k=2, alpha =0.12, l1 = =0.2...\n",
      "Applying NMF for k=2, alpha =0.12, l1 = =0.3...\n",
      "Applying NMF for k=2, alpha =0.12, l1 = =0.4...\n",
      "Applying NMF for k=2, alpha =0.12, l1 = =0.5...\n",
      "Applying NMF for k=2, alpha =0.12, l1 = =0.6...\n",
      "Applying NMF for k=2, alpha =0.12, l1 = =0.7...\n",
      "Applying NMF for k=2, alpha =0.12, l1 = =0.8...\n",
      "Applying NMF for k=2, alpha =0.12, l1 = =0.9...\n",
      "Applying NMF for k=2, alpha =0.12, l1 = =1.0...\n",
      "Applying NMF for k=2, alpha =0.13, l1 = =0.0...\n",
      "Applying NMF for k=2, alpha =0.13, l1 = =0.1...\n",
      "Applying NMF for k=2, alpha =0.13, l1 = =0.2...\n",
      "Applying NMF for k=2, alpha =0.13, l1 = =0.3...\n",
      "Applying NMF for k=2, alpha =0.13, l1 = =0.4...\n",
      "Applying NMF for k=2, alpha =0.13, l1 = =0.5...\n",
      "Applying NMF for k=2, alpha =0.13, l1 = =0.6...\n",
      "Applying NMF for k=2, alpha =0.13, l1 = =0.7...\n",
      "Applying NMF for k=2, alpha =0.13, l1 = =0.8...\n",
      "Applying NMF for k=2, alpha =0.13, l1 = =0.9...\n",
      "Applying NMF for k=2, alpha =0.13, l1 = =1.0...\n",
      "Applying NMF for k=2, alpha =0.14, l1 = =0.0...\n",
      "Applying NMF for k=2, alpha =0.14, l1 = =0.1...\n",
      "Applying NMF for k=2, alpha =0.14, l1 = =0.2...\n",
      "Applying NMF for k=2, alpha =0.14, l1 = =0.3...\n",
      "Applying NMF for k=2, alpha =0.14, l1 = =0.4...\n",
      "Applying NMF for k=2, alpha =0.14, l1 = =0.5...\n",
      "Applying NMF for k=2, alpha =0.14, l1 = =0.6...\n",
      "Applying NMF for k=2, alpha =0.14, l1 = =0.7...\n",
      "Applying NMF for k=2, alpha =0.14, l1 = =0.8...\n",
      "Applying NMF for k=2, alpha =0.14, l1 = =0.9...\n",
      "Applying NMF for k=2, alpha =0.14, l1 = =1.0...\n",
      "Applying NMF for k=2, alpha =0.15, l1 = =0.0...\n",
      "Applying NMF for k=2, alpha =0.15, l1 = =0.1...\n",
      "Applying NMF for k=2, alpha =0.15, l1 = =0.2...\n",
      "Applying NMF for k=2, alpha =0.15, l1 = =0.3...\n",
      "Applying NMF for k=2, alpha =0.15, l1 = =0.4...\n",
      "Applying NMF for k=2, alpha =0.15, l1 = =0.5...\n",
      "Applying NMF for k=2, alpha =0.15, l1 = =0.6...\n",
      "Applying NMF for k=2, alpha =0.15, l1 = =0.7...\n",
      "Applying NMF for k=2, alpha =0.15, l1 = =0.8...\n",
      "Applying NMF for k=2, alpha =0.15, l1 = =0.9...\n",
      "Applying NMF for k=2, alpha =0.15, l1 = =1.0...\n",
      "Applying NMF for k=2, alpha =0.16, l1 = =0.0...\n",
      "Applying NMF for k=2, alpha =0.16, l1 = =0.1...\n",
      "Applying NMF for k=2, alpha =0.16, l1 = =0.2...\n",
      "Applying NMF for k=2, alpha =0.16, l1 = =0.3...\n",
      "Applying NMF for k=2, alpha =0.16, l1 = =0.4...\n",
      "Applying NMF for k=2, alpha =0.16, l1 = =0.5...\n",
      "Applying NMF for k=2, alpha =0.16, l1 = =0.6...\n",
      "Applying NMF for k=2, alpha =0.16, l1 = =0.7...\n",
      "Applying NMF for k=2, alpha =0.16, l1 = =0.8...\n",
      "Applying NMF for k=2, alpha =0.16, l1 = =0.9...\n",
      "Applying NMF for k=2, alpha =0.16, l1 = =1.0...\n",
      "Applying NMF for k=2, alpha =0.17, l1 = =0.0...\n",
      "Applying NMF for k=2, alpha =0.17, l1 = =0.1...\n",
      "Applying NMF for k=2, alpha =0.17, l1 = =0.2...\n",
      "Applying NMF for k=2, alpha =0.17, l1 = =0.3...\n",
      "Applying NMF for k=2, alpha =0.17, l1 = =0.4...\n",
      "Applying NMF for k=2, alpha =0.17, l1 = =0.5...\n",
      "Applying NMF for k=2, alpha =0.17, l1 = =0.6...\n",
      "Applying NMF for k=2, alpha =0.17, l1 = =0.7...\n",
      "Applying NMF for k=2, alpha =0.17, l1 = =0.8...\n",
      "Applying NMF for k=2, alpha =0.17, l1 = =0.9...\n",
      "Applying NMF for k=2, alpha =0.17, l1 = =1.0...\n",
      "Applying NMF for k=2, alpha =0.18, l1 = =0.0...\n",
      "Applying NMF for k=2, alpha =0.18, l1 = =0.1...\n",
      "Applying NMF for k=2, alpha =0.18, l1 = =0.2...\n",
      "Applying NMF for k=2, alpha =0.18, l1 = =0.3...\n",
      "Applying NMF for k=2, alpha =0.18, l1 = =0.4...\n",
      "Applying NMF for k=2, alpha =0.18, l1 = =0.5...\n",
      "Applying NMF for k=2, alpha =0.18, l1 = =0.6...\n",
      "Applying NMF for k=2, alpha =0.18, l1 = =0.7...\n",
      "Applying NMF for k=2, alpha =0.18, l1 = =0.8...\n",
      "Applying NMF for k=2, alpha =0.18, l1 = =0.9...\n",
      "Applying NMF for k=2, alpha =0.18, l1 = =1.0...\n",
      "Applying NMF for k=2, alpha =0.19, l1 = =0.0...\n",
      "Applying NMF for k=2, alpha =0.19, l1 = =0.1...\n",
      "Applying NMF for k=2, alpha =0.19, l1 = =0.2...\n",
      "Applying NMF for k=2, alpha =0.19, l1 = =0.3...\n",
      "Applying NMF for k=2, alpha =0.19, l1 = =0.4...\n",
      "Applying NMF for k=2, alpha =0.19, l1 = =0.5...\n",
      "Applying NMF for k=2, alpha =0.19, l1 = =0.6...\n",
      "Applying NMF for k=2, alpha =0.19, l1 = =0.7...\n",
      "Applying NMF for k=2, alpha =0.19, l1 = =0.8...\n",
      "Applying NMF for k=2, alpha =0.19, l1 = =0.9...\n",
      "Applying NMF for k=2, alpha =0.19, l1 = =1.0...\n",
      "Applying NMF for k=2, alpha =0.20, l1 = =0.0...\n",
      "Applying NMF for k=2, alpha =0.20, l1 = =0.1...\n",
      "Applying NMF for k=2, alpha =0.20, l1 = =0.2...\n",
      "Applying NMF for k=2, alpha =0.20, l1 = =0.3...\n",
      "Applying NMF for k=2, alpha =0.20, l1 = =0.4...\n",
      "Applying NMF for k=2, alpha =0.20, l1 = =0.5...\n",
      "Applying NMF for k=2, alpha =0.20, l1 = =0.6...\n",
      "Applying NMF for k=2, alpha =0.20, l1 = =0.7...\n",
      "Applying NMF for k=2, alpha =0.20, l1 = =0.8...\n",
      "Applying NMF for k=2, alpha =0.20, l1 = =0.9...\n",
      "Applying NMF for k=2, alpha =0.20, l1 = =1.0...\n",
      "Applying NMF for k=2, alpha =0.21, l1 = =0.0...\n",
      "Applying NMF for k=2, alpha =0.21, l1 = =0.1...\n",
      "Applying NMF for k=2, alpha =0.21, l1 = =0.2...\n",
      "Applying NMF for k=2, alpha =0.21, l1 = =0.3...\n",
      "Applying NMF for k=2, alpha =0.21, l1 = =0.4...\n",
      "Applying NMF for k=2, alpha =0.21, l1 = =0.5...\n",
      "Applying NMF for k=2, alpha =0.21, l1 = =0.6...\n",
      "Applying NMF for k=2, alpha =0.21, l1 = =0.7...\n",
      "Applying NMF for k=2, alpha =0.21, l1 = =0.8...\n",
      "Applying NMF for k=2, alpha =0.21, l1 = =0.9...\n",
      "Applying NMF for k=2, alpha =0.21, l1 = =1.0...\n",
      "Applying NMF for k=2, alpha =0.22, l1 = =0.0...\n",
      "Applying NMF for k=2, alpha =0.22, l1 = =0.1...\n",
      "Applying NMF for k=2, alpha =0.22, l1 = =0.2...\n",
      "Applying NMF for k=2, alpha =0.22, l1 = =0.3...\n",
      "Applying NMF for k=2, alpha =0.22, l1 = =0.4...\n",
      "Applying NMF for k=2, alpha =0.22, l1 = =0.5...\n",
      "Applying NMF for k=2, alpha =0.22, l1 = =0.6...\n",
      "Applying NMF for k=2, alpha =0.22, l1 = =0.7...\n",
      "Applying NMF for k=2, alpha =0.22, l1 = =0.8...\n",
      "Applying NMF for k=2, alpha =0.22, l1 = =0.9...\n",
      "Applying NMF for k=2, alpha =0.22, l1 = =1.0...\n",
      "Applying NMF for k=2, alpha =0.23, l1 = =0.0...\n",
      "Applying NMF for k=2, alpha =0.23, l1 = =0.1...\n",
      "Applying NMF for k=2, alpha =0.23, l1 = =0.2...\n",
      "Applying NMF for k=2, alpha =0.23, l1 = =0.3...\n",
      "Applying NMF for k=2, alpha =0.23, l1 = =0.4...\n",
      "Applying NMF for k=2, alpha =0.23, l1 = =0.5...\n",
      "Applying NMF for k=2, alpha =0.23, l1 = =0.6...\n"
     ]
    },
    {
     "name": "stdout",
     "output_type": "stream",
     "text": [
      "Applying NMF for k=2, alpha =0.23, l1 = =0.7...\n",
      "Applying NMF for k=2, alpha =0.23, l1 = =0.8...\n",
      "Applying NMF for k=2, alpha =0.23, l1 = =0.9...\n",
      "Applying NMF for k=2, alpha =0.23, l1 = =1.0...\n",
      "Applying NMF for k=2, alpha =0.24, l1 = =0.0...\n",
      "Applying NMF for k=2, alpha =0.24, l1 = =0.1...\n",
      "Applying NMF for k=2, alpha =0.24, l1 = =0.2...\n",
      "Applying NMF for k=2, alpha =0.24, l1 = =0.3...\n",
      "Applying NMF for k=2, alpha =0.24, l1 = =0.4...\n",
      "Applying NMF for k=2, alpha =0.24, l1 = =0.5...\n",
      "Applying NMF for k=2, alpha =0.24, l1 = =0.6...\n",
      "Applying NMF for k=2, alpha =0.24, l1 = =0.7...\n",
      "Applying NMF for k=2, alpha =0.24, l1 = =0.8...\n",
      "Applying NMF for k=2, alpha =0.24, l1 = =0.9...\n",
      "Applying NMF for k=2, alpha =0.24, l1 = =1.0...\n",
      "Applying NMF for k=2, alpha =0.25, l1 = =0.0...\n",
      "Applying NMF for k=2, alpha =0.25, l1 = =0.1...\n",
      "Applying NMF for k=2, alpha =0.25, l1 = =0.2...\n",
      "Applying NMF for k=2, alpha =0.25, l1 = =0.3...\n",
      "Applying NMF for k=2, alpha =0.25, l1 = =0.4...\n",
      "Applying NMF for k=2, alpha =0.25, l1 = =0.5...\n",
      "Applying NMF for k=2, alpha =0.25, l1 = =0.6...\n",
      "Applying NMF for k=2, alpha =0.25, l1 = =0.7...\n",
      "Applying NMF for k=2, alpha =0.25, l1 = =0.8...\n",
      "Applying NMF for k=2, alpha =0.25, l1 = =0.9...\n",
      "Applying NMF for k=2, alpha =0.25, l1 = =1.0...\n",
      "Applying NMF for k=2, alpha =0.26, l1 = =0.0...\n",
      "Applying NMF for k=2, alpha =0.26, l1 = =0.1...\n",
      "Applying NMF for k=2, alpha =0.26, l1 = =0.2...\n",
      "Applying NMF for k=2, alpha =0.26, l1 = =0.3...\n",
      "Applying NMF for k=2, alpha =0.26, l1 = =0.4...\n",
      "Applying NMF for k=2, alpha =0.26, l1 = =0.5...\n",
      "Applying NMF for k=2, alpha =0.26, l1 = =0.6...\n",
      "Applying NMF for k=2, alpha =0.26, l1 = =0.7...\n",
      "Applying NMF for k=2, alpha =0.26, l1 = =0.8...\n",
      "Applying NMF for k=2, alpha =0.26, l1 = =0.9...\n",
      "Applying NMF for k=2, alpha =0.26, l1 = =1.0...\n",
      "Applying NMF for k=2, alpha =0.27, l1 = =0.0...\n",
      "Applying NMF for k=2, alpha =0.27, l1 = =0.1...\n",
      "Applying NMF for k=2, alpha =0.27, l1 = =0.2...\n",
      "Applying NMF for k=2, alpha =0.27, l1 = =0.3...\n",
      "Applying NMF for k=2, alpha =0.27, l1 = =0.4...\n",
      "Applying NMF for k=2, alpha =0.27, l1 = =0.5...\n",
      "Applying NMF for k=2, alpha =0.27, l1 = =0.6...\n",
      "Applying NMF for k=2, alpha =0.27, l1 = =0.7...\n",
      "Applying NMF for k=2, alpha =0.27, l1 = =0.8...\n",
      "Applying NMF for k=2, alpha =0.27, l1 = =0.9...\n",
      "Applying NMF for k=2, alpha =0.27, l1 = =1.0...\n",
      "Applying NMF for k=2, alpha =0.28, l1 = =0.0...\n",
      "Applying NMF for k=2, alpha =0.28, l1 = =0.1...\n",
      "Applying NMF for k=2, alpha =0.28, l1 = =0.2...\n",
      "Applying NMF for k=2, alpha =0.28, l1 = =0.3...\n",
      "Applying NMF for k=2, alpha =0.28, l1 = =0.4...\n",
      "Applying NMF for k=2, alpha =0.28, l1 = =0.5...\n",
      "Applying NMF for k=2, alpha =0.28, l1 = =0.6...\n",
      "Applying NMF for k=2, alpha =0.28, l1 = =0.7...\n",
      "Applying NMF for k=2, alpha =0.28, l1 = =0.8...\n",
      "Applying NMF for k=2, alpha =0.28, l1 = =0.9...\n",
      "Applying NMF for k=2, alpha =0.28, l1 = =1.0...\n",
      "Applying NMF for k=2, alpha =0.29, l1 = =0.0...\n",
      "Applying NMF for k=2, alpha =0.29, l1 = =0.1...\n",
      "Applying NMF for k=2, alpha =0.29, l1 = =0.2...\n",
      "Applying NMF for k=2, alpha =0.29, l1 = =0.3...\n",
      "Applying NMF for k=2, alpha =0.29, l1 = =0.4...\n",
      "Applying NMF for k=2, alpha =0.29, l1 = =0.5...\n",
      "Applying NMF for k=2, alpha =0.29, l1 = =0.6...\n",
      "Applying NMF for k=2, alpha =0.29, l1 = =0.7...\n",
      "Applying NMF for k=2, alpha =0.29, l1 = =0.8...\n",
      "Applying NMF for k=2, alpha =0.29, l1 = =0.9...\n",
      "Applying NMF for k=2, alpha =0.29, l1 = =1.0...\n",
      "Applying NMF for k=2, alpha =0.30, l1 = =0.0...\n",
      "Applying NMF for k=2, alpha =0.30, l1 = =0.1...\n",
      "Applying NMF for k=2, alpha =0.30, l1 = =0.2...\n",
      "Applying NMF for k=2, alpha =0.30, l1 = =0.3...\n",
      "Applying NMF for k=2, alpha =0.30, l1 = =0.4...\n",
      "Applying NMF for k=2, alpha =0.30, l1 = =0.5...\n",
      "Applying NMF for k=2, alpha =0.30, l1 = =0.6...\n",
      "Applying NMF for k=2, alpha =0.30, l1 = =0.7...\n",
      "Applying NMF for k=2, alpha =0.30, l1 = =0.8...\n",
      "Applying NMF for k=2, alpha =0.30, l1 = =0.9...\n",
      "Applying NMF for k=2, alpha =0.30, l1 = =1.0...\n",
      "Applying NMF for k=2, alpha =0.31, l1 = =0.0...\n",
      "Applying NMF for k=2, alpha =0.31, l1 = =0.1...\n",
      "Applying NMF for k=2, alpha =0.31, l1 = =0.2...\n",
      "Applying NMF for k=2, alpha =0.31, l1 = =0.3...\n",
      "Applying NMF for k=2, alpha =0.31, l1 = =0.4...\n",
      "Applying NMF for k=2, alpha =0.31, l1 = =0.5...\n",
      "Applying NMF for k=2, alpha =0.31, l1 = =0.6...\n",
      "Applying NMF for k=2, alpha =0.31, l1 = =0.7...\n",
      "Applying NMF for k=2, alpha =0.31, l1 = =0.8...\n",
      "Applying NMF for k=2, alpha =0.31, l1 = =0.9...\n",
      "Applying NMF for k=2, alpha =0.31, l1 = =1.0...\n",
      "Applying NMF for k=2, alpha =0.40, l1 = =0.0...\n",
      "Applying NMF for k=2, alpha =0.40, l1 = =0.1...\n",
      "Applying NMF for k=2, alpha =0.40, l1 = =0.2...\n",
      "Applying NMF for k=2, alpha =0.40, l1 = =0.3...\n",
      "Applying NMF for k=2, alpha =0.40, l1 = =0.4...\n",
      "Applying NMF for k=2, alpha =0.40, l1 = =0.5...\n",
      "Applying NMF for k=2, alpha =0.40, l1 = =0.6...\n",
      "Applying NMF for k=2, alpha =0.40, l1 = =0.7...\n",
      "Applying NMF for k=2, alpha =0.40, l1 = =0.8...\n",
      "Applying NMF for k=2, alpha =0.40, l1 = =0.9...\n",
      "Applying NMF for k=2, alpha =0.40, l1 = =1.0...\n",
      "Applying NMF for k=2, alpha =0.50, l1 = =0.0...\n",
      "Applying NMF for k=2, alpha =0.50, l1 = =0.1...\n",
      "Applying NMF for k=2, alpha =0.50, l1 = =0.2...\n",
      "Applying NMF for k=2, alpha =0.50, l1 = =0.3...\n",
      "Applying NMF for k=2, alpha =0.50, l1 = =0.4...\n",
      "Applying NMF for k=2, alpha =0.50, l1 = =0.5...\n",
      "Applying NMF for k=2, alpha =0.50, l1 = =0.6...\n",
      "Applying NMF for k=2, alpha =0.50, l1 = =0.7...\n",
      "Applying NMF for k=2, alpha =0.50, l1 = =0.8...\n",
      "Applying NMF for k=2, alpha =0.50, l1 = =0.9...\n",
      "Applying NMF for k=2, alpha =0.50, l1 = =1.0...\n",
      "Applying NMF for k=2, alpha =0.60, l1 = =0.0...\n",
      "Applying NMF for k=2, alpha =0.60, l1 = =0.1...\n",
      "Applying NMF for k=2, alpha =0.60, l1 = =0.2...\n",
      "Applying NMF for k=2, alpha =0.60, l1 = =0.3...\n",
      "Applying NMF for k=2, alpha =0.60, l1 = =0.4...\n",
      "Applying NMF for k=2, alpha =0.60, l1 = =0.5...\n",
      "Applying NMF for k=2, alpha =0.60, l1 = =0.6...\n",
      "Applying NMF for k=2, alpha =0.60, l1 = =0.7...\n",
      "Applying NMF for k=2, alpha =0.60, l1 = =0.8...\n",
      "Applying NMF for k=2, alpha =0.60, l1 = =0.9...\n",
      "Applying NMF for k=2, alpha =0.60, l1 = =1.0...\n",
      "Applying NMF for k=2, alpha =0.70, l1 = =0.0...\n",
      "Applying NMF for k=2, alpha =0.70, l1 = =0.1...\n",
      "Applying NMF for k=2, alpha =0.70, l1 = =0.2...\n",
      "Applying NMF for k=2, alpha =0.70, l1 = =0.3...\n",
      "Applying NMF for k=2, alpha =0.70, l1 = =0.4...\n",
      "Applying NMF for k=2, alpha =0.70, l1 = =0.5...\n",
      "Applying NMF for k=2, alpha =0.70, l1 = =0.6...\n",
      "Applying NMF for k=2, alpha =0.70, l1 = =0.7...\n",
      "Applying NMF for k=2, alpha =0.70, l1 = =0.8...\n",
      "Applying NMF for k=2, alpha =0.70, l1 = =0.9...\n",
      "Applying NMF for k=2, alpha =0.70, l1 = =1.0...\n",
      "Applying NMF for k=2, alpha =0.80, l1 = =0.0...\n",
      "Applying NMF for k=2, alpha =0.80, l1 = =0.1...\n",
      "Applying NMF for k=2, alpha =0.80, l1 = =0.2...\n",
      "Applying NMF for k=2, alpha =0.80, l1 = =0.3...\n",
      "Applying NMF for k=2, alpha =0.80, l1 = =0.4...\n",
      "Applying NMF for k=2, alpha =0.80, l1 = =0.5...\n",
      "Applying NMF for k=2, alpha =0.80, l1 = =0.6...\n",
      "Applying NMF for k=2, alpha =0.80, l1 = =0.7...\n",
      "Applying NMF for k=2, alpha =0.80, l1 = =0.8...\n",
      "Applying NMF for k=2, alpha =0.80, l1 = =0.9...\n",
      "Applying NMF for k=2, alpha =0.80, l1 = =1.0...\n",
      "Applying NMF for k=2, alpha =0.90, l1 = =0.0...\n",
      "Applying NMF for k=2, alpha =0.90, l1 = =0.1...\n",
      "Applying NMF for k=2, alpha =0.90, l1 = =0.2...\n",
      "Applying NMF for k=2, alpha =0.90, l1 = =0.3...\n",
      "Applying NMF for k=2, alpha =0.90, l1 = =0.4...\n",
      "Applying NMF for k=2, alpha =0.90, l1 = =0.5...\n",
      "Applying NMF for k=2, alpha =0.90, l1 = =0.6...\n",
      "Applying NMF for k=2, alpha =0.90, l1 = =0.7...\n",
      "Applying NMF for k=2, alpha =0.90, l1 = =0.8...\n",
      "Applying NMF for k=2, alpha =0.90, l1 = =0.9...\n",
      "Applying NMF for k=2, alpha =0.90, l1 = =1.0...\n"
     ]
    },
    {
     "name": "stderr",
     "output_type": "stream",
     "text": [
      "/usr/local/lib/python3.7/site-packages/sklearn/decomposition/_nmf.py:1077: ConvergenceWarning: Maximum number of iterations 200 reached. Increase it to improve convergence.\n",
      "  \" improve convergence.\" % max_iter, ConvergenceWarning)\n"
     ]
    },
    {
     "name": "stdout",
     "output_type": "stream",
     "text": [
      "Applying NMF for k=2, alpha =1.00, l1 = =0.0...\n",
      "Applying NMF for k=2, alpha =1.00, l1 = =0.1...\n",
      "Applying NMF for k=2, alpha =1.00, l1 = =0.2...\n",
      "Applying NMF for k=2, alpha =1.00, l1 = =0.3...\n",
      "Applying NMF for k=2, alpha =1.00, l1 = =0.4...\n",
      "Applying NMF for k=2, alpha =1.00, l1 = =0.5...\n",
      "Applying NMF for k=2, alpha =1.00, l1 = =0.6...\n",
      "Applying NMF for k=2, alpha =1.00, l1 = =0.7...\n",
      "Applying NMF for k=2, alpha =1.00, l1 = =0.8...\n",
      "Applying NMF for k=2, alpha =1.00, l1 = =0.9...\n",
      "Applying NMF for k=2, alpha =1.00, l1 = =1.0...\n"
     ]
    },
    {
     "name": "stderr",
     "output_type": "stream",
     "text": [
      "/usr/local/lib/python3.7/site-packages/sklearn/decomposition/_nmf.py:1077: ConvergenceWarning: Maximum number of iterations 200 reached. Increase it to improve convergence.\n",
      "  \" improve convergence.\" % max_iter, ConvergenceWarning)\n"
     ]
    },
    {
     "name": "stdout",
     "output_type": "stream",
     "text": [
      "Applying NMF for k=3, alpha =0.00, l1 = =0.0...\n",
      "Applying NMF for k=3, alpha =0.00, l1 = =0.1...\n",
      "Applying NMF for k=3, alpha =0.00, l1 = =0.2...\n",
      "Applying NMF for k=3, alpha =0.00, l1 = =0.3...\n",
      "Applying NMF for k=3, alpha =0.00, l1 = =0.4...\n",
      "Applying NMF for k=3, alpha =0.00, l1 = =0.5...\n",
      "Applying NMF for k=3, alpha =0.00, l1 = =0.6...\n",
      "Applying NMF for k=3, alpha =0.00, l1 = =0.7...\n",
      "Applying NMF for k=3, alpha =0.00, l1 = =0.8...\n",
      "Applying NMF for k=3, alpha =0.00, l1 = =0.9...\n",
      "Applying NMF for k=3, alpha =0.00, l1 = =1.0...\n",
      "Applying NMF for k=3, alpha =0.01, l1 = =0.0...\n"
     ]
    },
    {
     "name": "stderr",
     "output_type": "stream",
     "text": [
      "/usr/local/lib/python3.7/site-packages/sklearn/decomposition/_nmf.py:1077: ConvergenceWarning: Maximum number of iterations 200 reached. Increase it to improve convergence.\n",
      "  \" improve convergence.\" % max_iter, ConvergenceWarning)\n"
     ]
    },
    {
     "name": "stdout",
     "output_type": "stream",
     "text": [
      "Applying NMF for k=3, alpha =0.01, l1 = =0.1...\n"
     ]
    },
    {
     "name": "stderr",
     "output_type": "stream",
     "text": [
      "/usr/local/lib/python3.7/site-packages/sklearn/decomposition/_nmf.py:1077: ConvergenceWarning: Maximum number of iterations 200 reached. Increase it to improve convergence.\n",
      "  \" improve convergence.\" % max_iter, ConvergenceWarning)\n"
     ]
    },
    {
     "name": "stdout",
     "output_type": "stream",
     "text": [
      "Applying NMF for k=3, alpha =0.01, l1 = =0.2...\n"
     ]
    },
    {
     "name": "stderr",
     "output_type": "stream",
     "text": [
      "/usr/local/lib/python3.7/site-packages/sklearn/decomposition/_nmf.py:1077: ConvergenceWarning: Maximum number of iterations 200 reached. Increase it to improve convergence.\n",
      "  \" improve convergence.\" % max_iter, ConvergenceWarning)\n"
     ]
    },
    {
     "name": "stdout",
     "output_type": "stream",
     "text": [
      "Applying NMF for k=3, alpha =0.01, l1 = =0.3...\n"
     ]
    },
    {
     "name": "stderr",
     "output_type": "stream",
     "text": [
      "/usr/local/lib/python3.7/site-packages/sklearn/decomposition/_nmf.py:1077: ConvergenceWarning: Maximum number of iterations 200 reached. Increase it to improve convergence.\n",
      "  \" improve convergence.\" % max_iter, ConvergenceWarning)\n"
     ]
    },
    {
     "name": "stdout",
     "output_type": "stream",
     "text": [
      "Applying NMF for k=3, alpha =0.01, l1 = =0.4...\n"
     ]
    },
    {
     "name": "stderr",
     "output_type": "stream",
     "text": [
      "/usr/local/lib/python3.7/site-packages/sklearn/decomposition/_nmf.py:1077: ConvergenceWarning: Maximum number of iterations 200 reached. Increase it to improve convergence.\n",
      "  \" improve convergence.\" % max_iter, ConvergenceWarning)\n"
     ]
    },
    {
     "name": "stdout",
     "output_type": "stream",
     "text": [
      "Applying NMF for k=3, alpha =0.01, l1 = =0.5...\n"
     ]
    },
    {
     "name": "stderr",
     "output_type": "stream",
     "text": [
      "/usr/local/lib/python3.7/site-packages/sklearn/decomposition/_nmf.py:1077: ConvergenceWarning: Maximum number of iterations 200 reached. Increase it to improve convergence.\n",
      "  \" improve convergence.\" % max_iter, ConvergenceWarning)\n"
     ]
    },
    {
     "name": "stdout",
     "output_type": "stream",
     "text": [
      "Applying NMF for k=3, alpha =0.01, l1 = =0.6...\n"
     ]
    },
    {
     "name": "stderr",
     "output_type": "stream",
     "text": [
      "/usr/local/lib/python3.7/site-packages/sklearn/decomposition/_nmf.py:1077: ConvergenceWarning: Maximum number of iterations 200 reached. Increase it to improve convergence.\n",
      "  \" improve convergence.\" % max_iter, ConvergenceWarning)\n"
     ]
    },
    {
     "name": "stdout",
     "output_type": "stream",
     "text": [
      "Applying NMF for k=3, alpha =0.01, l1 = =0.7...\n"
     ]
    },
    {
     "name": "stderr",
     "output_type": "stream",
     "text": [
      "/usr/local/lib/python3.7/site-packages/sklearn/decomposition/_nmf.py:1077: ConvergenceWarning: Maximum number of iterations 200 reached. Increase it to improve convergence.\n",
      "  \" improve convergence.\" % max_iter, ConvergenceWarning)\n"
     ]
    },
    {
     "name": "stdout",
     "output_type": "stream",
     "text": [
      "Applying NMF for k=3, alpha =0.01, l1 = =0.8...\n"
     ]
    },
    {
     "name": "stderr",
     "output_type": "stream",
     "text": [
      "/usr/local/lib/python3.7/site-packages/sklearn/decomposition/_nmf.py:1077: ConvergenceWarning: Maximum number of iterations 200 reached. Increase it to improve convergence.\n",
      "  \" improve convergence.\" % max_iter, ConvergenceWarning)\n"
     ]
    },
    {
     "name": "stdout",
     "output_type": "stream",
     "text": [
      "Applying NMF for k=3, alpha =0.01, l1 = =0.9...\n"
     ]
    },
    {
     "name": "stderr",
     "output_type": "stream",
     "text": [
      "/usr/local/lib/python3.7/site-packages/sklearn/decomposition/_nmf.py:1077: ConvergenceWarning: Maximum number of iterations 200 reached. Increase it to improve convergence.\n",
      "  \" improve convergence.\" % max_iter, ConvergenceWarning)\n"
     ]
    },
    {
     "name": "stdout",
     "output_type": "stream",
     "text": [
      "Applying NMF for k=3, alpha =0.01, l1 = =1.0...\n"
     ]
    },
    {
     "name": "stderr",
     "output_type": "stream",
     "text": [
      "/usr/local/lib/python3.7/site-packages/sklearn/decomposition/_nmf.py:1077: ConvergenceWarning: Maximum number of iterations 200 reached. Increase it to improve convergence.\n",
      "  \" improve convergence.\" % max_iter, ConvergenceWarning)\n"
     ]
    },
    {
     "name": "stdout",
     "output_type": "stream",
     "text": [
      "Applying NMF for k=3, alpha =0.02, l1 = =0.0...\n"
     ]
    },
    {
     "name": "stderr",
     "output_type": "stream",
     "text": [
      "/usr/local/lib/python3.7/site-packages/sklearn/decomposition/_nmf.py:1077: ConvergenceWarning: Maximum number of iterations 200 reached. Increase it to improve convergence.\n",
      "  \" improve convergence.\" % max_iter, ConvergenceWarning)\n"
     ]
    },
    {
     "name": "stdout",
     "output_type": "stream",
     "text": [
      "Applying NMF for k=3, alpha =0.02, l1 = =0.1...\n"
     ]
    },
    {
     "name": "stderr",
     "output_type": "stream",
     "text": [
      "/usr/local/lib/python3.7/site-packages/sklearn/decomposition/_nmf.py:1077: ConvergenceWarning: Maximum number of iterations 200 reached. Increase it to improve convergence.\n",
      "  \" improve convergence.\" % max_iter, ConvergenceWarning)\n"
     ]
    },
    {
     "name": "stdout",
     "output_type": "stream",
     "text": [
      "Applying NMF for k=3, alpha =0.02, l1 = =0.2...\n"
     ]
    },
    {
     "name": "stderr",
     "output_type": "stream",
     "text": [
      "/usr/local/lib/python3.7/site-packages/sklearn/decomposition/_nmf.py:1077: ConvergenceWarning: Maximum number of iterations 200 reached. Increase it to improve convergence.\n",
      "  \" improve convergence.\" % max_iter, ConvergenceWarning)\n"
     ]
    },
    {
     "name": "stdout",
     "output_type": "stream",
     "text": [
      "Applying NMF for k=3, alpha =0.02, l1 = =0.3...\n"
     ]
    },
    {
     "name": "stderr",
     "output_type": "stream",
     "text": [
      "/usr/local/lib/python3.7/site-packages/sklearn/decomposition/_nmf.py:1077: ConvergenceWarning: Maximum number of iterations 200 reached. Increase it to improve convergence.\n",
      "  \" improve convergence.\" % max_iter, ConvergenceWarning)\n"
     ]
    },
    {
     "name": "stdout",
     "output_type": "stream",
     "text": [
      "Applying NMF for k=3, alpha =0.02, l1 = =0.4...\n"
     ]
    },
    {
     "name": "stderr",
     "output_type": "stream",
     "text": [
      "/usr/local/lib/python3.7/site-packages/sklearn/decomposition/_nmf.py:1077: ConvergenceWarning: Maximum number of iterations 200 reached. Increase it to improve convergence.\n",
      "  \" improve convergence.\" % max_iter, ConvergenceWarning)\n"
     ]
    },
    {
     "name": "stdout",
     "output_type": "stream",
     "text": [
      "Applying NMF for k=3, alpha =0.02, l1 = =0.5...\n"
     ]
    },
    {
     "name": "stderr",
     "output_type": "stream",
     "text": [
      "/usr/local/lib/python3.7/site-packages/sklearn/decomposition/_nmf.py:1077: ConvergenceWarning: Maximum number of iterations 200 reached. Increase it to improve convergence.\n",
      "  \" improve convergence.\" % max_iter, ConvergenceWarning)\n"
     ]
    },
    {
     "name": "stdout",
     "output_type": "stream",
     "text": [
      "Applying NMF for k=3, alpha =0.02, l1 = =0.6...\n"
     ]
    },
    {
     "name": "stderr",
     "output_type": "stream",
     "text": [
      "/usr/local/lib/python3.7/site-packages/sklearn/decomposition/_nmf.py:1077: ConvergenceWarning: Maximum number of iterations 200 reached. Increase it to improve convergence.\n",
      "  \" improve convergence.\" % max_iter, ConvergenceWarning)\n"
     ]
    },
    {
     "name": "stdout",
     "output_type": "stream",
     "text": [
      "Applying NMF for k=3, alpha =0.02, l1 = =0.7...\n"
     ]
    },
    {
     "name": "stderr",
     "output_type": "stream",
     "text": [
      "/usr/local/lib/python3.7/site-packages/sklearn/decomposition/_nmf.py:1077: ConvergenceWarning: Maximum number of iterations 200 reached. Increase it to improve convergence.\n",
      "  \" improve convergence.\" % max_iter, ConvergenceWarning)\n"
     ]
    },
    {
     "name": "stdout",
     "output_type": "stream",
     "text": [
      "Applying NMF for k=3, alpha =0.02, l1 = =0.8...\n"
     ]
    },
    {
     "name": "stderr",
     "output_type": "stream",
     "text": [
      "/usr/local/lib/python3.7/site-packages/sklearn/decomposition/_nmf.py:1077: ConvergenceWarning: Maximum number of iterations 200 reached. Increase it to improve convergence.\n",
      "  \" improve convergence.\" % max_iter, ConvergenceWarning)\n"
     ]
    },
    {
     "name": "stdout",
     "output_type": "stream",
     "text": [
      "Applying NMF for k=3, alpha =0.02, l1 = =0.9...\n"
     ]
    },
    {
     "name": "stderr",
     "output_type": "stream",
     "text": [
      "/usr/local/lib/python3.7/site-packages/sklearn/decomposition/_nmf.py:1077: ConvergenceWarning: Maximum number of iterations 200 reached. Increase it to improve convergence.\n",
      "  \" improve convergence.\" % max_iter, ConvergenceWarning)\n"
     ]
    },
    {
     "name": "stdout",
     "output_type": "stream",
     "text": [
      "Applying NMF for k=3, alpha =0.02, l1 = =1.0...\n"
     ]
    },
    {
     "name": "stderr",
     "output_type": "stream",
     "text": [
      "/usr/local/lib/python3.7/site-packages/sklearn/decomposition/_nmf.py:1077: ConvergenceWarning: Maximum number of iterations 200 reached. Increase it to improve convergence.\n",
      "  \" improve convergence.\" % max_iter, ConvergenceWarning)\n"
     ]
    },
    {
     "name": "stdout",
     "output_type": "stream",
     "text": [
      "Applying NMF for k=3, alpha =0.03, l1 = =0.0...\n"
     ]
    },
    {
     "name": "stderr",
     "output_type": "stream",
     "text": [
      "/usr/local/lib/python3.7/site-packages/sklearn/decomposition/_nmf.py:1077: ConvergenceWarning: Maximum number of iterations 200 reached. Increase it to improve convergence.\n",
      "  \" improve convergence.\" % max_iter, ConvergenceWarning)\n"
     ]
    },
    {
     "name": "stdout",
     "output_type": "stream",
     "text": [
      "Applying NMF for k=3, alpha =0.03, l1 = =0.1...\n"
     ]
    },
    {
     "name": "stderr",
     "output_type": "stream",
     "text": [
      "/usr/local/lib/python3.7/site-packages/sklearn/decomposition/_nmf.py:1077: ConvergenceWarning: Maximum number of iterations 200 reached. Increase it to improve convergence.\n",
      "  \" improve convergence.\" % max_iter, ConvergenceWarning)\n"
     ]
    },
    {
     "name": "stdout",
     "output_type": "stream",
     "text": [
      "Applying NMF for k=3, alpha =0.03, l1 = =0.2...\n"
     ]
    },
    {
     "name": "stderr",
     "output_type": "stream",
     "text": [
      "/usr/local/lib/python3.7/site-packages/sklearn/decomposition/_nmf.py:1077: ConvergenceWarning: Maximum number of iterations 200 reached. Increase it to improve convergence.\n",
      "  \" improve convergence.\" % max_iter, ConvergenceWarning)\n"
     ]
    },
    {
     "name": "stdout",
     "output_type": "stream",
     "text": [
      "Applying NMF for k=3, alpha =0.03, l1 = =0.3...\n"
     ]
    },
    {
     "name": "stderr",
     "output_type": "stream",
     "text": [
      "/usr/local/lib/python3.7/site-packages/sklearn/decomposition/_nmf.py:1077: ConvergenceWarning: Maximum number of iterations 200 reached. Increase it to improve convergence.\n",
      "  \" improve convergence.\" % max_iter, ConvergenceWarning)\n"
     ]
    },
    {
     "name": "stdout",
     "output_type": "stream",
     "text": [
      "Applying NMF for k=3, alpha =0.03, l1 = =0.4...\n"
     ]
    },
    {
     "name": "stderr",
     "output_type": "stream",
     "text": [
      "/usr/local/lib/python3.7/site-packages/sklearn/decomposition/_nmf.py:1077: ConvergenceWarning: Maximum number of iterations 200 reached. Increase it to improve convergence.\n",
      "  \" improve convergence.\" % max_iter, ConvergenceWarning)\n"
     ]
    },
    {
     "name": "stdout",
     "output_type": "stream",
     "text": [
      "Applying NMF for k=3, alpha =0.03, l1 = =0.5...\n"
     ]
    },
    {
     "name": "stderr",
     "output_type": "stream",
     "text": [
      "/usr/local/lib/python3.7/site-packages/sklearn/decomposition/_nmf.py:1077: ConvergenceWarning: Maximum number of iterations 200 reached. Increase it to improve convergence.\n",
      "  \" improve convergence.\" % max_iter, ConvergenceWarning)\n"
     ]
    },
    {
     "name": "stdout",
     "output_type": "stream",
     "text": [
      "Applying NMF for k=3, alpha =0.03, l1 = =0.6...\n"
     ]
    },
    {
     "name": "stderr",
     "output_type": "stream",
     "text": [
      "/usr/local/lib/python3.7/site-packages/sklearn/decomposition/_nmf.py:1077: ConvergenceWarning: Maximum number of iterations 200 reached. Increase it to improve convergence.\n",
      "  \" improve convergence.\" % max_iter, ConvergenceWarning)\n"
     ]
    },
    {
     "name": "stdout",
     "output_type": "stream",
     "text": [
      "Applying NMF for k=3, alpha =0.03, l1 = =0.7...\n"
     ]
    },
    {
     "name": "stderr",
     "output_type": "stream",
     "text": [
      "/usr/local/lib/python3.7/site-packages/sklearn/decomposition/_nmf.py:1077: ConvergenceWarning: Maximum number of iterations 200 reached. Increase it to improve convergence.\n",
      "  \" improve convergence.\" % max_iter, ConvergenceWarning)\n"
     ]
    },
    {
     "name": "stdout",
     "output_type": "stream",
     "text": [
      "Applying NMF for k=3, alpha =0.03, l1 = =0.8...\n",
      "Applying NMF for k=3, alpha =0.03, l1 = =0.9...\n",
      "Applying NMF for k=3, alpha =0.03, l1 = =1.0...\n",
      "Applying NMF for k=3, alpha =0.04, l1 = =0.0...\n"
     ]
    },
    {
     "name": "stderr",
     "output_type": "stream",
     "text": [
      "/usr/local/lib/python3.7/site-packages/sklearn/decomposition/_nmf.py:1077: ConvergenceWarning: Maximum number of iterations 200 reached. Increase it to improve convergence.\n",
      "  \" improve convergence.\" % max_iter, ConvergenceWarning)\n"
     ]
    },
    {
     "name": "stdout",
     "output_type": "stream",
     "text": [
      "Applying NMF for k=3, alpha =0.04, l1 = =0.1...\n"
     ]
    },
    {
     "name": "stderr",
     "output_type": "stream",
     "text": [
      "/usr/local/lib/python3.7/site-packages/sklearn/decomposition/_nmf.py:1077: ConvergenceWarning: Maximum number of iterations 200 reached. Increase it to improve convergence.\n",
      "  \" improve convergence.\" % max_iter, ConvergenceWarning)\n"
     ]
    },
    {
     "name": "stdout",
     "output_type": "stream",
     "text": [
      "Applying NMF for k=3, alpha =0.04, l1 = =0.2...\n"
     ]
    },
    {
     "name": "stderr",
     "output_type": "stream",
     "text": [
      "/usr/local/lib/python3.7/site-packages/sklearn/decomposition/_nmf.py:1077: ConvergenceWarning: Maximum number of iterations 200 reached. Increase it to improve convergence.\n",
      "  \" improve convergence.\" % max_iter, ConvergenceWarning)\n"
     ]
    },
    {
     "name": "stdout",
     "output_type": "stream",
     "text": [
      "Applying NMF for k=3, alpha =0.04, l1 = =0.3...\n"
     ]
    },
    {
     "name": "stderr",
     "output_type": "stream",
     "text": [
      "/usr/local/lib/python3.7/site-packages/sklearn/decomposition/_nmf.py:1077: ConvergenceWarning: Maximum number of iterations 200 reached. Increase it to improve convergence.\n",
      "  \" improve convergence.\" % max_iter, ConvergenceWarning)\n"
     ]
    },
    {
     "name": "stdout",
     "output_type": "stream",
     "text": [
      "Applying NMF for k=3, alpha =0.04, l1 = =0.4...\n",
      "Applying NMF for k=3, alpha =0.04, l1 = =0.5...\n",
      "Applying NMF for k=3, alpha =0.04, l1 = =0.6...\n",
      "Applying NMF for k=3, alpha =0.04, l1 = =0.7...\n",
      "Applying NMF for k=3, alpha =0.04, l1 = =0.8...\n",
      "Applying NMF for k=3, alpha =0.04, l1 = =0.9...\n",
      "Applying NMF for k=3, alpha =0.04, l1 = =1.0...\n",
      "Applying NMF for k=3, alpha =0.05, l1 = =0.0...\n"
     ]
    },
    {
     "name": "stderr",
     "output_type": "stream",
     "text": [
      "/usr/local/lib/python3.7/site-packages/sklearn/decomposition/_nmf.py:1077: ConvergenceWarning: Maximum number of iterations 200 reached. Increase it to improve convergence.\n",
      "  \" improve convergence.\" % max_iter, ConvergenceWarning)\n"
     ]
    },
    {
     "name": "stdout",
     "output_type": "stream",
     "text": [
      "Applying NMF for k=3, alpha =0.05, l1 = =0.1...\n"
     ]
    },
    {
     "name": "stderr",
     "output_type": "stream",
     "text": [
      "/usr/local/lib/python3.7/site-packages/sklearn/decomposition/_nmf.py:1077: ConvergenceWarning: Maximum number of iterations 200 reached. Increase it to improve convergence.\n",
      "  \" improve convergence.\" % max_iter, ConvergenceWarning)\n"
     ]
    },
    {
     "name": "stdout",
     "output_type": "stream",
     "text": [
      "Applying NMF for k=3, alpha =0.05, l1 = =0.2...\n"
     ]
    },
    {
     "name": "stderr",
     "output_type": "stream",
     "text": [
      "/usr/local/lib/python3.7/site-packages/sklearn/decomposition/_nmf.py:1077: ConvergenceWarning: Maximum number of iterations 200 reached. Increase it to improve convergence.\n",
      "  \" improve convergence.\" % max_iter, ConvergenceWarning)\n"
     ]
    },
    {
     "name": "stdout",
     "output_type": "stream",
     "text": [
      "Applying NMF for k=3, alpha =0.05, l1 = =0.3...\n",
      "Applying NMF for k=3, alpha =0.05, l1 = =0.4...\n",
      "Applying NMF for k=3, alpha =0.05, l1 = =0.5...\n",
      "Applying NMF for k=3, alpha =0.05, l1 = =0.6...\n",
      "Applying NMF for k=3, alpha =0.05, l1 = =0.7...\n",
      "Applying NMF for k=3, alpha =0.05, l1 = =0.8...\n",
      "Applying NMF for k=3, alpha =0.05, l1 = =0.9...\n",
      "Applying NMF for k=3, alpha =0.05, l1 = =1.0...\n",
      "Applying NMF for k=3, alpha =0.06, l1 = =0.0...\n"
     ]
    },
    {
     "name": "stderr",
     "output_type": "stream",
     "text": [
      "/usr/local/lib/python3.7/site-packages/sklearn/decomposition/_nmf.py:1077: ConvergenceWarning: Maximum number of iterations 200 reached. Increase it to improve convergence.\n",
      "  \" improve convergence.\" % max_iter, ConvergenceWarning)\n"
     ]
    },
    {
     "name": "stdout",
     "output_type": "stream",
     "text": [
      "Applying NMF for k=3, alpha =0.06, l1 = =0.1...\n",
      "Applying NMF for k=3, alpha =0.06, l1 = =0.2...\n",
      "Applying NMF for k=3, alpha =0.06, l1 = =0.3...\n",
      "Applying NMF for k=3, alpha =0.06, l1 = =0.4...\n",
      "Applying NMF for k=3, alpha =0.06, l1 = =0.5...\n",
      "Applying NMF for k=3, alpha =0.06, l1 = =0.6...\n",
      "Applying NMF for k=3, alpha =0.06, l1 = =0.7...\n",
      "Applying NMF for k=3, alpha =0.06, l1 = =0.8...\n",
      "Applying NMF for k=3, alpha =0.06, l1 = =0.9...\n",
      "Applying NMF for k=3, alpha =0.06, l1 = =1.0...\n",
      "Applying NMF for k=3, alpha =0.07, l1 = =0.0...\n"
     ]
    },
    {
     "name": "stderr",
     "output_type": "stream",
     "text": [
      "/usr/local/lib/python3.7/site-packages/sklearn/decomposition/_nmf.py:1077: ConvergenceWarning: Maximum number of iterations 200 reached. Increase it to improve convergence.\n",
      "  \" improve convergence.\" % max_iter, ConvergenceWarning)\n"
     ]
    },
    {
     "name": "stdout",
     "output_type": "stream",
     "text": [
      "Applying NMF for k=3, alpha =0.07, l1 = =0.1...\n",
      "Applying NMF for k=3, alpha =0.07, l1 = =0.2...\n",
      "Applying NMF for k=3, alpha =0.07, l1 = =0.3...\n",
      "Applying NMF for k=3, alpha =0.07, l1 = =0.4...\n",
      "Applying NMF for k=3, alpha =0.07, l1 = =0.5...\n",
      "Applying NMF for k=3, alpha =0.07, l1 = =0.6...\n",
      "Applying NMF for k=3, alpha =0.07, l1 = =0.7...\n",
      "Applying NMF for k=3, alpha =0.07, l1 = =0.8...\n",
      "Applying NMF for k=3, alpha =0.07, l1 = =0.9...\n",
      "Applying NMF for k=3, alpha =0.07, l1 = =1.0...\n",
      "Applying NMF for k=3, alpha =0.08, l1 = =0.0...\n",
      "Applying NMF for k=3, alpha =0.08, l1 = =0.1...\n",
      "Applying NMF for k=3, alpha =0.08, l1 = =0.2...\n",
      "Applying NMF for k=3, alpha =0.08, l1 = =0.3...\n",
      "Applying NMF for k=3, alpha =0.08, l1 = =0.4...\n",
      "Applying NMF for k=3, alpha =0.08, l1 = =0.5...\n",
      "Applying NMF for k=3, alpha =0.08, l1 = =0.6...\n",
      "Applying NMF for k=3, alpha =0.08, l1 = =0.7...\n",
      "Applying NMF for k=3, alpha =0.08, l1 = =0.8...\n",
      "Applying NMF for k=3, alpha =0.08, l1 = =0.9...\n",
      "Applying NMF for k=3, alpha =0.08, l1 = =1.0...\n",
      "Applying NMF for k=3, alpha =0.09, l1 = =0.0...\n",
      "Applying NMF for k=3, alpha =0.09, l1 = =0.1...\n",
      "Applying NMF for k=3, alpha =0.09, l1 = =0.2...\n",
      "Applying NMF for k=3, alpha =0.09, l1 = =0.3...\n",
      "Applying NMF for k=3, alpha =0.09, l1 = =0.4...\n",
      "Applying NMF for k=3, alpha =0.09, l1 = =0.5...\n",
      "Applying NMF for k=3, alpha =0.09, l1 = =0.6...\n",
      "Applying NMF for k=3, alpha =0.09, l1 = =0.7...\n",
      "Applying NMF for k=3, alpha =0.09, l1 = =0.8...\n",
      "Applying NMF for k=3, alpha =0.09, l1 = =0.9...\n",
      "Applying NMF for k=3, alpha =0.09, l1 = =1.0...\n",
      "Applying NMF for k=3, alpha =0.10, l1 = =0.0...\n",
      "Applying NMF for k=3, alpha =0.10, l1 = =0.1...\n",
      "Applying NMF for k=3, alpha =0.10, l1 = =0.2...\n",
      "Applying NMF for k=3, alpha =0.10, l1 = =0.3...\n",
      "Applying NMF for k=3, alpha =0.10, l1 = =0.4...\n",
      "Applying NMF for k=3, alpha =0.10, l1 = =0.5...\n",
      "Applying NMF for k=3, alpha =0.10, l1 = =0.6...\n",
      "Applying NMF for k=3, alpha =0.10, l1 = =0.7...\n",
      "Applying NMF for k=3, alpha =0.10, l1 = =0.8...\n",
      "Applying NMF for k=3, alpha =0.10, l1 = =0.9...\n",
      "Applying NMF for k=3, alpha =0.10, l1 = =1.0...\n",
      "Applying NMF for k=3, alpha =0.11, l1 = =0.0...\n",
      "Applying NMF for k=3, alpha =0.11, l1 = =0.1...\n",
      "Applying NMF for k=3, alpha =0.11, l1 = =0.2...\n",
      "Applying NMF for k=3, alpha =0.11, l1 = =0.3...\n",
      "Applying NMF for k=3, alpha =0.11, l1 = =0.4...\n",
      "Applying NMF for k=3, alpha =0.11, l1 = =0.5...\n",
      "Applying NMF for k=3, alpha =0.11, l1 = =0.6...\n",
      "Applying NMF for k=3, alpha =0.11, l1 = =0.7...\n",
      "Applying NMF for k=3, alpha =0.11, l1 = =0.8...\n",
      "Applying NMF for k=3, alpha =0.11, l1 = =0.9...\n",
      "Applying NMF for k=3, alpha =0.11, l1 = =1.0...\n",
      "Applying NMF for k=3, alpha =0.12, l1 = =0.0...\n",
      "Applying NMF for k=3, alpha =0.12, l1 = =0.1...\n",
      "Applying NMF for k=3, alpha =0.12, l1 = =0.2...\n",
      "Applying NMF for k=3, alpha =0.12, l1 = =0.3...\n",
      "Applying NMF for k=3, alpha =0.12, l1 = =0.4...\n",
      "Applying NMF for k=3, alpha =0.12, l1 = =0.5...\n",
      "Applying NMF for k=3, alpha =0.12, l1 = =0.6...\n",
      "Applying NMF for k=3, alpha =0.12, l1 = =0.7...\n",
      "Applying NMF for k=3, alpha =0.12, l1 = =0.8...\n",
      "Applying NMF for k=3, alpha =0.12, l1 = =0.9...\n",
      "Applying NMF for k=3, alpha =0.12, l1 = =1.0...\n",
      "Applying NMF for k=3, alpha =0.13, l1 = =0.0...\n",
      "Applying NMF for k=3, alpha =0.13, l1 = =0.1...\n",
      "Applying NMF for k=3, alpha =0.13, l1 = =0.2...\n",
      "Applying NMF for k=3, alpha =0.13, l1 = =0.3...\n",
      "Applying NMF for k=3, alpha =0.13, l1 = =0.4...\n",
      "Applying NMF for k=3, alpha =0.13, l1 = =0.5...\n",
      "Applying NMF for k=3, alpha =0.13, l1 = =0.6...\n",
      "Applying NMF for k=3, alpha =0.13, l1 = =0.7...\n",
      "Applying NMF for k=3, alpha =0.13, l1 = =0.8...\n",
      "Applying NMF for k=3, alpha =0.13, l1 = =0.9...\n",
      "Applying NMF for k=3, alpha =0.13, l1 = =1.0...\n",
      "Applying NMF for k=3, alpha =0.14, l1 = =0.0...\n",
      "Applying NMF for k=3, alpha =0.14, l1 = =0.1...\n",
      "Applying NMF for k=3, alpha =0.14, l1 = =0.2...\n",
      "Applying NMF for k=3, alpha =0.14, l1 = =0.3...\n",
      "Applying NMF for k=3, alpha =0.14, l1 = =0.4...\n",
      "Applying NMF for k=3, alpha =0.14, l1 = =0.5...\n",
      "Applying NMF for k=3, alpha =0.14, l1 = =0.6...\n",
      "Applying NMF for k=3, alpha =0.14, l1 = =0.7...\n",
      "Applying NMF for k=3, alpha =0.14, l1 = =0.8...\n",
      "Applying NMF for k=3, alpha =0.14, l1 = =0.9...\n",
      "Applying NMF for k=3, alpha =0.14, l1 = =1.0...\n",
      "Applying NMF for k=3, alpha =0.15, l1 = =0.0...\n",
      "Applying NMF for k=3, alpha =0.15, l1 = =0.1...\n",
      "Applying NMF for k=3, alpha =0.15, l1 = =0.2...\n",
      "Applying NMF for k=3, alpha =0.15, l1 = =0.3...\n",
      "Applying NMF for k=3, alpha =0.15, l1 = =0.4...\n",
      "Applying NMF for k=3, alpha =0.15, l1 = =0.5...\n",
      "Applying NMF for k=3, alpha =0.15, l1 = =0.6...\n",
      "Applying NMF for k=3, alpha =0.15, l1 = =0.7...\n",
      "Applying NMF for k=3, alpha =0.15, l1 = =0.8...\n",
      "Applying NMF for k=3, alpha =0.15, l1 = =0.9...\n",
      "Applying NMF for k=3, alpha =0.15, l1 = =1.0...\n",
      "Applying NMF for k=3, alpha =0.16, l1 = =0.0...\n",
      "Applying NMF for k=3, alpha =0.16, l1 = =0.1...\n",
      "Applying NMF for k=3, alpha =0.16, l1 = =0.2...\n",
      "Applying NMF for k=3, alpha =0.16, l1 = =0.3...\n",
      "Applying NMF for k=3, alpha =0.16, l1 = =0.4...\n",
      "Applying NMF for k=3, alpha =0.16, l1 = =0.5...\n",
      "Applying NMF for k=3, alpha =0.16, l1 = =0.6...\n",
      "Applying NMF for k=3, alpha =0.16, l1 = =0.7...\n",
      "Applying NMF for k=3, alpha =0.16, l1 = =0.8...\n",
      "Applying NMF for k=3, alpha =0.16, l1 = =0.9...\n",
      "Applying NMF for k=3, alpha =0.16, l1 = =1.0...\n",
      "Applying NMF for k=3, alpha =0.17, l1 = =0.0...\n",
      "Applying NMF for k=3, alpha =0.17, l1 = =0.1...\n",
      "Applying NMF for k=3, alpha =0.17, l1 = =0.2...\n",
      "Applying NMF for k=3, alpha =0.17, l1 = =0.3...\n",
      "Applying NMF for k=3, alpha =0.17, l1 = =0.4...\n",
      "Applying NMF for k=3, alpha =0.17, l1 = =0.5...\n",
      "Applying NMF for k=3, alpha =0.17, l1 = =0.6...\n",
      "Applying NMF for k=3, alpha =0.17, l1 = =0.7...\n",
      "Applying NMF for k=3, alpha =0.17, l1 = =0.8...\n",
      "Applying NMF for k=3, alpha =0.17, l1 = =0.9...\n",
      "Applying NMF for k=3, alpha =0.17, l1 = =1.0...\n",
      "Applying NMF for k=3, alpha =0.18, l1 = =0.0...\n",
      "Applying NMF for k=3, alpha =0.18, l1 = =0.1...\n",
      "Applying NMF for k=3, alpha =0.18, l1 = =0.2...\n",
      "Applying NMF for k=3, alpha =0.18, l1 = =0.3...\n",
      "Applying NMF for k=3, alpha =0.18, l1 = =0.4...\n",
      "Applying NMF for k=3, alpha =0.18, l1 = =0.5...\n",
      "Applying NMF for k=3, alpha =0.18, l1 = =0.6...\n",
      "Applying NMF for k=3, alpha =0.18, l1 = =0.7...\n",
      "Applying NMF for k=3, alpha =0.18, l1 = =0.8...\n",
      "Applying NMF for k=3, alpha =0.18, l1 = =0.9...\n",
      "Applying NMF for k=3, alpha =0.18, l1 = =1.0...\n",
      "Applying NMF for k=3, alpha =0.19, l1 = =0.0...\n",
      "Applying NMF for k=3, alpha =0.19, l1 = =0.1...\n",
      "Applying NMF for k=3, alpha =0.19, l1 = =0.2...\n",
      "Applying NMF for k=3, alpha =0.19, l1 = =0.3...\n",
      "Applying NMF for k=3, alpha =0.19, l1 = =0.4...\n",
      "Applying NMF for k=3, alpha =0.19, l1 = =0.5...\n",
      "Applying NMF for k=3, alpha =0.19, l1 = =0.6...\n",
      "Applying NMF for k=3, alpha =0.19, l1 = =0.7...\n",
      "Applying NMF for k=3, alpha =0.19, l1 = =0.8...\n",
      "Applying NMF for k=3, alpha =0.19, l1 = =0.9...\n",
      "Applying NMF for k=3, alpha =0.19, l1 = =1.0...\n",
      "Applying NMF for k=3, alpha =0.20, l1 = =0.0...\n",
      "Applying NMF for k=3, alpha =0.20, l1 = =0.1...\n",
      "Applying NMF for k=3, alpha =0.20, l1 = =0.2...\n",
      "Applying NMF for k=3, alpha =0.20, l1 = =0.3...\n",
      "Applying NMF for k=3, alpha =0.20, l1 = =0.4...\n",
      "Applying NMF for k=3, alpha =0.20, l1 = =0.5...\n",
      "Applying NMF for k=3, alpha =0.20, l1 = =0.6...\n",
      "Applying NMF for k=3, alpha =0.20, l1 = =0.7...\n",
      "Applying NMF for k=3, alpha =0.20, l1 = =0.8...\n",
      "Applying NMF for k=3, alpha =0.20, l1 = =0.9...\n",
      "Applying NMF for k=3, alpha =0.20, l1 = =1.0...\n",
      "Applying NMF for k=3, alpha =0.21, l1 = =0.0...\n",
      "Applying NMF for k=3, alpha =0.21, l1 = =0.1...\n",
      "Applying NMF for k=3, alpha =0.21, l1 = =0.2...\n",
      "Applying NMF for k=3, alpha =0.21, l1 = =0.3...\n",
      "Applying NMF for k=3, alpha =0.21, l1 = =0.4...\n",
      "Applying NMF for k=3, alpha =0.21, l1 = =0.5...\n",
      "Applying NMF for k=3, alpha =0.21, l1 = =0.6...\n",
      "Applying NMF for k=3, alpha =0.21, l1 = =0.7...\n",
      "Applying NMF for k=3, alpha =0.21, l1 = =0.8...\n",
      "Applying NMF for k=3, alpha =0.21, l1 = =0.9...\n",
      "Applying NMF for k=3, alpha =0.21, l1 = =1.0...\n",
      "Applying NMF for k=3, alpha =0.22, l1 = =0.0...\n",
      "Applying NMF for k=3, alpha =0.22, l1 = =0.1...\n",
      "Applying NMF for k=3, alpha =0.22, l1 = =0.2...\n",
      "Applying NMF for k=3, alpha =0.22, l1 = =0.3...\n",
      "Applying NMF for k=3, alpha =0.22, l1 = =0.4...\n",
      "Applying NMF for k=3, alpha =0.22, l1 = =0.5...\n",
      "Applying NMF for k=3, alpha =0.22, l1 = =0.6...\n"
     ]
    },
    {
     "name": "stdout",
     "output_type": "stream",
     "text": [
      "Applying NMF for k=3, alpha =0.22, l1 = =0.7...\n",
      "Applying NMF for k=3, alpha =0.22, l1 = =0.8...\n",
      "Applying NMF for k=3, alpha =0.22, l1 = =0.9...\n",
      "Applying NMF for k=3, alpha =0.22, l1 = =1.0...\n",
      "Applying NMF for k=3, alpha =0.23, l1 = =0.0...\n",
      "Applying NMF for k=3, alpha =0.23, l1 = =0.1...\n",
      "Applying NMF for k=3, alpha =0.23, l1 = =0.2...\n",
      "Applying NMF for k=3, alpha =0.23, l1 = =0.3...\n",
      "Applying NMF for k=3, alpha =0.23, l1 = =0.4...\n",
      "Applying NMF for k=3, alpha =0.23, l1 = =0.5...\n",
      "Applying NMF for k=3, alpha =0.23, l1 = =0.6...\n",
      "Applying NMF for k=3, alpha =0.23, l1 = =0.7...\n",
      "Applying NMF for k=3, alpha =0.23, l1 = =0.8...\n",
      "Applying NMF for k=3, alpha =0.23, l1 = =0.9...\n",
      "Applying NMF for k=3, alpha =0.23, l1 = =1.0...\n",
      "Applying NMF for k=3, alpha =0.24, l1 = =0.0...\n",
      "Applying NMF for k=3, alpha =0.24, l1 = =0.1...\n",
      "Applying NMF for k=3, alpha =0.24, l1 = =0.2...\n",
      "Applying NMF for k=3, alpha =0.24, l1 = =0.3...\n",
      "Applying NMF for k=3, alpha =0.24, l1 = =0.4...\n",
      "Applying NMF for k=3, alpha =0.24, l1 = =0.5...\n",
      "Applying NMF for k=3, alpha =0.24, l1 = =0.6...\n",
      "Applying NMF for k=3, alpha =0.24, l1 = =0.7...\n",
      "Applying NMF for k=3, alpha =0.24, l1 = =0.8...\n",
      "Applying NMF for k=3, alpha =0.24, l1 = =0.9...\n",
      "Applying NMF for k=3, alpha =0.24, l1 = =1.0...\n",
      "Applying NMF for k=3, alpha =0.25, l1 = =0.0...\n",
      "Applying NMF for k=3, alpha =0.25, l1 = =0.1...\n",
      "Applying NMF for k=3, alpha =0.25, l1 = =0.2...\n",
      "Applying NMF for k=3, alpha =0.25, l1 = =0.3...\n",
      "Applying NMF for k=3, alpha =0.25, l1 = =0.4...\n",
      "Applying NMF for k=3, alpha =0.25, l1 = =0.5...\n",
      "Applying NMF for k=3, alpha =0.25, l1 = =0.6...\n",
      "Applying NMF for k=3, alpha =0.25, l1 = =0.7...\n",
      "Applying NMF for k=3, alpha =0.25, l1 = =0.8...\n",
      "Applying NMF for k=3, alpha =0.25, l1 = =0.9...\n",
      "Applying NMF for k=3, alpha =0.25, l1 = =1.0...\n",
      "Applying NMF for k=3, alpha =0.26, l1 = =0.0...\n",
      "Applying NMF for k=3, alpha =0.26, l1 = =0.1...\n",
      "Applying NMF for k=3, alpha =0.26, l1 = =0.2...\n",
      "Applying NMF for k=3, alpha =0.26, l1 = =0.3...\n",
      "Applying NMF for k=3, alpha =0.26, l1 = =0.4...\n",
      "Applying NMF for k=3, alpha =0.26, l1 = =0.5...\n",
      "Applying NMF for k=3, alpha =0.26, l1 = =0.6...\n",
      "Applying NMF for k=3, alpha =0.26, l1 = =0.7...\n",
      "Applying NMF for k=3, alpha =0.26, l1 = =0.8...\n",
      "Applying NMF for k=3, alpha =0.26, l1 = =0.9...\n",
      "Applying NMF for k=3, alpha =0.26, l1 = =1.0...\n",
      "Applying NMF for k=3, alpha =0.27, l1 = =0.0...\n",
      "Applying NMF for k=3, alpha =0.27, l1 = =0.1...\n",
      "Applying NMF for k=3, alpha =0.27, l1 = =0.2...\n",
      "Applying NMF for k=3, alpha =0.27, l1 = =0.3...\n",
      "Applying NMF for k=3, alpha =0.27, l1 = =0.4...\n",
      "Applying NMF for k=3, alpha =0.27, l1 = =0.5...\n",
      "Applying NMF for k=3, alpha =0.27, l1 = =0.6...\n",
      "Applying NMF for k=3, alpha =0.27, l1 = =0.7...\n",
      "Applying NMF for k=3, alpha =0.27, l1 = =0.8...\n",
      "Applying NMF for k=3, alpha =0.27, l1 = =0.9...\n",
      "Applying NMF for k=3, alpha =0.27, l1 = =1.0...\n",
      "Applying NMF for k=3, alpha =0.28, l1 = =0.0...\n",
      "Applying NMF for k=3, alpha =0.28, l1 = =0.1...\n",
      "Applying NMF for k=3, alpha =0.28, l1 = =0.2...\n",
      "Applying NMF for k=3, alpha =0.28, l1 = =0.3...\n",
      "Applying NMF for k=3, alpha =0.28, l1 = =0.4...\n",
      "Applying NMF for k=3, alpha =0.28, l1 = =0.5...\n",
      "Applying NMF for k=3, alpha =0.28, l1 = =0.6...\n",
      "Applying NMF for k=3, alpha =0.28, l1 = =0.7...\n",
      "Applying NMF for k=3, alpha =0.28, l1 = =0.8...\n",
      "Applying NMF for k=3, alpha =0.28, l1 = =0.9...\n",
      "Applying NMF for k=3, alpha =0.28, l1 = =1.0...\n",
      "Applying NMF for k=3, alpha =0.29, l1 = =0.0...\n",
      "Applying NMF for k=3, alpha =0.29, l1 = =0.1...\n",
      "Applying NMF for k=3, alpha =0.29, l1 = =0.2...\n",
      "Applying NMF for k=3, alpha =0.29, l1 = =0.3...\n",
      "Applying NMF for k=3, alpha =0.29, l1 = =0.4...\n",
      "Applying NMF for k=3, alpha =0.29, l1 = =0.5...\n",
      "Applying NMF for k=3, alpha =0.29, l1 = =0.6...\n",
      "Applying NMF for k=3, alpha =0.29, l1 = =0.7...\n",
      "Applying NMF for k=3, alpha =0.29, l1 = =0.8...\n",
      "Applying NMF for k=3, alpha =0.29, l1 = =0.9...\n",
      "Applying NMF for k=3, alpha =0.29, l1 = =1.0...\n",
      "Applying NMF for k=3, alpha =0.30, l1 = =0.0...\n",
      "Applying NMF for k=3, alpha =0.30, l1 = =0.1...\n",
      "Applying NMF for k=3, alpha =0.30, l1 = =0.2...\n",
      "Applying NMF for k=3, alpha =0.30, l1 = =0.3...\n",
      "Applying NMF for k=3, alpha =0.30, l1 = =0.4...\n",
      "Applying NMF for k=3, alpha =0.30, l1 = =0.5...\n",
      "Applying NMF for k=3, alpha =0.30, l1 = =0.6...\n",
      "Applying NMF for k=3, alpha =0.30, l1 = =0.7...\n",
      "Applying NMF for k=3, alpha =0.30, l1 = =0.8...\n",
      "Applying NMF for k=3, alpha =0.30, l1 = =0.9...\n",
      "Applying NMF for k=3, alpha =0.30, l1 = =1.0...\n",
      "Applying NMF for k=3, alpha =0.31, l1 = =0.0...\n",
      "Applying NMF for k=3, alpha =0.31, l1 = =0.1...\n",
      "Applying NMF for k=3, alpha =0.31, l1 = =0.2...\n",
      "Applying NMF for k=3, alpha =0.31, l1 = =0.3...\n",
      "Applying NMF for k=3, alpha =0.31, l1 = =0.4...\n",
      "Applying NMF for k=3, alpha =0.31, l1 = =0.5...\n",
      "Applying NMF for k=3, alpha =0.31, l1 = =0.6...\n",
      "Applying NMF for k=3, alpha =0.31, l1 = =0.7...\n",
      "Applying NMF for k=3, alpha =0.31, l1 = =0.8...\n",
      "Applying NMF for k=3, alpha =0.31, l1 = =0.9...\n",
      "Applying NMF for k=3, alpha =0.31, l1 = =1.0...\n",
      "Applying NMF for k=3, alpha =0.40, l1 = =0.0...\n",
      "Applying NMF for k=3, alpha =0.40, l1 = =0.1...\n",
      "Applying NMF for k=3, alpha =0.40, l1 = =0.2...\n",
      "Applying NMF for k=3, alpha =0.40, l1 = =0.3...\n",
      "Applying NMF for k=3, alpha =0.40, l1 = =0.4...\n",
      "Applying NMF for k=3, alpha =0.40, l1 = =0.5...\n",
      "Applying NMF for k=3, alpha =0.40, l1 = =0.6...\n",
      "Applying NMF for k=3, alpha =0.40, l1 = =0.7...\n",
      "Applying NMF for k=3, alpha =0.40, l1 = =0.8...\n",
      "Applying NMF for k=3, alpha =0.40, l1 = =0.9...\n",
      "Applying NMF for k=3, alpha =0.40, l1 = =1.0...\n",
      "Applying NMF for k=3, alpha =0.50, l1 = =0.0...\n",
      "Applying NMF for k=3, alpha =0.50, l1 = =0.1...\n",
      "Applying NMF for k=3, alpha =0.50, l1 = =0.2...\n",
      "Applying NMF for k=3, alpha =0.50, l1 = =0.3...\n",
      "Applying NMF for k=3, alpha =0.50, l1 = =0.4...\n",
      "Applying NMF for k=3, alpha =0.50, l1 = =0.5...\n",
      "Applying NMF for k=3, alpha =0.50, l1 = =0.6...\n",
      "Applying NMF for k=3, alpha =0.50, l1 = =0.7...\n",
      "Applying NMF for k=3, alpha =0.50, l1 = =0.8...\n",
      "Applying NMF for k=3, alpha =0.50, l1 = =0.9...\n",
      "Applying NMF for k=3, alpha =0.50, l1 = =1.0...\n",
      "Applying NMF for k=3, alpha =0.60, l1 = =0.0...\n",
      "Applying NMF for k=3, alpha =0.60, l1 = =0.1...\n",
      "Applying NMF for k=3, alpha =0.60, l1 = =0.2...\n",
      "Applying NMF for k=3, alpha =0.60, l1 = =0.3...\n",
      "Applying NMF for k=3, alpha =0.60, l1 = =0.4...\n",
      "Applying NMF for k=3, alpha =0.60, l1 = =0.5...\n",
      "Applying NMF for k=3, alpha =0.60, l1 = =0.6...\n",
      "Applying NMF for k=3, alpha =0.60, l1 = =0.7...\n",
      "Applying NMF for k=3, alpha =0.60, l1 = =0.8...\n",
      "Applying NMF for k=3, alpha =0.60, l1 = =0.9...\n",
      "Applying NMF for k=3, alpha =0.60, l1 = =1.0...\n",
      "Applying NMF for k=3, alpha =0.70, l1 = =0.0...\n",
      "Applying NMF for k=3, alpha =0.70, l1 = =0.1...\n",
      "Applying NMF for k=3, alpha =0.70, l1 = =0.2...\n",
      "Applying NMF for k=3, alpha =0.70, l1 = =0.3...\n",
      "Applying NMF for k=3, alpha =0.70, l1 = =0.4...\n",
      "Applying NMF for k=3, alpha =0.70, l1 = =0.5...\n",
      "Applying NMF for k=3, alpha =0.70, l1 = =0.6...\n",
      "Applying NMF for k=3, alpha =0.70, l1 = =0.7...\n",
      "Applying NMF for k=3, alpha =0.70, l1 = =0.8...\n",
      "Applying NMF for k=3, alpha =0.70, l1 = =0.9...\n",
      "Applying NMF for k=3, alpha =0.70, l1 = =1.0...\n",
      "Applying NMF for k=3, alpha =0.80, l1 = =0.0...\n",
      "Applying NMF for k=3, alpha =0.80, l1 = =0.1...\n",
      "Applying NMF for k=3, alpha =0.80, l1 = =0.2...\n",
      "Applying NMF for k=3, alpha =0.80, l1 = =0.3...\n",
      "Applying NMF for k=3, alpha =0.80, l1 = =0.4...\n",
      "Applying NMF for k=3, alpha =0.80, l1 = =0.5...\n",
      "Applying NMF for k=3, alpha =0.80, l1 = =0.6...\n",
      "Applying NMF for k=3, alpha =0.80, l1 = =0.7...\n",
      "Applying NMF for k=3, alpha =0.80, l1 = =0.8...\n",
      "Applying NMF for k=3, alpha =0.80, l1 = =0.9...\n",
      "Applying NMF for k=3, alpha =0.80, l1 = =1.0...\n",
      "Applying NMF for k=3, alpha =0.90, l1 = =0.0...\n",
      "Applying NMF for k=3, alpha =0.90, l1 = =0.1...\n",
      "Applying NMF for k=3, alpha =0.90, l1 = =0.2...\n",
      "Applying NMF for k=3, alpha =0.90, l1 = =0.3...\n",
      "Applying NMF for k=3, alpha =0.90, l1 = =0.4...\n",
      "Applying NMF for k=3, alpha =0.90, l1 = =0.5...\n",
      "Applying NMF for k=3, alpha =0.90, l1 = =0.6...\n",
      "Applying NMF for k=3, alpha =0.90, l1 = =0.7...\n",
      "Applying NMF for k=3, alpha =0.90, l1 = =0.8...\n",
      "Applying NMF for k=3, alpha =0.90, l1 = =0.9...\n",
      "Applying NMF for k=3, alpha =0.90, l1 = =1.0...\n"
     ]
    },
    {
     "name": "stderr",
     "output_type": "stream",
     "text": [
      "/usr/local/lib/python3.7/site-packages/sklearn/decomposition/_nmf.py:1077: ConvergenceWarning: Maximum number of iterations 200 reached. Increase it to improve convergence.\n",
      "  \" improve convergence.\" % max_iter, ConvergenceWarning)\n"
     ]
    },
    {
     "name": "stdout",
     "output_type": "stream",
     "text": [
      "Applying NMF for k=3, alpha =1.00, l1 = =0.0...\n",
      "Applying NMF for k=3, alpha =1.00, l1 = =0.1...\n",
      "Applying NMF for k=3, alpha =1.00, l1 = =0.2...\n",
      "Applying NMF for k=3, alpha =1.00, l1 = =0.3...\n",
      "Applying NMF for k=3, alpha =1.00, l1 = =0.4...\n",
      "Applying NMF for k=3, alpha =1.00, l1 = =0.5...\n",
      "Applying NMF for k=3, alpha =1.00, l1 = =0.6...\n",
      "Applying NMF for k=3, alpha =1.00, l1 = =0.7...\n",
      "Applying NMF for k=3, alpha =1.00, l1 = =0.8...\n",
      "Applying NMF for k=3, alpha =1.00, l1 = =0.9...\n",
      "Applying NMF for k=3, alpha =1.00, l1 = =1.0...\n"
     ]
    },
    {
     "name": "stderr",
     "output_type": "stream",
     "text": [
      "/usr/local/lib/python3.7/site-packages/sklearn/decomposition/_nmf.py:1077: ConvergenceWarning: Maximum number of iterations 200 reached. Increase it to improve convergence.\n",
      "  \" improve convergence.\" % max_iter, ConvergenceWarning)\n"
     ]
    }
   ],
   "source": [
    "topic_models = []\n",
    "# try each value of k\n",
    "for k in range(kmin,kmax+1):\n",
    "    for alph in alph_list:\n",
    "        for l1 in l1_list:\n",
    "            print(\"Applying NMF for k=%d, alpha =%.2f, l1 = =%.1f...\" % (k, alph,l1) )\n",
    "            # run NMF\n",
    "            model = decomposition.NMF( init=\"nndsvd\", n_components=k, alpha=alph, l1_ratio= l1, random_state = 8220) \n",
    "            W = model.fit_transform( tfidf )\n",
    "            H = model.components_\n",
    "            err = model.reconstruction_err_\n",
    "            # store for later\n",
    "            topic_models.append( (k,alph,l1,W,H,err) )"
   ]
  },
  {
   "cell_type": "code",
   "execution_count": 9,
   "metadata": {},
   "outputs": [
    {
     "data": {
      "text/plain": [
       "['topic_models.pkl']"
      ]
     },
     "execution_count": 9,
     "metadata": {},
     "output_type": "execute_result"
    }
   ],
   "source": [
    "joblib.dump((topic_models), \"topic_models.pkl\") "
   ]
  }
 ],
 "metadata": {
  "kernelspec": {
   "display_name": "Python 3",
   "language": "python",
   "name": "python3"
  },
  "language_info": {
   "codemirror_mode": {
    "name": "ipython",
    "version": 3
   },
   "file_extension": ".py",
   "mimetype": "text/x-python",
   "name": "python",
   "nbconvert_exporter": "python",
   "pygments_lexer": "ipython3",
   "version": "3.7.0"
  }
 },
 "nbformat": 4,
 "nbformat_minor": 2
}
