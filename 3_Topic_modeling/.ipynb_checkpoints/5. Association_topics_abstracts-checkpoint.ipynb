{
 "cells": [
  {
   "cell_type": "code",
   "execution_count": 1,
   "metadata": {},
   "outputs": [],
   "source": [
    "import pandas as pd\n",
    "import numpy as np\n",
    "import joblib"
   ]
  },
  {
   "cell_type": "markdown",
   "metadata": {},
   "source": [
    "### Download data and models\n",
    "#### Database with additional treatment"
   ]
  },
  {
   "cell_type": "code",
   "execution_count": 2,
   "metadata": {},
   "outputs": [
    {
     "name": "stdout",
     "output_type": "stream",
     "text": [
      "Loaded 4691 X 14 dataframe with unique papers\n"
     ]
    }
   ],
   "source": [
    "df = pd.read_csv(\"../2_Treatment_database/output/database_one_row_each_paper.csv\")\n",
    "print( \"Loaded %d X %d dataframe with unique papers\" % (len(df), len(df.columns) ))"
   ]
  },
  {
   "cell_type": "markdown",
   "metadata": {},
   "source": [
    "#### Preprocessed abstracts"
   ]
  },
  {
   "cell_type": "code",
   "execution_count": 3,
   "metadata": {},
   "outputs": [
    {
     "name": "stdout",
     "output_type": "stream",
     "text": [
      "4691 preprocessed abstracts\n"
     ]
    }
   ],
   "source": [
    "abstracts_prepro = pd.read_csv(\"./interm/processed_abstracts.csv\")\n",
    "print( \"%d preprocessed abstracts\" % (len(abstracts_prepro)) )"
   ]
  },
  {
   "cell_type": "markdown",
   "metadata": {},
   "source": [
    "#### TF-IDF normalised document-term matrix and terms"
   ]
  },
  {
   "cell_type": "code",
   "execution_count": 4,
   "metadata": {},
   "outputs": [
    {
     "name": "stdout",
     "output_type": "stream",
     "text": [
      "Loaded 4691 X 1300 document-term matrix\n"
     ]
    }
   ],
   "source": [
    "(tfidf, tfidf_feature_names) = joblib.load( \"./interm/tfidf_matrix-features_names.pkl\" )\n",
    "print( \"Loaded %d X %d document-term matrix\" % (tfidf.shape[0], tfidf.shape[1]) )"
   ]
  },
  {
   "cell_type": "markdown",
   "metadata": {},
   "source": [
    "#### Model with optimal parameters:"
   ]
  },
  {
   "cell_type": "code",
   "execution_count": 5,
   "metadata": {},
   "outputs": [
    {
     "name": "stdout",
     "output_type": "stream",
     "text": [
      "k_topics = 39\n",
      "alpha = 0.1\n",
      "l1 = 0.9\n"
     ]
    }
   ],
   "source": [
    "k_topics,alpha,l1,W,H = joblib.load(\"./output/model_selected.pkl\") \n",
    "param = [k_topics,alpha,l1,W,H]\n",
    "param_names = [\"k_topics\", \"alpha\", \"l1\"]\n",
    "for name in param_names:\n",
    "    print(name, '=', repr(eval(name)))"
   ]
  },
  {
   "cell_type": "markdown",
   "metadata": {},
   "source": [
    "### Run the model"
   ]
  },
  {
   "cell_type": "code",
   "execution_count": 6,
   "metadata": {},
   "outputs": [
    {
     "data": {
      "text/plain": [
       "(4691, 1300)"
      ]
     },
     "execution_count": 6,
     "metadata": {},
     "output_type": "execute_result"
    }
   ],
   "source": [
    "WH = W.dot(H)\n",
    "WH.shape"
   ]
  },
  {
   "cell_type": "code",
   "execution_count": 7,
   "metadata": {},
   "outputs": [
    {
     "data": {
      "text/plain": [
       "(4691, 39)"
      ]
     },
     "execution_count": 7,
     "metadata": {},
     "output_type": "execute_result"
    }
   ],
   "source": [
    "W.shape"
   ]
  },
  {
   "cell_type": "markdown",
   "metadata": {},
   "source": [
    "### Normalize W \n",
    "(the sum of coefficients of each row is equal to 1)"
   ]
  },
  {
   "cell_type": "code",
   "execution_count": 8,
   "metadata": {},
   "outputs": [],
   "source": [
    "W_norm = np.zeros(W.shape)\n",
    "for k in range(k_topics):\n",
    "    topic_index = k\n",
    "    sum_terms_topic = np.sum(H[topic_index,:])\n",
    "    for n in range(len(df)):\n",
    "        abstract_index = n\n",
    "        sum_terms_abstract = np.sum(WH[abstract_index,:])\n",
    "        abstract_topic = W[abstract_index,topic_index] * sum_terms_topic\n",
    "        W_norm[abstract_index,topic_index] = abstract_topic/sum_terms_abstract"
   ]
  },
  {
   "cell_type": "markdown",
   "metadata": {},
   "source": [
    "### Create topics columns"
   ]
  },
  {
   "cell_type": "code",
   "execution_count": 9,
   "metadata": {},
   "outputs": [],
   "source": [
    "def get_5_words( all_terms, H, topic_index):\n",
    "    # reverse sort the values to sort the indices\n",
    "    top_indices = np.argsort( H[topic_index,:] )[::-1]\n",
    "    top_terms=[]\n",
    "    for i in range(5):\n",
    "        term = tfidf_feature_names[top_indices[i]]\n",
    "        top_terms.append(term)\n",
    "    return top_terms"
   ]
  },
  {
   "cell_type": "code",
   "execution_count": 10,
   "metadata": {},
   "outputs": [],
   "source": [
    "columns_topics = []\n",
    "list_words_topics = []\n",
    "for k in range(k_topics):\n",
    "    words_topics = get_5_words(tfidf_feature_names, H , k)\n",
    "    list_words_topics.append(words_topics)\n",
    "    column_name = str(k) + '_'+ \"_\".join(words_topics)        \n",
    "    columns_topics.append(column_name)"
   ]
  },
  {
   "cell_type": "markdown",
   "metadata": {},
   "source": [
    "### Create a dataframe (df_binaire) with binary topic variables (1 if normalized coefficient $\\geq$ 0.02, else 0)"
   ]
  },
  {
   "cell_type": "code",
   "execution_count": 11,
   "metadata": {},
   "outputs": [],
   "source": [
    "b = (W_norm>0.02).astype(int)\n",
    "df_binaire = pd.DataFrame(data = b)\n",
    "#Create row Total: \n",
    "df_binaire.loc['Total',:]= df_binaire.sum(axis=0)\n",
    "#Create column Total: \n",
    "df_binaire.loc[:,'Total'] = df_binaire.sum(axis=1)"
   ]
  },
  {
   "cell_type": "markdown",
   "metadata": {},
   "source": [
    "### Create a dataframe (prop) containing the number of publications per topic"
   ]
  },
  {
   "cell_type": "code",
   "execution_count": 12,
   "metadata": {},
   "outputs": [],
   "source": [
    "prop = pd.DataFrame()\n",
    "prop['topic']= columns_topics\n",
    "prop['seuil_0.02']=np.nan\n",
    "prop.set_index('topic', inplace = True)\n",
    "for i in range(k_topics):\n",
    "    row = columns_topics[i]\n",
    "    prop.loc[row,['seuil_0.02']] = df_binaire.loc['Total',[i]].values[0]"
   ]
  },
  {
   "cell_type": "markdown",
   "metadata": {},
   "source": [
    "#### Rename columns with the five weightest terms charactering each topic"
   ]
  },
  {
   "cell_type": "code",
   "execution_count": 13,
   "metadata": {},
   "outputs": [],
   "source": [
    "columns_topics.append('Total_topics_in_paper')"
   ]
  },
  {
   "cell_type": "code",
   "execution_count": 14,
   "metadata": {},
   "outputs": [
    {
     "data": {
      "text/html": [
       "<div>\n",
       "<style scoped>\n",
       "    .dataframe tbody tr th:only-of-type {\n",
       "        vertical-align: middle;\n",
       "    }\n",
       "\n",
       "    .dataframe tbody tr th {\n",
       "        vertical-align: top;\n",
       "    }\n",
       "\n",
       "    .dataframe thead th {\n",
       "        text-align: right;\n",
       "    }\n",
       "</style>\n",
       "<table border=\"1\" class=\"dataframe\">\n",
       "  <thead>\n",
       "    <tr style=\"text-align: right;\">\n",
       "      <th></th>\n",
       "      <th>0_energi_effici_consumpt_save_demand</th>\n",
       "      <th>1_climat_chang_temperatur_futur_project</th>\n",
       "      <th>2_power_generat_plant_sector_capac</th>\n",
       "      <th>3_vehicl_fleet_car_hybrid_passeng</th>\n",
       "      <th>4_industri_cement_sector_product_process</th>\n",
       "      <th>5_forest_sequestr_wood_sink_stock</th>\n",
       "      <th>6_steel_iron_product_materi_save</th>\n",
       "      <th>7_build_residenti_stock_sector_construct</th>\n",
       "      <th>8_water_resourc_basin_river_irrig</th>\n",
       "      <th>9_air_pollut_pm2_qualiti_health</th>\n",
       "      <th>...</th>\n",
       "      <th>30_price_et_market_trade_polici</th>\n",
       "      <th>31_drought_precipit_sever_frequenc_index</th>\n",
       "      <th>32_crop_yield_soil_wheat_fertil</th>\n",
       "      <th>33_peak_around_reach_earlier_non</th>\n",
       "      <th>34_oil_product_crude_natur_export</th>\n",
       "      <th>35_land_use_soil_area_chang</th>\n",
       "      <th>36_target_achiev_indc_meet_ndc</th>\n",
       "      <th>37_wast_landfil_solid_municip_treatment</th>\n",
       "      <th>38_system_model_transit_integr_pathway</th>\n",
       "      <th>Total_topics_in_paper</th>\n",
       "    </tr>\n",
       "  </thead>\n",
       "  <tbody>\n",
       "    <tr>\n",
       "      <th>0</th>\n",
       "      <td>1.0</td>\n",
       "      <td>1.0</td>\n",
       "      <td>1.0</td>\n",
       "      <td>0.0</td>\n",
       "      <td>0.0</td>\n",
       "      <td>0.0</td>\n",
       "      <td>0.0</td>\n",
       "      <td>0.0</td>\n",
       "      <td>0.0</td>\n",
       "      <td>0.0</td>\n",
       "      <td>...</td>\n",
       "      <td>0.0</td>\n",
       "      <td>0.0</td>\n",
       "      <td>0.0</td>\n",
       "      <td>0.0</td>\n",
       "      <td>0.0</td>\n",
       "      <td>0.0</td>\n",
       "      <td>0.0</td>\n",
       "      <td>0.0</td>\n",
       "      <td>0.0</td>\n",
       "      <td>5.0</td>\n",
       "    </tr>\n",
       "  </tbody>\n",
       "</table>\n",
       "<p>1 rows × 40 columns</p>\n",
       "</div>"
      ],
      "text/plain": [
       "   0_energi_effici_consumpt_save_demand  \\\n",
       "0                                   1.0   \n",
       "\n",
       "   1_climat_chang_temperatur_futur_project  \\\n",
       "0                                      1.0   \n",
       "\n",
       "   2_power_generat_plant_sector_capac  3_vehicl_fleet_car_hybrid_passeng  \\\n",
       "0                                 1.0                                0.0   \n",
       "\n",
       "   4_industri_cement_sector_product_process  \\\n",
       "0                                       0.0   \n",
       "\n",
       "   5_forest_sequestr_wood_sink_stock  6_steel_iron_product_materi_save  \\\n",
       "0                                0.0                               0.0   \n",
       "\n",
       "   7_build_residenti_stock_sector_construct  \\\n",
       "0                                       0.0   \n",
       "\n",
       "   8_water_resourc_basin_river_irrig  9_air_pollut_pm2_qualiti_health  ...  \\\n",
       "0                                0.0                              0.0  ...   \n",
       "\n",
       "   30_price_et_market_trade_polici  31_drought_precipit_sever_frequenc_index  \\\n",
       "0                              0.0                                       0.0   \n",
       "\n",
       "   32_crop_yield_soil_wheat_fertil  33_peak_around_reach_earlier_non  \\\n",
       "0                              0.0                               0.0   \n",
       "\n",
       "   34_oil_product_crude_natur_export  35_land_use_soil_area_chang  \\\n",
       "0                                0.0                          0.0   \n",
       "\n",
       "   36_target_achiev_indc_meet_ndc  37_wast_landfil_solid_municip_treatment  \\\n",
       "0                             0.0                                      0.0   \n",
       "\n",
       "   38_system_model_transit_integr_pathway  Total_topics_in_paper  \n",
       "0                                     0.0                    5.0  \n",
       "\n",
       "[1 rows x 40 columns]"
      ]
     },
     "execution_count": 14,
     "metadata": {},
     "output_type": "execute_result"
    }
   ],
   "source": [
    "df_binaire.columns = columns_topics\n",
    "df_binaire.head(1)"
   ]
  },
  {
   "cell_type": "markdown",
   "metadata": {},
   "source": [
    "### How many publications per topic"
   ]
  },
  {
   "cell_type": "code",
   "execution_count": 15,
   "metadata": {},
   "outputs": [
    {
     "data": {
      "text/html": [
       "<div>\n",
       "<style scoped>\n",
       "    .dataframe tbody tr th:only-of-type {\n",
       "        vertical-align: middle;\n",
       "    }\n",
       "\n",
       "    .dataframe tbody tr th {\n",
       "        vertical-align: top;\n",
       "    }\n",
       "\n",
       "    .dataframe thead th {\n",
       "        text-align: right;\n",
       "    }\n",
       "</style>\n",
       "<table border=\"1\" class=\"dataframe\">\n",
       "  <thead>\n",
       "    <tr style=\"text-align: right;\">\n",
       "      <th></th>\n",
       "      <th>seuil_0.02</th>\n",
       "    </tr>\n",
       "    <tr>\n",
       "      <th>topic</th>\n",
       "      <th></th>\n",
       "    </tr>\n",
       "  </thead>\n",
       "  <tbody>\n",
       "    <tr>\n",
       "      <th>0_energi_effici_consumpt_save_demand</th>\n",
       "      <td>1732.0</td>\n",
       "    </tr>\n",
       "    <tr>\n",
       "      <th>1_climat_chang_temperatur_futur_project</th>\n",
       "      <td>2000.0</td>\n",
       "    </tr>\n",
       "    <tr>\n",
       "      <th>2_power_generat_plant_sector_capac</th>\n",
       "      <td>797.0</td>\n",
       "    </tr>\n",
       "    <tr>\n",
       "      <th>3_vehicl_fleet_car_hybrid_passeng</th>\n",
       "      <td>387.0</td>\n",
       "    </tr>\n",
       "    <tr>\n",
       "      <th>4_industri_cement_sector_product_process</th>\n",
       "      <td>497.0</td>\n",
       "    </tr>\n",
       "    <tr>\n",
       "      <th>5_forest_sequestr_wood_sink_stock</th>\n",
       "      <td>314.0</td>\n",
       "    </tr>\n",
       "    <tr>\n",
       "      <th>6_steel_iron_product_materi_save</th>\n",
       "      <td>105.0</td>\n",
       "    </tr>\n",
       "    <tr>\n",
       "      <th>7_build_residenti_stock_sector_construct</th>\n",
       "      <td>356.0</td>\n",
       "    </tr>\n",
       "    <tr>\n",
       "      <th>8_water_resourc_basin_river_irrig</th>\n",
       "      <td>291.0</td>\n",
       "    </tr>\n",
       "    <tr>\n",
       "      <th>9_air_pollut_pm2_qualiti_health</th>\n",
       "      <td>674.0</td>\n",
       "    </tr>\n",
       "    <tr>\n",
       "      <th>10_electr_generat_demand_grid_suppli</th>\n",
       "      <td>904.0</td>\n",
       "    </tr>\n",
       "    <tr>\n",
       "      <th>11_ccs_storag_captur_geolog_plant</th>\n",
       "      <td>251.0</td>\n",
       "    </tr>\n",
       "    <tr>\n",
       "      <th>12_transport_sector_road_passeng_freight</th>\n",
       "      <td>567.0</td>\n",
       "    </tr>\n",
       "    <tr>\n",
       "      <th>13_polici_develop_econom_countri_use</th>\n",
       "      <td>4687.0</td>\n",
       "    </tr>\n",
       "    <tr>\n",
       "      <th>14_agricultur_food_product_livestock_farm</th>\n",
       "      <td>351.0</td>\n",
       "    </tr>\n",
       "    <tr>\n",
       "      <th>15_tax_revenu_polici_equilibrium_model</th>\n",
       "      <td>213.0</td>\n",
       "    </tr>\n",
       "    <tr>\n",
       "      <th>16_heat_pump_district_cool_boiler</th>\n",
       "      <td>272.0</td>\n",
       "    </tr>\n",
       "    <tr>\n",
       "      <th>17_intens_structur_consumpt_factor_growth</th>\n",
       "      <td>936.0</td>\n",
       "    </tr>\n",
       "    <tr>\n",
       "      <th>18_scenario_model_bau_refer_three</th>\n",
       "      <td>1428.0</td>\n",
       "    </tr>\n",
       "    <tr>\n",
       "      <th>19_wind_solar_capac_instal_photovolta</th>\n",
       "      <td>324.0</td>\n",
       "    </tr>\n",
       "    <tr>\n",
       "      <th>20_cost_abat_option_benefit_margin</th>\n",
       "      <td>761.0</td>\n",
       "    </tr>\n",
       "    <tr>\n",
       "      <th>21_coal_fire_plant_natur_phase</th>\n",
       "      <td>360.0</td>\n",
       "    </tr>\n",
       "    <tr>\n",
       "      <th>22_nuclear_plant_power_mix_new</th>\n",
       "      <td>160.0</td>\n",
       "    </tr>\n",
       "    <tr>\n",
       "      <th>23_fuel_fossil_diesel_altern_biofuel</th>\n",
       "      <td>586.0</td>\n",
       "    </tr>\n",
       "    <tr>\n",
       "      <th>24_renew_energi_sourc_share_res</th>\n",
       "      <td>540.0</td>\n",
       "    </tr>\n",
       "    <tr>\n",
       "      <th>25_flood_risk_coastal_sea_disast</th>\n",
       "      <td>284.0</td>\n",
       "    </tr>\n",
       "    <tr>\n",
       "      <th>26_technolog_advanc_deploy_low_clean</th>\n",
       "      <td>421.0</td>\n",
       "    </tr>\n",
       "    <tr>\n",
       "      <th>27_biomass_bioenergi_biofuel_residu_wood</th>\n",
       "      <td>345.0</td>\n",
       "    </tr>\n",
       "    <tr>\n",
       "      <th>28_urban_citi_area_popul_develop</th>\n",
       "      <td>331.0</td>\n",
       "    </tr>\n",
       "    <tr>\n",
       "      <th>29_hydrogen_cell_chain_produc_product</th>\n",
       "      <td>94.0</td>\n",
       "    </tr>\n",
       "    <tr>\n",
       "      <th>30_price_et_market_trade_polici</th>\n",
       "      <td>419.0</td>\n",
       "    </tr>\n",
       "    <tr>\n",
       "      <th>31_drought_precipit_sever_frequenc_index</th>\n",
       "      <td>89.0</td>\n",
       "    </tr>\n",
       "    <tr>\n",
       "      <th>32_crop_yield_soil_wheat_fertil</th>\n",
       "      <td>302.0</td>\n",
       "    </tr>\n",
       "    <tr>\n",
       "      <th>33_peak_around_reach_earlier_non</th>\n",
       "      <td>173.0</td>\n",
       "    </tr>\n",
       "    <tr>\n",
       "      <th>34_oil_product_crude_natur_export</th>\n",
       "      <td>200.0</td>\n",
       "    </tr>\n",
       "    <tr>\n",
       "      <th>35_land_use_soil_area_chang</th>\n",
       "      <td>420.0</td>\n",
       "    </tr>\n",
       "    <tr>\n",
       "      <th>36_target_achiev_indc_meet_ndc</th>\n",
       "      <td>706.0</td>\n",
       "    </tr>\n",
       "    <tr>\n",
       "      <th>37_wast_landfil_solid_municip_treatment</th>\n",
       "      <td>222.0</td>\n",
       "    </tr>\n",
       "    <tr>\n",
       "      <th>38_system_model_transit_integr_pathway</th>\n",
       "      <td>543.0</td>\n",
       "    </tr>\n",
       "  </tbody>\n",
       "</table>\n",
       "</div>"
      ],
      "text/plain": [
       "                                           seuil_0.02\n",
       "topic                                                \n",
       "0_energi_effici_consumpt_save_demand           1732.0\n",
       "1_climat_chang_temperatur_futur_project        2000.0\n",
       "2_power_generat_plant_sector_capac              797.0\n",
       "3_vehicl_fleet_car_hybrid_passeng               387.0\n",
       "4_industri_cement_sector_product_process        497.0\n",
       "5_forest_sequestr_wood_sink_stock               314.0\n",
       "6_steel_iron_product_materi_save                105.0\n",
       "7_build_residenti_stock_sector_construct        356.0\n",
       "8_water_resourc_basin_river_irrig               291.0\n",
       "9_air_pollut_pm2_qualiti_health                 674.0\n",
       "10_electr_generat_demand_grid_suppli            904.0\n",
       "11_ccs_storag_captur_geolog_plant               251.0\n",
       "12_transport_sector_road_passeng_freight        567.0\n",
       "13_polici_develop_econom_countri_use           4687.0\n",
       "14_agricultur_food_product_livestock_farm       351.0\n",
       "15_tax_revenu_polici_equilibrium_model          213.0\n",
       "16_heat_pump_district_cool_boiler               272.0\n",
       "17_intens_structur_consumpt_factor_growth       936.0\n",
       "18_scenario_model_bau_refer_three              1428.0\n",
       "19_wind_solar_capac_instal_photovolta           324.0\n",
       "20_cost_abat_option_benefit_margin              761.0\n",
       "21_coal_fire_plant_natur_phase                  360.0\n",
       "22_nuclear_plant_power_mix_new                  160.0\n",
       "23_fuel_fossil_diesel_altern_biofuel            586.0\n",
       "24_renew_energi_sourc_share_res                 540.0\n",
       "25_flood_risk_coastal_sea_disast                284.0\n",
       "26_technolog_advanc_deploy_low_clean            421.0\n",
       "27_biomass_bioenergi_biofuel_residu_wood        345.0\n",
       "28_urban_citi_area_popul_develop                331.0\n",
       "29_hydrogen_cell_chain_produc_product            94.0\n",
       "30_price_et_market_trade_polici                 419.0\n",
       "31_drought_precipit_sever_frequenc_index         89.0\n",
       "32_crop_yield_soil_wheat_fertil                 302.0\n",
       "33_peak_around_reach_earlier_non                173.0\n",
       "34_oil_product_crude_natur_export               200.0\n",
       "35_land_use_soil_area_chang                     420.0\n",
       "36_target_achiev_indc_meet_ndc                  706.0\n",
       "37_wast_landfil_solid_municip_treatment         222.0\n",
       "38_system_model_transit_integr_pathway          543.0"
      ]
     },
     "execution_count": 15,
     "metadata": {},
     "output_type": "execute_result"
    }
   ],
   "source": [
    "prop"
   ]
  },
  {
   "cell_type": "markdown",
   "metadata": {},
   "source": [
    "### How many topics characterize how many papers"
   ]
  },
  {
   "cell_type": "markdown",
   "metadata": {},
   "source": [
    "Remove \"Total\" row"
   ]
  },
  {
   "cell_type": "code",
   "execution_count": 16,
   "metadata": {},
   "outputs": [],
   "source": [
    "df_binaire = df_binaire.drop(['Total'])"
   ]
  },
  {
   "cell_type": "code",
   "execution_count": 17,
   "metadata": {},
   "outputs": [
    {
     "data": {
      "text/html": [
       "<div>\n",
       "<style scoped>\n",
       "    .dataframe tbody tr th:only-of-type {\n",
       "        vertical-align: middle;\n",
       "    }\n",
       "\n",
       "    .dataframe tbody tr th {\n",
       "        vertical-align: top;\n",
       "    }\n",
       "\n",
       "    .dataframe thead th {\n",
       "        text-align: right;\n",
       "    }\n",
       "</style>\n",
       "<table border=\"1\" class=\"dataframe\">\n",
       "  <thead>\n",
       "    <tr style=\"text-align: right;\">\n",
       "      <th></th>\n",
       "      <th>Total_topics_in_paper</th>\n",
       "    </tr>\n",
       "  </thead>\n",
       "  <tbody>\n",
       "    <tr>\n",
       "      <th>5.0</th>\n",
       "      <td>972</td>\n",
       "    </tr>\n",
       "    <tr>\n",
       "      <th>4.0</th>\n",
       "      <td>956</td>\n",
       "    </tr>\n",
       "    <tr>\n",
       "      <th>6.0</th>\n",
       "      <td>832</td>\n",
       "    </tr>\n",
       "    <tr>\n",
       "      <th>3.0</th>\n",
       "      <td>648</td>\n",
       "    </tr>\n",
       "    <tr>\n",
       "      <th>7.0</th>\n",
       "      <td>517</td>\n",
       "    </tr>\n",
       "    <tr>\n",
       "      <th>8.0</th>\n",
       "      <td>283</td>\n",
       "    </tr>\n",
       "    <tr>\n",
       "      <th>2.0</th>\n",
       "      <td>238</td>\n",
       "    </tr>\n",
       "    <tr>\n",
       "      <th>9.0</th>\n",
       "      <td>136</td>\n",
       "    </tr>\n",
       "    <tr>\n",
       "      <th>10.0</th>\n",
       "      <td>56</td>\n",
       "    </tr>\n",
       "    <tr>\n",
       "      <th>1.0</th>\n",
       "      <td>31</td>\n",
       "    </tr>\n",
       "    <tr>\n",
       "      <th>11.0</th>\n",
       "      <td>18</td>\n",
       "    </tr>\n",
       "    <tr>\n",
       "      <th>12.0</th>\n",
       "      <td>2</td>\n",
       "    </tr>\n",
       "    <tr>\n",
       "      <th>13.0</th>\n",
       "      <td>2</td>\n",
       "    </tr>\n",
       "  </tbody>\n",
       "</table>\n",
       "</div>"
      ],
      "text/plain": [
       "      Total_topics_in_paper\n",
       "5.0                     972\n",
       "4.0                     956\n",
       "6.0                     832\n",
       "3.0                     648\n",
       "7.0                     517\n",
       "8.0                     283\n",
       "2.0                     238\n",
       "9.0                     136\n",
       "10.0                     56\n",
       "1.0                      31\n",
       "11.0                     18\n",
       "12.0                      2\n",
       "13.0                      2"
      ]
     },
     "execution_count": 17,
     "metadata": {},
     "output_type": "execute_result"
    }
   ],
   "source": [
    "df_paper = pd.DataFrame(df_binaire.Total_topics_in_paper.value_counts(), columns=['Total_topics_in_paper'])\n",
    "df_paper"
   ]
  },
  {
   "cell_type": "markdown",
   "metadata": {},
   "source": [
    "### Add processed abstracts to the main database"
   ]
  },
  {
   "cell_type": "code",
   "execution_count": 18,
   "metadata": {},
   "outputs": [],
   "source": [
    "df['stem_abstract'] = abstracts_prepro[\"abstracts_prepro\"]"
   ]
  },
  {
   "cell_type": "markdown",
   "metadata": {},
   "source": [
    "### Add topics attribution to the main database"
   ]
  },
  {
   "cell_type": "code",
   "execution_count": 19,
   "metadata": {},
   "outputs": [],
   "source": [
    "df = df.reindex(columns= np.append(df.columns,columns_topics))\n",
    "df.update(df_binaire)"
   ]
  },
  {
   "cell_type": "code",
   "execution_count": 20,
   "metadata": {},
   "outputs": [
    {
     "data": {
      "text/html": [
       "<div>\n",
       "<style scoped>\n",
       "    .dataframe tbody tr th:only-of-type {\n",
       "        vertical-align: middle;\n",
       "    }\n",
       "\n",
       "    .dataframe tbody tr th {\n",
       "        vertical-align: top;\n",
       "    }\n",
       "\n",
       "    .dataframe thead th {\n",
       "        text-align: right;\n",
       "    }\n",
       "</style>\n",
       "<table border=\"1\" class=\"dataframe\">\n",
       "  <thead>\n",
       "    <tr style=\"text-align: right;\">\n",
       "      <th></th>\n",
       "      <th>ISO_3</th>\n",
       "      <th>Country</th>\n",
       "      <th>Region</th>\n",
       "      <th>title</th>\n",
       "      <th>authors</th>\n",
       "      <th>source</th>\n",
       "      <th>doi</th>\n",
       "      <th>abstract</th>\n",
       "      <th>author_keywords</th>\n",
       "      <th>publication_year</th>\n",
       "      <th>...</th>\n",
       "      <th>30_price_et_market_trade_polici</th>\n",
       "      <th>31_drought_precipit_sever_frequenc_index</th>\n",
       "      <th>32_crop_yield_soil_wheat_fertil</th>\n",
       "      <th>33_peak_around_reach_earlier_non</th>\n",
       "      <th>34_oil_product_crude_natur_export</th>\n",
       "      <th>35_land_use_soil_area_chang</th>\n",
       "      <th>36_target_achiev_indc_meet_ndc</th>\n",
       "      <th>37_wast_landfil_solid_municip_treatment</th>\n",
       "      <th>38_system_model_transit_integr_pathway</th>\n",
       "      <th>Total_topics_in_paper</th>\n",
       "    </tr>\n",
       "  </thead>\n",
       "  <tbody>\n",
       "    <tr>\n",
       "      <th>0</th>\n",
       "      <td>AFG</td>\n",
       "      <td>Afghanistan</td>\n",
       "      <td>Asia</td>\n",
       "      <td>The renewable energy sector in Afghanistan: Po...</td>\n",
       "      <td>Fahimi, A; Upham, P</td>\n",
       "      <td>WILEY INTERDISCIPLINARY REVIEWS-ENERGY AND ENV...</td>\n",
       "      <td>10.1002/wene.280</td>\n",
       "      <td>Afghanistan has one of the lowest rates of acc...</td>\n",
       "      <td>NaN</td>\n",
       "      <td>2018.0</td>\n",
       "      <td>...</td>\n",
       "      <td>0.0</td>\n",
       "      <td>0.0</td>\n",
       "      <td>0.0</td>\n",
       "      <td>0.0</td>\n",
       "      <td>0.0</td>\n",
       "      <td>0.0</td>\n",
       "      <td>0.0</td>\n",
       "      <td>0.0</td>\n",
       "      <td>0.0</td>\n",
       "      <td>5.0</td>\n",
       "    </tr>\n",
       "    <tr>\n",
       "      <th>1</th>\n",
       "      <td>AGO</td>\n",
       "      <td>Angola</td>\n",
       "      <td>Africa</td>\n",
       "      <td>Determinación del Potencial energético de los ...</td>\n",
       "      <td>González Diaz, Yudith; Gato Clavell, Tania; Gi...</td>\n",
       "      <td>Tecnología Química</td>\n",
       "      <td>NaN</td>\n",
       "      <td>The biological conversion of the Urban Solid R...</td>\n",
       "      <td>biogas; sanitary fillers; urban solid residual...</td>\n",
       "      <td>2015.0</td>\n",
       "      <td>...</td>\n",
       "      <td>0.0</td>\n",
       "      <td>0.0</td>\n",
       "      <td>0.0</td>\n",
       "      <td>0.0</td>\n",
       "      <td>0.0</td>\n",
       "      <td>0.0</td>\n",
       "      <td>0.0</td>\n",
       "      <td>1.0</td>\n",
       "      <td>0.0</td>\n",
       "      <td>7.0</td>\n",
       "    </tr>\n",
       "  </tbody>\n",
       "</table>\n",
       "<p>2 rows × 55 columns</p>\n",
       "</div>"
      ],
      "text/plain": [
       "  ISO_3      Country  Region  \\\n",
       "0   AFG  Afghanistan    Asia   \n",
       "1   AGO       Angola  Africa   \n",
       "\n",
       "                                               title  \\\n",
       "0  The renewable energy sector in Afghanistan: Po...   \n",
       "1  Determinación del Potencial energético de los ...   \n",
       "\n",
       "                                             authors  \\\n",
       "0                                Fahimi, A; Upham, P   \n",
       "1  González Diaz, Yudith; Gato Clavell, Tania; Gi...   \n",
       "\n",
       "                                              source               doi  \\\n",
       "0  WILEY INTERDISCIPLINARY REVIEWS-ENERGY AND ENV...  10.1002/wene.280   \n",
       "1                                 Tecnología Química               NaN   \n",
       "\n",
       "                                            abstract  \\\n",
       "0  Afghanistan has one of the lowest rates of acc...   \n",
       "1  The biological conversion of the Urban Solid R...   \n",
       "\n",
       "                                     author_keywords  publication_year  ...  \\\n",
       "0                                                NaN            2018.0  ...   \n",
       "1  biogas; sanitary fillers; urban solid residual...            2015.0  ...   \n",
       "\n",
       "   30_price_et_market_trade_polici 31_drought_precipit_sever_frequenc_index  \\\n",
       "0                              0.0                                      0.0   \n",
       "1                              0.0                                      0.0   \n",
       "\n",
       "  32_crop_yield_soil_wheat_fertil 33_peak_around_reach_earlier_non  \\\n",
       "0                             0.0                              0.0   \n",
       "1                             0.0                              0.0   \n",
       "\n",
       "  34_oil_product_crude_natur_export  35_land_use_soil_area_chang  \\\n",
       "0                               0.0                          0.0   \n",
       "1                               0.0                          0.0   \n",
       "\n",
       "   36_target_achiev_indc_meet_ndc  37_wast_landfil_solid_municip_treatment  \\\n",
       "0                             0.0                                      0.0   \n",
       "1                             0.0                                      1.0   \n",
       "\n",
       "   38_system_model_transit_integr_pathway  Total_topics_in_paper  \n",
       "0                                     0.0                    5.0  \n",
       "1                                     0.0                    7.0  \n",
       "\n",
       "[2 rows x 55 columns]"
      ]
     },
     "execution_count": 20,
     "metadata": {},
     "output_type": "execute_result"
    }
   ],
   "source": [
    "df.head(2)"
   ]
  },
  {
   "cell_type": "code",
   "execution_count": 21,
   "metadata": {},
   "outputs": [],
   "source": [
    "df.to_csv('./output/database_seuil_0.02.csv',index=False)"
   ]
  }
 ],
 "metadata": {
  "kernelspec": {
   "display_name": "Python 3",
   "language": "python",
   "name": "python3"
  },
  "language_info": {
   "codemirror_mode": {
    "name": "ipython",
    "version": 3
   },
   "file_extension": ".py",
   "mimetype": "text/x-python",
   "name": "python",
   "nbconvert_exporter": "python",
   "pygments_lexer": "ipython3",
   "version": "3.7.0"
  }
 },
 "nbformat": 4,
 "nbformat_minor": 2
}
