{
 "cells": [
  {
   "cell_type": "code",
   "execution_count": 1,
   "metadata": {},
   "outputs": [],
   "source": [
    "import pandas as pd\n",
    "import numpy as np\n",
    "import joblib\n",
    "import string\n",
    "from stemming.porter2 import stem"
   ]
  },
  {
   "cell_type": "markdown",
   "metadata": {},
   "source": [
    "#### Database with additional treatment"
   ]
  },
  {
   "cell_type": "code",
   "execution_count": 2,
   "metadata": {},
   "outputs": [
    {
     "name": "stdout",
     "output_type": "stream",
     "text": [
      "Loaded 4691 X 16 dataframe with unique papers\n"
     ]
    }
   ],
   "source": [
    "df = pd.read_csv(\"../2_Treatment_database/output/database_one_row_each_paper.csv\")\n",
    "print( \"Loaded %d X %d dataframe with unique papers\" % (len(df), len(df.columns) ))"
   ]
  },
  {
   "cell_type": "markdown",
   "metadata": {},
   "source": [
    "#### Preprocessed abstracts"
   ]
  },
  {
   "cell_type": "code",
   "execution_count": 3,
   "metadata": {},
   "outputs": [
    {
     "name": "stdout",
     "output_type": "stream",
     "text": [
      "4691 preprocessed abstracts\n"
     ]
    }
   ],
   "source": [
    "abstracts_prepro = pd.read_csv(\"./interm/processed_abstracts.csv\")\n",
    "print( \"%d preprocessed abstracts\" % (len(abstracts_prepro)) )"
   ]
  },
  {
   "cell_type": "markdown",
   "metadata": {},
   "source": [
    "#### TF-IDF normalised document-term matrix and list of terms"
   ]
  },
  {
   "cell_type": "code",
   "execution_count": 4,
   "metadata": {},
   "outputs": [
    {
     "name": "stdout",
     "output_type": "stream",
     "text": [
      "Loaded 4691 X 1300 document-term matrix\n"
     ]
    }
   ],
   "source": [
    "(tfidf, tfidf_feature_names) = joblib.load(\"./interm/tfidf_matrix-features_names.pkl\" )\n",
    "print( \"Loaded %d X %d document-term matrix\" % (tfidf.shape[0], tfidf.shape[1]) )"
   ]
  },
  {
   "cell_type": "markdown",
   "metadata": {},
   "source": [
    "#### Model  with optimal parameters:"
   ]
  },
  {
   "cell_type": "code",
   "execution_count": 5,
   "metadata": {},
   "outputs": [
    {
     "name": "stdout",
     "output_type": "stream",
     "text": [
      "k_topics = 39\n",
      "alpha = 0.1\n",
      "l1 = 0.9\n"
     ]
    }
   ],
   "source": [
    "k_topics,alpha,l1,W,H = joblib.load(\"./output/model_selected.pkl\") \n",
    "param = [k_topics,alpha,l1,W,H]\n",
    "param_names = [\"k_topics\", \"alpha\", \"l1\"]\n",
    "for name in param_names:\n",
    "    print(name, '=', repr(eval(name)))"
   ]
  },
  {
   "cell_type": "markdown",
   "metadata": {},
   "source": [
    "#### Topics and how many abstracts are associated to each topic"
   ]
  },
  {
   "cell_type": "code",
   "execution_count": 6,
   "metadata": {},
   "outputs": [],
   "source": [
    "prop = pd.read_csv(\"./output/nb_papers_seuil_0.02.csv\")"
   ]
  },
  {
   "cell_type": "code",
   "execution_count": 7,
   "metadata": {},
   "outputs": [],
   "source": [
    "column_topics = prop['topic'].to_list()"
   ]
  },
  {
   "cell_type": "code",
   "execution_count": 8,
   "metadata": {},
   "outputs": [],
   "source": [
    "number_of_abs = prop['seuil_0.02'].astype(int).to_list()"
   ]
  },
  {
   "cell_type": "markdown",
   "metadata": {},
   "source": [
    "### Associate abstracts to topics "
   ]
  },
  {
   "cell_type": "markdown",
   "metadata": {},
   "source": [
    "Function that return the 'n_top_abstracts' associated to 'topic_index' according to their weight in W"
   ]
  },
  {
   "cell_type": "code",
   "execution_count": 9,
   "metadata": {},
   "outputs": [],
   "source": [
    "def get_top_abstracts( data_samples, W, topic_index, n_top_abstracts ):\n",
    "    # reverse sort the values to sort the indices\n",
    "    top_indices = np.argsort( W[:,topic_index] )[::-1]\n",
    "    # now get the abstracts corresponding to the top-ranked indices\n",
    "    top_abstracts = []\n",
    "    for doc_index in top_indices[0:n_top_abstracts]:\n",
    "        top_abstracts.append( data_samples[doc_index] )\n",
    "    return top_abstracts"
   ]
  },
  {
   "cell_type": "markdown",
   "metadata": {},
   "source": [
    "Add to the database the preprocessed abstracts and a column used further to contain the topic to which the paper is related"
   ]
  },
  {
   "cell_type": "code",
   "execution_count": 10,
   "metadata": {},
   "outputs": [],
   "source": [
    "df['stem_abstract'] = abstracts_prepro[\"abstracts_prepro\"]\n",
    "df['topic_charact'] = np.nan"
   ]
  },
  {
   "cell_type": "markdown",
   "metadata": {},
   "source": [
    "#### Create a dataframe that contains for each topic all the rows charactering papers from the main database \n",
    "Start y creating an empty dataframe"
   ]
  },
  {
   "cell_type": "code",
   "execution_count": 11,
   "metadata": {},
   "outputs": [],
   "source": [
    "df_topic_abs = pd.DataFrame()"
   ]
  },
  {
   "cell_type": "markdown",
   "metadata": {},
   "source": [
    "Double loop on all topics and te associated abstracts (with a non nul coefficient in W)"
   ]
  },
  {
   "cell_type": "code",
   "execution_count": 12,
   "metadata": {},
   "outputs": [],
   "source": [
    "for k in range(k_topics):\n",
    "    topic_abstracts = get_top_abstracts(abstracts_prepro[\"abstracts_prepro\"].to_list(), W, k, number_of_abs[k] )\n",
    "    for i, abstract in enumerate(topic_abstracts):\n",
    "        df_tempo = df[df['stem_abstract'].isin([str(abstract)])].copy()\n",
    "        df_tempo['topic_charact'] = column_topics[k]\n",
    "        df_tempo['number_of_abs'] = number_of_abs[k]\n",
    "        df_topic_abs = df_topic_abs.append(df_tempo)"
   ]
  },
  {
   "cell_type": "markdown",
   "metadata": {},
   "source": [
    "#### Keep the index to memorize the weight order for papers"
   ]
  },
  {
   "cell_type": "code",
   "execution_count": 13,
   "metadata": {},
   "outputs": [],
   "source": [
    "df_topic_abs.reset_index(0,inplace = True)        \n",
    "df_topic_abs['index1'] = df_topic_abs.index\n",
    "col = ['index1','topic_charact','number_of_abs','title','abstract']\n",
    "df_topic_abs = df_topic_abs.reindex(columns=col)"
   ]
  },
  {
   "cell_type": "code",
   "execution_count": 14,
   "metadata": {},
   "outputs": [],
   "source": [
    "df_topic_abs.sort_values(by = ['number_of_abs','index1'], ascending = [True,True], inplace = True)"
   ]
  },
  {
   "cell_type": "code",
   "execution_count": 15,
   "metadata": {},
   "outputs": [
    {
     "data": {
      "text/html": [
       "<div>\n",
       "<style scoped>\n",
       "    .dataframe tbody tr th:only-of-type {\n",
       "        vertical-align: middle;\n",
       "    }\n",
       "\n",
       "    .dataframe tbody tr th {\n",
       "        vertical-align: top;\n",
       "    }\n",
       "\n",
       "    .dataframe thead th {\n",
       "        text-align: right;\n",
       "    }\n",
       "</style>\n",
       "<table border=\"1\" class=\"dataframe\">\n",
       "  <thead>\n",
       "    <tr style=\"text-align: right;\">\n",
       "      <th></th>\n",
       "      <th>index1</th>\n",
       "      <th>topic_charact</th>\n",
       "      <th>number_of_abs</th>\n",
       "      <th>title</th>\n",
       "      <th>abstract</th>\n",
       "    </tr>\n",
       "  </thead>\n",
       "  <tbody>\n",
       "    <tr>\n",
       "      <th>21387</th>\n",
       "      <td>21387</td>\n",
       "      <td>31_drought_precipit_sever_frequenc_index</td>\n",
       "      <td>89</td>\n",
       "      <td>Projected Changes of Future Extreme Drought Ev...</td>\n",
       "      <td>Effective drought prediction methods are essen...</td>\n",
       "    </tr>\n",
       "  </tbody>\n",
       "</table>\n",
       "</div>"
      ],
      "text/plain": [
       "       index1                             topic_charact  number_of_abs  \\\n",
       "21387   21387  31_drought_precipit_sever_frequenc_index             89   \n",
       "\n",
       "                                                   title  \\\n",
       "21387  Projected Changes of Future Extreme Drought Ev...   \n",
       "\n",
       "                                                abstract  \n",
       "21387  Effective drought prediction methods are essen...  "
      ]
     },
     "execution_count": 15,
     "metadata": {},
     "output_type": "execute_result"
    }
   ],
   "source": [
    "df_topic_abs.head(1)"
   ]
  },
  {
   "cell_type": "code",
   "execution_count": 16,
   "metadata": {},
   "outputs": [],
   "source": [
    "df_topic_abs.to_csv(\"./output/df_topic_abs_classification.csv\",index=False)"
   ]
  },
  {
   "cell_type": "markdown",
   "metadata": {},
   "source": [
    "### Preprocess titles"
   ]
  },
  {
   "cell_type": "code",
   "execution_count": 17,
   "metadata": {},
   "outputs": [],
   "source": [
    "table = str.maketrans('','', string.punctuation)"
   ]
  },
  {
   "cell_type": "code",
   "execution_count": 18,
   "metadata": {},
   "outputs": [],
   "source": [
    "df_topic_abs['stem_title'] = df_topic_abs['title'].str.lower()\n",
    "df_topic_abs['stem_title'] = df_topic_abs['stem_title'].str.translate(table)\n",
    "df_topic_abs['stem_title'] = df_topic_abs['stem_title'].apply(lambda x: \" \".join([stem(y) for y in x.split(\" \")]))"
   ]
  },
  {
   "cell_type": "markdown",
   "metadata": {},
   "source": [
    "### Get the 5 weightest words for each topic"
   ]
  },
  {
   "cell_type": "code",
   "execution_count": 19,
   "metadata": {},
   "outputs": [],
   "source": [
    "def get_5_words( all_terms, H, topic_index):\n",
    "    # reverse sort the values to sort the indices\n",
    "    top_indices = np.argsort( H[topic_index,:] )[::-1]\n",
    "    top_terms=[]\n",
    "    for i in range(5):\n",
    "        term = tfidf_feature_names[top_indices[i]]\n",
    "        top_terms.append(term)\n",
    "    return top_terms"
   ]
  },
  {
   "cell_type": "code",
   "execution_count": 20,
   "metadata": {},
   "outputs": [],
   "source": [
    "list_words_topics = []\n",
    "for k in range(k_topics):\n",
    "    words_topics = get_5_words(tfidf_feature_names, H , k)\n",
    "    list_words_topics.append(words_topics)"
   ]
  },
  {
   "cell_type": "markdown",
   "metadata": {},
   "source": [
    "### Check stemmed titles by topic"
   ]
  },
  {
   "cell_type": "code",
   "execution_count": 21,
   "metadata": {},
   "outputs": [],
   "source": [
    "new_df = pd.DataFrame()"
   ]
  },
  {
   "cell_type": "code",
   "execution_count": 22,
   "metadata": {},
   "outputs": [
    {
     "name": "stdout",
     "output_type": "stream",
     "text": [
      "14177 X 7 checked dataframe\n"
     ]
    }
   ],
   "source": [
    "k=0\n",
    "for topic_words in list_words_topics:\n",
    "    column = column_topics[k]\n",
    "    k+= 1\n",
    "    for word in topic_words:\n",
    "        df_tempo = df_topic_abs.loc[df_topic_abs['stem_title'].str.contains(word) & df_topic_abs['topic_charact'].str.contains(column)].copy()\n",
    "        df_tempo['word'] = word\n",
    "        new_df = new_df.append(df_tempo)       \n",
    "print(\"%d X %d checked dataframe\" % (len(new_df), len(new_df.columns) ))"
   ]
  },
  {
   "cell_type": "code",
   "execution_count": 23,
   "metadata": {},
   "outputs": [
    {
     "name": "stdout",
     "output_type": "stream",
     "text": [
      "10388 X 7 dataframe\n"
     ]
    }
   ],
   "source": [
    "df_sort = new_df.drop_duplicates(['topic_charact','title'], keep='first')\n",
    "print(\"%d X %d dataframe\" % (len(df_sort), len(df_sort.columns) ))"
   ]
  },
  {
   "cell_type": "markdown",
   "metadata": {},
   "source": [
    "### Count how many papers remain "
   ]
  },
  {
   "cell_type": "code",
   "execution_count": 24,
   "metadata": {},
   "outputs": [],
   "source": [
    "checked_topic_count = pd.DataFrame(df_sort['topic_charact'].value_counts(), columns = ['topic_charact'])\n",
    "checked_topic_count.rename(columns ={'topic_charact': \"checked_topic_count\"}, inplace=True)\n",
    "checked_topic_count.reset_index(inplace = True)"
   ]
  },
  {
   "cell_type": "code",
   "execution_count": 25,
   "metadata": {},
   "outputs": [],
   "source": [
    "checked_topic_count.rename(columns={'index':'topic'},inplace=True)"
   ]
  },
  {
   "cell_type": "code",
   "execution_count": 26,
   "metadata": {},
   "outputs": [],
   "source": [
    "tab = pd.merge(prop, checked_topic_count, on = 'topic')"
   ]
  },
  {
   "cell_type": "code",
   "execution_count": 27,
   "metadata": {},
   "outputs": [
    {
     "data": {
      "text/html": [
       "<div>\n",
       "<style scoped>\n",
       "    .dataframe tbody tr th:only-of-type {\n",
       "        vertical-align: middle;\n",
       "    }\n",
       "\n",
       "    .dataframe tbody tr th {\n",
       "        vertical-align: top;\n",
       "    }\n",
       "\n",
       "    .dataframe thead th {\n",
       "        text-align: right;\n",
       "    }\n",
       "</style>\n",
       "<table border=\"1\" class=\"dataframe\">\n",
       "  <thead>\n",
       "    <tr style=\"text-align: right;\">\n",
       "      <th></th>\n",
       "      <th>topic</th>\n",
       "      <th>seuil_0.02</th>\n",
       "      <th>checked_topic_count</th>\n",
       "    </tr>\n",
       "  </thead>\n",
       "  <tbody>\n",
       "    <tr>\n",
       "      <th>0</th>\n",
       "      <td>0_energi_effici_consumpt_save_demand</td>\n",
       "      <td>1732.0</td>\n",
       "      <td>1018</td>\n",
       "    </tr>\n",
       "    <tr>\n",
       "      <th>1</th>\n",
       "      <td>1_climat_chang_temperatur_futur_project</td>\n",
       "      <td>2000.0</td>\n",
       "      <td>1038</td>\n",
       "    </tr>\n",
       "    <tr>\n",
       "      <th>2</th>\n",
       "      <td>2_power_generat_plant_sector_capac</td>\n",
       "      <td>797.0</td>\n",
       "      <td>416</td>\n",
       "    </tr>\n",
       "    <tr>\n",
       "      <th>3</th>\n",
       "      <td>3_vehicl_fleet_car_hybrid_passeng</td>\n",
       "      <td>387.0</td>\n",
       "      <td>227</td>\n",
       "    </tr>\n",
       "    <tr>\n",
       "      <th>4</th>\n",
       "      <td>4_industri_cement_sector_product_process</td>\n",
       "      <td>497.0</td>\n",
       "      <td>301</td>\n",
       "    </tr>\n",
       "    <tr>\n",
       "      <th>5</th>\n",
       "      <td>5_forest_sequestr_wood_sink_stock</td>\n",
       "      <td>314.0</td>\n",
       "      <td>188</td>\n",
       "    </tr>\n",
       "    <tr>\n",
       "      <th>6</th>\n",
       "      <td>6_steel_iron_product_materi_save</td>\n",
       "      <td>105.0</td>\n",
       "      <td>70</td>\n",
       "    </tr>\n",
       "    <tr>\n",
       "      <th>7</th>\n",
       "      <td>7_build_residenti_stock_sector_construct</td>\n",
       "      <td>356.0</td>\n",
       "      <td>180</td>\n",
       "    </tr>\n",
       "    <tr>\n",
       "      <th>8</th>\n",
       "      <td>8_water_resourc_basin_river_irrig</td>\n",
       "      <td>291.0</td>\n",
       "      <td>133</td>\n",
       "    </tr>\n",
       "    <tr>\n",
       "      <th>9</th>\n",
       "      <td>9_air_pollut_pm2_qualiti_health</td>\n",
       "      <td>674.0</td>\n",
       "      <td>252</td>\n",
       "    </tr>\n",
       "    <tr>\n",
       "      <th>10</th>\n",
       "      <td>10_electr_generat_demand_grid_suppli</td>\n",
       "      <td>904.0</td>\n",
       "      <td>471</td>\n",
       "    </tr>\n",
       "    <tr>\n",
       "      <th>11</th>\n",
       "      <td>11_ccs_storag_captur_geolog_plant</td>\n",
       "      <td>251.0</td>\n",
       "      <td>127</td>\n",
       "    </tr>\n",
       "    <tr>\n",
       "      <th>12</th>\n",
       "      <td>12_transport_sector_road_passeng_freight</td>\n",
       "      <td>567.0</td>\n",
       "      <td>298</td>\n",
       "    </tr>\n",
       "    <tr>\n",
       "      <th>13</th>\n",
       "      <td>13_polici_develop_econom_countri_use</td>\n",
       "      <td>4687.0</td>\n",
       "      <td>1324</td>\n",
       "    </tr>\n",
       "    <tr>\n",
       "      <th>14</th>\n",
       "      <td>14_agricultur_food_product_livestock_farm</td>\n",
       "      <td>351.0</td>\n",
       "      <td>188</td>\n",
       "    </tr>\n",
       "    <tr>\n",
       "      <th>15</th>\n",
       "      <td>15_tax_revenu_polici_equilibrium_model</td>\n",
       "      <td>213.0</td>\n",
       "      <td>117</td>\n",
       "    </tr>\n",
       "    <tr>\n",
       "      <th>16</th>\n",
       "      <td>16_heat_pump_district_cool_boiler</td>\n",
       "      <td>272.0</td>\n",
       "      <td>94</td>\n",
       "    </tr>\n",
       "    <tr>\n",
       "      <th>17</th>\n",
       "      <td>17_intens_structur_consumpt_factor_growth</td>\n",
       "      <td>936.0</td>\n",
       "      <td>221</td>\n",
       "    </tr>\n",
       "    <tr>\n",
       "      <th>18</th>\n",
       "      <td>18_scenario_model_bau_refer_three</td>\n",
       "      <td>1428.0</td>\n",
       "      <td>553</td>\n",
       "    </tr>\n",
       "    <tr>\n",
       "      <th>19</th>\n",
       "      <td>19_wind_solar_capac_instal_photovolta</td>\n",
       "      <td>324.0</td>\n",
       "      <td>107</td>\n",
       "    </tr>\n",
       "    <tr>\n",
       "      <th>20</th>\n",
       "      <td>20_cost_abat_option_benefit_margin</td>\n",
       "      <td>761.0</td>\n",
       "      <td>229</td>\n",
       "    </tr>\n",
       "    <tr>\n",
       "      <th>21</th>\n",
       "      <td>21_coal_fire_plant_natur_phase</td>\n",
       "      <td>360.0</td>\n",
       "      <td>126</td>\n",
       "    </tr>\n",
       "    <tr>\n",
       "      <th>22</th>\n",
       "      <td>22_nuclear_plant_power_mix_new</td>\n",
       "      <td>160.0</td>\n",
       "      <td>87</td>\n",
       "    </tr>\n",
       "    <tr>\n",
       "      <th>23</th>\n",
       "      <td>23_fuel_fossil_diesel_altern_biofuel</td>\n",
       "      <td>586.0</td>\n",
       "      <td>157</td>\n",
       "    </tr>\n",
       "    <tr>\n",
       "      <th>24</th>\n",
       "      <td>24_renew_energi_sourc_share_res</td>\n",
       "      <td>540.0</td>\n",
       "      <td>359</td>\n",
       "    </tr>\n",
       "    <tr>\n",
       "      <th>25</th>\n",
       "      <td>25_flood_risk_coastal_sea_disast</td>\n",
       "      <td>284.0</td>\n",
       "      <td>127</td>\n",
       "    </tr>\n",
       "    <tr>\n",
       "      <th>26</th>\n",
       "      <td>26_technolog_advanc_deploy_low_clean</td>\n",
       "      <td>421.0</td>\n",
       "      <td>168</td>\n",
       "    </tr>\n",
       "    <tr>\n",
       "      <th>27</th>\n",
       "      <td>27_biomass_bioenergi_biofuel_residu_wood</td>\n",
       "      <td>345.0</td>\n",
       "      <td>160</td>\n",
       "    </tr>\n",
       "    <tr>\n",
       "      <th>28</th>\n",
       "      <td>28_urban_citi_area_popul_develop</td>\n",
       "      <td>331.0</td>\n",
       "      <td>197</td>\n",
       "    </tr>\n",
       "    <tr>\n",
       "      <th>29</th>\n",
       "      <td>29_hydrogen_cell_chain_produc_product</td>\n",
       "      <td>94.0</td>\n",
       "      <td>60</td>\n",
       "    </tr>\n",
       "    <tr>\n",
       "      <th>30</th>\n",
       "      <td>30_price_et_market_trade_polici</td>\n",
       "      <td>419.0</td>\n",
       "      <td>241</td>\n",
       "    </tr>\n",
       "    <tr>\n",
       "      <th>31</th>\n",
       "      <td>31_drought_precipit_sever_frequenc_index</td>\n",
       "      <td>89.0</td>\n",
       "      <td>39</td>\n",
       "    </tr>\n",
       "    <tr>\n",
       "      <th>32</th>\n",
       "      <td>32_crop_yield_soil_wheat_fertil</td>\n",
       "      <td>302.0</td>\n",
       "      <td>113</td>\n",
       "    </tr>\n",
       "    <tr>\n",
       "      <th>33</th>\n",
       "      <td>33_peak_around_reach_earlier_non</td>\n",
       "      <td>173.0</td>\n",
       "      <td>65</td>\n",
       "    </tr>\n",
       "    <tr>\n",
       "      <th>34</th>\n",
       "      <td>34_oil_product_crude_natur_export</td>\n",
       "      <td>200.0</td>\n",
       "      <td>72</td>\n",
       "    </tr>\n",
       "    <tr>\n",
       "      <th>35</th>\n",
       "      <td>35_land_use_soil_area_chang</td>\n",
       "      <td>420.0</td>\n",
       "      <td>253</td>\n",
       "    </tr>\n",
       "    <tr>\n",
       "      <th>36</th>\n",
       "      <td>36_target_achiev_indc_meet_ndc</td>\n",
       "      <td>706.0</td>\n",
       "      <td>200</td>\n",
       "    </tr>\n",
       "    <tr>\n",
       "      <th>37</th>\n",
       "      <td>37_wast_landfil_solid_municip_treatment</td>\n",
       "      <td>222.0</td>\n",
       "      <td>73</td>\n",
       "    </tr>\n",
       "    <tr>\n",
       "      <th>38</th>\n",
       "      <td>38_system_model_transit_integr_pathway</td>\n",
       "      <td>543.0</td>\n",
       "      <td>339</td>\n",
       "    </tr>\n",
       "  </tbody>\n",
       "</table>\n",
       "</div>"
      ],
      "text/plain": [
       "                                        topic  seuil_0.02  checked_topic_count\n",
       "0        0_energi_effici_consumpt_save_demand      1732.0                 1018\n",
       "1     1_climat_chang_temperatur_futur_project      2000.0                 1038\n",
       "2          2_power_generat_plant_sector_capac       797.0                  416\n",
       "3           3_vehicl_fleet_car_hybrid_passeng       387.0                  227\n",
       "4    4_industri_cement_sector_product_process       497.0                  301\n",
       "5           5_forest_sequestr_wood_sink_stock       314.0                  188\n",
       "6            6_steel_iron_product_materi_save       105.0                   70\n",
       "7    7_build_residenti_stock_sector_construct       356.0                  180\n",
       "8           8_water_resourc_basin_river_irrig       291.0                  133\n",
       "9             9_air_pollut_pm2_qualiti_health       674.0                  252\n",
       "10       10_electr_generat_demand_grid_suppli       904.0                  471\n",
       "11          11_ccs_storag_captur_geolog_plant       251.0                  127\n",
       "12   12_transport_sector_road_passeng_freight       567.0                  298\n",
       "13       13_polici_develop_econom_countri_use      4687.0                 1324\n",
       "14  14_agricultur_food_product_livestock_farm       351.0                  188\n",
       "15     15_tax_revenu_polici_equilibrium_model       213.0                  117\n",
       "16          16_heat_pump_district_cool_boiler       272.0                   94\n",
       "17  17_intens_structur_consumpt_factor_growth       936.0                  221\n",
       "18          18_scenario_model_bau_refer_three      1428.0                  553\n",
       "19      19_wind_solar_capac_instal_photovolta       324.0                  107\n",
       "20         20_cost_abat_option_benefit_margin       761.0                  229\n",
       "21             21_coal_fire_plant_natur_phase       360.0                  126\n",
       "22             22_nuclear_plant_power_mix_new       160.0                   87\n",
       "23       23_fuel_fossil_diesel_altern_biofuel       586.0                  157\n",
       "24            24_renew_energi_sourc_share_res       540.0                  359\n",
       "25           25_flood_risk_coastal_sea_disast       284.0                  127\n",
       "26       26_technolog_advanc_deploy_low_clean       421.0                  168\n",
       "27   27_biomass_bioenergi_biofuel_residu_wood       345.0                  160\n",
       "28           28_urban_citi_area_popul_develop       331.0                  197\n",
       "29      29_hydrogen_cell_chain_produc_product        94.0                   60\n",
       "30            30_price_et_market_trade_polici       419.0                  241\n",
       "31   31_drought_precipit_sever_frequenc_index        89.0                   39\n",
       "32            32_crop_yield_soil_wheat_fertil       302.0                  113\n",
       "33           33_peak_around_reach_earlier_non       173.0                   65\n",
       "34          34_oil_product_crude_natur_export       200.0                   72\n",
       "35                35_land_use_soil_area_chang       420.0                  253\n",
       "36             36_target_achiev_indc_meet_ndc       706.0                  200\n",
       "37    37_wast_landfil_solid_municip_treatment       222.0                   73\n",
       "38     38_system_model_transit_integr_pathway       543.0                  339"
      ]
     },
     "execution_count": 27,
     "metadata": {},
     "output_type": "execute_result"
    }
   ],
   "source": [
    "tab"
   ]
  },
  {
   "cell_type": "code",
   "execution_count": 28,
   "metadata": {},
   "outputs": [],
   "source": [
    "tab.to_csv(\"./output/Table_topics_count.csv\",index=False)"
   ]
  },
  {
   "cell_type": "markdown",
   "metadata": {},
   "source": [
    "### How many topics characterize how many papers"
   ]
  },
  {
   "cell_type": "code",
   "execution_count": 29,
   "metadata": {},
   "outputs": [],
   "source": [
    "checked_title_count = pd.DataFrame(df_sort['title'].value_counts(), columns = ['title'])\n",
    "checked_title_count.rename(columns ={'title': \"title_count\"}, inplace=True)\n",
    "checked_title_count.reset_index(inplace = True)"
   ]
  },
  {
   "cell_type": "code",
   "execution_count": 30,
   "metadata": {},
   "outputs": [],
   "source": [
    "number_papers = pd.DataFrame(checked_title_count['title_count'].value_counts(), columns = ['title_count'])\n",
    "number_papers.loc['Total'] = number_papers.sum() "
   ]
  },
  {
   "cell_type": "code",
   "execution_count": 31,
   "metadata": {},
   "outputs": [
    {
     "data": {
      "text/html": [
       "<div>\n",
       "<style scoped>\n",
       "    .dataframe tbody tr th:only-of-type {\n",
       "        vertical-align: middle;\n",
       "    }\n",
       "\n",
       "    .dataframe tbody tr th {\n",
       "        vertical-align: top;\n",
       "    }\n",
       "\n",
       "    .dataframe thead th {\n",
       "        text-align: right;\n",
       "    }\n",
       "</style>\n",
       "<table border=\"1\" class=\"dataframe\">\n",
       "  <thead>\n",
       "    <tr style=\"text-align: right;\">\n",
       "      <th></th>\n",
       "      <th>title_count</th>\n",
       "    </tr>\n",
       "  </thead>\n",
       "  <tbody>\n",
       "    <tr>\n",
       "      <th>2</th>\n",
       "      <td>1410</td>\n",
       "    </tr>\n",
       "    <tr>\n",
       "      <th>1</th>\n",
       "      <td>1104</td>\n",
       "    </tr>\n",
       "    <tr>\n",
       "      <th>3</th>\n",
       "      <td>1050</td>\n",
       "    </tr>\n",
       "    <tr>\n",
       "      <th>4</th>\n",
       "      <td>539</td>\n",
       "    </tr>\n",
       "    <tr>\n",
       "      <th>5</th>\n",
       "      <td>177</td>\n",
       "    </tr>\n",
       "    <tr>\n",
       "      <th>6</th>\n",
       "      <td>37</td>\n",
       "    </tr>\n",
       "    <tr>\n",
       "      <th>7</th>\n",
       "      <td>5</td>\n",
       "    </tr>\n",
       "    <tr>\n",
       "      <th>8</th>\n",
       "      <td>2</td>\n",
       "    </tr>\n",
       "    <tr>\n",
       "      <th>Total</th>\n",
       "      <td>4324</td>\n",
       "    </tr>\n",
       "  </tbody>\n",
       "</table>\n",
       "</div>"
      ],
      "text/plain": [
       "       title_count\n",
       "2             1410\n",
       "1             1104\n",
       "3             1050\n",
       "4              539\n",
       "5              177\n",
       "6               37\n",
       "7                5\n",
       "8                2\n",
       "Total         4324"
      ]
     },
     "execution_count": 31,
     "metadata": {},
     "output_type": "execute_result"
    }
   ],
   "source": [
    "number_papers"
   ]
  },
  {
   "cell_type": "markdown",
   "metadata": {},
   "source": [
    "### Add topics attribution with title check to the main database"
   ]
  },
  {
   "cell_type": "code",
   "execution_count": 32,
   "metadata": {},
   "outputs": [],
   "source": [
    "column_topics.append('Total_topics_in_paper')"
   ]
  },
  {
   "cell_type": "code",
   "execution_count": 33,
   "metadata": {},
   "outputs": [],
   "source": [
    "topics = pd.crosstab(df_sort.title, df_sort.topic_charact)\n",
    "topics =topics.reindex(columns= column_topics, fill_value=0)\n",
    "topics.loc['Total',:]= topics.sum(axis=0)\n",
    "topics.loc[:,'Total_topics_in_paper'] = topics.sum(axis=1)"
   ]
  },
  {
   "cell_type": "code",
   "execution_count": 34,
   "metadata": {},
   "outputs": [],
   "source": [
    "df = df.reindex(columns= np.append(df.columns,column_topics), fill_value=0)"
   ]
  },
  {
   "cell_type": "code",
   "execution_count": 35,
   "metadata": {},
   "outputs": [],
   "source": [
    "df.set_index('title', inplace = True)"
   ]
  },
  {
   "cell_type": "code",
   "execution_count": 36,
   "metadata": {},
   "outputs": [],
   "source": [
    "df.update(topics)"
   ]
  },
  {
   "cell_type": "code",
   "execution_count": 37,
   "metadata": {},
   "outputs": [],
   "source": [
    "df.reset_index(0, inplace = True)"
   ]
  },
  {
   "cell_type": "code",
   "execution_count": 38,
   "metadata": {},
   "outputs": [],
   "source": [
    "df.to_csv('./output/database_titre_seuil0.02.csv',index=False)"
   ]
  }
 ],
 "metadata": {
  "kernelspec": {
   "display_name": "Python 3",
   "language": "python",
   "name": "python3"
  },
  "language_info": {
   "codemirror_mode": {
    "name": "ipython",
    "version": 3
   },
   "file_extension": ".py",
   "mimetype": "text/x-python",
   "name": "python",
   "nbconvert_exporter": "python",
   "pygments_lexer": "ipython3",
   "version": "3.7.0"
  }
 },
 "nbformat": 4,
 "nbformat_minor": 2
}
