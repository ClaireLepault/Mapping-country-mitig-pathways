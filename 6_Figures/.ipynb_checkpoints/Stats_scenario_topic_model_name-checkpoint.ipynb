{
 "cells": [
  {
   "cell_type": "code",
   "execution_count": 17,
   "metadata": {},
   "outputs": [],
   "source": [
    "list.of.packages <- c(\"ggpubr\",\"RColorBrewer\",\"extrafont\",\"hrbrthemes\",\"tidyverse\",\"stargazer\",\"dplyr\",\"ggplot2\",\"readxl\")\n",
    "new.packages <- list.of.packages[!(list.of.packages %in% installed.packages()[,\"Package\"])]\n",
    "if(length(new.packages)) install.packages(new.packages, repos = \"http://cran.us.r-project.org\")\n",
    "\n",
    "invisible(lapply(list.of.packages, library, character.only = TRUE))\n",
    "\n",
    "select <- dplyr::select\n",
    "\n",
    "options(repr.matrix.max.rows=50, repr.matrix.max.cols=500) "
   ]
  },
  {
   "cell_type": "markdown",
   "metadata": {},
   "source": [
    "### Download classification database"
   ]
  },
  {
   "cell_type": "code",
   "execution_count": 18,
   "metadata": {},
   "outputs": [
    {
     "name": "stderr",
     "output_type": "stream",
     "text": [
      "New names:\n",
      "* `` -> ...1\n",
      "\n"
     ]
    },
    {
     "data": {
      "text/html": [
       "'4691 x 55 dataframe'"
      ],
      "text/latex": [
       "'4691 x 55 dataframe'"
      ],
      "text/markdown": [
       "'4691 x 55 dataframe'"
      ],
      "text/plain": [
       "[1] \"4691 x 55 dataframe\""
      ]
     },
     "metadata": {},
     "output_type": "display_data"
    }
   ],
   "source": [
    "df_class <- read_excel(\"../3_Topic_modeling/database_seuil_0.02.xlsx\")\n",
    "sprintf(\"%i x %i dataframe\", nrow(df_class), ncol(df_class))"
   ]
  },
  {
   "cell_type": "code",
   "execution_count": 19,
   "metadata": {},
   "outputs": [],
   "source": [
    "df_class <- df_class %>% \n",
    "            select(title, 16:54)"
   ]
  },
  {
   "cell_type": "markdown",
   "metadata": {},
   "source": [
    "### Add classification to multi rows database"
   ]
  },
  {
   "cell_type": "code",
   "execution_count": 20,
   "metadata": {},
   "outputs": [
    {
     "name": "stderr",
     "output_type": "stream",
     "text": [
      "New names:\n",
      "* `` -> ...1\n",
      "\n"
     ]
    },
    {
     "data": {
      "text/html": [
       "'4963 x 16 dataframe'"
      ],
      "text/latex": [
       "'4963 x 16 dataframe'"
      ],
      "text/markdown": [
       "'4963 x 16 dataframe'"
      ],
      "text/plain": [
       "[1] \"4963 x 16 dataframe\""
      ]
     },
     "metadata": {},
     "output_type": "display_data"
    }
   ],
   "source": [
    "path <- \"../2_Treatment_database_Revised_Updated/database_multi_rows_each_paper_models.xlsx\"\n",
    "df <- read_excel(path)\n",
    "sprintf(\"%i x %i dataframe\", nrow(df), ncol(df))"
   ]
  },
  {
   "cell_type": "code",
   "execution_count": 21,
   "metadata": {},
   "outputs": [
    {
     "data": {
      "text/html": [
       "842"
      ],
      "text/latex": [
       "842"
      ],
      "text/markdown": [
       "842"
      ],
      "text/plain": [
       "[1] 842"
      ]
     },
     "metadata": {},
     "output_type": "display_data"
    }
   ],
   "source": [
    "nrow(subset(df,!is.na(model)))"
   ]
  },
  {
   "cell_type": "code",
   "execution_count": 22,
   "metadata": {},
   "outputs": [
    {
     "name": "stderr",
     "output_type": "stream",
     "text": [
      "New names:\n",
      "* `` -> ...1\n",
      "\n"
     ]
    },
    {
     "data": {
      "text/html": [
       "'4691 x 16 dataframe'"
      ],
      "text/latex": [
       "'4691 x 16 dataframe'"
      ],
      "text/markdown": [
       "'4691 x 16 dataframe'"
      ],
      "text/plain": [
       "[1] \"4691 x 16 dataframe\""
      ]
     },
     "metadata": {},
     "output_type": "display_data"
    },
    {
     "data": {
      "text/html": [
       "734"
      ],
      "text/latex": [
       "734"
      ],
      "text/markdown": [
       "734"
      ],
      "text/plain": [
       "[1] 734"
      ]
     },
     "metadata": {},
     "output_type": "display_data"
    }
   ],
   "source": [
    "path <- \"../2_Treatment_database_Revised_Updated/database_one_row_each_paper_models.xlsx\"\n",
    "df_one <- read_excel(path)\n",
    "sprintf(\"%i x %i dataframe\", nrow(df_one), ncol(df_one))\n",
    "nrow(subset(df_one,!is.na(model)))"
   ]
  },
  {
   "cell_type": "code",
   "execution_count": 23,
   "metadata": {},
   "outputs": [
    {
     "data": {
      "text/html": [
       "'4963 x 55 dataframe'"
      ],
      "text/latex": [
       "'4963 x 55 dataframe'"
      ],
      "text/markdown": [
       "'4963 x 55 dataframe'"
      ],
      "text/plain": [
       "[1] \"4963 x 55 dataframe\""
      ]
     },
     "metadata": {},
     "output_type": "display_data"
    }
   ],
   "source": [
    "df <- df %>%\n",
    "        left_join(df_class,by=\"title\")\n",
    "sprintf(\"%i x %i dataframe\", nrow(df), ncol(df))"
   ]
  },
  {
   "cell_type": "markdown",
   "metadata": {},
   "source": [
    "### Table with final topics names"
   ]
  },
  {
   "cell_type": "code",
   "execution_count": 24,
   "metadata": {},
   "outputs": [
    {
     "data": {
      "text/html": [
       "'39 x 8 dataframe'"
      ],
      "text/latex": [
       "'39 x 8 dataframe'"
      ],
      "text/markdown": [
       "'39 x 8 dataframe'"
      ],
      "text/plain": [
       "[1] \"39 x 8 dataframe\""
      ]
     },
     "metadata": {},
     "output_type": "display_data"
    }
   ],
   "source": [
    "topics_table <- read_excel(\"../3_Topic_modeling/Table_topics.xlsx\")\n",
    "sprintf(\"%i x %i dataframe\", nrow(topics_table), ncol(topics_table))"
   ]
  },
  {
   "cell_type": "markdown",
   "metadata": {},
   "source": [
    "#### List of topics with initial apparition order"
   ]
  },
  {
   "cell_type": "code",
   "execution_count": 25,
   "metadata": {},
   "outputs": [],
   "source": [
    "topics_list_ini <- as.character(topics_table$Name)"
   ]
  },
  {
   "cell_type": "markdown",
   "metadata": {},
   "source": [
    "#### List of topics ordered by descending topic representation"
   ]
  },
  {
   "cell_type": "code",
   "execution_count": 26,
   "metadata": {},
   "outputs": [],
   "source": [
    "topics_table_ordered <- topics_table %>% \n",
    "                                arrange(desc(T0.02))"
   ]
  },
  {
   "cell_type": "code",
   "execution_count": 27,
   "metadata": {},
   "outputs": [],
   "source": [
    "topics_list <- as.character(topics_table_ordered$Name)"
   ]
  },
  {
   "cell_type": "code",
   "execution_count": 28,
   "metadata": {},
   "outputs": [
    {
     "data": {
      "text/html": [
       "<table>\n",
       "<caption>A tibble: 2 × 44</caption>\n",
       "<thead>\n",
       "\t<tr><th scope=col>Country</th><th scope=col>Region</th><th scope=col>title</th><th scope=col>abstract</th><th scope=col>model</th><th scope=col>Energy efficiency</th><th scope=col>Climate change</th><th scope=col>Power</th><th scope=col>Vehicle</th><th scope=col>Cement</th><th scope=col>Forest</th><th scope=col>Steel/Iron</th><th scope=col>Buildings</th><th scope=col>Water</th><th scope=col>Air Pollution</th><th scope=col>Electricity</th><th scope=col>CCS</th><th scope=col>Transport</th><th scope=col>Policy-Dvlpt-Eco</th><th scope=col>Agriculture</th><th scope=col>Tax</th><th scope=col>Heat Pump</th><th scope=col>Consumption</th><th scope=col>Scenario</th><th scope=col>Wind/Solar</th><th scope=col>Costs</th><th scope=col>Coal</th><th scope=col>Nuclear</th><th scope=col>Fuel</th><th scope=col>Renewable Energies</th><th scope=col>Flood Risk</th><th scope=col>Technology</th><th scope=col>Bioenergy</th><th scope=col>Urban</th><th scope=col>Hydrogen</th><th scope=col>Permit market</th><th scope=col>Drought</th><th scope=col>Crop yield</th><th scope=col>Peak</th><th scope=col>Oil</th><th scope=col>Land Use</th><th scope=col>Target/INDC</th><th scope=col>Waste</th><th scope=col>System</th></tr>\n",
       "\t<tr><th scope=col>&lt;chr&gt;</th><th scope=col>&lt;chr&gt;</th><th scope=col>&lt;chr&gt;</th><th scope=col>&lt;chr&gt;</th><th scope=col>&lt;chr&gt;</th><th scope=col>&lt;dbl&gt;</th><th scope=col>&lt;dbl&gt;</th><th scope=col>&lt;dbl&gt;</th><th scope=col>&lt;dbl&gt;</th><th scope=col>&lt;dbl&gt;</th><th scope=col>&lt;dbl&gt;</th><th scope=col>&lt;dbl&gt;</th><th scope=col>&lt;dbl&gt;</th><th scope=col>&lt;dbl&gt;</th><th scope=col>&lt;dbl&gt;</th><th scope=col>&lt;dbl&gt;</th><th scope=col>&lt;dbl&gt;</th><th scope=col>&lt;dbl&gt;</th><th scope=col>&lt;dbl&gt;</th><th scope=col>&lt;dbl&gt;</th><th scope=col>&lt;dbl&gt;</th><th scope=col>&lt;dbl&gt;</th><th scope=col>&lt;dbl&gt;</th><th scope=col>&lt;dbl&gt;</th><th scope=col>&lt;dbl&gt;</th><th scope=col>&lt;dbl&gt;</th><th scope=col>&lt;dbl&gt;</th><th scope=col>&lt;dbl&gt;</th><th scope=col>&lt;dbl&gt;</th><th scope=col>&lt;dbl&gt;</th><th scope=col>&lt;dbl&gt;</th><th scope=col>&lt;dbl&gt;</th><th scope=col>&lt;dbl&gt;</th><th scope=col>&lt;dbl&gt;</th><th scope=col>&lt;dbl&gt;</th><th scope=col>&lt;dbl&gt;</th><th scope=col>&lt;dbl&gt;</th><th scope=col>&lt;dbl&gt;</th><th scope=col>&lt;dbl&gt;</th><th scope=col>&lt;dbl&gt;</th><th scope=col>&lt;dbl&gt;</th><th scope=col>&lt;dbl&gt;</th><th scope=col>&lt;dbl&gt;</th><th scope=col>&lt;dbl&gt;</th></tr>\n",
       "</thead>\n",
       "<tbody>\n",
       "\t<tr><td>Afghanistan</td><td><span style=white-space:pre-wrap>Asia  </span></td><td><span style=white-space:pre-wrap>The renewable energy sector in Afghanistan: Policy and potential                                                           </span></td><td>Afghanistan has one of the lowest rates of access to and usage of electricity in the world. Fuelwood, charcoal, agricultural, and animal waste still dominate in meeting energy needs for cooking and heating, with a large percentage of the population using kerosene, candles, and gas for lighting. Yet the situation has changed significantly since the U.S. and coalition combat operations that began at the end of 2001. The period through to the present day has seen a fivefold increase in the electrification rate; agreements with Central Asian countries and Iran for importing electricity; the implementation of thousands of small-scale renewable energy projects in rural areas; the development and rehabilitation of several large-scale energy projects; the (partial) development of the institutional, policy, and regulatory landscape; and the expansion of transmission lines and distribution networks. Although accurate information is scarce, Afghanistan has both substantial fossil fuel reserves and renewable energy potential. The country's wind power potential alone looks likely to exceed projected power demand for several decades ahead. Similarly, both the estimated hydropower and solar photovoltaic (PV) potential each exceed projected 2032 power demand. The institutional context of the Afghanistan energy sector is complex, comprising multiple ministries, government agencies, aid agencies, and intergovernmental organizations. Nonetheless, given suitable coordination, the technologies, natural resources, and capabilities are available for transforming the sector and the lives of many people. This article is categorized under: Energy Infrastructure &gt; Climate and Environment Energy Policy and Planning &gt; Economics and Policy Energy Policy and Planning &gt; Systems and Infrastructure</td><td>NA</td><td>1</td><td>1</td><td>1</td><td>0</td><td>0</td><td>0</td><td>0</td><td>0</td><td>0</td><td>0</td><td>0</td><td>0</td><td>0</td><td>1</td><td>0</td><td>0</td><td>0</td><td>0</td><td>0</td><td>1</td><td>0</td><td>0</td><td>0</td><td>0</td><td>0</td><td>0</td><td>0</td><td>0</td><td>0</td><td>0</td><td>0</td><td>0</td><td>0</td><td>0</td><td>0</td><td>0</td><td>0</td><td>0</td><td>0</td></tr>\n",
       "\t<tr><td>Angola     </td><td>Africa</td><td>Determinación del Potencial energético de los Residuos Sólidos Urbanos en tres municipios de la provincia de Luanda. Angola</td><td>The biological conversion of the Urban Solid Residuals (USR) for energy purposesshe comes winning importance every day, once the urban residuals became considered a source of alternative energy. To foresee the generation of resulting biogas of the process of biological decomposition of the solid residuals of organic origin in the sanitary fillers is fundamental to estimate the energy and economic balance of facilities of recovery of gas. For the appropriate determination of the potential of generation of gases you employment the calculation methodology presented by the Agency of Environmental Protection of United States. In this context, the objective of this article is to quantify the potential of electric power generation coming from the gas methane originating of the Urban Solid Residuals of the municipalities Belas, Cacuaco and Viana of the County of Luanda in Angola. The available energy power was determined annually of the three municipalities. The instinct demonstrates that the biogas flow arrives at the maximum level and it possesses the maximum available Power in the year 2037, obtaining stops the municipalities Belas, Cacuaco and Viana 3330 · 103, 1206.13 · 103 and 2809.23 · 103m³/year of profitable methane respectively whose calculated energy potential was respectively of 2316.52, 1358.88 and 3165,02 kW. The carried out calculations not allow alone to evaluate the energy potential of the filler, but also to evaluate, in certain way, the environmental impact for the mitigation of emissions of gases of effect hothouse.                                                                                                                                                                                                                                                  </td><td>NA</td><td>1</td><td>0</td><td>1</td><td>0</td><td>0</td><td>0</td><td>0</td><td>0</td><td>0</td><td>0</td><td>1</td><td>0</td><td>0</td><td>1</td><td>0</td><td>0</td><td>0</td><td>0</td><td>0</td><td>0</td><td>0</td><td>0</td><td>0</td><td>0</td><td>0</td><td>0</td><td>0</td><td>1</td><td>1</td><td>0</td><td>0</td><td>0</td><td>0</td><td>0</td><td>0</td><td>0</td><td>0</td><td>1</td><td>0</td></tr>\n",
       "</tbody>\n",
       "</table>\n"
      ],
      "text/latex": [
       "A tibble: 2 × 44\n",
       "\\begin{tabular}{llllllllllllllllllllllllllllllllllllllllllll}\n",
       " Country & Region & title & abstract & model & Energy efficiency & Climate change & Power & Vehicle & Cement & Forest & Steel/Iron & Buildings & Water & Air Pollution & Electricity & CCS & Transport & Policy-Dvlpt-Eco & Agriculture & Tax & Heat Pump & Consumption & Scenario & Wind/Solar & Costs & Coal & Nuclear & Fuel & Renewable Energies & Flood Risk & Technology & Bioenergy & Urban & Hydrogen & Permit market & Drought & Crop yield & Peak & Oil & Land Use & Target/INDC & Waste & System\\\\\n",
       " <chr> & <chr> & <chr> & <chr> & <chr> & <dbl> & <dbl> & <dbl> & <dbl> & <dbl> & <dbl> & <dbl> & <dbl> & <dbl> & <dbl> & <dbl> & <dbl> & <dbl> & <dbl> & <dbl> & <dbl> & <dbl> & <dbl> & <dbl> & <dbl> & <dbl> & <dbl> & <dbl> & <dbl> & <dbl> & <dbl> & <dbl> & <dbl> & <dbl> & <dbl> & <dbl> & <dbl> & <dbl> & <dbl> & <dbl> & <dbl> & <dbl> & <dbl> & <dbl>\\\\\n",
       "\\hline\n",
       "\t Afghanistan & Asia   & The renewable energy sector in Afghanistan: Policy and potential                                                            & Afghanistan has one of the lowest rates of access to and usage of electricity in the world. Fuelwood, charcoal, agricultural, and animal waste still dominate in meeting energy needs for cooking and heating, with a large percentage of the population using kerosene, candles, and gas for lighting. Yet the situation has changed significantly since the U.S. and coalition combat operations that began at the end of 2001. The period through to the present day has seen a fivefold increase in the electrification rate; agreements with Central Asian countries and Iran for importing electricity; the implementation of thousands of small-scale renewable energy projects in rural areas; the development and rehabilitation of several large-scale energy projects; the (partial) development of the institutional, policy, and regulatory landscape; and the expansion of transmission lines and distribution networks. Although accurate information is scarce, Afghanistan has both substantial fossil fuel reserves and renewable energy potential. The country's wind power potential alone looks likely to exceed projected power demand for several decades ahead. Similarly, both the estimated hydropower and solar photovoltaic (PV) potential each exceed projected 2032 power demand. The institutional context of the Afghanistan energy sector is complex, comprising multiple ministries, government agencies, aid agencies, and intergovernmental organizations. Nonetheless, given suitable coordination, the technologies, natural resources, and capabilities are available for transforming the sector and the lives of many people. This article is categorized under: Energy Infrastructure > Climate and Environment Energy Policy and Planning > Economics and Policy Energy Policy and Planning > Systems and Infrastructure & NA & 1 & 1 & 1 & 0 & 0 & 0 & 0 & 0 & 0 & 0 & 0 & 0 & 0 & 1 & 0 & 0 & 0 & 0 & 0 & 1 & 0 & 0 & 0 & 0 & 0 & 0 & 0 & 0 & 0 & 0 & 0 & 0 & 0 & 0 & 0 & 0 & 0 & 0 & 0\\\\\n",
       "\t Angola      & Africa & Determinación del Potencial energético de los Residuos Sólidos Urbanos en tres municipios de la provincia de Luanda. Angola & The biological conversion of the Urban Solid Residuals (USR) for energy purposesshe comes winning importance every day, once the urban residuals became considered a source of alternative energy. To foresee the generation of resulting biogas of the process of biological decomposition of the solid residuals of organic origin in the sanitary fillers is fundamental to estimate the energy and economic balance of facilities of recovery of gas. For the appropriate determination of the potential of generation of gases you employment the calculation methodology presented by the Agency of Environmental Protection of United States. In this context, the objective of this article is to quantify the potential of electric power generation coming from the gas methane originating of the Urban Solid Residuals of the municipalities Belas, Cacuaco and Viana of the County of Luanda in Angola. The available energy power was determined annually of the three municipalities. The instinct demonstrates that the biogas flow arrives at the maximum level and it possesses the maximum available Power in the year 2037, obtaining stops the municipalities Belas, Cacuaco and Viana 3330 · 103, 1206.13 · 103 and 2809.23 · 103m³/year of profitable methane respectively whose calculated energy potential was respectively of 2316.52, 1358.88 and 3165,02 kW. The carried out calculations not allow alone to evaluate the energy potential of the filler, but also to evaluate, in certain way, the environmental impact for the mitigation of emissions of gases of effect hothouse.                                                                                                                                                                                                                                                   & NA & 1 & 0 & 1 & 0 & 0 & 0 & 0 & 0 & 0 & 0 & 1 & 0 & 0 & 1 & 0 & 0 & 0 & 0 & 0 & 0 & 0 & 0 & 0 & 0 & 0 & 0 & 0 & 1 & 1 & 0 & 0 & 0 & 0 & 0 & 0 & 0 & 0 & 1 & 0\\\\\n",
       "\\end{tabular}\n"
      ],
      "text/markdown": [
       "\n",
       "A tibble: 2 × 44\n",
       "\n",
       "| Country &lt;chr&gt; | Region &lt;chr&gt; | title &lt;chr&gt; | abstract &lt;chr&gt; | model &lt;chr&gt; | Energy efficiency &lt;dbl&gt; | Climate change &lt;dbl&gt; | Power &lt;dbl&gt; | Vehicle &lt;dbl&gt; | Cement &lt;dbl&gt; | Forest &lt;dbl&gt; | Steel/Iron &lt;dbl&gt; | Buildings &lt;dbl&gt; | Water &lt;dbl&gt; | Air Pollution &lt;dbl&gt; | Electricity &lt;dbl&gt; | CCS &lt;dbl&gt; | Transport &lt;dbl&gt; | Policy-Dvlpt-Eco &lt;dbl&gt; | Agriculture &lt;dbl&gt; | Tax &lt;dbl&gt; | Heat Pump &lt;dbl&gt; | Consumption &lt;dbl&gt; | Scenario &lt;dbl&gt; | Wind/Solar &lt;dbl&gt; | Costs &lt;dbl&gt; | Coal &lt;dbl&gt; | Nuclear &lt;dbl&gt; | Fuel &lt;dbl&gt; | Renewable Energies &lt;dbl&gt; | Flood Risk &lt;dbl&gt; | Technology &lt;dbl&gt; | Bioenergy &lt;dbl&gt; | Urban &lt;dbl&gt; | Hydrogen &lt;dbl&gt; | Permit market &lt;dbl&gt; | Drought &lt;dbl&gt; | Crop yield &lt;dbl&gt; | Peak &lt;dbl&gt; | Oil &lt;dbl&gt; | Land Use &lt;dbl&gt; | Target/INDC &lt;dbl&gt; | Waste &lt;dbl&gt; | System &lt;dbl&gt; |\n",
       "|---|---|---|---|---|---|---|---|---|---|---|---|---|---|---|---|---|---|---|---|---|---|---|---|---|---|---|---|---|---|---|---|---|---|---|---|---|---|---|---|---|---|---|---|\n",
       "| Afghanistan | Asia   | The renewable energy sector in Afghanistan: Policy and potential                                                            | Afghanistan has one of the lowest rates of access to and usage of electricity in the world. Fuelwood, charcoal, agricultural, and animal waste still dominate in meeting energy needs for cooking and heating, with a large percentage of the population using kerosene, candles, and gas for lighting. Yet the situation has changed significantly since the U.S. and coalition combat operations that began at the end of 2001. The period through to the present day has seen a fivefold increase in the electrification rate; agreements with Central Asian countries and Iran for importing electricity; the implementation of thousands of small-scale renewable energy projects in rural areas; the development and rehabilitation of several large-scale energy projects; the (partial) development of the institutional, policy, and regulatory landscape; and the expansion of transmission lines and distribution networks. Although accurate information is scarce, Afghanistan has both substantial fossil fuel reserves and renewable energy potential. The country's wind power potential alone looks likely to exceed projected power demand for several decades ahead. Similarly, both the estimated hydropower and solar photovoltaic (PV) potential each exceed projected 2032 power demand. The institutional context of the Afghanistan energy sector is complex, comprising multiple ministries, government agencies, aid agencies, and intergovernmental organizations. Nonetheless, given suitable coordination, the technologies, natural resources, and capabilities are available for transforming the sector and the lives of many people. This article is categorized under: Energy Infrastructure &gt; Climate and Environment Energy Policy and Planning &gt; Economics and Policy Energy Policy and Planning &gt; Systems and Infrastructure | NA | 1 | 1 | 1 | 0 | 0 | 0 | 0 | 0 | 0 | 0 | 0 | 0 | 0 | 1 | 0 | 0 | 0 | 0 | 0 | 1 | 0 | 0 | 0 | 0 | 0 | 0 | 0 | 0 | 0 | 0 | 0 | 0 | 0 | 0 | 0 | 0 | 0 | 0 | 0 |\n",
       "| Angola      | Africa | Determinación del Potencial energético de los Residuos Sólidos Urbanos en tres municipios de la provincia de Luanda. Angola | The biological conversion of the Urban Solid Residuals (USR) for energy purposesshe comes winning importance every day, once the urban residuals became considered a source of alternative energy. To foresee the generation of resulting biogas of the process of biological decomposition of the solid residuals of organic origin in the sanitary fillers is fundamental to estimate the energy and economic balance of facilities of recovery of gas. For the appropriate determination of the potential of generation of gases you employment the calculation methodology presented by the Agency of Environmental Protection of United States. In this context, the objective of this article is to quantify the potential of electric power generation coming from the gas methane originating of the Urban Solid Residuals of the municipalities Belas, Cacuaco and Viana of the County of Luanda in Angola. The available energy power was determined annually of the three municipalities. The instinct demonstrates that the biogas flow arrives at the maximum level and it possesses the maximum available Power in the year 2037, obtaining stops the municipalities Belas, Cacuaco and Viana 3330 · 103, 1206.13 · 103 and 2809.23 · 103m³/year of profitable methane respectively whose calculated energy potential was respectively of 2316.52, 1358.88 and 3165,02 kW. The carried out calculations not allow alone to evaluate the energy potential of the filler, but also to evaluate, in certain way, the environmental impact for the mitigation of emissions of gases of effect hothouse.                                                                                                                                                                                                                                                   | NA | 1 | 0 | 1 | 0 | 0 | 0 | 0 | 0 | 0 | 0 | 1 | 0 | 0 | 1 | 0 | 0 | 0 | 0 | 0 | 0 | 0 | 0 | 0 | 0 | 0 | 0 | 0 | 1 | 1 | 0 | 0 | 0 | 0 | 0 | 0 | 0 | 0 | 1 | 0 |\n",
       "\n"
      ],
      "text/plain": [
       "  Country     Region\n",
       "1 Afghanistan Asia  \n",
       "2 Angola      Africa\n",
       "  title                                                                                                                      \n",
       "1 The renewable energy sector in Afghanistan: Policy and potential                                                           \n",
       "2 Determinación del Potencial energético de los Residuos Sólidos Urbanos en tres municipios de la provincia de Luanda. Angola\n",
       "  abstract                                                                                                                                                                                                                                                                                                                                                                                                                                                                                                                                                                                                                                                                                                                                                                                                                                                                                                                                                                                                                                                                                                                                                                                                                                                                                                                                                                                                                                                                                                                                                                                                                                                                                                                                                                                                                                                           \n",
       "1 Afghanistan has one of the lowest rates of access to and usage of electricity in the world. Fuelwood, charcoal, agricultural, and animal waste still dominate in meeting energy needs for cooking and heating, with a large percentage of the population using kerosene, candles, and gas for lighting. Yet the situation has changed significantly since the U.S. and coalition combat operations that began at the end of 2001. The period through to the present day has seen a fivefold increase in the electrification rate; agreements with Central Asian countries and Iran for importing electricity; the implementation of thousands of small-scale renewable energy projects in rural areas; the development and rehabilitation of several large-scale energy projects; the (partial) development of the institutional, policy, and regulatory landscape; and the expansion of transmission lines and distribution networks. Although accurate information is scarce, Afghanistan has both substantial fossil fuel reserves and renewable energy potential. The country's wind power potential alone looks likely to exceed projected power demand for several decades ahead. Similarly, both the estimated hydropower and solar photovoltaic (PV) potential each exceed projected 2032 power demand. The institutional context of the Afghanistan energy sector is complex, comprising multiple ministries, government agencies, aid agencies, and intergovernmental organizations. Nonetheless, given suitable coordination, the technologies, natural resources, and capabilities are available for transforming the sector and the lives of many people. This article is categorized under: Energy Infrastructure > Climate and Environment Energy Policy and Planning > Economics and Policy Energy Policy and Planning > Systems and Infrastructure\n",
       "2 The biological conversion of the Urban Solid Residuals (USR) for energy purposesshe comes winning importance every day, once the urban residuals became considered a source of alternative energy. To foresee the generation of resulting biogas of the process of biological decomposition of the solid residuals of organic origin in the sanitary fillers is fundamental to estimate the energy and economic balance of facilities of recovery of gas. For the appropriate determination of the potential of generation of gases you employment the calculation methodology presented by the Agency of Environmental Protection of United States. In this context, the objective of this article is to quantify the potential of electric power generation coming from the gas methane originating of the Urban Solid Residuals of the municipalities Belas, Cacuaco and Viana of the County of Luanda in Angola. The available energy power was determined annually of the three municipalities. The instinct demonstrates that the biogas flow arrives at the maximum level and it possesses the maximum available Power in the year 2037, obtaining stops the municipalities Belas, Cacuaco and Viana 3330 · 103, 1206.13 · 103 and 2809.23 · 103m³/year of profitable methane respectively whose calculated energy potential was respectively of 2316.52, 1358.88 and 3165,02 kW. The carried out calculations not allow alone to evaluate the energy potential of the filler, but also to evaluate, in certain way, the environmental impact for the mitigation of emissions of gases of effect hothouse.                                                                                                                                                                                                                                                  \n",
       "  model Energy efficiency Climate change Power Vehicle Cement Forest Steel/Iron\n",
       "1 NA    1                 1              1     0       0      0      0         \n",
       "2 NA    1                 0              1     0       0      0      0         \n",
       "  Buildings Water Air Pollution Electricity CCS Transport Policy-Dvlpt-Eco\n",
       "1 0         0     0             0           0   0         1               \n",
       "2 0         0     0             1           0   0         1               \n",
       "  Agriculture Tax Heat Pump Consumption Scenario Wind/Solar Costs Coal Nuclear\n",
       "1 0           0   0         0           0        1          0     0    0      \n",
       "2 0           0   0         0           0        0          0     0    0      \n",
       "  Fuel Renewable Energies Flood Risk Technology Bioenergy Urban Hydrogen\n",
       "1 0    0                  0          0          0         0     0       \n",
       "2 0    0                  0          0          1         1     0       \n",
       "  Permit market Drought Crop yield Peak Oil Land Use Target/INDC Waste System\n",
       "1 0             0       0          0    0   0        0           0     0     \n",
       "2 0             0       0          0    0   0        0           1     0     "
      ]
     },
     "metadata": {},
     "output_type": "display_data"
    }
   ],
   "source": [
    "df <- df %>% \n",
    "            select(Country, Region, title, abstract, model, 17:55) %>% \n",
    "            rename_if(is.numeric, ~ topics_list_ini) \n",
    "                \n",
    "head(df,2)"
   ]
  },
  {
   "cell_type": "code",
   "execution_count": 29,
   "metadata": {},
   "outputs": [
    {
     "data": {
      "text/html": [
       "<table>\n",
       "<caption>A tibble: 1 × 1</caption>\n",
       "<thead>\n",
       "\t<tr><th scope=col>n_MARKAL</th></tr>\n",
       "\t<tr><th scope=col>&lt;int&gt;</th></tr>\n",
       "</thead>\n",
       "<tbody>\n",
       "\t<tr><td>120</td></tr>\n",
       "</tbody>\n",
       "</table>\n"
      ],
      "text/latex": [
       "A tibble: 1 × 1\n",
       "\\begin{tabular}{l}\n",
       " n\\_MARKAL\\\\\n",
       " <int>\\\\\n",
       "\\hline\n",
       "\t 120\\\\\n",
       "\\end{tabular}\n"
      ],
      "text/markdown": [
       "\n",
       "A tibble: 1 × 1\n",
       "\n",
       "| n_MARKAL &lt;int&gt; |\n",
       "|---|\n",
       "| 120 |\n",
       "\n"
      ],
      "text/plain": [
       "  n_MARKAL\n",
       "1 120     "
      ]
     },
     "metadata": {},
     "output_type": "display_data"
    }
   ],
   "source": [
    "df_MARKAL_count <- df %>% \n",
    "                        summarize(n_MARKAL = sum(grepl(\"MARKAL\",model)))\n",
    "df_MARKAL_count"
   ]
  },
  {
   "cell_type": "code",
   "execution_count": 13,
   "metadata": {},
   "outputs": [
    {
     "data": {
      "text/html": [
       "<table>\n",
       "<caption>A tibble: 2 × 44</caption>\n",
       "<thead>\n",
       "\t<tr><th scope=col>title</th><th scope=col>Country</th><th scope=col>Region</th><th scope=col>abstract</th><th scope=col>model</th><th scope=col>Energy efficiency</th><th scope=col>Climate change</th><th scope=col>Power</th><th scope=col>Vehicle</th><th scope=col>Cement</th><th scope=col>Forest</th><th scope=col>Steel/Iron</th><th scope=col>Buildings</th><th scope=col>Water</th><th scope=col>Air Pollution</th><th scope=col>Electricity</th><th scope=col>CCS</th><th scope=col>Transport</th><th scope=col>Policy-Dvlpt-Eco</th><th scope=col>Agriculture</th><th scope=col>Tax</th><th scope=col>Heat Pump</th><th scope=col>Consumption</th><th scope=col>Scenario</th><th scope=col>Wind/Solar</th><th scope=col>Costs</th><th scope=col>Coal</th><th scope=col>Nuclear</th><th scope=col>Fuel</th><th scope=col>Renewable Energies</th><th scope=col>Flood Risk</th><th scope=col>Technology</th><th scope=col>Bioenergy</th><th scope=col>Urban</th><th scope=col>Hydrogen</th><th scope=col>Permit market</th><th scope=col>Drought</th><th scope=col>Crop yield</th><th scope=col>Peak</th><th scope=col>Oil</th><th scope=col>Land Use</th><th scope=col>Target/INDC</th><th scope=col>Waste</th><th scope=col>System</th></tr>\n",
       "\t<tr><th scope=col>&lt;chr&gt;</th><th scope=col>&lt;chr&gt;</th><th scope=col>&lt;chr&gt;</th><th scope=col>&lt;chr&gt;</th><th scope=col>&lt;chr&gt;</th><th scope=col>&lt;dbl&gt;</th><th scope=col>&lt;dbl&gt;</th><th scope=col>&lt;dbl&gt;</th><th scope=col>&lt;dbl&gt;</th><th scope=col>&lt;dbl&gt;</th><th scope=col>&lt;dbl&gt;</th><th scope=col>&lt;dbl&gt;</th><th scope=col>&lt;dbl&gt;</th><th scope=col>&lt;dbl&gt;</th><th scope=col>&lt;dbl&gt;</th><th scope=col>&lt;dbl&gt;</th><th scope=col>&lt;dbl&gt;</th><th scope=col>&lt;dbl&gt;</th><th scope=col>&lt;dbl&gt;</th><th scope=col>&lt;dbl&gt;</th><th scope=col>&lt;dbl&gt;</th><th scope=col>&lt;dbl&gt;</th><th scope=col>&lt;dbl&gt;</th><th scope=col>&lt;dbl&gt;</th><th scope=col>&lt;dbl&gt;</th><th scope=col>&lt;dbl&gt;</th><th scope=col>&lt;dbl&gt;</th><th scope=col>&lt;dbl&gt;</th><th scope=col>&lt;dbl&gt;</th><th scope=col>&lt;dbl&gt;</th><th scope=col>&lt;dbl&gt;</th><th scope=col>&lt;dbl&gt;</th><th scope=col>&lt;dbl&gt;</th><th scope=col>&lt;dbl&gt;</th><th scope=col>&lt;dbl&gt;</th><th scope=col>&lt;dbl&gt;</th><th scope=col>&lt;dbl&gt;</th><th scope=col>&lt;dbl&gt;</th><th scope=col>&lt;dbl&gt;</th><th scope=col>&lt;dbl&gt;</th><th scope=col>&lt;dbl&gt;</th><th scope=col>&lt;dbl&gt;</th><th scope=col>&lt;dbl&gt;</th><th scope=col>&lt;dbl&gt;</th></tr>\n",
       "</thead>\n",
       "<tbody>\n",
       "\t<tr><td>100% renewable electricity by mid century in Italy? [Un'Italia rinnovabile al 100% da metà secolo?]</td><td>Italy</td><td>Europe</td><td>Climate change will be in the future one of the most influential driving force for energy policies. In the electric sector will therefore be important to find solution to reduce carbon emission. With the shrinking share of nuclear power, Carbon Capture Sequestration will play an important role, although the largest contribution will come from renewable energies. Ambitious roadmaps and new targets have already been set - Germany plans to cover 80% of its electric demand with renewables by 2050 - based on studies indicating the possibility to achieve 100% of the electric demand through renewable energy by 2050. The capital required is significant, although over a long period (over 40 years) the economic impact of this transition will be limited. With an increasing renewable share and the need to convert a large electricity market, Italy should incorporate a longer-term perspective and vision and a broader geographical scope. After the nuclear referendum, it is important to discuss scenarios at national level coherent with international indications and climate change constraints and launch a revolutionary approach; but at present is lacking the clear vision of the future required to do so. © FrancoAngeli.                                                                                                                                                                                                                                                                                                                                                                                                                                                                                                                                                                                                                                                                                                                                                                                                                                                                                                                                                                                                                  </td><td>NA</td><td>0</td><td>1</td><td>0</td><td>0</td><td>0</td><td>0</td><td>0</td><td>0</td><td>0</td><td>0</td><td>1</td><td>0</td><td>0</td><td>1</td><td>0</td><td>0</td><td>0</td><td>0</td><td>0</td><td>0</td><td>0</td><td>0</td><td>1</td><td>0</td><td>1</td><td>0</td><td>0</td><td>0</td><td>0</td><td>0</td><td>0</td><td>0</td><td>0</td><td>0</td><td>0</td><td>0</td><td>0</td><td>0</td><td>0</td></tr>\n",
       "\t<tr><td>2012-2025 Roadmap of I.R.Iran's Disaster Health Management                                         </td><td>Iran </td><td>Asia  </td><td>Objective: In line with Iran's Comprehensive Health Sector Road Map, the National Institute of Health Research at the Tehran University of Medical Sciences developed the 2012-2025 road map of Disaster Health Management (DHM), including goals and objectives, strategies, activities and related prerequisites. This article presents the process and results of this road mapping project. Methods: The project started with an expanded literature review followed by stakeholder analysis to assess level of interest and impact of related organizations to DHM; STEEP.V methodology to define determinants with a potential impact on Iran's HDM for duration of 2012 to 2025; strength, weakness, opportunity and threat (SWOT) analysis and formulation of goals and objectives, strategies, activities, and prerequisites. Brainstorming, group discussion and interviews with key informants were used for data collection; nominal group technique was used whenever prioritization was necessary, and Delphi panel methodology was applied for consensus development. Results: STEEP.V analysis revealed the most important Social, Technological, Environmental, Economic, Political and Value-based determinants. Iran's DHM mission and vision were defined respectively as \"Mitigation from, preparedness for, response to and recovery from consequences of natural and man-made hazards at the community level as well as to the health facilities and resources of I.R.Iran\" and \"In 2025, Iran's DHM will be the most developed system in the region resulting in the least vulnerability, the highest readiness in health facilities and resources, and the highest and most effective contribution of the Iranian community to disaster resilience\", respectively. Sixteen strategies and related activities, along with the necessary prerequisites, were developed. Conclusions: This was the first attempt at comprehensive strategic planning in the field of DHM in Iran. The current framework provides Iran's health system with a list of strategies and activities to be considered in operational planning and actions. However, a dynamic process of evaluation and revision is required to ensure that Iran's health system goals are met by 2025.</td><td>NA</td><td>0</td><td>0</td><td>0</td><td>0</td><td>0</td><td>0</td><td>0</td><td>0</td><td>0</td><td>1</td><td>0</td><td>0</td><td>0</td><td>1</td><td>0</td><td>0</td><td>0</td><td>0</td><td>0</td><td>0</td><td>0</td><td>0</td><td>0</td><td>0</td><td>0</td><td>0</td><td>0</td><td>0</td><td>0</td><td>0</td><td>0</td><td>0</td><td>0</td><td>0</td><td>0</td><td>0</td><td>0</td><td>0</td><td>0</td></tr>\n",
       "</tbody>\n",
       "</table>\n"
      ],
      "text/latex": [
       "A tibble: 2 × 44\n",
       "\\begin{tabular}{llllllllllllllllllllllllllllllllllllllllllll}\n",
       " title & Country & Region & abstract & model & Energy efficiency & Climate change & Power & Vehicle & Cement & Forest & Steel/Iron & Buildings & Water & Air Pollution & Electricity & CCS & Transport & Policy-Dvlpt-Eco & Agriculture & Tax & Heat Pump & Consumption & Scenario & Wind/Solar & Costs & Coal & Nuclear & Fuel & Renewable Energies & Flood Risk & Technology & Bioenergy & Urban & Hydrogen & Permit market & Drought & Crop yield & Peak & Oil & Land Use & Target/INDC & Waste & System\\\\\n",
       " <chr> & <chr> & <chr> & <chr> & <chr> & <dbl> & <dbl> & <dbl> & <dbl> & <dbl> & <dbl> & <dbl> & <dbl> & <dbl> & <dbl> & <dbl> & <dbl> & <dbl> & <dbl> & <dbl> & <dbl> & <dbl> & <dbl> & <dbl> & <dbl> & <dbl> & <dbl> & <dbl> & <dbl> & <dbl> & <dbl> & <dbl> & <dbl> & <dbl> & <dbl> & <dbl> & <dbl> & <dbl> & <dbl> & <dbl> & <dbl> & <dbl> & <dbl> & <dbl>\\\\\n",
       "\\hline\n",
       "\t 100\\% renewable electricity by mid century in Italy? {[}Un'Italia rinnovabile al 100\\% da metà secolo?{]} & Italy & Europe & Climate change will be in the future one of the most influential driving force for energy policies. In the electric sector will therefore be important to find solution to reduce carbon emission. With the shrinking share of nuclear power, Carbon Capture Sequestration will play an important role, although the largest contribution will come from renewable energies. Ambitious roadmaps and new targets have already been set - Germany plans to cover 80\\% of its electric demand with renewables by 2050 - based on studies indicating the possibility to achieve 100\\% of the electric demand through renewable energy by 2050. The capital required is significant, although over a long period (over 40 years) the economic impact of this transition will be limited. With an increasing renewable share and the need to convert a large electricity market, Italy should incorporate a longer-term perspective and vision and a broader geographical scope. After the nuclear referendum, it is important to discuss scenarios at national level coherent with international indications and climate change constraints and launch a revolutionary approach; but at present is lacking the clear vision of the future required to do so. © FrancoAngeli.                                                                                                                                                                                                                                                                                                                                                                                                                                                                                                                                                                                                                                                                                                                                                                                                                                                                                                                                                                                                                   & NA & 0 & 1 & 0 & 0 & 0 & 0 & 0 & 0 & 0 & 0 & 1 & 0 & 0 & 1 & 0 & 0 & 0 & 0 & 0 & 0 & 0 & 0 & 1 & 0 & 1 & 0 & 0 & 0 & 0 & 0 & 0 & 0 & 0 & 0 & 0 & 0 & 0 & 0 & 0\\\\\n",
       "\t 2012-2025 Roadmap of I.R.Iran's Disaster Health Management                                          & Iran  & Asia   & Objective: In line with Iran's Comprehensive Health Sector Road Map, the National Institute of Health Research at the Tehran University of Medical Sciences developed the 2012-2025 road map of Disaster Health Management (DHM), including goals and objectives, strategies, activities and related prerequisites. This article presents the process and results of this road mapping project. Methods: The project started with an expanded literature review followed by stakeholder analysis to assess level of interest and impact of related organizations to DHM; STEEP.V methodology to define determinants with a potential impact on Iran's HDM for duration of 2012 to 2025; strength, weakness, opportunity and threat (SWOT) analysis and formulation of goals and objectives, strategies, activities, and prerequisites. Brainstorming, group discussion and interviews with key informants were used for data collection; nominal group technique was used whenever prioritization was necessary, and Delphi panel methodology was applied for consensus development. Results: STEEP.V analysis revealed the most important Social, Technological, Environmental, Economic, Political and Value-based determinants. Iran's DHM mission and vision were defined respectively as \"Mitigation from, preparedness for, response to and recovery from consequences of natural and man-made hazards at the community level as well as to the health facilities and resources of I.R.Iran\" and \"In 2025, Iran's DHM will be the most developed system in the region resulting in the least vulnerability, the highest readiness in health facilities and resources, and the highest and most effective contribution of the Iranian community to disaster resilience\", respectively. Sixteen strategies and related activities, along with the necessary prerequisites, were developed. Conclusions: This was the first attempt at comprehensive strategic planning in the field of DHM in Iran. The current framework provides Iran's health system with a list of strategies and activities to be considered in operational planning and actions. However, a dynamic process of evaluation and revision is required to ensure that Iran's health system goals are met by 2025. & NA & 0 & 0 & 0 & 0 & 0 & 0 & 0 & 0 & 0 & 1 & 0 & 0 & 0 & 1 & 0 & 0 & 0 & 0 & 0 & 0 & 0 & 0 & 0 & 0 & 0 & 0 & 0 & 0 & 0 & 0 & 0 & 0 & 0 & 0 & 0 & 0 & 0 & 0 & 0\\\\\n",
       "\\end{tabular}\n"
      ],
      "text/markdown": [
       "\n",
       "A tibble: 2 × 44\n",
       "\n",
       "| title &lt;chr&gt; | Country &lt;chr&gt; | Region &lt;chr&gt; | abstract &lt;chr&gt; | model &lt;chr&gt; | Energy efficiency &lt;dbl&gt; | Climate change &lt;dbl&gt; | Power &lt;dbl&gt; | Vehicle &lt;dbl&gt; | Cement &lt;dbl&gt; | Forest &lt;dbl&gt; | Steel/Iron &lt;dbl&gt; | Buildings &lt;dbl&gt; | Water &lt;dbl&gt; | Air Pollution &lt;dbl&gt; | Electricity &lt;dbl&gt; | CCS &lt;dbl&gt; | Transport &lt;dbl&gt; | Policy-Dvlpt-Eco &lt;dbl&gt; | Agriculture &lt;dbl&gt; | Tax &lt;dbl&gt; | Heat Pump &lt;dbl&gt; | Consumption &lt;dbl&gt; | Scenario &lt;dbl&gt; | Wind/Solar &lt;dbl&gt; | Costs &lt;dbl&gt; | Coal &lt;dbl&gt; | Nuclear &lt;dbl&gt; | Fuel &lt;dbl&gt; | Renewable Energies &lt;dbl&gt; | Flood Risk &lt;dbl&gt; | Technology &lt;dbl&gt; | Bioenergy &lt;dbl&gt; | Urban &lt;dbl&gt; | Hydrogen &lt;dbl&gt; | Permit market &lt;dbl&gt; | Drought &lt;dbl&gt; | Crop yield &lt;dbl&gt; | Peak &lt;dbl&gt; | Oil &lt;dbl&gt; | Land Use &lt;dbl&gt; | Target/INDC &lt;dbl&gt; | Waste &lt;dbl&gt; | System &lt;dbl&gt; |\n",
       "|---|---|---|---|---|---|---|---|---|---|---|---|---|---|---|---|---|---|---|---|---|---|---|---|---|---|---|---|---|---|---|---|---|---|---|---|---|---|---|---|---|---|---|---|\n",
       "| 100% renewable electricity by mid century in Italy? [Un'Italia rinnovabile al 100% da metà secolo?] | Italy | Europe | Climate change will be in the future one of the most influential driving force for energy policies. In the electric sector will therefore be important to find solution to reduce carbon emission. With the shrinking share of nuclear power, Carbon Capture Sequestration will play an important role, although the largest contribution will come from renewable energies. Ambitious roadmaps and new targets have already been set - Germany plans to cover 80% of its electric demand with renewables by 2050 - based on studies indicating the possibility to achieve 100% of the electric demand through renewable energy by 2050. The capital required is significant, although over a long period (over 40 years) the economic impact of this transition will be limited. With an increasing renewable share and the need to convert a large electricity market, Italy should incorporate a longer-term perspective and vision and a broader geographical scope. After the nuclear referendum, it is important to discuss scenarios at national level coherent with international indications and climate change constraints and launch a revolutionary approach; but at present is lacking the clear vision of the future required to do so. © FrancoAngeli.                                                                                                                                                                                                                                                                                                                                                                                                                                                                                                                                                                                                                                                                                                                                                                                                                                                                                                                                                                                                                   | NA | 0 | 1 | 0 | 0 | 0 | 0 | 0 | 0 | 0 | 0 | 1 | 0 | 0 | 1 | 0 | 0 | 0 | 0 | 0 | 0 | 0 | 0 | 1 | 0 | 1 | 0 | 0 | 0 | 0 | 0 | 0 | 0 | 0 | 0 | 0 | 0 | 0 | 0 | 0 |\n",
       "| 2012-2025 Roadmap of I.R.Iran's Disaster Health Management                                          | Iran  | Asia   | Objective: In line with Iran's Comprehensive Health Sector Road Map, the National Institute of Health Research at the Tehran University of Medical Sciences developed the 2012-2025 road map of Disaster Health Management (DHM), including goals and objectives, strategies, activities and related prerequisites. This article presents the process and results of this road mapping project. Methods: The project started with an expanded literature review followed by stakeholder analysis to assess level of interest and impact of related organizations to DHM; STEEP.V methodology to define determinants with a potential impact on Iran's HDM for duration of 2012 to 2025; strength, weakness, opportunity and threat (SWOT) analysis and formulation of goals and objectives, strategies, activities, and prerequisites. Brainstorming, group discussion and interviews with key informants were used for data collection; nominal group technique was used whenever prioritization was necessary, and Delphi panel methodology was applied for consensus development. Results: STEEP.V analysis revealed the most important Social, Technological, Environmental, Economic, Political and Value-based determinants. Iran's DHM mission and vision were defined respectively as \"Mitigation from, preparedness for, response to and recovery from consequences of natural and man-made hazards at the community level as well as to the health facilities and resources of I.R.Iran\" and \"In 2025, Iran's DHM will be the most developed system in the region resulting in the least vulnerability, the highest readiness in health facilities and resources, and the highest and most effective contribution of the Iranian community to disaster resilience\", respectively. Sixteen strategies and related activities, along with the necessary prerequisites, were developed. Conclusions: This was the first attempt at comprehensive strategic planning in the field of DHM in Iran. The current framework provides Iran's health system with a list of strategies and activities to be considered in operational planning and actions. However, a dynamic process of evaluation and revision is required to ensure that Iran's health system goals are met by 2025. | NA | 0 | 0 | 0 | 0 | 0 | 0 | 0 | 0 | 0 | 1 | 0 | 0 | 0 | 1 | 0 | 0 | 0 | 0 | 0 | 0 | 0 | 0 | 0 | 0 | 0 | 0 | 0 | 0 | 0 | 0 | 0 | 0 | 0 | 0 | 0 | 0 | 0 | 0 | 0 |\n",
       "\n"
      ],
      "text/plain": [
       "  title                                                                                              \n",
       "1 100% renewable electricity by mid century in Italy? [Un'Italia rinnovabile al 100% da metà secolo?]\n",
       "2 2012-2025 Roadmap of I.R.Iran's Disaster Health Management                                         \n",
       "  Country Region\n",
       "1 Italy   Europe\n",
       "2 Iran    Asia  \n",
       "  abstract                                                                                                                                                                                                                                                                                                                                                                                                                                                                                                                                                                                                                                                                                                                                                                                                                                                                                                                                                                                                                                                                                                                                                                                                                                                                                                                                                                                                                                                                                                                                                                                                                                                                                                                                                                                                                                                                                                                                                                                                                                                                                                                                                                                                                                                                               \n",
       "1 Climate change will be in the future one of the most influential driving force for energy policies. In the electric sector will therefore be important to find solution to reduce carbon emission. With the shrinking share of nuclear power, Carbon Capture Sequestration will play an important role, although the largest contribution will come from renewable energies. Ambitious roadmaps and new targets have already been set - Germany plans to cover 80% of its electric demand with renewables by 2050 - based on studies indicating the possibility to achieve 100% of the electric demand through renewable energy by 2050. The capital required is significant, although over a long period (over 40 years) the economic impact of this transition will be limited. With an increasing renewable share and the need to convert a large electricity market, Italy should incorporate a longer-term perspective and vision and a broader geographical scope. After the nuclear referendum, it is important to discuss scenarios at national level coherent with international indications and climate change constraints and launch a revolutionary approach; but at present is lacking the clear vision of the future required to do so. © FrancoAngeli.                                                                                                                                                                                                                                                                                                                                                                                                                                                                                                                                                                                                                                                                                                                                                                                                                                                                                                                                                                                                                  \n",
       "2 Objective: In line with Iran's Comprehensive Health Sector Road Map, the National Institute of Health Research at the Tehran University of Medical Sciences developed the 2012-2025 road map of Disaster Health Management (DHM), including goals and objectives, strategies, activities and related prerequisites. This article presents the process and results of this road mapping project. Methods: The project started with an expanded literature review followed by stakeholder analysis to assess level of interest and impact of related organizations to DHM; STEEP.V methodology to define determinants with a potential impact on Iran's HDM for duration of 2012 to 2025; strength, weakness, opportunity and threat (SWOT) analysis and formulation of goals and objectives, strategies, activities, and prerequisites. Brainstorming, group discussion and interviews with key informants were used for data collection; nominal group technique was used whenever prioritization was necessary, and Delphi panel methodology was applied for consensus development. Results: STEEP.V analysis revealed the most important Social, Technological, Environmental, Economic, Political and Value-based determinants. Iran's DHM mission and vision were defined respectively as \"Mitigation from, preparedness for, response to and recovery from consequences of natural and man-made hazards at the community level as well as to the health facilities and resources of I.R.Iran\" and \"In 2025, Iran's DHM will be the most developed system in the region resulting in the least vulnerability, the highest readiness in health facilities and resources, and the highest and most effective contribution of the Iranian community to disaster resilience\", respectively. Sixteen strategies and related activities, along with the necessary prerequisites, were developed. Conclusions: This was the first attempt at comprehensive strategic planning in the field of DHM in Iran. The current framework provides Iran's health system with a list of strategies and activities to be considered in operational planning and actions. However, a dynamic process of evaluation and revision is required to ensure that Iran's health system goals are met by 2025.\n",
       "  model Energy efficiency Climate change Power Vehicle Cement Forest Steel/Iron\n",
       "1 NA    0                 1              0     0       0      0      0         \n",
       "2 NA    0                 0              0     0       0      0      0         \n",
       "  Buildings Water Air Pollution Electricity CCS Transport Policy-Dvlpt-Eco\n",
       "1 0         0     0             1           0   0         1               \n",
       "2 0         0     1             0           0   0         1               \n",
       "  Agriculture Tax Heat Pump Consumption Scenario Wind/Solar Costs Coal Nuclear\n",
       "1 0           0   0         0           0        0          0     0    1      \n",
       "2 0           0   0         0           0        0          0     0    0      \n",
       "  Fuel Renewable Energies Flood Risk Technology Bioenergy Urban Hydrogen\n",
       "1 0    1                  0          0          0         0     0       \n",
       "2 0    0                  0          0          0         0     0       \n",
       "  Permit market Drought Crop yield Peak Oil Land Use Target/INDC Waste System\n",
       "1 0             0       0          0    0   0        0           0     0     \n",
       "2 0             0       0          0    0   0        0           0     0     "
      ]
     },
     "metadata": {},
     "output_type": "display_data"
    }
   ],
   "source": [
    "dfone <- df %>% \n",
    "                group_by(title)%>%\n",
    "                summarize_all(list(first))\n",
    "head(dfone,2)"
   ]
  },
  {
   "cell_type": "code",
   "execution_count": 14,
   "metadata": {},
   "outputs": [
    {
     "data": {
      "text/html": [
       "4691"
      ],
      "text/latex": [
       "4691"
      ],
      "text/markdown": [
       "4691"
      ],
      "text/plain": [
       "[1] 4691"
      ]
     },
     "metadata": {},
     "output_type": "display_data"
    }
   ],
   "source": [
    "nrow(dfone)"
   ]
  },
  {
   "cell_type": "code",
   "execution_count": 15,
   "metadata": {},
   "outputs": [
    {
     "data": {
      "text/html": [
       "1428"
      ],
      "text/latex": [
       "1428"
      ],
      "text/markdown": [
       "1428"
      ],
      "text/plain": [
       "[1] 1428"
      ]
     },
     "metadata": {},
     "output_type": "display_data"
    }
   ],
   "source": [
    "nrow(dfone %>% filter(Scenario==1))"
   ]
  },
  {
   "cell_type": "code",
   "execution_count": 16,
   "metadata": {},
   "outputs": [
    {
     "data": {
      "text/html": [
       "710"
      ],
      "text/latex": [
       "710"
      ],
      "text/markdown": [
       "710"
      ],
      "text/plain": [
       "[1] 710"
      ]
     },
     "metadata": {},
     "output_type": "display_data"
    }
   ],
   "source": [
    "nrow(dfone %>% filter(!is.na(model)))"
   ]
  },
  {
   "cell_type": "code",
   "execution_count": 17,
   "metadata": {},
   "outputs": [
    {
     "data": {
      "text/html": [
       "360"
      ],
      "text/latex": [
       "360"
      ],
      "text/markdown": [
       "360"
      ],
      "text/plain": [
       "[1] 360"
      ]
     },
     "metadata": {},
     "output_type": "display_data"
    }
   ],
   "source": [
    "nrow(dfone %>% filter(Scenario==0 & !is.na(model)))"
   ]
  },
  {
   "cell_type": "code",
   "execution_count": 18,
   "metadata": {},
   "outputs": [
    {
     "data": {
      "text/html": [
       "1078"
      ],
      "text/latex": [
       "1078"
      ],
      "text/markdown": [
       "1078"
      ],
      "text/plain": [
       "[1] 1078"
      ]
     },
     "metadata": {},
     "output_type": "display_data"
    }
   ],
   "source": [
    "nrow(dfone %>% filter(Scenario==1 & is.na(model)))"
   ]
  },
  {
   "cell_type": "code",
   "execution_count": 19,
   "metadata": {},
   "outputs": [
    {
     "data": {
      "text/html": [
       "2352"
      ],
      "text/latex": [
       "2352"
      ],
      "text/markdown": [
       "2352"
      ],
      "text/plain": [
       "[1] 2352"
      ]
     },
     "metadata": {},
     "output_type": "display_data"
    }
   ],
   "source": [
    "nrow(dfone %>% filter(grepl(\"scenario\",abstract)))"
   ]
  },
  {
   "cell_type": "code",
   "execution_count": 20,
   "metadata": {},
   "outputs": [
    {
     "data": {
      "text/html": [
       "12"
      ],
      "text/latex": [
       "12"
      ],
      "text/markdown": [
       "12"
      ],
      "text/plain": [
       "[1] 12"
      ]
     },
     "metadata": {},
     "output_type": "display_data"
    }
   ],
   "source": [
    "nrow(dfone %>% filter(!grepl(\"scenario\",abstract) & Scenario==1))"
   ]
  },
  {
   "cell_type": "code",
   "execution_count": 21,
   "metadata": {},
   "outputs": [
    {
     "data": {
      "text/html": [
       "1416"
      ],
      "text/latex": [
       "1416"
      ],
      "text/markdown": [
       "1416"
      ],
      "text/plain": [
       "[1] 1416"
      ]
     },
     "metadata": {},
     "output_type": "display_data"
    }
   ],
   "source": [
    "nrow(dfone %>% filter(grepl(\"scenario\",abstract) & Scenario==1))"
   ]
  },
  {
   "cell_type": "code",
   "execution_count": 22,
   "metadata": {},
   "outputs": [
    {
     "data": {
      "text/html": [
       "936"
      ],
      "text/latex": [
       "936"
      ],
      "text/markdown": [
       "936"
      ],
      "text/plain": [
       "[1] 936"
      ]
     },
     "metadata": {},
     "output_type": "display_data"
    }
   ],
   "source": [
    "nrow(dfone %>% filter(grepl(\"scenario\",abstract) & Scenario==0))"
   ]
  },
  {
   "cell_type": "code",
   "execution_count": 23,
   "metadata": {},
   "outputs": [
    {
     "data": {
      "text/html": [
       "2446"
      ],
      "text/latex": [
       "2446"
      ],
      "text/markdown": [
       "2446"
      ],
      "text/plain": [
       "[1] 2446"
      ]
     },
     "metadata": {},
     "output_type": "display_data"
    }
   ],
   "source": [
    "nrow(dfone %>% filter(grepl(\"model\",abstract)))"
   ]
  },
  {
   "cell_type": "code",
   "execution_count": 24,
   "metadata": {},
   "outputs": [
    {
     "data": {
      "text/html": [
       "461"
      ],
      "text/latex": [
       "461"
      ],
      "text/markdown": [
       "461"
      ],
      "text/plain": [
       "[1] 461"
      ]
     },
     "metadata": {},
     "output_type": "display_data"
    }
   ],
   "source": [
    "nrow(dfone %>% filter(!grepl(\"model\",abstract) & Scenario==1))"
   ]
  },
  {
   "cell_type": "code",
   "execution_count": 25,
   "metadata": {},
   "outputs": [
    {
     "data": {
      "text/html": [
       "967"
      ],
      "text/latex": [
       "967"
      ],
      "text/markdown": [
       "967"
      ],
      "text/plain": [
       "[1] 967"
      ]
     },
     "metadata": {},
     "output_type": "display_data"
    }
   ],
   "source": [
    "nrow(dfone %>% filter(grepl(\"model\",abstract) & Scenario==1))"
   ]
  },
  {
   "cell_type": "code",
   "execution_count": 26,
   "metadata": {},
   "outputs": [
    {
     "data": {
      "text/html": [
       "1479"
      ],
      "text/latex": [
       "1479"
      ],
      "text/markdown": [
       "1479"
      ],
      "text/plain": [
       "[1] 1479"
      ]
     },
     "metadata": {},
     "output_type": "display_data"
    }
   ],
   "source": [
    "nrow(dfone %>% filter(grepl(\"model\",abstract) & Scenario==0))"
   ]
  },
  {
   "cell_type": "code",
   "execution_count": 27,
   "metadata": {},
   "outputs": [
    {
     "data": {
      "text/html": [
       "1546"
      ],
      "text/latex": [
       "1546"
      ],
      "text/markdown": [
       "1546"
      ],
      "text/plain": [
       "[1] 1546"
      ]
     },
     "metadata": {},
     "output_type": "display_data"
    }
   ],
   "source": [
    "nrow(dfone %>% filter(grepl(\"model\",abstract) & grepl(\"scenario\",abstract)))"
   ]
  },
  {
   "cell_type": "code",
   "execution_count": 28,
   "metadata": {},
   "outputs": [
    {
     "data": {
      "text/html": [
       "958"
      ],
      "text/latex": [
       "958"
      ],
      "text/markdown": [
       "958"
      ],
      "text/plain": [
       "[1] 958"
      ]
     },
     "metadata": {},
     "output_type": "display_data"
    }
   ],
   "source": [
    "nrow(dfone %>% filter(grepl(\"model\",abstract) & grepl(\"scenario\",abstract) & Scenario==1))"
   ]
  },
  {
   "cell_type": "code",
   "execution_count": 29,
   "metadata": {},
   "outputs": [
    {
     "data": {
      "text/html": [
       "<table>\n",
       "<caption>A tibble: 3 × 44</caption>\n",
       "<thead>\n",
       "\t<tr><th scope=col>title</th><th scope=col>Country</th><th scope=col>Region</th><th scope=col>abstract</th><th scope=col>model</th><th scope=col>Energy efficiency</th><th scope=col>Climate change</th><th scope=col>Power</th><th scope=col>Vehicle</th><th scope=col>Cement</th><th scope=col>Forest</th><th scope=col>Steel/Iron</th><th scope=col>Buildings</th><th scope=col>Water</th><th scope=col>Air Pollution</th><th scope=col>Electricity</th><th scope=col>CCS</th><th scope=col>Transport</th><th scope=col>Policy-Dvlpt-Eco</th><th scope=col>Agriculture</th><th scope=col>Tax</th><th scope=col>Heat Pump</th><th scope=col>Consumption</th><th scope=col>Scenario</th><th scope=col>Wind/Solar</th><th scope=col>Costs</th><th scope=col>Coal</th><th scope=col>Nuclear</th><th scope=col>Fuel</th><th scope=col>Renewable Energies</th><th scope=col>Flood Risk</th><th scope=col>Technology</th><th scope=col>Bioenergy</th><th scope=col>Urban</th><th scope=col>Hydrogen</th><th scope=col>Permit market</th><th scope=col>Drought</th><th scope=col>Crop yield</th><th scope=col>Peak</th><th scope=col>Oil</th><th scope=col>Land Use</th><th scope=col>Target/INDC</th><th scope=col>Waste</th><th scope=col>System</th></tr>\n",
       "\t<tr><th scope=col>&lt;chr&gt;</th><th scope=col>&lt;chr&gt;</th><th scope=col>&lt;chr&gt;</th><th scope=col>&lt;chr&gt;</th><th scope=col>&lt;chr&gt;</th><th scope=col>&lt;dbl&gt;</th><th scope=col>&lt;dbl&gt;</th><th scope=col>&lt;dbl&gt;</th><th scope=col>&lt;dbl&gt;</th><th scope=col>&lt;dbl&gt;</th><th scope=col>&lt;dbl&gt;</th><th scope=col>&lt;dbl&gt;</th><th scope=col>&lt;dbl&gt;</th><th scope=col>&lt;dbl&gt;</th><th scope=col>&lt;dbl&gt;</th><th scope=col>&lt;dbl&gt;</th><th scope=col>&lt;dbl&gt;</th><th scope=col>&lt;dbl&gt;</th><th scope=col>&lt;dbl&gt;</th><th scope=col>&lt;dbl&gt;</th><th scope=col>&lt;dbl&gt;</th><th scope=col>&lt;dbl&gt;</th><th scope=col>&lt;dbl&gt;</th><th scope=col>&lt;dbl&gt;</th><th scope=col>&lt;dbl&gt;</th><th scope=col>&lt;dbl&gt;</th><th scope=col>&lt;dbl&gt;</th><th scope=col>&lt;dbl&gt;</th><th scope=col>&lt;dbl&gt;</th><th scope=col>&lt;dbl&gt;</th><th scope=col>&lt;dbl&gt;</th><th scope=col>&lt;dbl&gt;</th><th scope=col>&lt;dbl&gt;</th><th scope=col>&lt;dbl&gt;</th><th scope=col>&lt;dbl&gt;</th><th scope=col>&lt;dbl&gt;</th><th scope=col>&lt;dbl&gt;</th><th scope=col>&lt;dbl&gt;</th><th scope=col>&lt;dbl&gt;</th><th scope=col>&lt;dbl&gt;</th><th scope=col>&lt;dbl&gt;</th><th scope=col>&lt;dbl&gt;</th><th scope=col>&lt;dbl&gt;</th><th scope=col>&lt;dbl&gt;</th></tr>\n",
       "</thead>\n",
       "<tbody>\n",
       "\t<tr><td>Achieving China's long-term carbon emission abatement targets: A perspective from regional disparity                        </td><td>China       </td><td>Asia  </td><td>As China is the largest greenhouse gas emitter and has the characteristics of significant regional disparity, the issue of regional low-carbon development strategy is of vital importance for the achievement of the country's long-term emission targets. This work focused on China's long-term carbon emission abatement from the perspective of regional disparity. We firstly analyzed the national emission trajectories consistent with the current Intended Nationally Determined Contributions (INDCs), 2 °C, and 1.5 °C goals in two economic growth pathways by 2050 using a linear programming model, then classified the provinces into three categories, and compared results of different scenarios of regional disparity patterns, economic growth rates, and emission targets. Results showed that different regional patterns led to different required carbon reduction targets for all categories, and the regional emission reduction measures had to be stronger in a higher growth rate or a more stringent emission target, especially for the developed areas. A scheme of regionally coordinated low-carbon development was then recommended for the formulation of long-term regional emission targets, and carbon reduction strategies for categories were proposed in terms of energy mix optimization, industrial transformation, and technology innovation, which is of great policy implication for China in regional development and national emission targets enhancement. © 2018 by the authors.                                                                                                                                                                                                                                                                                                                                                                                                                                                                                                                                                                                                                                                                                                                                                                                                                                                                                                                                                                                                                                                                                                                    </td><td>NA   </td><td>0</td><td>0</td><td>0</td><td>0</td><td>0</td><td>0</td><td>0</td><td>0</td><td>0</td><td>0</td><td>0</td><td>0</td><td>0</td><td>1</td><td>0</td><td>0</td><td>0</td><td>1</td><td>0</td><td>0</td><td>0</td><td>0</td><td>0</td><td>0</td><td>0</td><td>0</td><td>0</td><td>0</td><td>0</td><td>0</td><td>0</td><td>0</td><td>0</td><td>0</td><td>0</td><td>0</td><td>1</td><td>0</td><td>0</td></tr>\n",
       "\t<tr><td>Achieving CO 2 emission reduction and the co-benefits of local air pollution abatement in the transportation sector of China</td><td>China       </td><td>Asia  </td><td>Transportation in China has joined the power generation as well as the steel and iron industries as one of the major CO 2 emission sectors. To determine the effective policy instrument(s) for reducing CO 2 emission, various policy instruments, which are likely to be implemented in the near future or have been implemented in China, are examined and compared. These instruments include carbon tax, energy tax, fuel tax, clean energy vehicle subsidy, and reduction on ticket price. The CIMS model system is employed as the simulation vehicle to predict the emission dynamics of CO 2 and local air pollutants under business-as-usual and policy scenarios for the transportation sector of China from 2008 to 2050. The 2020 CO 2 reduction target is set according to the national carbon intensity reduction pledge of China. The policy instruments proposed in the present research can all help mitigate the CO 2 emission intensity of the Chinese transportation industry to different extents, and then induce the co-benefits of local air pollutants reduction. Among these policy instruments, energy and fuel taxes, with the tax rates set, are the two most promising instruments for CO 2 emission intensity reduction to reach the 2020 carbon intensity reduction targets, whereas subsidies are the least promising options. CO 2 tax could be an effective policy tool, but with the suggested low tax rate during discussions in China, it is unlikely that the transportation sector would significantly contribute to achieving a desirable carbon intensity reduction. © 2012 Elsevier Ltd.                                                                                                                                                                                                                                                                                                                                                                                                                                                                                                                                                                                                                                                                                                                                                                                                                                                                                                                                                                                                                    </td><td>NA   </td><td>0</td><td>0</td><td>0</td><td>1</td><td>0</td><td>0</td><td>1</td><td>0</td><td>0</td><td>1</td><td>0</td><td>0</td><td>1</td><td>1</td><td>0</td><td>1</td><td>0</td><td>1</td><td>0</td><td>0</td><td>0</td><td>0</td><td>0</td><td>0</td><td>0</td><td>0</td><td>0</td><td>0</td><td>0</td><td>0</td><td>0</td><td>0</td><td>0</td><td>0</td><td>0</td><td>0</td><td>1</td><td>0</td><td>0</td></tr>\n",
       "\t<tr><td><span style=white-space:pre-wrap>Achieving development and mitigation objectives through a decarbonization development pathway in South Africa               </span></td><td>South Africa</td><td>Africa</td><td>Achieving the international 2 °C limit climate policy requires stringent reductions in GHG emissions by mid-century, with some countries simultaneously facing development-related challenges. South Africa is a middle-income developing country with high rates of unemployment and high levels of poverty, as well as an emissions-intensive economy. South Africa takes into account an assessment of what a fair contribution to reducing global emissions might be, and is committed to a ‘peak, plateau and decline' emissions trajectory with absolute emissions specified for 2025 and 2030, while noting the need to address development imperatives. This work utilizes an economy-wide computable general equilibrium model (e-SAGE) linked to an energy-system optimization model (TIMES) to explore improving development metrics within a 14 GtCO2e cumulative energy sector carbon constraint through to 2050 for South Africa. The electricity sector decarbonizes by retiring coal-fired power plants or replacing with concentrated solar power, solar photovoltaics and wind generation. Industry and tertiary-sector growth remains strong throughout the time period, with reduced energy intensity via fuel-switching and efficiency improvements. From 2010 to 2050, the model results in the unemployment rate decreasing from 25% to 12%, and the percentage of people living below the poverty line decreasing from 49% to 18%. Total energy GHG emissions were reduced by 39% and per capita emissions decreased by 62%. Policy relevance Lower poverty and inequality are goals that cannot be subordinated to lower GHG emissions. Policy documents in South Africa outline objectives such as reducing poverty and inequality with a key focus on education and employment. In its climate policy and Intended Nationally Determined Contribution (INDC), South Africa is committed to a peak, plateau and decline GHG emissions trajectory. As in many developing countries, these policy goals require major transformations in the energy system while simultaneously increasing affordable access to safe and convenient energy services for those living in energy poverty. The modelled scenario in this work focuses on employment and poverty reduction under a carbon constraint, a novel combination with results that can provide information for a holistic climate and development policy framework. This study has focused on the long term, which is important in generating clear policy signals for the necessary large-scale investments. © 2016 Informa UK Limited, trading as Taylor &amp; Francis Group.</td><td>TIMES</td><td>1</td><td>0</td><td>0</td><td>0</td><td>0</td><td>0</td><td>0</td><td>0</td><td>0</td><td>0</td><td>0</td><td>0</td><td>0</td><td>1</td><td>0</td><td>0</td><td>0</td><td>1</td><td>0</td><td>1</td><td>0</td><td>0</td><td>0</td><td>0</td><td>0</td><td>0</td><td>0</td><td>0</td><td>0</td><td>0</td><td>0</td><td>0</td><td>0</td><td>0</td><td>0</td><td>0</td><td>0</td><td>0</td><td>0</td></tr>\n",
       "</tbody>\n",
       "</table>\n"
      ],
      "text/latex": [
       "A tibble: 3 × 44\n",
       "\\begin{tabular}{llllllllllllllllllllllllllllllllllllllllllll}\n",
       " title & Country & Region & abstract & model & Energy efficiency & Climate change & Power & Vehicle & Cement & Forest & Steel/Iron & Buildings & Water & Air Pollution & Electricity & CCS & Transport & Policy-Dvlpt-Eco & Agriculture & Tax & Heat Pump & Consumption & Scenario & Wind/Solar & Costs & Coal & Nuclear & Fuel & Renewable Energies & Flood Risk & Technology & Bioenergy & Urban & Hydrogen & Permit market & Drought & Crop yield & Peak & Oil & Land Use & Target/INDC & Waste & System\\\\\n",
       " <chr> & <chr> & <chr> & <chr> & <chr> & <dbl> & <dbl> & <dbl> & <dbl> & <dbl> & <dbl> & <dbl> & <dbl> & <dbl> & <dbl> & <dbl> & <dbl> & <dbl> & <dbl> & <dbl> & <dbl> & <dbl> & <dbl> & <dbl> & <dbl> & <dbl> & <dbl> & <dbl> & <dbl> & <dbl> & <dbl> & <dbl> & <dbl> & <dbl> & <dbl> & <dbl> & <dbl> & <dbl> & <dbl> & <dbl> & <dbl> & <dbl> & <dbl> & <dbl>\\\\\n",
       "\\hline\n",
       "\t Achieving China's long-term carbon emission abatement targets: A perspective from regional disparity                         & China        & Asia   & As China is the largest greenhouse gas emitter and has the characteristics of significant regional disparity, the issue of regional low-carbon development strategy is of vital importance for the achievement of the country's long-term emission targets. This work focused on China's long-term carbon emission abatement from the perspective of regional disparity. We firstly analyzed the national emission trajectories consistent with the current Intended Nationally Determined Contributions (INDCs), 2 °C, and 1.5 °C goals in two economic growth pathways by 2050 using a linear programming model, then classified the provinces into three categories, and compared results of different scenarios of regional disparity patterns, economic growth rates, and emission targets. Results showed that different regional patterns led to different required carbon reduction targets for all categories, and the regional emission reduction measures had to be stronger in a higher growth rate or a more stringent emission target, especially for the developed areas. A scheme of regionally coordinated low-carbon development was then recommended for the formulation of long-term regional emission targets, and carbon reduction strategies for categories were proposed in terms of energy mix optimization, industrial transformation, and technology innovation, which is of great policy implication for China in regional development and national emission targets enhancement. © 2018 by the authors.                                                                                                                                                                                                                                                                                                                                                                                                                                                                                                                                                                                                                                                                                                                                                                                                                                                                                                                                                                                                                                                                                                                     & NA    & 0 & 0 & 0 & 0 & 0 & 0 & 0 & 0 & 0 & 0 & 0 & 0 & 0 & 1 & 0 & 0 & 0 & 1 & 0 & 0 & 0 & 0 & 0 & 0 & 0 & 0 & 0 & 0 & 0 & 0 & 0 & 0 & 0 & 0 & 0 & 0 & 1 & 0 & 0\\\\\n",
       "\t Achieving CO 2 emission reduction and the co-benefits of local air pollution abatement in the transportation sector of China & China        & Asia   & Transportation in China has joined the power generation as well as the steel and iron industries as one of the major CO 2 emission sectors. To determine the effective policy instrument(s) for reducing CO 2 emission, various policy instruments, which are likely to be implemented in the near future or have been implemented in China, are examined and compared. These instruments include carbon tax, energy tax, fuel tax, clean energy vehicle subsidy, and reduction on ticket price. The CIMS model system is employed as the simulation vehicle to predict the emission dynamics of CO 2 and local air pollutants under business-as-usual and policy scenarios for the transportation sector of China from 2008 to 2050. The 2020 CO 2 reduction target is set according to the national carbon intensity reduction pledge of China. The policy instruments proposed in the present research can all help mitigate the CO 2 emission intensity of the Chinese transportation industry to different extents, and then induce the co-benefits of local air pollutants reduction. Among these policy instruments, energy and fuel taxes, with the tax rates set, are the two most promising instruments for CO 2 emission intensity reduction to reach the 2020 carbon intensity reduction targets, whereas subsidies are the least promising options. CO 2 tax could be an effective policy tool, but with the suggested low tax rate during discussions in China, it is unlikely that the transportation sector would significantly contribute to achieving a desirable carbon intensity reduction. © 2012 Elsevier Ltd.                                                                                                                                                                                                                                                                                                                                                                                                                                                                                                                                                                                                                                                                                                                                                                                                                                                                                                                                                                                                                     & NA    & 0 & 0 & 0 & 1 & 0 & 0 & 1 & 0 & 0 & 1 & 0 & 0 & 1 & 1 & 0 & 1 & 0 & 1 & 0 & 0 & 0 & 0 & 0 & 0 & 0 & 0 & 0 & 0 & 0 & 0 & 0 & 0 & 0 & 0 & 0 & 0 & 1 & 0 & 0\\\\\n",
       "\t Achieving development and mitigation objectives through a decarbonization development pathway in South Africa                & South Africa & Africa & Achieving the international 2 °C limit climate policy requires stringent reductions in GHG emissions by mid-century, with some countries simultaneously facing development-related challenges. South Africa is a middle-income developing country with high rates of unemployment and high levels of poverty, as well as an emissions-intensive economy. South Africa takes into account an assessment of what a fair contribution to reducing global emissions might be, and is committed to a ‘peak, plateau and decline' emissions trajectory with absolute emissions specified for 2025 and 2030, while noting the need to address development imperatives. This work utilizes an economy-wide computable general equilibrium model (e-SAGE) linked to an energy-system optimization model (TIMES) to explore improving development metrics within a 14 GtCO2e cumulative energy sector carbon constraint through to 2050 for South Africa. The electricity sector decarbonizes by retiring coal-fired power plants or replacing with concentrated solar power, solar photovoltaics and wind generation. Industry and tertiary-sector growth remains strong throughout the time period, with reduced energy intensity via fuel-switching and efficiency improvements. From 2010 to 2050, the model results in the unemployment rate decreasing from 25\\% to 12\\%, and the percentage of people living below the poverty line decreasing from 49\\% to 18\\%. Total energy GHG emissions were reduced by 39\\% and per capita emissions decreased by 62\\%. Policy relevance Lower poverty and inequality are goals that cannot be subordinated to lower GHG emissions. Policy documents in South Africa outline objectives such as reducing poverty and inequality with a key focus on education and employment. In its climate policy and Intended Nationally Determined Contribution (INDC), South Africa is committed to a peak, plateau and decline GHG emissions trajectory. As in many developing countries, these policy goals require major transformations in the energy system while simultaneously increasing affordable access to safe and convenient energy services for those living in energy poverty. The modelled scenario in this work focuses on employment and poverty reduction under a carbon constraint, a novel combination with results that can provide information for a holistic climate and development policy framework. This study has focused on the long term, which is important in generating clear policy signals for the necessary large-scale investments. © 2016 Informa UK Limited, trading as Taylor \\& Francis Group. & TIMES & 1 & 0 & 0 & 0 & 0 & 0 & 0 & 0 & 0 & 0 & 0 & 0 & 0 & 1 & 0 & 0 & 0 & 1 & 0 & 1 & 0 & 0 & 0 & 0 & 0 & 0 & 0 & 0 & 0 & 0 & 0 & 0 & 0 & 0 & 0 & 0 & 0 & 0 & 0\\\\\n",
       "\\end{tabular}\n"
      ],
      "text/markdown": [
       "\n",
       "A tibble: 3 × 44\n",
       "\n",
       "| title &lt;chr&gt; | Country &lt;chr&gt; | Region &lt;chr&gt; | abstract &lt;chr&gt; | model &lt;chr&gt; | Energy efficiency &lt;dbl&gt; | Climate change &lt;dbl&gt; | Power &lt;dbl&gt; | Vehicle &lt;dbl&gt; | Cement &lt;dbl&gt; | Forest &lt;dbl&gt; | Steel/Iron &lt;dbl&gt; | Buildings &lt;dbl&gt; | Water &lt;dbl&gt; | Air Pollution &lt;dbl&gt; | Electricity &lt;dbl&gt; | CCS &lt;dbl&gt; | Transport &lt;dbl&gt; | Policy-Dvlpt-Eco &lt;dbl&gt; | Agriculture &lt;dbl&gt; | Tax &lt;dbl&gt; | Heat Pump &lt;dbl&gt; | Consumption &lt;dbl&gt; | Scenario &lt;dbl&gt; | Wind/Solar &lt;dbl&gt; | Costs &lt;dbl&gt; | Coal &lt;dbl&gt; | Nuclear &lt;dbl&gt; | Fuel &lt;dbl&gt; | Renewable Energies &lt;dbl&gt; | Flood Risk &lt;dbl&gt; | Technology &lt;dbl&gt; | Bioenergy &lt;dbl&gt; | Urban &lt;dbl&gt; | Hydrogen &lt;dbl&gt; | Permit market &lt;dbl&gt; | Drought &lt;dbl&gt; | Crop yield &lt;dbl&gt; | Peak &lt;dbl&gt; | Oil &lt;dbl&gt; | Land Use &lt;dbl&gt; | Target/INDC &lt;dbl&gt; | Waste &lt;dbl&gt; | System &lt;dbl&gt; |\n",
       "|---|---|---|---|---|---|---|---|---|---|---|---|---|---|---|---|---|---|---|---|---|---|---|---|---|---|---|---|---|---|---|---|---|---|---|---|---|---|---|---|---|---|---|---|\n",
       "| Achieving China's long-term carbon emission abatement targets: A perspective from regional disparity                         | China        | Asia   | As China is the largest greenhouse gas emitter and has the characteristics of significant regional disparity, the issue of regional low-carbon development strategy is of vital importance for the achievement of the country's long-term emission targets. This work focused on China's long-term carbon emission abatement from the perspective of regional disparity. We firstly analyzed the national emission trajectories consistent with the current Intended Nationally Determined Contributions (INDCs), 2 °C, and 1.5 °C goals in two economic growth pathways by 2050 using a linear programming model, then classified the provinces into three categories, and compared results of different scenarios of regional disparity patterns, economic growth rates, and emission targets. Results showed that different regional patterns led to different required carbon reduction targets for all categories, and the regional emission reduction measures had to be stronger in a higher growth rate or a more stringent emission target, especially for the developed areas. A scheme of regionally coordinated low-carbon development was then recommended for the formulation of long-term regional emission targets, and carbon reduction strategies for categories were proposed in terms of energy mix optimization, industrial transformation, and technology innovation, which is of great policy implication for China in regional development and national emission targets enhancement. © 2018 by the authors.                                                                                                                                                                                                                                                                                                                                                                                                                                                                                                                                                                                                                                                                                                                                                                                                                                                                                                                                                                                                                                                                                                                     | NA    | 0 | 0 | 0 | 0 | 0 | 0 | 0 | 0 | 0 | 0 | 0 | 0 | 0 | 1 | 0 | 0 | 0 | 1 | 0 | 0 | 0 | 0 | 0 | 0 | 0 | 0 | 0 | 0 | 0 | 0 | 0 | 0 | 0 | 0 | 0 | 0 | 1 | 0 | 0 |\n",
       "| Achieving CO 2 emission reduction and the co-benefits of local air pollution abatement in the transportation sector of China | China        | Asia   | Transportation in China has joined the power generation as well as the steel and iron industries as one of the major CO 2 emission sectors. To determine the effective policy instrument(s) for reducing CO 2 emission, various policy instruments, which are likely to be implemented in the near future or have been implemented in China, are examined and compared. These instruments include carbon tax, energy tax, fuel tax, clean energy vehicle subsidy, and reduction on ticket price. The CIMS model system is employed as the simulation vehicle to predict the emission dynamics of CO 2 and local air pollutants under business-as-usual and policy scenarios for the transportation sector of China from 2008 to 2050. The 2020 CO 2 reduction target is set according to the national carbon intensity reduction pledge of China. The policy instruments proposed in the present research can all help mitigate the CO 2 emission intensity of the Chinese transportation industry to different extents, and then induce the co-benefits of local air pollutants reduction. Among these policy instruments, energy and fuel taxes, with the tax rates set, are the two most promising instruments for CO 2 emission intensity reduction to reach the 2020 carbon intensity reduction targets, whereas subsidies are the least promising options. CO 2 tax could be an effective policy tool, but with the suggested low tax rate during discussions in China, it is unlikely that the transportation sector would significantly contribute to achieving a desirable carbon intensity reduction. © 2012 Elsevier Ltd.                                                                                                                                                                                                                                                                                                                                                                                                                                                                                                                                                                                                                                                                                                                                                                                                                                                                                                                                                                                                                     | NA    | 0 | 0 | 0 | 1 | 0 | 0 | 1 | 0 | 0 | 1 | 0 | 0 | 1 | 1 | 0 | 1 | 0 | 1 | 0 | 0 | 0 | 0 | 0 | 0 | 0 | 0 | 0 | 0 | 0 | 0 | 0 | 0 | 0 | 0 | 0 | 0 | 1 | 0 | 0 |\n",
       "| Achieving development and mitigation objectives through a decarbonization development pathway in South Africa                | South Africa | Africa | Achieving the international 2 °C limit climate policy requires stringent reductions in GHG emissions by mid-century, with some countries simultaneously facing development-related challenges. South Africa is a middle-income developing country with high rates of unemployment and high levels of poverty, as well as an emissions-intensive economy. South Africa takes into account an assessment of what a fair contribution to reducing global emissions might be, and is committed to a ‘peak, plateau and decline' emissions trajectory with absolute emissions specified for 2025 and 2030, while noting the need to address development imperatives. This work utilizes an economy-wide computable general equilibrium model (e-SAGE) linked to an energy-system optimization model (TIMES) to explore improving development metrics within a 14 GtCO2e cumulative energy sector carbon constraint through to 2050 for South Africa. The electricity sector decarbonizes by retiring coal-fired power plants or replacing with concentrated solar power, solar photovoltaics and wind generation. Industry and tertiary-sector growth remains strong throughout the time period, with reduced energy intensity via fuel-switching and efficiency improvements. From 2010 to 2050, the model results in the unemployment rate decreasing from 25% to 12%, and the percentage of people living below the poverty line decreasing from 49% to 18%. Total energy GHG emissions were reduced by 39% and per capita emissions decreased by 62%. Policy relevance Lower poverty and inequality are goals that cannot be subordinated to lower GHG emissions. Policy documents in South Africa outline objectives such as reducing poverty and inequality with a key focus on education and employment. In its climate policy and Intended Nationally Determined Contribution (INDC), South Africa is committed to a peak, plateau and decline GHG emissions trajectory. As in many developing countries, these policy goals require major transformations in the energy system while simultaneously increasing affordable access to safe and convenient energy services for those living in energy poverty. The modelled scenario in this work focuses on employment and poverty reduction under a carbon constraint, a novel combination with results that can provide information for a holistic climate and development policy framework. This study has focused on the long term, which is important in generating clear policy signals for the necessary large-scale investments. © 2016 Informa UK Limited, trading as Taylor &amp; Francis Group. | TIMES | 1 | 0 | 0 | 0 | 0 | 0 | 0 | 0 | 0 | 0 | 0 | 0 | 0 | 1 | 0 | 0 | 0 | 1 | 0 | 1 | 0 | 0 | 0 | 0 | 0 | 0 | 0 | 0 | 0 | 0 | 0 | 0 | 0 | 0 | 0 | 0 | 0 | 0 | 0 |\n",
       "\n"
      ],
      "text/plain": [
       "  title                                                                                                                       \n",
       "1 Achieving China's long-term carbon emission abatement targets: A perspective from regional disparity                        \n",
       "2 Achieving CO 2 emission reduction and the co-benefits of local air pollution abatement in the transportation sector of China\n",
       "3 Achieving development and mitigation objectives through a decarbonization development pathway in South Africa               \n",
       "  Country      Region\n",
       "1 China        Asia  \n",
       "2 China        Asia  \n",
       "3 South Africa Africa\n",
       "  abstract                                                                                                                                                                                                                                                                                                                                                                                                                                                                                                                                                                                                                                                                                                                                                                                                                                                                                                                                                                                                                                                                                                                                                                                                                                                                                                                                                                                                                                                                                                                                                                                                                                                                                                                                                                                                                                                                                                                                                                                                                                                                                                                                                                                                                                                                                                                                                                                                                                                                                                                                                                                                                                                \n",
       "1 As China is the largest greenhouse gas emitter and has the characteristics of significant regional disparity, the issue of regional low-carbon development strategy is of vital importance for the achievement of the country's long-term emission targets. This work focused on China's long-term carbon emission abatement from the perspective of regional disparity. We firstly analyzed the national emission trajectories consistent with the current Intended Nationally Determined Contributions (INDCs), 2 °C, and 1.5 °C goals in two economic growth pathways by 2050 using a linear programming model, then classified the provinces into three categories, and compared results of different scenarios of regional disparity patterns, economic growth rates, and emission targets. Results showed that different regional patterns led to different required carbon reduction targets for all categories, and the regional emission reduction measures had to be stronger in a higher growth rate or a more stringent emission target, especially for the developed areas. A scheme of regionally coordinated low-carbon development was then recommended for the formulation of long-term regional emission targets, and carbon reduction strategies for categories were proposed in terms of energy mix optimization, industrial transformation, and technology innovation, which is of great policy implication for China in regional development and national emission targets enhancement. © 2018 by the authors.                                                                                                                                                                                                                                                                                                                                                                                                                                                                                                                                                                                                                                                                                                                                                                                                                                                                                                                                                                                                                                                                                                                    \n",
       "2 Transportation in China has joined the power generation as well as the steel and iron industries as one of the major CO 2 emission sectors. To determine the effective policy instrument(s) for reducing CO 2 emission, various policy instruments, which are likely to be implemented in the near future or have been implemented in China, are examined and compared. These instruments include carbon tax, energy tax, fuel tax, clean energy vehicle subsidy, and reduction on ticket price. The CIMS model system is employed as the simulation vehicle to predict the emission dynamics of CO 2 and local air pollutants under business-as-usual and policy scenarios for the transportation sector of China from 2008 to 2050. The 2020 CO 2 reduction target is set according to the national carbon intensity reduction pledge of China. The policy instruments proposed in the present research can all help mitigate the CO 2 emission intensity of the Chinese transportation industry to different extents, and then induce the co-benefits of local air pollutants reduction. Among these policy instruments, energy and fuel taxes, with the tax rates set, are the two most promising instruments for CO 2 emission intensity reduction to reach the 2020 carbon intensity reduction targets, whereas subsidies are the least promising options. CO 2 tax could be an effective policy tool, but with the suggested low tax rate during discussions in China, it is unlikely that the transportation sector would significantly contribute to achieving a desirable carbon intensity reduction. © 2012 Elsevier Ltd.                                                                                                                                                                                                                                                                                                                                                                                                                                                                                                                                                                                                                                                                                                                                                                                                                                                                                                                                                                                                                    \n",
       "3 Achieving the international 2 °C limit climate policy requires stringent reductions in GHG emissions by mid-century, with some countries simultaneously facing development-related challenges. South Africa is a middle-income developing country with high rates of unemployment and high levels of poverty, as well as an emissions-intensive economy. South Africa takes into account an assessment of what a fair contribution to reducing global emissions might be, and is committed to a ‘peak, plateau and decline' emissions trajectory with absolute emissions specified for 2025 and 2030, while noting the need to address development imperatives. This work utilizes an economy-wide computable general equilibrium model (e-SAGE) linked to an energy-system optimization model (TIMES) to explore improving development metrics within a 14 GtCO2e cumulative energy sector carbon constraint through to 2050 for South Africa. The electricity sector decarbonizes by retiring coal-fired power plants or replacing with concentrated solar power, solar photovoltaics and wind generation. Industry and tertiary-sector growth remains strong throughout the time period, with reduced energy intensity via fuel-switching and efficiency improvements. From 2010 to 2050, the model results in the unemployment rate decreasing from 25% to 12%, and the percentage of people living below the poverty line decreasing from 49% to 18%. Total energy GHG emissions were reduced by 39% and per capita emissions decreased by 62%. Policy relevance Lower poverty and inequality are goals that cannot be subordinated to lower GHG emissions. Policy documents in South Africa outline objectives such as reducing poverty and inequality with a key focus on education and employment. In its climate policy and Intended Nationally Determined Contribution (INDC), South Africa is committed to a peak, plateau and decline GHG emissions trajectory. As in many developing countries, these policy goals require major transformations in the energy system while simultaneously increasing affordable access to safe and convenient energy services for those living in energy poverty. The modelled scenario in this work focuses on employment and poverty reduction under a carbon constraint, a novel combination with results that can provide information for a holistic climate and development policy framework. This study has focused on the long term, which is important in generating clear policy signals for the necessary large-scale investments. © 2016 Informa UK Limited, trading as Taylor & Francis Group.\n",
       "  model Energy efficiency Climate change Power Vehicle Cement Forest Steel/Iron\n",
       "1 NA    0                 0              0     0       0      0      0         \n",
       "2 NA    0                 0              0     1       0      0      1         \n",
       "3 TIMES 1                 0              0     0       0      0      0         \n",
       "  Buildings Water Air Pollution Electricity CCS Transport Policy-Dvlpt-Eco\n",
       "1 0         0     0             0           0   0         1               \n",
       "2 0         0     1             0           0   1         1               \n",
       "3 0         0     0             0           0   0         1               \n",
       "  Agriculture Tax Heat Pump Consumption Scenario Wind/Solar Costs Coal Nuclear\n",
       "1 0           0   0         1           0        0          0     0    0      \n",
       "2 0           1   0         1           0        0          0     0    0      \n",
       "3 0           0   0         1           0        1          0     0    0      \n",
       "  Fuel Renewable Energies Flood Risk Technology Bioenergy Urban Hydrogen\n",
       "1 0    0                  0          0          0         0     0       \n",
       "2 0    0                  0          0          0         0     0       \n",
       "3 0    0                  0          0          0         0     0       \n",
       "  Permit market Drought Crop yield Peak Oil Land Use Target/INDC Waste System\n",
       "1 0             0       0          0    0   0        1           0     0     \n",
       "2 0             0       0          0    0   0        1           0     0     \n",
       "3 0             0       0          0    0   0        0           0     0     "
      ]
     },
     "metadata": {},
     "output_type": "display_data"
    }
   ],
   "source": [
    "head(dfone %>% filter(grepl(\"model\",abstract) & grepl(\"scenario\",abstract) & Scenario==0),3)"
   ]
  },
  {
   "cell_type": "code",
   "execution_count": 30,
   "metadata": {},
   "outputs": [],
   "source": [
    "#write_csv(dfone %>% filter(grepl(\"model\",abstract) & grepl(\"scenario\",abstract) & Scenario==0),\"df_scenario_topic_perhaps_misclassified_seuil002.csv\")"
   ]
  }
 ],
 "metadata": {
  "kernelspec": {
   "display_name": "R",
   "language": "R",
   "name": "ir"
  },
  "language_info": {
   "codemirror_mode": "r",
   "file_extension": ".r",
   "mimetype": "text/x-r-source",
   "name": "R",
   "pygments_lexer": "r",
   "version": "3.6.3"
  }
 },
 "nbformat": 4,
 "nbformat_minor": 4
}
